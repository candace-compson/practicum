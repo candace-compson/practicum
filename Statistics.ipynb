{
 "cells": [
  {
   "cell_type": "markdown",
   "id": "01b05de7",
   "metadata": {},
   "source": [
    "# Проект: Статистический анализ данных\n",
    "\n",
    "В рамках данного проекта предстоит проанализировать работу сервиса аренды самокатов GoFast. \n",
    "\n",
    "Задача: проверить некоторые гипотезы, которые могут помочь бизнесу вырасти.\n",
    "\n",
    "План работы:\n",
    "- Изучить информацию о датафреймах;\n",
    "- Сделать предобработку данных;\n",
    "- Сделать исследовательский анализ данных;\n",
    "- Объединить датафреймы;\n",
    "- Подсчитать выручку;\n",
    "- Проверить гипотезы;\n",
    "- Сделать выводы.\n",
    "\n",
    "Описание данных:\n",
    "\n",
    "В основных данных есть информация о пользователях, их поездках и подписках.\n",
    "\n",
    "- Пользователи — users_go.csv\n",
    "\n",
    "user_id - уникальный идентификатор пользователя\n",
    "\n",
    "name - имя пользователя\n",
    "\n",
    "age - возраст\n",
    "\n",
    "city - город\n",
    "\n",
    "subscription_type - тип подписки (free, ultra)\n",
    "\n",
    "- Поездки — rides_go.csv\n",
    "\n",
    "user_id - уникальный идентификатор пользователя\n",
    "\n",
    "distance - расстояние, которое пользователь проехал в текущей сессии (в метрах)\n",
    "\n",
    "duration - продолжительность сессии (в минутах) — время с того момента, как пользователь нажал кнопку «Начать поездку» до момента, как он нажал кнопку «Завершить поездку»\n",
    "\n",
    "date - дата совершения поездки\n",
    "\n",
    "- Подписки — subscriptions_go.csv\n",
    "\n",
    "subscription_type - тип подписки\n",
    "\n",
    "minute_price - стоимость одной минуты поездки по данной подписке\n",
    "\n",
    "start_ride_price - стоимость начала поездки\n",
    "\n",
    "subscription_fee - стоимость ежемесячного платежа"
   ]
  },
  {
   "cell_type": "code",
   "execution_count": 1,
   "id": "ee170d5d",
   "metadata": {},
   "outputs": [],
   "source": [
    "import pandas as pd\n",
    "import matplotlib.pyplot as plt\n",
    "import numpy as np\n",
    "from scipy import stats as st"
   ]
  },
  {
   "cell_type": "markdown",
   "id": "c42cbe00",
   "metadata": {},
   "source": [
    "### Загрузка данных"
   ]
  },
  {
   "cell_type": "code",
   "execution_count": 2,
   "id": "eff9f206",
   "metadata": {},
   "outputs": [
    {
     "data": {
      "text/html": [
       "<div>\n",
       "<style scoped>\n",
       "    .dataframe tbody tr th:only-of-type {\n",
       "        vertical-align: middle;\n",
       "    }\n",
       "\n",
       "    .dataframe tbody tr th {\n",
       "        vertical-align: top;\n",
       "    }\n",
       "\n",
       "    .dataframe thead th {\n",
       "        text-align: right;\n",
       "    }\n",
       "</style>\n",
       "<table border=\"1\" class=\"dataframe\">\n",
       "  <thead>\n",
       "    <tr style=\"text-align: right;\">\n",
       "      <th></th>\n",
       "      <th>user_id</th>\n",
       "      <th>name</th>\n",
       "      <th>age</th>\n",
       "      <th>city</th>\n",
       "      <th>subscription_type</th>\n",
       "    </tr>\n",
       "  </thead>\n",
       "  <tbody>\n",
       "    <tr>\n",
       "      <th>0</th>\n",
       "      <td>1</td>\n",
       "      <td>Кира</td>\n",
       "      <td>22</td>\n",
       "      <td>Тюмень</td>\n",
       "      <td>ultra</td>\n",
       "    </tr>\n",
       "    <tr>\n",
       "      <th>1</th>\n",
       "      <td>2</td>\n",
       "      <td>Станислав</td>\n",
       "      <td>31</td>\n",
       "      <td>Омск</td>\n",
       "      <td>ultra</td>\n",
       "    </tr>\n",
       "    <tr>\n",
       "      <th>2</th>\n",
       "      <td>3</td>\n",
       "      <td>Алексей</td>\n",
       "      <td>20</td>\n",
       "      <td>Москва</td>\n",
       "      <td>ultra</td>\n",
       "    </tr>\n",
       "    <tr>\n",
       "      <th>3</th>\n",
       "      <td>4</td>\n",
       "      <td>Константин</td>\n",
       "      <td>26</td>\n",
       "      <td>Ростов-на-Дону</td>\n",
       "      <td>ultra</td>\n",
       "    </tr>\n",
       "    <tr>\n",
       "      <th>4</th>\n",
       "      <td>5</td>\n",
       "      <td>Адель</td>\n",
       "      <td>28</td>\n",
       "      <td>Омск</td>\n",
       "      <td>ultra</td>\n",
       "    </tr>\n",
       "  </tbody>\n",
       "</table>\n",
       "</div>"
      ],
      "text/plain": [
       "   user_id        name  age            city subscription_type\n",
       "0        1        Кира   22          Тюмень             ultra\n",
       "1        2   Станислав   31            Омск             ultra\n",
       "2        3     Алексей   20          Москва             ultra\n",
       "3        4  Константин   26  Ростов-на-Дону             ultra\n",
       "4        5       Адель   28            Омск             ultra"
      ]
     },
     "metadata": {},
     "output_type": "display_data"
    },
    {
     "name": "stdout",
     "output_type": "stream",
     "text": [
      "<class 'pandas.core.frame.DataFrame'>\n",
      "RangeIndex: 1565 entries, 0 to 1564\n",
      "Data columns (total 5 columns):\n",
      " #   Column             Non-Null Count  Dtype \n",
      "---  ------             --------------  ----- \n",
      " 0   user_id            1565 non-null   int64 \n",
      " 1   name               1565 non-null   object\n",
      " 2   age                1565 non-null   int64 \n",
      " 3   city               1565 non-null   object\n",
      " 4   subscription_type  1565 non-null   object\n",
      "dtypes: int64(2), object(3)\n",
      "memory usage: 61.3+ KB\n"
     ]
    },
    {
     "data": {
      "image/png": "[encoded data removed]",
      "text/plain": [
       "<Figure size 1080x1440 with 2 Axes>"
      ]
     },
     "metadata": {
      "needs_background": "light"
     },
     "output_type": "display_data"
    }
   ],
   "source": [
    "data_user = pd.read_csv('/datasets/users_go.csv')\n",
    "display(data_user.head())\n",
    "data_user.info()\n",
    "data_user.hist(figsize=(15, 20));"
   ]
  },
  {
   "cell_type": "code",
   "execution_count": 3,
   "id": "3d6cf498",
   "metadata": {},
   "outputs": [
    {
     "data": {
      "text/html": [
       "<div>\n",
       "<style scoped>\n",
       "    .dataframe tbody tr th:only-of-type {\n",
       "        vertical-align: middle;\n",
       "    }\n",
       "\n",
       "    .dataframe tbody tr th {\n",
       "        vertical-align: top;\n",
       "    }\n",
       "\n",
       "    .dataframe thead th {\n",
       "        text-align: right;\n",
       "    }\n",
       "</style>\n",
       "<table border=\"1\" class=\"dataframe\">\n",
       "  <thead>\n",
       "    <tr style=\"text-align: right;\">\n",
       "      <th></th>\n",
       "      <th>user_id</th>\n",
       "      <th>distance</th>\n",
       "      <th>duration</th>\n",
       "      <th>date</th>\n",
       "    </tr>\n",
       "  </thead>\n",
       "  <tbody>\n",
       "    <tr>\n",
       "      <th>0</th>\n",
       "      <td>1</td>\n",
       "      <td>4409.919140</td>\n",
       "      <td>25.599769</td>\n",
       "      <td>2021-01-01</td>\n",
       "    </tr>\n",
       "    <tr>\n",
       "      <th>1</th>\n",
       "      <td>1</td>\n",
       "      <td>2617.592153</td>\n",
       "      <td>15.816871</td>\n",
       "      <td>2021-01-18</td>\n",
       "    </tr>\n",
       "    <tr>\n",
       "      <th>2</th>\n",
       "      <td>1</td>\n",
       "      <td>754.159807</td>\n",
       "      <td>6.232113</td>\n",
       "      <td>2021-04-20</td>\n",
       "    </tr>\n",
       "    <tr>\n",
       "      <th>3</th>\n",
       "      <td>1</td>\n",
       "      <td>2694.783254</td>\n",
       "      <td>18.511000</td>\n",
       "      <td>2021-08-11</td>\n",
       "    </tr>\n",
       "    <tr>\n",
       "      <th>4</th>\n",
       "      <td>1</td>\n",
       "      <td>4028.687306</td>\n",
       "      <td>26.265803</td>\n",
       "      <td>2021-08-28</td>\n",
       "    </tr>\n",
       "  </tbody>\n",
       "</table>\n",
       "</div>"
      ],
      "text/plain": [
       "   user_id     distance   duration        date\n",
       "0        1  4409.919140  25.599769  2021-01-01\n",
       "1        1  2617.592153  15.816871  2021-01-18\n",
       "2        1   754.159807   6.232113  2021-04-20\n",
       "3        1  2694.783254  18.511000  2021-08-11\n",
       "4        1  4028.687306  26.265803  2021-08-28"
      ]
     },
     "metadata": {},
     "output_type": "display_data"
    },
    {
     "name": "stdout",
     "output_type": "stream",
     "text": [
      "<class 'pandas.core.frame.DataFrame'>\n",
      "RangeIndex: 18068 entries, 0 to 18067\n",
      "Data columns (total 4 columns):\n",
      " #   Column    Non-Null Count  Dtype  \n",
      "---  ------    --------------  -----  \n",
      " 0   user_id   18068 non-null  int64  \n",
      " 1   distance  18068 non-null  float64\n",
      " 2   duration  18068 non-null  float64\n",
      " 3   date      18068 non-null  object \n",
      "dtypes: float64(2), int64(1), object(1)\n",
      "memory usage: 564.8+ KB\n"
     ]
    },
    {
     "data": {
      "image/png": "[encoded data removed]",
      "text/plain": [
       "<Figure size 1080x1440 with 4 Axes>"
      ]
     },
     "metadata": {
      "needs_background": "light"
     },
     "output_type": "display_data"
    }
   ],
   "source": [
    "data_rides = pd.read_csv('/datasets/rides_go.csv')\n",
    "display(data_rides.head())\n",
    "data_rides.info()\n",
    "data_rides.hist(figsize=(15, 20));"
   ]
  },
  {
   "cell_type": "code",
   "execution_count": 4,
   "id": "832a25e1",
   "metadata": {},
   "outputs": [
    {
     "data": {
      "text/html": [
       "<div>\n",
       "<style scoped>\n",
       "    .dataframe tbody tr th:only-of-type {\n",
       "        vertical-align: middle;\n",
       "    }\n",
       "\n",
       "    .dataframe tbody tr th {\n",
       "        vertical-align: top;\n",
       "    }\n",
       "\n",
       "    .dataframe thead th {\n",
       "        text-align: right;\n",
       "    }\n",
       "</style>\n",
       "<table border=\"1\" class=\"dataframe\">\n",
       "  <thead>\n",
       "    <tr style=\"text-align: right;\">\n",
       "      <th></th>\n",
       "      <th>subscription_type</th>\n",
       "      <th>minute_price</th>\n",
       "      <th>start_ride_price</th>\n",
       "      <th>subscription_fee</th>\n",
       "    </tr>\n",
       "  </thead>\n",
       "  <tbody>\n",
       "    <tr>\n",
       "      <th>0</th>\n",
       "      <td>free</td>\n",
       "      <td>8</td>\n",
       "      <td>50</td>\n",
       "      <td>0</td>\n",
       "    </tr>\n",
       "    <tr>\n",
       "      <th>1</th>\n",
       "      <td>ultra</td>\n",
       "      <td>6</td>\n",
       "      <td>0</td>\n",
       "      <td>199</td>\n",
       "    </tr>\n",
       "  </tbody>\n",
       "</table>\n",
       "</div>"
      ],
      "text/plain": [
       "  subscription_type  minute_price  start_ride_price  subscription_fee\n",
       "0              free             8                50                 0\n",
       "1             ultra             6                 0               199"
      ]
     },
     "metadata": {},
     "output_type": "display_data"
    },
    {
     "name": "stdout",
     "output_type": "stream",
     "text": [
      "<class 'pandas.core.frame.DataFrame'>\n",
      "RangeIndex: 2 entries, 0 to 1\n",
      "Data columns (total 4 columns):\n",
      " #   Column             Non-Null Count  Dtype \n",
      "---  ------             --------------  ----- \n",
      " 0   subscription_type  2 non-null      object\n",
      " 1   minute_price       2 non-null      int64 \n",
      " 2   start_ride_price   2 non-null      int64 \n",
      " 3   subscription_fee   2 non-null      int64 \n",
      "dtypes: int64(3), object(1)\n",
      "memory usage: 192.0+ bytes\n"
     ]
    },
    {
     "data": {
      "image/png": "[encoded data removed]",
      "text/plain": [
       "<Figure size 1080x1440 with 4 Axes>"
      ]
     },
     "metadata": {
      "needs_background": "light"
     },
     "output_type": "display_data"
    }
   ],
   "source": [
    "data_subscription = pd.read_csv('/datasets/subscriptions_go.csv')\n",
    "display(data_subscription.head())\n",
    "data_subscription.info()\n",
    "data_subscription.hist(figsize=(15, 20));"
   ]
  },
  {
   "cell_type": "markdown",
   "id": "ad274a5d",
   "metadata": {},
   "source": [
    "Выводы: \n",
    "- в датафрейме data_user - 1565 записи, названия столбцов адекватны содержащимся в них данным, в столбцах user_id и age тип данных int, в name, city и subscription_type тип данных object.\n",
    "- в датафрейме data_rides - 18068 записи, названия столбцов адекватны содержащимся в них данным,  в столбцах user_id тип данных int, в столбцах  distance и duration тип данных float64, в столбце date тип данных object (требуется замена на datetime)\n",
    "- в датафрейме data_subscription 2 записи, названия столбцов адекватны содержащимся в них данным,у столбца subscription_type тип данных object, у столбцов minute_price, start_ride_price, subscription_fee тип данных int.  \n",
    "\n",
    "Требуется замена типа данных в столбце date и предобработка данных (проверка наличия пропусков и дубликатов)."
   ]
  },
  {
   "cell_type": "markdown",
   "id": "e95ebca7",
   "metadata": {},
   "source": [
    "### Предобработка данных"
   ]
  },
  {
   "cell_type": "code",
   "execution_count": 5,
   "id": "af6d202c",
   "metadata": {},
   "outputs": [],
   "source": [
    "# Приведем столбец date к типу даты pandas\n",
    "data_rides['date'] = pd.to_datetime(data_rides['date'], format='%Y-%m-%d')"
   ]
  },
  {
   "cell_type": "code",
   "execution_count": 6,
   "id": "28c18bc1",
   "metadata": {},
   "outputs": [],
   "source": [
    "# Создаем новый столбец с номером месяца на основе столбца date\n",
    "data_rides['month'] = data_rides['date'].dt.month"
   ]
  },
  {
   "cell_type": "code",
   "execution_count": 7,
   "id": "6d8e7d74",
   "metadata": {},
   "outputs": [
    {
     "name": "stdout",
     "output_type": "stream",
     "text": [
      "2021-01-01 00:00:00 - 2021-12-30 00:00:00\n"
     ]
    }
   ],
   "source": [
    "print(data_rides['date'].min(), '-', data_rides['date'].max())"
   ]
  },
  {
   "cell_type": "code",
   "execution_count": 8,
   "id": "fc08ebd4",
   "metadata": {},
   "outputs": [
    {
     "data": {
      "text/plain": [
       "user_id              0\n",
       "name                 0\n",
       "age                  0\n",
       "city                 0\n",
       "subscription_type    0\n",
       "dtype: int64"
      ]
     },
     "execution_count": 8,
     "metadata": {},
     "output_type": "execute_result"
    }
   ],
   "source": [
    "# Проверяем наличие пропущенных значений и дубликатов в датафреймах\n",
    "data_user.isna().sum()"
   ]
  },
  {
   "cell_type": "code",
   "execution_count": 9,
   "id": "57dc4d6a",
   "metadata": {},
   "outputs": [
    {
     "data": {
      "text/plain": [
       "user_id     0\n",
       "distance    0\n",
       "duration    0\n",
       "date        0\n",
       "month       0\n",
       "dtype: int64"
      ]
     },
     "execution_count": 9,
     "metadata": {},
     "output_type": "execute_result"
    }
   ],
   "source": [
    "data_rides.isna().sum()"
   ]
  },
  {
   "cell_type": "code",
   "execution_count": 10,
   "id": "e5966c0b",
   "metadata": {},
   "outputs": [
    {
     "data": {
      "text/plain": [
       "subscription_type    0\n",
       "minute_price         0\n",
       "start_ride_price     0\n",
       "subscription_fee     0\n",
       "dtype: int64"
      ]
     },
     "execution_count": 10,
     "metadata": {},
     "output_type": "execute_result"
    }
   ],
   "source": [
    "data_subscription.isna().sum()"
   ]
  },
  {
   "cell_type": "code",
   "execution_count": 11,
   "id": "6b3eb474",
   "metadata": {},
   "outputs": [
    {
     "data": {
      "text/plain": [
       "31"
      ]
     },
     "execution_count": 11,
     "metadata": {},
     "output_type": "execute_result"
    }
   ],
   "source": [
    "data_user.duplicated().sum()"
   ]
  },
  {
   "cell_type": "code",
   "execution_count": 12,
   "id": "9c0c52cd",
   "metadata": {},
   "outputs": [
    {
     "data": {
      "text/plain": [
       "0"
      ]
     },
     "execution_count": 12,
     "metadata": {},
     "output_type": "execute_result"
    }
   ],
   "source": [
    "data_rides.duplicated().sum()"
   ]
  },
  {
   "cell_type": "code",
   "execution_count": 13,
   "id": "9f53c28c",
   "metadata": {},
   "outputs": [
    {
     "data": {
      "text/plain": [
       "0"
      ]
     },
     "execution_count": 13,
     "metadata": {},
     "output_type": "execute_result"
    }
   ],
   "source": [
    "data_subscription.duplicated().sum()"
   ]
  },
  {
   "cell_type": "code",
   "execution_count": 14,
   "id": "b55ad2bb",
   "metadata": {},
   "outputs": [],
   "source": [
    "# удаляем дубликаты\n",
    "data_user = data_user.drop_duplicates()"
   ]
  },
  {
   "cell_type": "markdown",
   "id": "0e95affa",
   "metadata": {},
   "source": [
    "Выводы: были найдены и удалены дубликаты в датафрейме data_user, пропуски в датафремах не были обнаружены, был создан новый столбец 'month' в data_rides, изменен формат столбца с датой в data_rides. Данные готовы к исследовательскому анализу."
   ]
  },
  {
   "cell_type": "markdown",
   "id": "212593c7",
   "metadata": {},
   "source": [
    "### Исследовательский анализ данных"
   ]
  },
  {
   "cell_type": "code",
   "execution_count": 15,
   "id": "e3a4274c",
   "metadata": {},
   "outputs": [
    {
     "data": {
      "text/plain": [
       "array(['Тюмень', 'Омск', 'Москва', 'Ростов-на-Дону', 'Краснодар',\n",
       "       'Пятигорск', 'Екатеринбург', 'Сочи'], dtype=object)"
      ]
     },
     "execution_count": 15,
     "metadata": {},
     "output_type": "execute_result"
    }
   ],
   "source": [
    "# Опишем и визуализируем информацию о частоте встречаемости городов\n",
    "data_user['city'].unique()"
   ]
  },
  {
   "cell_type": "code",
   "execution_count": 16,
   "id": "03351b9a",
   "metadata": {},
   "outputs": [
    {
     "name": "stdout",
     "output_type": "stream",
     "text": [
      "                count\n",
      "city                 \n",
      "Пятигорск         219\n",
      "Екатеринбург      204\n",
      "Ростов-на-Дону    198\n",
      "Краснодар         193\n",
      "Сочи              189\n",
      "Омск              183\n",
      "Тюмень            180\n",
      "Москва            168\n"
     ]
    }
   ],
   "source": [
    "city_rides = data_user.pivot_table(index='city', values='user_id', aggfunc=['count'])\n",
    "city_rides.columns = ['count']\n",
    "print(city_rides.sort_values(by='count', ascending=False).head(10))"
   ]
  },
  {
   "cell_type": "code",
   "execution_count": 17,
   "id": "cc326a89",
   "metadata": {},
   "outputs": [
    {
     "data": {
      "image/png": "[encoded data removed]",
      "text/plain": [
       "<Figure size 432x288 with 1 Axes>"
      ]
     },
     "metadata": {
      "needs_background": "light"
     },
     "output_type": "display_data"
    }
   ],
   "source": [
    "city_rides = city_rides.sort_values(by='count', ascending=True) \n",
    "plt.barh(city_rides.index, city_rides['count'])\n",
    "plt.title('Количество пользователей по городам')\n",
    "plt.xlabel('Город')\n",
    "plt.ylabel('Количество')\n",
    "plt.show()"
   ]
  },
  {
   "cell_type": "markdown",
   "id": "56644b7e",
   "metadata": {},
   "source": [
    "По количеству пользователей сервиса на первом месте - Пятигорск, на втором - Екатеринбург, на третьем - Ростов-на-Дону."
   ]
  },
  {
   "cell_type": "code",
   "execution_count": 18,
   "id": "50e2d439",
   "metadata": {},
   "outputs": [
    {
     "data": {
      "image/png": "[encoded data removed]",
      "text/plain": [
       "<Figure size 720x720 with 1 Axes>"
      ]
     },
     "metadata": {},
     "output_type": "display_data"
    }
   ],
   "source": [
    "# Опишем и визуализируем информацию о соотношении пользователей с подпиской и без подписки\n",
    "(\n",
    "    data_user.pivot_table(index='subscription_type', values='user_id', aggfunc='count')\n",
    "    .plot.pie(y='user_id', figsize=(10,10),  label='Доля пользователей', autopct='%1.1f%%', \n",
    "     title='Отношение пользователей без подписки (free) и с подпиской (ultra) к общему количеству пользователей')\n",
    "\n",
    ")\n",
    "plt.axis('equal')\n",
    "plt.show()"
   ]
  },
  {
   "cell_type": "markdown",
   "id": "97e18080",
   "metadata": {},
   "source": [
    "Количество пользователей без подписки (54,4%) больше, чем количество пользователей с подпиской (45,6%)."
   ]
  },
  {
   "cell_type": "code",
   "execution_count": 19,
   "id": "e2d6bfbb",
   "metadata": {},
   "outputs": [
    {
     "name": "stdout",
     "output_type": "stream",
     "text": [
      "24.903520208604956\n"
     ]
    },
    {
     "data": {
      "text/plain": [
       "count    1534.000000\n",
       "mean       24.903520\n",
       "std         4.572367\n",
       "min        12.000000\n",
       "25%        22.000000\n",
       "50%        25.000000\n",
       "75%        28.000000\n",
       "max        43.000000\n",
       "Name: age, dtype: float64"
      ]
     },
     "execution_count": 19,
     "metadata": {},
     "output_type": "execute_result"
    }
   ],
   "source": [
    "# Опишем и визуализируем информацию о возрасте пользователей\n",
    "print(data_user['age'].mean())\n",
    "data_user['age'].describe()"
   ]
  },
  {
   "cell_type": "code",
   "execution_count": 20,
   "id": "ce142f8e",
   "metadata": {},
   "outputs": [
    {
     "data": {
      "image/png": "[encoded data removed]",
      "text/plain": [
       "<Figure size 720x360 with 1 Axes>"
      ]
     },
     "metadata": {
      "needs_background": "light"
     },
     "output_type": "display_data"
    }
   ],
   "source": [
    "(\n",
    "    data_user.pivot_table(index='age', values='user_id', aggfunc='count').sort_values(by='age', ascending=True)\n",
    "    .plot(kind='bar' , grid=True, figsize=(10, 5))\n",
    ")\n",
    "plt.title('Количество пользователей по возрастам')\n",
    "plt.xlabel('Возраст')\n",
    "plt.ylabel('Количество')\n",
    "plt.show()"
   ]
  },
  {
   "cell_type": "markdown",
   "id": "73526168",
   "metadata": {},
   "source": [
    "Средний возраст - 24.9 лет, что почти совпадает с медианой. Визуализация количества пользователей показывает, что средний возраст пользователя сервиса подчиняется нормальному распределению и находится в диапазоне от 12 до 43 лет."
   ]
  },
  {
   "cell_type": "code",
   "execution_count": 21,
   "id": "8aabb146",
   "metadata": {},
   "outputs": [
    {
     "data": {
      "text/plain": [
       "count    18068.000000\n",
       "mean      3070.659976\n",
       "std       1116.831209\n",
       "min          0.855683\n",
       "25%       2543.226360\n",
       "50%       3133.609994\n",
       "75%       3776.222735\n",
       "max       7211.007745\n",
       "Name: distance, dtype: float64"
      ]
     },
     "execution_count": 21,
     "metadata": {},
     "output_type": "execute_result"
    }
   ],
   "source": [
    "# Опишем и визуализируем информацию о расстоянии, которое пользователь преодолел за одну поездку\n",
    "data_rides['distance'].describe()"
   ]
  },
  {
   "cell_type": "code",
   "execution_count": 22,
   "id": "2078a2e0",
   "metadata": {},
   "outputs": [
    {
     "data": {
      "image/png": "[encoded data removed]",
      "text/plain": [
       "<Figure size 432x288 with 1 Axes>"
      ]
     },
     "metadata": {
      "needs_background": "light"
     },
     "output_type": "display_data"
    }
   ],
   "source": [
    "plt.hist(data_rides['distance'], bins=500, range=(1,7000))\n",
    "plt.title('Количество поездок в зависимости от расстояния поездки')\n",
    "plt.xlabel('Расстояние в метрах')\n",
    "plt.ylabel('Количество поездок')\n",
    "plt.show()"
   ]
  },
  {
   "cell_type": "markdown",
   "id": "20cb85f3",
   "metadata": {},
   "source": [
    "Визуализация и описание информации о количестве поездок в зависимости от расстояния показывает, что медиана поездок - 3133 м, первый квартиль - 2543 м, третий квартиль - 3776 м. На гистограмме можно заметить два пика: первый совпадает с медианой, а второй пик - 700 м."
   ]
  },
  {
   "cell_type": "code",
   "execution_count": 23,
   "id": "0e26f848",
   "metadata": {},
   "outputs": [
    {
     "data": {
      "text/plain": [
       "count    18068.000000\n",
       "mean        17.805011\n",
       "std          6.091051\n",
       "min          0.500000\n",
       "25%         13.597563\n",
       "50%         17.678395\n",
       "75%         21.724800\n",
       "max         40.823963\n",
       "Name: duration, dtype: float64"
      ]
     },
     "execution_count": 23,
     "metadata": {},
     "output_type": "execute_result"
    }
   ],
   "source": [
    "# Опишем и визуализируем информацию о продолжительности поездок\n",
    "data_rides['duration'].describe()"
   ]
  },
  {
   "cell_type": "code",
   "execution_count": 24,
   "id": "04e0f59c",
   "metadata": {},
   "outputs": [
    {
     "data": {
      "image/png": "[encoded data removed]",
      "text/plain": [
       "<Figure size 432x288 with 1 Axes>"
      ]
     },
     "metadata": {
      "needs_background": "light"
     },
     "output_type": "display_data"
    }
   ],
   "source": [
    "plt.hist(data_rides['duration'], bins=41, range=(1,41))\n",
    "plt.title('Количество поездок в зависимости от продолжительности')\n",
    "plt.xlabel('продолжительность поездки')\n",
    "plt.ylabel('Количество поездок')\n",
    "plt.show()"
   ]
  },
  {
   "cell_type": "markdown",
   "id": "d08e2a85",
   "metadata": {},
   "source": [
    "Визуализация количества поездок по их продолжительности указывает, что медиана находится на 18 мин, первый квартиль - 13 мин, третий квартиль - 21 мин. "
   ]
  },
  {
   "cell_type": "code",
   "execution_count": 25,
   "id": "c04d26c8",
   "metadata": {},
   "outputs": [
    {
     "data": {
      "image/png": "[encoded data removed]",
      "text/plain": [
       "<Figure size 432x288 with 1 Axes>"
      ]
     },
     "metadata": {
      "needs_background": "light"
     },
     "output_type": "display_data"
    },
    {
     "name": "stdout",
     "output_type": "stream",
     "text": [
      "Диапазон скорости: 0.005133121481996673 - 865.3209293518222 км/час\n"
     ]
    }
   ],
   "source": [
    "plt.hist(data_rides['distance'] / data_rides['duration'] * 60/1000, bins=100, range=(0,30))\n",
    "plt.title('Количество поездок с разной скоростью')\n",
    "plt.xlabel('Км/час')\n",
    "plt.ylabel('Количество поездок')\n",
    "plt.show()\n",
    "\n",
    "print('Диапазон скорости:',(data_rides['distance'] / data_rides['duration']).min()* 60/1000, '-', (data_rides['distance'] / data_rides['duration']).max()* 60/1000, 'км/час')"
   ]
  },
  {
   "cell_type": "markdown",
   "id": "92def9a2",
   "metadata": {},
   "source": [
    "Выводы: \n",
    "\n",
    "Больше всего пользователей сервиса живет в Пятигорске, на втором месте по количеству пользователей - Екатеринбург, на третьем - Ростов-на-Дону. Количество пользователей без подписки (54,4%) больше, чем количество пользователей с подпиской (45,6%). Средний возраст пользователя - 24.9 лет, что почти совпадает с медианой. Визуализация количества пользователей показывает, что средний возраст пользователя сервиса подчиняется нормальному распределению и находится в диапазоне от 12 до 43 лет. Визуализация и описание информации о количестве поездок в зависимости от расстояния показывает, что медиана поездок - 3133 м, первый квартиль - 2543 м, третий квартиль - 3776 м. При этом на гистограмме можно заметить два пика: первый совпадает с медианой, а второй пик - 700 м. Визуализация количества поездок по их продолжительности указывает, что медиана находится на 18 мин, первый квартиль - 13 мин, третий квартиль - 21 мин. "
   ]
  },
  {
   "cell_type": "markdown",
   "id": "4ef51331",
   "metadata": {},
   "source": [
    "### Объединение данных"
   ]
  },
  {
   "cell_type": "code",
   "execution_count": 26,
   "id": "6bf288b5",
   "metadata": {
    "scrolled": true
   },
   "outputs": [
    {
     "data": {
      "text/html": [
       "<div>\n",
       "<style scoped>\n",
       "    .dataframe tbody tr th:only-of-type {\n",
       "        vertical-align: middle;\n",
       "    }\n",
       "\n",
       "    .dataframe tbody tr th {\n",
       "        vertical-align: top;\n",
       "    }\n",
       "\n",
       "    .dataframe thead th {\n",
       "        text-align: right;\n",
       "    }\n",
       "</style>\n",
       "<table border=\"1\" class=\"dataframe\">\n",
       "  <thead>\n",
       "    <tr style=\"text-align: right;\">\n",
       "      <th></th>\n",
       "      <th>user_id</th>\n",
       "      <th>distance</th>\n",
       "      <th>duration</th>\n",
       "      <th>date</th>\n",
       "      <th>month</th>\n",
       "      <th>name</th>\n",
       "      <th>age</th>\n",
       "      <th>city</th>\n",
       "      <th>subscription_type</th>\n",
       "      <th>minute_price</th>\n",
       "      <th>start_ride_price</th>\n",
       "      <th>subscription_fee</th>\n",
       "    </tr>\n",
       "  </thead>\n",
       "  <tbody>\n",
       "    <tr>\n",
       "      <th>0</th>\n",
       "      <td>1</td>\n",
       "      <td>4409.919140</td>\n",
       "      <td>26.0</td>\n",
       "      <td>2021-01-01</td>\n",
       "      <td>1</td>\n",
       "      <td>Кира</td>\n",
       "      <td>22</td>\n",
       "      <td>Тюмень</td>\n",
       "      <td>ultra</td>\n",
       "      <td>6</td>\n",
       "      <td>0</td>\n",
       "      <td>199</td>\n",
       "    </tr>\n",
       "    <tr>\n",
       "      <th>1</th>\n",
       "      <td>1</td>\n",
       "      <td>2617.592153</td>\n",
       "      <td>16.0</td>\n",
       "      <td>2021-01-18</td>\n",
       "      <td>1</td>\n",
       "      <td>Кира</td>\n",
       "      <td>22</td>\n",
       "      <td>Тюмень</td>\n",
       "      <td>ultra</td>\n",
       "      <td>6</td>\n",
       "      <td>0</td>\n",
       "      <td>199</td>\n",
       "    </tr>\n",
       "    <tr>\n",
       "      <th>2</th>\n",
       "      <td>1</td>\n",
       "      <td>754.159807</td>\n",
       "      <td>7.0</td>\n",
       "      <td>2021-04-20</td>\n",
       "      <td>4</td>\n",
       "      <td>Кира</td>\n",
       "      <td>22</td>\n",
       "      <td>Тюмень</td>\n",
       "      <td>ultra</td>\n",
       "      <td>6</td>\n",
       "      <td>0</td>\n",
       "      <td>199</td>\n",
       "    </tr>\n",
       "    <tr>\n",
       "      <th>3</th>\n",
       "      <td>1</td>\n",
       "      <td>2694.783254</td>\n",
       "      <td>19.0</td>\n",
       "      <td>2021-08-11</td>\n",
       "      <td>8</td>\n",
       "      <td>Кира</td>\n",
       "      <td>22</td>\n",
       "      <td>Тюмень</td>\n",
       "      <td>ultra</td>\n",
       "      <td>6</td>\n",
       "      <td>0</td>\n",
       "      <td>199</td>\n",
       "    </tr>\n",
       "    <tr>\n",
       "      <th>4</th>\n",
       "      <td>1</td>\n",
       "      <td>4028.687306</td>\n",
       "      <td>27.0</td>\n",
       "      <td>2021-08-28</td>\n",
       "      <td>8</td>\n",
       "      <td>Кира</td>\n",
       "      <td>22</td>\n",
       "      <td>Тюмень</td>\n",
       "      <td>ultra</td>\n",
       "      <td>6</td>\n",
       "      <td>0</td>\n",
       "      <td>199</td>\n",
       "    </tr>\n",
       "  </tbody>\n",
       "</table>\n",
       "</div>"
      ],
      "text/plain": [
       "   user_id     distance  duration       date  month  name  age    city  \\\n",
       "0        1  4409.919140      26.0 2021-01-01      1  Кира   22  Тюмень   \n",
       "1        1  2617.592153      16.0 2021-01-18      1  Кира   22  Тюмень   \n",
       "2        1   754.159807       7.0 2021-04-20      4  Кира   22  Тюмень   \n",
       "3        1  2694.783254      19.0 2021-08-11      8  Кира   22  Тюмень   \n",
       "4        1  4028.687306      27.0 2021-08-28      8  Кира   22  Тюмень   \n",
       "\n",
       "  subscription_type  minute_price  start_ride_price  subscription_fee  \n",
       "0             ultra             6                 0               199  \n",
       "1             ultra             6                 0               199  \n",
       "2             ultra             6                 0               199  \n",
       "3             ultra             6                 0               199  \n",
       "4             ultra             6                 0               199  "
      ]
     },
     "execution_count": 26,
     "metadata": {},
     "output_type": "execute_result"
    }
   ],
   "source": [
    "#  Объединим данные о пользователях, поездках и подписках в один датафрейм\n",
    "data_rides['duration'] = np.ceil(data_rides['duration']) \n",
    "data = pd.merge(data_user, data_subscription, on='subscription_type')\n",
    "data = pd.merge(data_rides, data, on='user_id')\n",
    "data.head()"
   ]
  },
  {
   "cell_type": "code",
   "execution_count": 27,
   "id": "5d5f7c53",
   "metadata": {},
   "outputs": [
    {
     "data": {
      "text/plain": [
       "0"
      ]
     },
     "execution_count": 27,
     "metadata": {},
     "output_type": "execute_result"
    }
   ],
   "source": [
    "data.duplicated().sum()"
   ]
  },
  {
   "cell_type": "code",
   "execution_count": 28,
   "id": "daa60651",
   "metadata": {},
   "outputs": [
    {
     "name": "stdout",
     "output_type": "stream",
     "text": [
      "<class 'pandas.core.frame.DataFrame'>\n",
      "Int64Index: 18068 entries, 0 to 18067\n",
      "Data columns (total 12 columns):\n",
      " #   Column             Non-Null Count  Dtype         \n",
      "---  ------             --------------  -----         \n",
      " 0   user_id            18068 non-null  int64         \n",
      " 1   distance           18068 non-null  float64       \n",
      " 2   duration           18068 non-null  float64       \n",
      " 3   date               18068 non-null  datetime64[ns]\n",
      " 4   month              18068 non-null  int64         \n",
      " 5   name               18068 non-null  object        \n",
      " 6   age                18068 non-null  int64         \n",
      " 7   city               18068 non-null  object        \n",
      " 8   subscription_type  18068 non-null  object        \n",
      " 9   minute_price       18068 non-null  int64         \n",
      " 10  start_ride_price   18068 non-null  int64         \n",
      " 11  subscription_fee   18068 non-null  int64         \n",
      "dtypes: datetime64[ns](1), float64(2), int64(6), object(3)\n",
      "memory usage: 1.8+ MB\n"
     ]
    }
   ],
   "source": [
    "data.info()"
   ]
  },
  {
   "cell_type": "code",
   "execution_count": 29,
   "id": "2216687a",
   "metadata": {},
   "outputs": [
    {
     "data": {
      "text/html": [
       "<div>\n",
       "<style scoped>\n",
       "    .dataframe tbody tr th:only-of-type {\n",
       "        vertical-align: middle;\n",
       "    }\n",
       "\n",
       "    .dataframe tbody tr th {\n",
       "        vertical-align: top;\n",
       "    }\n",
       "\n",
       "    .dataframe thead th {\n",
       "        text-align: right;\n",
       "    }\n",
       "</style>\n",
       "<table border=\"1\" class=\"dataframe\">\n",
       "  <thead>\n",
       "    <tr style=\"text-align: right;\">\n",
       "      <th></th>\n",
       "      <th>user_id</th>\n",
       "      <th>distance</th>\n",
       "      <th>duration</th>\n",
       "      <th>date</th>\n",
       "      <th>month</th>\n",
       "      <th>name</th>\n",
       "      <th>age</th>\n",
       "      <th>city</th>\n",
       "      <th>subscription_type</th>\n",
       "      <th>minute_price</th>\n",
       "      <th>start_ride_price</th>\n",
       "      <th>subscription_fee</th>\n",
       "    </tr>\n",
       "  </thead>\n",
       "  <tbody>\n",
       "    <tr>\n",
       "      <th>6500</th>\n",
       "      <td>700</td>\n",
       "      <td>2515.690719</td>\n",
       "      <td>15.0</td>\n",
       "      <td>2021-01-02</td>\n",
       "      <td>1</td>\n",
       "      <td>Айдар</td>\n",
       "      <td>22</td>\n",
       "      <td>Омск</td>\n",
       "      <td>free</td>\n",
       "      <td>8</td>\n",
       "      <td>50</td>\n",
       "      <td>0</td>\n",
       "    </tr>\n",
       "    <tr>\n",
       "      <th>6501</th>\n",
       "      <td>700</td>\n",
       "      <td>846.932642</td>\n",
       "      <td>17.0</td>\n",
       "      <td>2021-02-01</td>\n",
       "      <td>2</td>\n",
       "      <td>Айдар</td>\n",
       "      <td>22</td>\n",
       "      <td>Омск</td>\n",
       "      <td>free</td>\n",
       "      <td>8</td>\n",
       "      <td>50</td>\n",
       "      <td>0</td>\n",
       "    </tr>\n",
       "    <tr>\n",
       "      <th>6502</th>\n",
       "      <td>700</td>\n",
       "      <td>4004.434142</td>\n",
       "      <td>21.0</td>\n",
       "      <td>2021-02-04</td>\n",
       "      <td>2</td>\n",
       "      <td>Айдар</td>\n",
       "      <td>22</td>\n",
       "      <td>Омск</td>\n",
       "      <td>free</td>\n",
       "      <td>8</td>\n",
       "      <td>50</td>\n",
       "      <td>0</td>\n",
       "    </tr>\n",
       "    <tr>\n",
       "      <th>6503</th>\n",
       "      <td>700</td>\n",
       "      <td>1205.911290</td>\n",
       "      <td>10.0</td>\n",
       "      <td>2021-02-10</td>\n",
       "      <td>2</td>\n",
       "      <td>Айдар</td>\n",
       "      <td>22</td>\n",
       "      <td>Омск</td>\n",
       "      <td>free</td>\n",
       "      <td>8</td>\n",
       "      <td>50</td>\n",
       "      <td>0</td>\n",
       "    </tr>\n",
       "    <tr>\n",
       "      <th>6504</th>\n",
       "      <td>700</td>\n",
       "      <td>3047.379435</td>\n",
       "      <td>18.0</td>\n",
       "      <td>2021-02-14</td>\n",
       "      <td>2</td>\n",
       "      <td>Айдар</td>\n",
       "      <td>22</td>\n",
       "      <td>Омск</td>\n",
       "      <td>free</td>\n",
       "      <td>8</td>\n",
       "      <td>50</td>\n",
       "      <td>0</td>\n",
       "    </tr>\n",
       "  </tbody>\n",
       "</table>\n",
       "</div>"
      ],
      "text/plain": [
       "      user_id     distance  duration       date  month   name  age  city  \\\n",
       "6500      700  2515.690719      15.0 2021-01-02      1  Айдар   22  Омск   \n",
       "6501      700   846.932642      17.0 2021-02-01      2  Айдар   22  Омск   \n",
       "6502      700  4004.434142      21.0 2021-02-04      2  Айдар   22  Омск   \n",
       "6503      700  1205.911290      10.0 2021-02-10      2  Айдар   22  Омск   \n",
       "6504      700  3047.379435      18.0 2021-02-14      2  Айдар   22  Омск   \n",
       "\n",
       "     subscription_type  minute_price  start_ride_price  subscription_fee  \n",
       "6500              free             8                50                 0  \n",
       "6501              free             8                50                 0  \n",
       "6502              free             8                50                 0  \n",
       "6503              free             8                50                 0  \n",
       "6504              free             8                50                 0  "
      ]
     },
     "execution_count": 29,
     "metadata": {},
     "output_type": "execute_result"
    }
   ],
   "source": [
    "# Создадим ещё два датафрейма\n",
    "data_free = data[data['subscription_type'] == 'free']\n",
    "data_free.head()"
   ]
  },
  {
   "cell_type": "code",
   "execution_count": 30,
   "id": "a37843a7",
   "metadata": {
    "scrolled": true
   },
   "outputs": [
    {
     "data": {
      "text/html": [
       "<div>\n",
       "<style scoped>\n",
       "    .dataframe tbody tr th:only-of-type {\n",
       "        vertical-align: middle;\n",
       "    }\n",
       "\n",
       "    .dataframe tbody tr th {\n",
       "        vertical-align: top;\n",
       "    }\n",
       "\n",
       "    .dataframe thead th {\n",
       "        text-align: right;\n",
       "    }\n",
       "</style>\n",
       "<table border=\"1\" class=\"dataframe\">\n",
       "  <thead>\n",
       "    <tr style=\"text-align: right;\">\n",
       "      <th></th>\n",
       "      <th>user_id</th>\n",
       "      <th>distance</th>\n",
       "      <th>duration</th>\n",
       "      <th>date</th>\n",
       "      <th>month</th>\n",
       "      <th>name</th>\n",
       "      <th>age</th>\n",
       "      <th>city</th>\n",
       "      <th>subscription_type</th>\n",
       "      <th>minute_price</th>\n",
       "      <th>start_ride_price</th>\n",
       "      <th>subscription_fee</th>\n",
       "    </tr>\n",
       "  </thead>\n",
       "  <tbody>\n",
       "    <tr>\n",
       "      <th>0</th>\n",
       "      <td>1</td>\n",
       "      <td>4409.919140</td>\n",
       "      <td>26.0</td>\n",
       "      <td>2021-01-01</td>\n",
       "      <td>1</td>\n",
       "      <td>Кира</td>\n",
       "      <td>22</td>\n",
       "      <td>Тюмень</td>\n",
       "      <td>ultra</td>\n",
       "      <td>6</td>\n",
       "      <td>0</td>\n",
       "      <td>199</td>\n",
       "    </tr>\n",
       "    <tr>\n",
       "      <th>1</th>\n",
       "      <td>1</td>\n",
       "      <td>2617.592153</td>\n",
       "      <td>16.0</td>\n",
       "      <td>2021-01-18</td>\n",
       "      <td>1</td>\n",
       "      <td>Кира</td>\n",
       "      <td>22</td>\n",
       "      <td>Тюмень</td>\n",
       "      <td>ultra</td>\n",
       "      <td>6</td>\n",
       "      <td>0</td>\n",
       "      <td>199</td>\n",
       "    </tr>\n",
       "    <tr>\n",
       "      <th>2</th>\n",
       "      <td>1</td>\n",
       "      <td>754.159807</td>\n",
       "      <td>7.0</td>\n",
       "      <td>2021-04-20</td>\n",
       "      <td>4</td>\n",
       "      <td>Кира</td>\n",
       "      <td>22</td>\n",
       "      <td>Тюмень</td>\n",
       "      <td>ultra</td>\n",
       "      <td>6</td>\n",
       "      <td>0</td>\n",
       "      <td>199</td>\n",
       "    </tr>\n",
       "    <tr>\n",
       "      <th>3</th>\n",
       "      <td>1</td>\n",
       "      <td>2694.783254</td>\n",
       "      <td>19.0</td>\n",
       "      <td>2021-08-11</td>\n",
       "      <td>8</td>\n",
       "      <td>Кира</td>\n",
       "      <td>22</td>\n",
       "      <td>Тюмень</td>\n",
       "      <td>ultra</td>\n",
       "      <td>6</td>\n",
       "      <td>0</td>\n",
       "      <td>199</td>\n",
       "    </tr>\n",
       "    <tr>\n",
       "      <th>4</th>\n",
       "      <td>1</td>\n",
       "      <td>4028.687306</td>\n",
       "      <td>27.0</td>\n",
       "      <td>2021-08-28</td>\n",
       "      <td>8</td>\n",
       "      <td>Кира</td>\n",
       "      <td>22</td>\n",
       "      <td>Тюмень</td>\n",
       "      <td>ultra</td>\n",
       "      <td>6</td>\n",
       "      <td>0</td>\n",
       "      <td>199</td>\n",
       "    </tr>\n",
       "  </tbody>\n",
       "</table>\n",
       "</div>"
      ],
      "text/plain": [
       "   user_id     distance  duration       date  month  name  age    city  \\\n",
       "0        1  4409.919140      26.0 2021-01-01      1  Кира   22  Тюмень   \n",
       "1        1  2617.592153      16.0 2021-01-18      1  Кира   22  Тюмень   \n",
       "2        1   754.159807       7.0 2021-04-20      4  Кира   22  Тюмень   \n",
       "3        1  2694.783254      19.0 2021-08-11      8  Кира   22  Тюмень   \n",
       "4        1  4028.687306      27.0 2021-08-28      8  Кира   22  Тюмень   \n",
       "\n",
       "  subscription_type  minute_price  start_ride_price  subscription_fee  \n",
       "0             ultra             6                 0               199  \n",
       "1             ultra             6                 0               199  \n",
       "2             ultra             6                 0               199  \n",
       "3             ultra             6                 0               199  \n",
       "4             ultra             6                 0               199  "
      ]
     },
     "execution_count": 30,
     "metadata": {},
     "output_type": "execute_result"
    }
   ],
   "source": [
    "data_ultra = data[data['subscription_type'] == 'ultra']\n",
    "data_ultra.head()"
   ]
  },
  {
   "cell_type": "code",
   "execution_count": 31,
   "id": "560855c6",
   "metadata": {},
   "outputs": [
    {
     "name": "stdout",
     "output_type": "stream",
     "text": [
      "<class 'pandas.core.frame.DataFrame'>\n",
      "Int64Index: 11568 entries, 6500 to 18067\n",
      "Data columns (total 12 columns):\n",
      " #   Column             Non-Null Count  Dtype         \n",
      "---  ------             --------------  -----         \n",
      " 0   user_id            11568 non-null  int64         \n",
      " 1   distance           11568 non-null  float64       \n",
      " 2   duration           11568 non-null  float64       \n",
      " 3   date               11568 non-null  datetime64[ns]\n",
      " 4   month              11568 non-null  int64         \n",
      " 5   name               11568 non-null  object        \n",
      " 6   age                11568 non-null  int64         \n",
      " 7   city               11568 non-null  object        \n",
      " 8   subscription_type  11568 non-null  object        \n",
      " 9   minute_price       11568 non-null  int64         \n",
      " 10  start_ride_price   11568 non-null  int64         \n",
      " 11  subscription_fee   11568 non-null  int64         \n",
      "dtypes: datetime64[ns](1), float64(2), int64(6), object(3)\n",
      "memory usage: 1.1+ MB\n"
     ]
    }
   ],
   "source": [
    "data_free.info()"
   ]
  },
  {
   "cell_type": "code",
   "execution_count": 32,
   "id": "ae0e9457",
   "metadata": {},
   "outputs": [
    {
     "name": "stdout",
     "output_type": "stream",
     "text": [
      "<class 'pandas.core.frame.DataFrame'>\n",
      "Int64Index: 6500 entries, 0 to 6499\n",
      "Data columns (total 12 columns):\n",
      " #   Column             Non-Null Count  Dtype         \n",
      "---  ------             --------------  -----         \n",
      " 0   user_id            6500 non-null   int64         \n",
      " 1   distance           6500 non-null   float64       \n",
      " 2   duration           6500 non-null   float64       \n",
      " 3   date               6500 non-null   datetime64[ns]\n",
      " 4   month              6500 non-null   int64         \n",
      " 5   name               6500 non-null   object        \n",
      " 6   age                6500 non-null   int64         \n",
      " 7   city               6500 non-null   object        \n",
      " 8   subscription_type  6500 non-null   object        \n",
      " 9   minute_price       6500 non-null   int64         \n",
      " 10  start_ride_price   6500 non-null   int64         \n",
      " 11  subscription_fee   6500 non-null   int64         \n",
      "dtypes: datetime64[ns](1), float64(2), int64(6), object(3)\n",
      "memory usage: 660.2+ KB\n"
     ]
    }
   ],
   "source": [
    "data_ultra.info()"
   ]
  },
  {
   "cell_type": "code",
   "execution_count": 33,
   "id": "98ab5ad3",
   "metadata": {},
   "outputs": [
    {
     "data": {
      "image/png": "[encoded data removed]",
      "text/plain": [
       "<Figure size 432x288 with 1 Axes>"
      ]
     },
     "metadata": {
      "needs_background": "light"
     },
     "output_type": "display_data"
    }
   ],
   "source": [
    "plt.hist([data_free['distance'], data_ultra['distance']], bins=50, range=(1,7000), label=['free', 'ultra'])\n",
    "plt.legend(loc='upper right')\n",
    "plt.title('Количество поездок в зависимости расстояния поездки')\n",
    "plt.xlabel('Расстояние в метрах')\n",
    "plt.ylabel('Количество поездок')\n",
    "plt.show()"
   ]
  },
  {
   "cell_type": "code",
   "execution_count": 34,
   "id": "64a4e173",
   "metadata": {},
   "outputs": [
    {
     "data": {
      "image/png": "[encoded data removed]",
      "text/plain": [
       "<Figure size 432x288 with 1 Axes>"
      ]
     },
     "metadata": {
      "needs_background": "light"
     },
     "output_type": "display_data"
    }
   ],
   "source": [
    "plt.hist([data_free['duration'], data_ultra['duration']], bins=30, range=(1,41), label=['free', 'ultra'])\n",
    "plt.legend(loc='upper right')\n",
    "plt.title('Количество поездок в зависимости от продолжительности')\n",
    "plt.xlabel('продолжительность поездки')\n",
    "plt.ylabel('Количество поездок')\n",
    "plt.show()"
   ]
  },
  {
   "cell_type": "code",
   "execution_count": 35,
   "id": "42921a0d",
   "metadata": {},
   "outputs": [
    {
     "data": {
      "text/plain": [
       "count    11568.000000\n",
       "mean      3045.495282\n",
       "std       1246.173806\n",
       "min          0.855683\n",
       "25%       2366.562689\n",
       "50%       3114.648465\n",
       "75%       3905.697894\n",
       "max       7211.007745\n",
       "Name: distance, dtype: float64"
      ]
     },
     "execution_count": 35,
     "metadata": {},
     "output_type": "execute_result"
    }
   ],
   "source": [
    "data_free['distance'].describe()"
   ]
  },
  {
   "cell_type": "code",
   "execution_count": 36,
   "id": "785a4cd8",
   "metadata": {},
   "outputs": [
    {
     "data": {
      "text/plain": [
       "count    11568.000000\n",
       "mean        17.890992\n",
       "std          6.330250\n",
       "min          1.000000\n",
       "25%         13.000000\n",
       "50%         18.000000\n",
       "75%         22.000000\n",
       "max         35.000000\n",
       "Name: duration, dtype: float64"
      ]
     },
     "execution_count": 36,
     "metadata": {},
     "output_type": "execute_result"
    }
   ],
   "source": [
    "data_free['duration'].describe()"
   ]
  },
  {
   "cell_type": "code",
   "execution_count": 37,
   "id": "bf5787e8",
   "metadata": {},
   "outputs": [
    {
     "data": {
      "text/plain": [
       "count    6500.000000\n",
       "mean     3115.445388\n",
       "std       836.895330\n",
       "min       244.210438\n",
       "25%      2785.444017\n",
       "50%      3148.637229\n",
       "75%      3560.574425\n",
       "max      5699.769662\n",
       "Name: distance, dtype: float64"
      ]
     },
     "execution_count": 37,
     "metadata": {},
     "output_type": "execute_result"
    }
   ],
   "source": [
    "data_ultra['distance'].describe()"
   ]
  },
  {
   "cell_type": "code",
   "execution_count": 38,
   "id": "8719d0fd",
   "metadata": {
    "scrolled": true
   },
   "outputs": [
    {
     "data": {
      "text/plain": [
       "count    6500.000000\n",
       "mean       19.037692\n",
       "std         5.577439\n",
       "min         4.000000\n",
       "25%        15.000000\n",
       "50%        19.000000\n",
       "75%        22.000000\n",
       "max        41.000000\n",
       "Name: duration, dtype: float64"
      ]
     },
     "execution_count": 38,
     "metadata": {},
     "output_type": "execute_result"
    }
   ],
   "source": [
    "data_ultra['duration'].describe()"
   ]
  },
  {
   "cell_type": "markdown",
   "id": "c8b1b39c",
   "metadata": {},
   "source": [
    "Выводы:\n",
    "\n",
    "Были созданы новые датафреймы, которые позволили проанализировать информацию отдельно для пользователей с подпиской и без нее.\n",
    "Было проанализировано расстояние поездок: наличие подписки влияет на медианные значения (расстояние без подписки 3114.6 м, а с подпиской - 3148.6 м).У пользователей с подпиской меньший разброс данных. Центр дополнительного пика, который был заметен на предыдушем этапе работы, сдвинут с 500 метров (без подписки) до 1000 (с подпиской).\n",
    "Было проанализировано время поездки: наличие подписки незначительно влияет на медианные значения (время поезки без подписки - 18 мин, с подпиской 19 мин)."
   ]
  },
  {
   "cell_type": "markdown",
   "id": "402d620f",
   "metadata": {},
   "source": [
    "### Подсчёт выручки"
   ]
  },
  {
   "cell_type": "code",
   "execution_count": 39,
   "id": "b2fa02a3",
   "metadata": {},
   "outputs": [
    {
     "data": {
      "text/html": [
       "<div>\n",
       "<style scoped>\n",
       "    .dataframe tbody tr th:only-of-type {\n",
       "        vertical-align: middle;\n",
       "    }\n",
       "\n",
       "    .dataframe tbody tr th {\n",
       "        vertical-align: top;\n",
       "    }\n",
       "\n",
       "    .dataframe thead th {\n",
       "        text-align: right;\n",
       "    }\n",
       "</style>\n",
       "<table border=\"1\" class=\"dataframe\">\n",
       "  <thead>\n",
       "    <tr style=\"text-align: right;\">\n",
       "      <th></th>\n",
       "      <th></th>\n",
       "      <th>count</th>\n",
       "      <th>distance</th>\n",
       "      <th>duration</th>\n",
       "      <th>minute_price</th>\n",
       "      <th>start_ride_price</th>\n",
       "      <th>subscription_fee</th>\n",
       "    </tr>\n",
       "    <tr>\n",
       "      <th>user_id</th>\n",
       "      <th>month</th>\n",
       "      <th></th>\n",
       "      <th></th>\n",
       "      <th></th>\n",
       "      <th></th>\n",
       "      <th></th>\n",
       "      <th></th>\n",
       "    </tr>\n",
       "  </thead>\n",
       "  <tbody>\n",
       "    <tr>\n",
       "      <th rowspan=\"5\" valign=\"top\">1</th>\n",
       "      <th>1</th>\n",
       "      <td>2</td>\n",
       "      <td>7027.511294</td>\n",
       "      <td>42.0</td>\n",
       "      <td>6</td>\n",
       "      <td>0</td>\n",
       "      <td>199</td>\n",
       "    </tr>\n",
       "    <tr>\n",
       "      <th>4</th>\n",
       "      <td>1</td>\n",
       "      <td>754.159807</td>\n",
       "      <td>7.0</td>\n",
       "      <td>6</td>\n",
       "      <td>0</td>\n",
       "      <td>199</td>\n",
       "    </tr>\n",
       "    <tr>\n",
       "      <th>8</th>\n",
       "      <td>2</td>\n",
       "      <td>6723.470560</td>\n",
       "      <td>46.0</td>\n",
       "      <td>6</td>\n",
       "      <td>0</td>\n",
       "      <td>199</td>\n",
       "    </tr>\n",
       "    <tr>\n",
       "      <th>10</th>\n",
       "      <td>2</td>\n",
       "      <td>5809.911100</td>\n",
       "      <td>32.0</td>\n",
       "      <td>6</td>\n",
       "      <td>0</td>\n",
       "      <td>199</td>\n",
       "    </tr>\n",
       "    <tr>\n",
       "      <th>11</th>\n",
       "      <td>3</td>\n",
       "      <td>7003.499363</td>\n",
       "      <td>56.0</td>\n",
       "      <td>6</td>\n",
       "      <td>0</td>\n",
       "      <td>199</td>\n",
       "    </tr>\n",
       "  </tbody>\n",
       "</table>\n",
       "</div>"
      ],
      "text/plain": [
       "               count     distance  duration  minute_price  start_ride_price  \\\n",
       "user_id month                                                                 \n",
       "1       1          2  7027.511294      42.0             6                 0   \n",
       "        4          1   754.159807       7.0             6                 0   \n",
       "        8          2  6723.470560      46.0             6                 0   \n",
       "        10         2  5809.911100      32.0             6                 0   \n",
       "        11         3  7003.499363      56.0             6                 0   \n",
       "\n",
       "               subscription_fee  \n",
       "user_id month                    \n",
       "1       1                   199  \n",
       "        4                   199  \n",
       "        8                   199  \n",
       "        10                  199  \n",
       "        11                  199  "
      ]
     },
     "execution_count": 39,
     "metadata": {},
     "output_type": "execute_result"
    }
   ],
   "source": [
    "# Создаем дополнительный датафрейм \n",
    "users_revenue = data.pivot_table(\n",
    "    index=('user_id', 'month'), \n",
    "    values=(\n",
    "        'distance', \n",
    "        'duration', \n",
    "        'minute_price', \n",
    "        'start_ride_price', \n",
    "        'subscription_fee'\n",
    "    ), \n",
    "    aggfunc=({'distance':{'count', 'sum'}, \n",
    "             'duration':'sum',\n",
    "             'minute_price': 'mean',\n",
    "             'start_ride_price':'mean',\n",
    "             'subscription_fee':'mean',})\n",
    ")\n",
    "\n",
    "users_revenue.columns = [\n",
    "    'count', 'distance', \n",
    "    'duration', \n",
    "    'minute_price',\n",
    "    'start_ride_price', \n",
    "    'subscription_fee'\n",
    "]\n",
    "\n",
    "\n",
    "users_revenue.head()"
   ]
  },
  {
   "cell_type": "code",
   "execution_count": 40,
   "id": "53049e0a",
   "metadata": {
    "scrolled": false
   },
   "outputs": [
    {
     "data": {
      "text/html": [
       "<div>\n",
       "<style scoped>\n",
       "    .dataframe tbody tr th:only-of-type {\n",
       "        vertical-align: middle;\n",
       "    }\n",
       "\n",
       "    .dataframe tbody tr th {\n",
       "        vertical-align: top;\n",
       "    }\n",
       "\n",
       "    .dataframe thead th {\n",
       "        text-align: right;\n",
       "    }\n",
       "</style>\n",
       "<table border=\"1\" class=\"dataframe\">\n",
       "  <thead>\n",
       "    <tr style=\"text-align: right;\">\n",
       "      <th></th>\n",
       "      <th></th>\n",
       "      <th>count</th>\n",
       "      <th>distance</th>\n",
       "      <th>duration</th>\n",
       "      <th>minute_price</th>\n",
       "      <th>start_ride_price</th>\n",
       "      <th>subscription_fee</th>\n",
       "      <th>revenue</th>\n",
       "    </tr>\n",
       "    <tr>\n",
       "      <th>user_id</th>\n",
       "      <th>month</th>\n",
       "      <th></th>\n",
       "      <th></th>\n",
       "      <th></th>\n",
       "      <th></th>\n",
       "      <th></th>\n",
       "      <th></th>\n",
       "      <th></th>\n",
       "    </tr>\n",
       "  </thead>\n",
       "  <tbody>\n",
       "    <tr>\n",
       "      <th rowspan=\"5\" valign=\"top\">1</th>\n",
       "      <th>1</th>\n",
       "      <td>2</td>\n",
       "      <td>7027.511294</td>\n",
       "      <td>42.0</td>\n",
       "      <td>6</td>\n",
       "      <td>0</td>\n",
       "      <td>199</td>\n",
       "      <td>451.0</td>\n",
       "    </tr>\n",
       "    <tr>\n",
       "      <th>4</th>\n",
       "      <td>1</td>\n",
       "      <td>754.159807</td>\n",
       "      <td>7.0</td>\n",
       "      <td>6</td>\n",
       "      <td>0</td>\n",
       "      <td>199</td>\n",
       "      <td>241.0</td>\n",
       "    </tr>\n",
       "    <tr>\n",
       "      <th>8</th>\n",
       "      <td>2</td>\n",
       "      <td>6723.470560</td>\n",
       "      <td>46.0</td>\n",
       "      <td>6</td>\n",
       "      <td>0</td>\n",
       "      <td>199</td>\n",
       "      <td>475.0</td>\n",
       "    </tr>\n",
       "    <tr>\n",
       "      <th>10</th>\n",
       "      <td>2</td>\n",
       "      <td>5809.911100</td>\n",
       "      <td>32.0</td>\n",
       "      <td>6</td>\n",
       "      <td>0</td>\n",
       "      <td>199</td>\n",
       "      <td>391.0</td>\n",
       "    </tr>\n",
       "    <tr>\n",
       "      <th>11</th>\n",
       "      <td>3</td>\n",
       "      <td>7003.499363</td>\n",
       "      <td>56.0</td>\n",
       "      <td>6</td>\n",
       "      <td>0</td>\n",
       "      <td>199</td>\n",
       "      <td>535.0</td>\n",
       "    </tr>\n",
       "  </tbody>\n",
       "</table>\n",
       "</div>"
      ],
      "text/plain": [
       "               count     distance  duration  minute_price  start_ride_price  \\\n",
       "user_id month                                                                 \n",
       "1       1          2  7027.511294      42.0             6                 0   \n",
       "        4          1   754.159807       7.0             6                 0   \n",
       "        8          2  6723.470560      46.0             6                 0   \n",
       "        10         2  5809.911100      32.0             6                 0   \n",
       "        11         3  7003.499363      56.0             6                 0   \n",
       "\n",
       "               subscription_fee  revenue  \n",
       "user_id month                             \n",
       "1       1                   199    451.0  \n",
       "        4                   199    241.0  \n",
       "        8                   199    475.0  \n",
       "        10                  199    391.0  \n",
       "        11                  199    535.0  "
      ]
     },
     "execution_count": 40,
     "metadata": {},
     "output_type": "execute_result"
    }
   ],
   "source": [
    "# В этот же датафрейм добавим столбец с помесячной выручкой, которую принёс каждый пользователь\n",
    "users_revenue['revenue'] = (\n",
    "users_revenue['start_ride_price']*users_revenue['count']+\n",
    "users_revenue['minute_price']*users_revenue['duration']+\n",
    "users_revenue['subscription_fee'])\n",
    "users_revenue.head()"
   ]
  },
  {
   "cell_type": "markdown",
   "id": "79f35c3b",
   "metadata": {},
   "source": [
    "Выводы:\n",
    "\n",
    "Был создан дополнительный датафрейм и подсчитана помесячная выручка."
   ]
  },
  {
   "cell_type": "markdown",
   "id": "41545ac0",
   "metadata": {},
   "source": [
    "### Проверка гипотез"
   ]
  },
  {
   "cell_type": "markdown",
   "id": "5b237c68",
   "metadata": {},
   "source": [
    "1. Тратят ли пользователи с подпиской больше времени на поездки? \n",
    "\n",
    "Нулевая гипотеза - cредняя продолжительность поездок с подпиской и без равна.\n",
    "\n",
    "Альтернативная гипотеза - средняя продолжительность поездок с подпиской больше продолжительности поездок без подписок.\n",
    "\n",
    "Требуется двухвыборочный t-тест для независимых выборок. "
   ]
  },
  {
   "cell_type": "code",
   "execution_count": 41,
   "id": "623f9c26",
   "metadata": {},
   "outputs": [
    {
     "name": "stdout",
     "output_type": "stream",
     "text": [
      "2.4959453720736625e-34\n",
      "Отвергаем нулевую гипотезу\n"
     ]
    }
   ],
   "source": [
    "results = st.ttest_ind(\n",
    "    data_ultra['duration'], \n",
    "    data_free['duration'], \n",
    "    equal_var=True, \n",
    "    alternative='greater')\n",
    "print(results.pvalue)\n",
    "\n",
    "alpha = 0.05\n",
    "if results.pvalue < alpha:\n",
    "    print('Отвергаем нулевую гипотезу')\n",
    "else:\n",
    "    print('Не получилось отвергнуть нулевую гипотезу')"
   ]
  },
  {
   "cell_type": "markdown",
   "id": "968a13d6",
   "metadata": {},
   "source": [
    "Вывод: нулевая гипотеза отвергнута, есть основания утверждать, что средняя продолжительность поездки с подпиской больше продолжительности поездок без подписки при установленном уровне значимости в 5 % (однако, при выполнении шага 4 мы отмечали, что медианное значение для пользователей с подпиской - 18.1 мин, а без - 17.3 (после округления с помощью метода «потолок» библиотеки numpy медианное значение для пользователей с подпиской - 19 мин, а без - 18, но в любом случае между данными для пользователей с подписок и без нет значительных отличий)."
   ]
  },
  {
   "cell_type": "markdown",
   "id": "45b3683b",
   "metadata": {},
   "source": [
    "2. Можно ли сказать, что среднее расстояние, которое проезжают пользователи с подпиской за одну поездку, не превышает 3130 метров? \n",
    "\n",
    "Нулевая гипотеза - cреднее расстояние, которое проезжают пользователи с подпиской, не превышает 3130.\n",
    "\n",
    "Альтернативная гипотеза - cреднее расстояние, которое проезжают пользователи с подпиской, превышает 3130.\n",
    "\n",
    "\n",
    "Требуется одновыборочный t-тест о равенстве среднего генеральной совокупности числу."
   ]
  },
  {
   "cell_type": "code",
   "execution_count": 42,
   "id": "b90f72d3",
   "metadata": {},
   "outputs": [
    {
     "name": "stdout",
     "output_type": "stream",
     "text": [
      "p-значение: 0.9195368847849785\n",
      "Не отвергаем нулевую гипотезу\n"
     ]
    }
   ],
   "source": [
    "distance_value = 3130\n",
    "\n",
    "alpha = 0.05 \n",
    "\n",
    "results = st.ttest_1samp(\n",
    "    data_ultra['distance'], \n",
    "    distance_value,\n",
    "    alternative='greater')\n",
    "\n",
    "print('p-значение:', results.pvalue)\n",
    "\n",
    "if (results.pvalue < alpha):\n",
    "    print('Отвергаем нулевую гипотезу')\n",
    "else:\n",
    "    print('Не отвергаем нулевую гипотезу') \n"
   ]
  },
  {
   "cell_type": "markdown",
   "id": "19cde57c",
   "metadata": {},
   "source": [
    "Вывод: нулевую гипотезу не удалось отвергнуть и следовательно, есть основания утверждать, что среднее расстояние поездки пользователей с подпиской не превышает оптимальное расстояние в 3130 м (при уровне значимости в 5 %). При выполнении шага 4 мы отмечали, что медианное значение для пользователей с подпиской - 3148 м."
   ]
  },
  {
   "cell_type": "markdown",
   "id": "6d6b925f",
   "metadata": {},
   "source": [
    "3. Проверьте гипотезу о том, будет ли помесячная выручка от пользователей с подпиской по месяцам выше, чем выручка от пользователей без подписки. \n",
    "\n",
    "Нулевая гипотеза - помесячная выручка от пользователей с подпиской и без подписки равна. \n",
    "\n",
    "Альтернативная гипотеза - помесячная выручка от пользователей с подпиской по месяцам выше, чем выручка от пользователей без подписки.\n",
    "\n",
    "Требуется двухвыборочный t-тест для независимых выборок."
   ]
  },
  {
   "cell_type": "code",
   "execution_count": 43,
   "id": "e54d6d7d",
   "metadata": {},
   "outputs": [
    {
     "name": "stdout",
     "output_type": "stream",
     "text": [
      "1.8850394384715216e-31\n",
      "Отвергаем нулевую гипотезу\n"
     ]
    }
   ],
   "source": [
    "results = st.ttest_ind(\n",
    "    users_revenue.loc[users_revenue['subscription_fee'] > 0, 'revenue'], \n",
    "    users_revenue.loc[users_revenue['subscription_fee'] == 0, 'revenue'], \n",
    "    equal_var=True, \n",
    "    alternative='greater')\n",
    "print(results.pvalue)\n",
    "\n",
    "alpha = 0.05\n",
    "if results.pvalue < alpha:\n",
    "    print('Отвергаем нулевую гипотезу')\n",
    "else:\n",
    "    print('Не получилось отвергнуть нулевую гипотезу')"
   ]
  },
  {
   "cell_type": "markdown",
   "id": "f7972b1e",
   "metadata": {},
   "source": [
    "Вывод: нулевая гипотеза отвергнута, есть основания утверждать, что средняя месячная выручка от пользователей с подпиской больше средней месячной выручки от пользователей без подписки (при уровне значимости в 5 %)."
   ]
  },
  {
   "cell_type": "markdown",
   "id": "a2ba876a",
   "metadata": {},
   "source": [
    "4. Представьте такую ситуацию: техническая команда сервиса обновила сервера, с которыми взаимодействует мобильное приложение. Она надеется, что из-за этого количество обращений в техподдержку значимо снизилось. Некоторый файл содержит для каждого пользователя данные о количестве обращений до обновления и после него. Какой тест вам понадобился бы для проверки этой гипотезы?\n",
    "\n",
    "Ответ: требуется двухвыборочный t-тест для зависимых выборок (будет проверяться гипотеза о равенстве среднего значения генеральной совокупности до и после изменений)."
   ]
  },
  {
   "cell_type": "markdown",
   "id": "d8db33f1",
   "metadata": {},
   "source": [
    "Выводы:\n",
    "- есть основания утверждать, что средняя продолжительность поездки с подпиской больше продолжительности поездок без подписки при установленном уровне значимости в 5 % (однако, при выполнении шага 4 мы отмечали, что медианное значение для пользователей с подпиской - 19 мин, а без - 18 мин, то есть разница не большая).\n",
    "- есть основания утверждать, что среднее расстояние поездки пользователей с подпиской не превышает оптимальное расстояние в 3130 м (при уровне значимости в 5 %). При выполнении шага 4 мы отмечали, что медианное значение для пользователей с подпиской - 3148 м.\n",
    "- есть основания утверждать, что средняя месячная выручка от пользователей с подпиской больше средней месячной выручки от пользователей без подписки (при уровне значимости в 5 %).\n",
    "- для анализа данных о количестве обращений до обновления и после него требуется двухвыборочный t-тест для зависимых выборок (будет проверяться гипотеза о равенстве среднего значения генеральной совокупности до и после изменений)."
   ]
  },
  {
   "cell_type": "markdown",
   "id": "61213c5e",
   "metadata": {},
   "source": [
    "### Выводы"
   ]
  },
  {
   "cell_type": "markdown",
   "id": "5dc4ff77",
   "metadata": {},
   "source": [
    "В рамках данного проекта данные были предобработаны: была изучена информация о датафреймах, проверено наличие дубликатов, удалены дубликаты из датафрейма data_user, проверено наличие пропусков, создан новый столбец 'month' в data_rides, изменен формат столбца с датой в data_rides. \n",
    "\n",
    "Был проведен исследовательский анализ данных: больше всего пользователей сервиса живет в Пятигорске, на втором месте по количеству пользователей - Екатеринбург, на третьем - Ростов-на-Дону. Количество пользователей без подписки (54,4%) больше, чем количество пользователей с подпиской (45,6%). Средний возраст пользователя - 24.9 лет, что почти совпадает с медианой. Визуализация количества пользователей показывает, что средний возраст пользователя сервиса подчиняется нормальному распределению и находится в диапазоне от 12 до 43 лет. Визуализация и описание информации о количестве поездок в зависимости от расстояния показывает, что медиана поездок - 3133 м, первый квартиль - 2543 м, третий квартиль - 3776 м. При этом на гистограмме можно заметить два пика: первый совпадает с медианой, а второй пик - 700 м. Визуализация количества поездок по их продолжительности указывает, что медиана находится на 18 мин, первый квартиль - 13 мин, третий квартиль - 21 мин.\n",
    "\n",
    "Дополнительно были созданы новые датафреймы, которые позволили проанализировать информацию отдельно для пользователей с подпиской и без нее. Было проанализировано расстояние поездки: наличие подписки влияет на медианные значения (расстояние без подписки 3114.6 м, а с подпиской - 3148.6 м).У пользователей с подпиской меньший разброс данных. Центр дополнительного пика, который был заметен на предыдушем этапе раюоты, сдвинут с 500 метров без подписки) до 1000 (с подпиской). Было проанализировано время поездки: наличие подписки незначительно влияет на медианные значения (время поезки без подписки - 18 мин, с подпиской 19 мин). Был создан дополнительный датафрейм и подсчитана помесячная выручка для дальнейшей проверки гипотез.\n",
    "\n",
    "Были проверены гипотезы: \n",
    "- есть основания утверждать, что средняя продолжительность поездки с подпиской больше продолжительности поездок без подписки при установленном уровне значимости в 5 % (однако, при выполнении шага 4 мы отмечали, что медианное значение для пользователей с подпиской - 19 мин, а без - 18 мин, то есть разница небольшая).\n",
    "- есть основания утверждать, что среднее расстояние поездки пользователей с подпиской не превышает оптимальное расстояние в 3130 м (при уровне значимости в 5 %). При выполнении шага 4 мы отмечали, что медианное значение для пользователей с подпиской - 3148 м.\n",
    "- есть основания утверждать, что средняя месячная выручка от пользователей с подпиской больше средней месячной выручки от пользователей без подписки (при уровне значимости в 5 %).\n",
    "- для анализа данных о количестве обращений до обновления и после него требуется двухвыборочный t-тест для зависимых выборок (будет проверяться гипотеза о равенстве среднего значения генеральной совокупности до и после изменений).\n",
    "\n",
    "Так как есть основания утверждать, что средняя месячная выручка от пользователей с подпиской больше средней месячной выручки от пользователей без подписки,  а среднее расстояние поездки пользователей с подпиской не превышает оптимальное расстояние в 3130 м, то можно резюмировать, что пользователи с подпиской более выгодны для сервиса."
   ]
  }
 ],
 "metadata": {
  "ExecuteTimeLog": [
   {
    "duration": 58,
    "start_time": "2024-07-24T14:29:39.657Z"
   },
   {
    "duration": 895,
    "start_time": "2024-07-24T14:29:47.656Z"
   },
   {
    "duration": 489,
    "start_time": "2024-07-24T14:29:49.279Z"
   },
   {
    "duration": 658,
    "start_time": "2024-07-24T14:31:46.024Z"
   },
   {
    "duration": 714,
    "start_time": "2024-07-24T14:33:01.672Z"
   },
   {
    "duration": 3,
    "start_time": "2024-07-24T14:35:02.605Z"
   },
   {
    "duration": 399,
    "start_time": "2024-07-24T14:35:04.400Z"
   },
   {
    "duration": 535,
    "start_time": "2024-07-24T14:35:05.184Z"
   },
   {
    "duration": 522,
    "start_time": "2024-07-24T14:35:06.128Z"
   },
   {
    "duration": 50,
    "start_time": "2024-07-25T07:42:59.763Z"
   },
   {
    "duration": 828,
    "start_time": "2024-07-25T07:43:11.273Z"
   },
   {
    "duration": 482,
    "start_time": "2024-07-25T07:43:12.103Z"
   },
   {
    "duration": 628,
    "start_time": "2024-07-25T07:43:12.588Z"
   },
   {
    "duration": 615,
    "start_time": "2024-07-25T07:43:13.219Z"
   },
   {
    "duration": 1063,
    "start_time": "2024-07-25T07:43:13.837Z"
   },
   {
    "duration": 21,
    "start_time": "2024-07-25T07:43:30.354Z"
   },
   {
    "duration": 12,
    "start_time": "2024-07-25T07:46:03.897Z"
   },
   {
    "duration": 5,
    "start_time": "2024-07-25T07:46:57.963Z"
   },
   {
    "duration": 6,
    "start_time": "2024-07-25T07:48:09.323Z"
   },
   {
    "duration": 7,
    "start_time": "2024-07-25T07:48:32.001Z"
   },
   {
    "duration": 7,
    "start_time": "2024-07-25T07:48:48.658Z"
   },
   {
    "duration": 6,
    "start_time": "2024-07-25T07:48:51.475Z"
   },
   {
    "duration": 6,
    "start_time": "2024-07-25T07:49:16.659Z"
   },
   {
    "duration": 6,
    "start_time": "2024-07-25T07:49:59.115Z"
   },
   {
    "duration": 8,
    "start_time": "2024-07-25T07:50:18.843Z"
   },
   {
    "duration": 6,
    "start_time": "2024-07-25T07:50:36.291Z"
   },
   {
    "duration": 8,
    "start_time": "2024-07-25T07:53:36.858Z"
   },
   {
    "duration": 6,
    "start_time": "2024-07-25T07:53:46.482Z"
   },
   {
    "duration": 7,
    "start_time": "2024-07-25T07:53:57.803Z"
   },
   {
    "duration": 6,
    "start_time": "2024-07-25T07:54:18.947Z"
   },
   {
    "duration": 9,
    "start_time": "2024-07-25T08:00:30.066Z"
   },
   {
    "duration": 10,
    "start_time": "2024-07-25T08:00:39.569Z"
   },
   {
    "duration": 7,
    "start_time": "2024-07-25T08:00:51.668Z"
   },
   {
    "duration": 9,
    "start_time": "2024-07-25T08:02:33.827Z"
   },
   {
    "duration": 5,
    "start_time": "2024-07-25T08:03:29.186Z"
   },
   {
    "duration": 11,
    "start_time": "2024-07-25T08:06:52.932Z"
   },
   {
    "duration": 158,
    "start_time": "2024-07-25T08:08:00.552Z"
   },
   {
    "duration": 10,
    "start_time": "2024-07-25T08:08:06.706Z"
   },
   {
    "duration": 11,
    "start_time": "2024-07-25T08:08:33.236Z"
   },
   {
    "duration": 139,
    "start_time": "2024-07-25T08:08:49.243Z"
   },
   {
    "duration": 185,
    "start_time": "2024-07-25T08:12:47.275Z"
   },
   {
    "duration": 214,
    "start_time": "2024-07-25T08:13:28.340Z"
   },
   {
    "duration": 193,
    "start_time": "2024-07-25T08:13:50.116Z"
   },
   {
    "duration": 183,
    "start_time": "2024-07-25T08:14:16.828Z"
   },
   {
    "duration": 326,
    "start_time": "2024-07-25T08:16:26.203Z"
   },
   {
    "duration": 11,
    "start_time": "2024-07-25T08:16:52.260Z"
   },
   {
    "duration": 9,
    "start_time": "2024-07-25T08:17:02.275Z"
   },
   {
    "duration": 10,
    "start_time": "2024-07-25T08:18:02.253Z"
   },
   {
    "duration": 366,
    "start_time": "2024-07-25T08:18:10.820Z"
   },
   {
    "duration": 9,
    "start_time": "2024-07-25T08:21:21.061Z"
   },
   {
    "duration": 781,
    "start_time": "2024-07-25T08:21:52.877Z"
   },
   {
    "duration": 20,
    "start_time": "2024-07-25T09:35:36.636Z"
   },
   {
    "duration": 205,
    "start_time": "2024-07-25T09:39:43.370Z"
   },
   {
    "duration": 628,
    "start_time": "2024-07-25T10:40:17.397Z"
   },
   {
    "duration": 428,
    "start_time": "2024-07-25T10:40:18.027Z"
   },
   {
    "duration": 551,
    "start_time": "2024-07-25T10:40:18.456Z"
   },
   {
    "duration": 576,
    "start_time": "2024-07-25T10:40:19.009Z"
   },
   {
    "duration": 7,
    "start_time": "2024-07-25T10:40:19.588Z"
   },
   {
    "duration": 53,
    "start_time": "2024-07-25T10:40:19.597Z"
   },
   {
    "duration": 31,
    "start_time": "2024-07-25T10:40:19.651Z"
   },
   {
    "duration": 36,
    "start_time": "2024-07-25T10:40:19.684Z"
   },
   {
    "duration": 35,
    "start_time": "2024-07-25T10:40:19.721Z"
   },
   {
    "duration": 13,
    "start_time": "2024-07-25T10:40:19.757Z"
   },
   {
    "duration": 10,
    "start_time": "2024-07-25T10:40:19.772Z"
   },
   {
    "duration": 5,
    "start_time": "2024-07-25T10:40:19.784Z"
   },
   {
    "duration": 6,
    "start_time": "2024-07-25T10:40:19.790Z"
   },
   {
    "duration": 4,
    "start_time": "2024-07-25T10:40:19.799Z"
   },
   {
    "duration": 14,
    "start_time": "2024-07-25T10:40:19.805Z"
   },
   {
    "duration": 153,
    "start_time": "2024-07-25T10:40:19.821Z"
   },
   {
    "duration": 199,
    "start_time": "2024-07-25T10:40:19.976Z"
   },
   {
    "duration": 10,
    "start_time": "2024-07-25T10:40:20.177Z"
   },
   {
    "duration": 316,
    "start_time": "2024-07-25T10:40:20.189Z"
   },
   {
    "duration": 10,
    "start_time": "2024-07-25T10:40:20.507Z"
   },
   {
    "duration": 815,
    "start_time": "2024-07-25T10:40:20.519Z"
   },
   {
    "duration": 11,
    "start_time": "2024-07-25T10:40:21.336Z"
   },
   {
    "duration": 384,
    "start_time": "2024-07-25T10:40:21.349Z"
   },
   {
    "duration": 25,
    "start_time": "2024-07-25T10:44:03.769Z"
   },
   {
    "duration": 18,
    "start_time": "2024-07-25T10:45:54.863Z"
   },
   {
    "duration": 14,
    "start_time": "2024-07-25T10:46:27.591Z"
   },
   {
    "duration": 270,
    "start_time": "2024-07-25T10:48:43.550Z"
   },
   {
    "duration": 233,
    "start_time": "2024-07-25T10:49:31.400Z"
   },
   {
    "duration": 70,
    "start_time": "2024-07-25T10:52:11.055Z"
   },
   {
    "duration": 192,
    "start_time": "2024-07-25T10:52:28.647Z"
   },
   {
    "duration": 208,
    "start_time": "2024-07-25T10:53:16.447Z"
   },
   {
    "duration": 210,
    "start_time": "2024-07-25T10:54:18.504Z"
   },
   {
    "duration": 175,
    "start_time": "2024-07-25T10:54:46.488Z"
   },
   {
    "duration": 13,
    "start_time": "2024-07-25T10:55:29.576Z"
   },
   {
    "duration": 8,
    "start_time": "2024-07-25T10:55:41.712Z"
   },
   {
    "duration": 10,
    "start_time": "2024-07-25T10:55:43.439Z"
   },
   {
    "duration": 8,
    "start_time": "2024-07-25T10:56:03.854Z"
   },
   {
    "duration": 9,
    "start_time": "2024-07-25T10:56:23.593Z"
   },
   {
    "duration": 78,
    "start_time": "2024-07-25T11:05:28.120Z"
   },
   {
    "duration": 48,
    "start_time": "2024-07-25T11:05:44.696Z"
   },
   {
    "duration": 13,
    "start_time": "2024-07-25T11:07:11.050Z"
   },
   {
    "duration": 8,
    "start_time": "2024-07-25T11:07:24.177Z"
   },
   {
    "duration": 3,
    "start_time": "2024-07-25T11:08:17.008Z"
   },
   {
    "duration": 47,
    "start_time": "2024-07-25T11:11:41.720Z"
   },
   {
    "duration": 753,
    "start_time": "2024-07-25T11:12:22.452Z"
   },
   {
    "duration": 458,
    "start_time": "2024-07-25T11:12:23.208Z"
   },
   {
    "duration": 526,
    "start_time": "2024-07-25T11:12:23.668Z"
   },
   {
    "duration": 598,
    "start_time": "2024-07-25T11:12:24.196Z"
   },
   {
    "duration": 15,
    "start_time": "2024-07-25T11:12:24.797Z"
   },
   {
    "duration": 26,
    "start_time": "2024-07-25T11:12:24.815Z"
   },
   {
    "duration": 16,
    "start_time": "2024-07-25T11:12:24.843Z"
   },
   {
    "duration": 35,
    "start_time": "2024-07-25T11:12:24.861Z"
   },
   {
    "duration": 10,
    "start_time": "2024-07-25T11:12:24.898Z"
   },
   {
    "duration": 11,
    "start_time": "2024-07-25T11:12:24.909Z"
   },
   {
    "duration": 28,
    "start_time": "2024-07-25T11:12:24.921Z"
   },
   {
    "duration": 7,
    "start_time": "2024-07-25T11:12:24.956Z"
   },
   {
    "duration": 6,
    "start_time": "2024-07-25T11:12:24.965Z"
   },
   {
    "duration": 6,
    "start_time": "2024-07-25T11:12:24.973Z"
   },
   {
    "duration": 75,
    "start_time": "2024-07-25T11:12:24.980Z"
   },
   {
    "duration": 158,
    "start_time": "2024-07-25T11:12:25.057Z"
   },
   {
    "duration": 217,
    "start_time": "2024-07-25T11:12:25.217Z"
   },
   {
    "duration": 19,
    "start_time": "2024-07-25T11:12:25.435Z"
   },
   {
    "duration": 319,
    "start_time": "2024-07-25T11:12:25.457Z"
   },
   {
    "duration": 8,
    "start_time": "2024-07-25T11:12:25.778Z"
   },
   {
    "duration": 788,
    "start_time": "2024-07-25T11:12:25.788Z"
   },
   {
    "duration": 12,
    "start_time": "2024-07-25T11:12:26.578Z"
   },
   {
    "duration": 320,
    "start_time": "2024-07-25T11:12:26.592Z"
   },
   {
    "duration": 33,
    "start_time": "2024-07-25T11:12:26.914Z"
   },
   {
    "duration": 20,
    "start_time": "2024-07-25T11:12:26.948Z"
   },
   {
    "duration": 18,
    "start_time": "2024-07-25T11:12:26.969Z"
   },
   {
    "duration": 243,
    "start_time": "2024-07-25T11:12:26.988Z"
   },
   {
    "duration": 224,
    "start_time": "2024-07-25T11:12:27.233Z"
   },
   {
    "duration": 1853,
    "start_time": "2024-07-25T11:12:27.459Z"
   },
   {
    "duration": 454,
    "start_time": "2024-07-25T11:12:29.314Z"
   },
   {
    "duration": 9,
    "start_time": "2024-07-25T11:12:29.769Z"
   },
   {
    "duration": 17,
    "start_time": "2024-07-25T11:12:29.779Z"
   },
   {
    "duration": 40,
    "start_time": "2024-07-25T11:12:29.797Z"
   },
   {
    "duration": 20,
    "start_time": "2024-07-25T11:12:29.838Z"
   },
   {
    "duration": 51,
    "start_time": "2024-07-25T11:12:29.859Z"
   },
   {
    "duration": 8,
    "start_time": "2024-07-25T11:12:29.911Z"
   },
   {
    "duration": 45,
    "start_time": "2024-07-25T11:13:18.090Z"
   },
   {
    "duration": 47,
    "start_time": "2024-07-25T11:26:53.051Z"
   },
   {
    "duration": 18,
    "start_time": "2024-07-25T11:27:54.596Z"
   },
   {
    "duration": 683,
    "start_time": "2024-07-25T11:57:36.683Z"
   },
   {
    "duration": 440,
    "start_time": "2024-07-25T11:57:37.368Z"
   },
   {
    "duration": 554,
    "start_time": "2024-07-25T11:57:37.810Z"
   },
   {
    "duration": 586,
    "start_time": "2024-07-25T11:57:38.366Z"
   },
   {
    "duration": 7,
    "start_time": "2024-07-25T11:57:38.955Z"
   },
   {
    "duration": 48,
    "start_time": "2024-07-25T11:57:38.964Z"
   },
   {
    "duration": 100,
    "start_time": "2024-07-25T11:57:39.014Z"
   },
   {
    "duration": 8,
    "start_time": "2024-07-25T11:57:39.116Z"
   },
   {
    "duration": 23,
    "start_time": "2024-07-25T11:57:39.126Z"
   },
   {
    "duration": 13,
    "start_time": "2024-07-25T11:57:39.151Z"
   },
   {
    "duration": 34,
    "start_time": "2024-07-25T11:57:39.166Z"
   },
   {
    "duration": 12,
    "start_time": "2024-07-25T11:57:39.202Z"
   },
   {
    "duration": 8,
    "start_time": "2024-07-25T11:57:39.216Z"
   },
   {
    "duration": 6,
    "start_time": "2024-07-25T11:57:39.229Z"
   },
   {
    "duration": 21,
    "start_time": "2024-07-25T11:57:39.236Z"
   },
   {
    "duration": 154,
    "start_time": "2024-07-25T11:57:39.259Z"
   },
   {
    "duration": 203,
    "start_time": "2024-07-25T11:57:39.414Z"
   },
   {
    "duration": 9,
    "start_time": "2024-07-25T11:57:39.619Z"
   },
   {
    "duration": 320,
    "start_time": "2024-07-25T11:57:39.630Z"
   },
   {
    "duration": 8,
    "start_time": "2024-07-25T11:57:39.952Z"
   },
   {
    "duration": 789,
    "start_time": "2024-07-25T11:57:39.962Z"
   },
   {
    "duration": 8,
    "start_time": "2024-07-25T11:57:40.753Z"
   },
   {
    "duration": 292,
    "start_time": "2024-07-25T11:57:40.762Z"
   },
   {
    "duration": 22,
    "start_time": "2024-07-25T11:57:41.055Z"
   },
   {
    "duration": 60,
    "start_time": "2024-07-25T11:57:41.078Z"
   },
   {
    "duration": 14,
    "start_time": "2024-07-25T11:57:41.139Z"
   },
   {
    "duration": 210,
    "start_time": "2024-07-25T11:57:41.154Z"
   },
   {
    "duration": 213,
    "start_time": "2024-07-25T11:57:41.366Z"
   },
   {
    "duration": 202,
    "start_time": "2024-07-25T11:57:41.581Z"
   },
   {
    "duration": 204,
    "start_time": "2024-07-25T11:57:41.785Z"
   },
   {
    "duration": 11,
    "start_time": "2024-07-25T11:57:41.991Z"
   },
   {
    "duration": 23,
    "start_time": "2024-07-25T11:57:42.004Z"
   },
   {
    "duration": 19,
    "start_time": "2024-07-25T11:57:42.029Z"
   },
   {
    "duration": 9,
    "start_time": "2024-07-25T11:57:42.050Z"
   },
   {
    "duration": 44,
    "start_time": "2024-07-25T11:57:42.061Z"
   },
   {
    "duration": 13,
    "start_time": "2024-07-25T11:57:42.107Z"
   },
   {
    "duration": 689,
    "start_time": "2024-07-25T11:58:08.857Z"
   },
   {
    "duration": 457,
    "start_time": "2024-07-25T11:58:09.548Z"
   },
   {
    "duration": 509,
    "start_time": "2024-07-25T11:58:10.007Z"
   },
   {
    "duration": 567,
    "start_time": "2024-07-25T11:58:10.518Z"
   },
   {
    "duration": 8,
    "start_time": "2024-07-25T11:58:11.087Z"
   },
   {
    "duration": 144,
    "start_time": "2024-07-25T11:58:11.097Z"
   },
   {
    "duration": 12,
    "start_time": "2024-07-25T11:58:11.243Z"
   },
   {
    "duration": 8,
    "start_time": "2024-07-25T11:58:11.257Z"
   },
   {
    "duration": 7,
    "start_time": "2024-07-25T11:58:11.266Z"
   },
   {
    "duration": 16,
    "start_time": "2024-07-25T11:58:11.275Z"
   },
   {
    "duration": 8,
    "start_time": "2024-07-25T11:58:11.293Z"
   },
   {
    "duration": 5,
    "start_time": "2024-07-25T11:58:11.303Z"
   },
   {
    "duration": 37,
    "start_time": "2024-07-25T11:58:11.309Z"
   },
   {
    "duration": 5,
    "start_time": "2024-07-25T11:58:11.349Z"
   },
   {
    "duration": 25,
    "start_time": "2024-07-25T11:58:11.355Z"
   },
   {
    "duration": 164,
    "start_time": "2024-07-25T11:58:11.382Z"
   },
   {
    "duration": 218,
    "start_time": "2024-07-25T11:58:11.548Z"
   },
   {
    "duration": 9,
    "start_time": "2024-07-25T11:58:11.768Z"
   },
   {
    "duration": 322,
    "start_time": "2024-07-25T11:58:11.778Z"
   },
   {
    "duration": 8,
    "start_time": "2024-07-25T11:58:12.102Z"
   },
   {
    "duration": 765,
    "start_time": "2024-07-25T11:58:12.111Z"
   },
   {
    "duration": 9,
    "start_time": "2024-07-25T11:58:12.877Z"
   },
   {
    "duration": 295,
    "start_time": "2024-07-25T11:58:12.888Z"
   },
   {
    "duration": 22,
    "start_time": "2024-07-25T11:58:13.185Z"
   },
   {
    "duration": 16,
    "start_time": "2024-07-25T11:58:13.209Z"
   },
   {
    "duration": 34,
    "start_time": "2024-07-25T11:58:13.226Z"
   },
   {
    "duration": 224,
    "start_time": "2024-07-25T11:58:13.262Z"
   },
   {
    "duration": 211,
    "start_time": "2024-07-25T11:58:13.488Z"
   },
   {
    "duration": 201,
    "start_time": "2024-07-25T11:58:13.701Z"
   },
   {
    "duration": 185,
    "start_time": "2024-07-25T11:58:13.904Z"
   },
   {
    "duration": 8,
    "start_time": "2024-07-25T11:58:14.091Z"
   },
   {
    "duration": 9,
    "start_time": "2024-07-25T11:58:14.101Z"
   },
   {
    "duration": 18,
    "start_time": "2024-07-25T11:58:14.112Z"
   },
   {
    "duration": 24,
    "start_time": "2024-07-25T11:58:14.131Z"
   },
   {
    "duration": 61,
    "start_time": "2024-07-25T11:58:14.157Z"
   },
   {
    "duration": 14,
    "start_time": "2024-07-25T11:58:14.219Z"
   },
   {
    "duration": 81,
    "start_time": "2024-07-25T14:42:51.298Z"
   },
   {
    "duration": 1194,
    "start_time": "2024-07-25T14:43:09.338Z"
   },
   {
    "duration": 429,
    "start_time": "2024-07-25T14:43:10.535Z"
   },
   {
    "duration": 511,
    "start_time": "2024-07-25T14:43:10.968Z"
   },
   {
    "duration": 510,
    "start_time": "2024-07-25T14:43:11.483Z"
   },
   {
    "duration": 8,
    "start_time": "2024-07-25T14:43:11.994Z"
   },
   {
    "duration": 27,
    "start_time": "2024-07-25T14:43:12.003Z"
   },
   {
    "duration": 56,
    "start_time": "2024-07-25T14:43:12.031Z"
   },
   {
    "duration": 14,
    "start_time": "2024-07-25T14:43:12.089Z"
   },
   {
    "duration": 8,
    "start_time": "2024-07-25T14:43:12.105Z"
   },
   {
    "duration": 8,
    "start_time": "2024-07-25T14:43:12.115Z"
   },
   {
    "duration": 13,
    "start_time": "2024-07-25T14:43:12.124Z"
   },
   {
    "duration": 7,
    "start_time": "2024-07-25T14:43:12.138Z"
   },
   {
    "duration": 9,
    "start_time": "2024-07-25T14:43:12.149Z"
   },
   {
    "duration": 6,
    "start_time": "2024-07-25T14:43:12.159Z"
   },
   {
    "duration": 14,
    "start_time": "2024-07-25T14:43:12.166Z"
   },
   {
    "duration": 164,
    "start_time": "2024-07-25T14:43:12.182Z"
   },
   {
    "duration": 222,
    "start_time": "2024-07-25T14:43:12.348Z"
   },
   {
    "duration": 9,
    "start_time": "2024-07-25T14:43:12.572Z"
   },
   {
    "duration": 361,
    "start_time": "2024-07-25T14:43:12.583Z"
   },
   {
    "duration": 9,
    "start_time": "2024-07-25T14:43:12.946Z"
   },
   {
    "duration": 840,
    "start_time": "2024-07-25T14:43:12.956Z"
   },
   {
    "duration": 10,
    "start_time": "2024-07-25T14:43:13.798Z"
   },
   {
    "duration": 229,
    "start_time": "2024-07-25T14:43:13.809Z"
   },
   {
    "duration": 23,
    "start_time": "2024-07-25T14:43:14.045Z"
   },
   {
    "duration": 15,
    "start_time": "2024-07-25T14:43:14.070Z"
   },
   {
    "duration": 14,
    "start_time": "2024-07-25T14:43:14.087Z"
   },
   {
    "duration": 218,
    "start_time": "2024-07-25T14:43:14.102Z"
   },
   {
    "duration": 212,
    "start_time": "2024-07-25T14:43:14.322Z"
   },
   {
    "duration": 195,
    "start_time": "2024-07-25T14:43:14.536Z"
   },
   {
    "duration": 202,
    "start_time": "2024-07-25T14:43:14.733Z"
   },
   {
    "duration": 14,
    "start_time": "2024-07-25T14:43:14.937Z"
   },
   {
    "duration": 7,
    "start_time": "2024-07-25T14:43:14.953Z"
   },
   {
    "duration": 8,
    "start_time": "2024-07-25T14:43:14.962Z"
   },
   {
    "duration": 8,
    "start_time": "2024-07-25T14:43:14.971Z"
   },
   {
    "duration": 198,
    "start_time": "2024-07-25T14:43:14.980Z"
   },
   {
    "duration": 14,
    "start_time": "2024-07-25T14:43:15.180Z"
   },
   {
    "duration": 22,
    "start_time": "2024-07-25T14:43:15.196Z"
   },
   {
    "duration": 6,
    "start_time": "2024-07-25T14:44:47.262Z"
   },
   {
    "duration": 6,
    "start_time": "2024-07-25T14:53:53.458Z"
   },
   {
    "duration": 1238,
    "start_time": "2024-07-26T07:36:42.895Z"
   },
   {
    "duration": 407,
    "start_time": "2024-07-26T07:36:44.135Z"
   },
   {
    "duration": 534,
    "start_time": "2024-07-26T07:36:44.543Z"
   },
   {
    "duration": 462,
    "start_time": "2024-07-26T07:36:45.079Z"
   },
   {
    "duration": 6,
    "start_time": "2024-07-26T07:36:45.544Z"
   },
   {
    "duration": 9,
    "start_time": "2024-07-26T07:36:45.551Z"
   },
   {
    "duration": 5,
    "start_time": "2024-07-26T07:36:45.561Z"
   },
   {
    "duration": 26,
    "start_time": "2024-07-26T07:36:45.568Z"
   },
   {
    "duration": 7,
    "start_time": "2024-07-26T07:36:45.595Z"
   },
   {
    "duration": 15,
    "start_time": "2024-07-26T07:36:45.603Z"
   },
   {
    "duration": 8,
    "start_time": "2024-07-26T07:36:45.620Z"
   },
   {
    "duration": 17,
    "start_time": "2024-07-26T07:36:45.630Z"
   },
   {
    "duration": 5,
    "start_time": "2024-07-26T07:36:45.649Z"
   },
   {
    "duration": 7,
    "start_time": "2024-07-26T07:36:45.657Z"
   },
   {
    "duration": 14,
    "start_time": "2024-07-26T07:36:45.665Z"
   },
   {
    "duration": 125,
    "start_time": "2024-07-26T07:36:45.681Z"
   },
   {
    "duration": 178,
    "start_time": "2024-07-26T07:36:45.808Z"
   },
   {
    "duration": 7,
    "start_time": "2024-07-26T07:36:45.988Z"
   },
   {
    "duration": 262,
    "start_time": "2024-07-26T07:36:45.996Z"
   },
   {
    "duration": 7,
    "start_time": "2024-07-26T07:36:46.259Z"
   },
   {
    "duration": 649,
    "start_time": "2024-07-26T07:36:46.268Z"
   },
   {
    "duration": 7,
    "start_time": "2024-07-26T07:36:46.918Z"
   },
   {
    "duration": 188,
    "start_time": "2024-07-26T07:36:46.926Z"
   },
   {
    "duration": 20,
    "start_time": "2024-07-26T07:36:47.115Z"
   },
   {
    "duration": 18,
    "start_time": "2024-07-26T07:36:47.137Z"
   },
   {
    "duration": 13,
    "start_time": "2024-07-26T07:36:47.156Z"
   },
   {
    "duration": 192,
    "start_time": "2024-07-26T07:36:47.171Z"
   },
   {
    "duration": 174,
    "start_time": "2024-07-26T07:36:47.364Z"
   },
   {
    "duration": 184,
    "start_time": "2024-07-26T07:36:47.540Z"
   },
   {
    "duration": 152,
    "start_time": "2024-07-26T07:36:47.726Z"
   },
   {
    "duration": 7,
    "start_time": "2024-07-26T07:36:47.880Z"
   },
   {
    "duration": 7,
    "start_time": "2024-07-26T07:36:47.889Z"
   },
   {
    "duration": 8,
    "start_time": "2024-07-26T07:36:47.912Z"
   },
   {
    "duration": 7,
    "start_time": "2024-07-26T07:36:47.921Z"
   },
   {
    "duration": 127,
    "start_time": "2024-07-26T07:36:47.930Z"
   },
   {
    "duration": 11,
    "start_time": "2024-07-26T07:36:48.058Z"
   },
   {
    "duration": 27,
    "start_time": "2024-07-26T07:36:48.070Z"
   },
   {
    "duration": 53,
    "start_time": "2024-07-26T07:39:02.038Z"
   },
   {
    "duration": 5,
    "start_time": "2024-07-26T07:44:27.997Z"
   },
   {
    "duration": 101,
    "start_time": "2024-07-26T07:53:48.566Z"
   },
   {
    "duration": 7,
    "start_time": "2024-07-26T07:55:28.886Z"
   },
   {
    "duration": 244,
    "start_time": "2024-07-26T09:17:48.548Z"
   },
   {
    "duration": 11,
    "start_time": "2024-07-26T09:18:27.940Z"
   },
   {
    "duration": 9,
    "start_time": "2024-07-26T09:18:58.329Z"
   },
   {
    "duration": 3,
    "start_time": "2024-07-26T09:19:09.343Z"
   },
   {
    "duration": 12,
    "start_time": "2024-07-26T09:19:18.527Z"
   },
   {
    "duration": 9,
    "start_time": "2024-07-26T09:19:20.561Z"
   },
   {
    "duration": 9,
    "start_time": "2024-07-26T09:19:56.576Z"
   },
   {
    "duration": 1064,
    "start_time": "2024-07-26T09:20:01.959Z"
   },
   {
    "duration": 406,
    "start_time": "2024-07-26T09:20:03.026Z"
   },
   {
    "duration": 450,
    "start_time": "2024-07-26T09:20:03.434Z"
   },
   {
    "duration": 455,
    "start_time": "2024-07-26T09:20:03.886Z"
   },
   {
    "duration": 6,
    "start_time": "2024-07-26T09:20:04.343Z"
   },
   {
    "duration": 8,
    "start_time": "2024-07-26T09:20:04.350Z"
   },
   {
    "duration": 6,
    "start_time": "2024-07-26T09:20:04.359Z"
   },
   {
    "duration": 6,
    "start_time": "2024-07-26T09:20:04.366Z"
   },
   {
    "duration": 5,
    "start_time": "2024-07-26T09:20:04.373Z"
   },
   {
    "duration": 9,
    "start_time": "2024-07-26T09:20:04.380Z"
   },
   {
    "duration": 8,
    "start_time": "2024-07-26T09:20:04.412Z"
   },
   {
    "duration": 6,
    "start_time": "2024-07-26T09:20:04.421Z"
   },
   {
    "duration": 9,
    "start_time": "2024-07-26T09:20:04.429Z"
   },
   {
    "duration": 27,
    "start_time": "2024-07-26T09:20:04.439Z"
   },
   {
    "duration": 62,
    "start_time": "2024-07-26T09:20:04.468Z"
   },
   {
    "duration": 120,
    "start_time": "2024-07-26T09:20:04.531Z"
   },
   {
    "duration": 191,
    "start_time": "2024-07-26T09:20:04.653Z"
   },
   {
    "duration": 8,
    "start_time": "2024-07-26T09:20:04.845Z"
   },
   {
    "duration": 285,
    "start_time": "2024-07-26T09:20:04.855Z"
   },
   {
    "duration": 7,
    "start_time": "2024-07-26T09:20:05.142Z"
   },
   {
    "duration": 762,
    "start_time": "2024-07-26T09:20:05.150Z"
   },
   {
    "duration": 10,
    "start_time": "2024-07-26T09:20:05.914Z"
   },
   {
    "duration": 189,
    "start_time": "2024-07-26T09:20:05.925Z"
   },
   {
    "duration": 26,
    "start_time": "2024-07-26T09:20:06.116Z"
   },
   {
    "duration": 14,
    "start_time": "2024-07-26T09:20:06.143Z"
   },
   {
    "duration": 12,
    "start_time": "2024-07-26T09:20:06.158Z"
   },
   {
    "duration": 201,
    "start_time": "2024-07-26T09:20:06.171Z"
   },
   {
    "duration": 183,
    "start_time": "2024-07-26T09:20:06.376Z"
   },
   {
    "duration": 184,
    "start_time": "2024-07-26T09:20:06.561Z"
   },
   {
    "duration": 151,
    "start_time": "2024-07-26T09:20:06.747Z"
   },
   {
    "duration": 13,
    "start_time": "2024-07-26T09:20:06.900Z"
   },
   {
    "duration": 13,
    "start_time": "2024-07-26T09:20:06.915Z"
   },
   {
    "duration": 7,
    "start_time": "2024-07-26T09:20:06.929Z"
   },
   {
    "duration": 13,
    "start_time": "2024-07-26T09:20:06.938Z"
   },
   {
    "duration": 154,
    "start_time": "2024-07-26T09:20:06.953Z"
   },
   {
    "duration": 17,
    "start_time": "2024-07-26T09:20:07.109Z"
   },
   {
    "duration": 5,
    "start_time": "2024-07-26T09:20:07.127Z"
   },
   {
    "duration": 6,
    "start_time": "2024-07-26T09:20:07.134Z"
   },
   {
    "duration": 18,
    "start_time": "2024-07-26T09:20:07.141Z"
   },
   {
    "duration": 110,
    "start_time": "2024-07-26T09:20:07.161Z"
   },
   {
    "duration": 3,
    "start_time": "2024-07-26T09:22:04.438Z"
   },
   {
    "duration": 10,
    "start_time": "2024-07-26T09:24:34.478Z"
   },
   {
    "duration": 11,
    "start_time": "2024-07-26T09:24:50.944Z"
   },
   {
    "duration": 1202,
    "start_time": "2024-07-26T09:26:46.810Z"
   },
   {
    "duration": 253,
    "start_time": "2024-07-26T09:27:19.505Z"
   },
   {
    "duration": 195,
    "start_time": "2024-07-26T09:30:09.265Z"
   },
   {
    "duration": 155,
    "start_time": "2024-07-26T09:30:22.618Z"
   },
   {
    "duration": 1148,
    "start_time": "2024-07-26T09:31:49.119Z"
   },
   {
    "duration": 396,
    "start_time": "2024-07-26T09:31:50.269Z"
   },
   {
    "duration": 507,
    "start_time": "2024-07-26T09:31:50.666Z"
   },
   {
    "duration": 464,
    "start_time": "2024-07-26T09:31:51.174Z"
   },
   {
    "duration": 8,
    "start_time": "2024-07-26T09:31:51.640Z"
   },
   {
    "duration": 4,
    "start_time": "2024-07-26T09:31:51.649Z"
   },
   {
    "duration": 7,
    "start_time": "2024-07-26T09:31:51.655Z"
   },
   {
    "duration": 5,
    "start_time": "2024-07-26T09:31:51.663Z"
   },
   {
    "duration": 10,
    "start_time": "2024-07-26T09:31:51.670Z"
   },
   {
    "duration": 6,
    "start_time": "2024-07-26T09:31:51.681Z"
   },
   {
    "duration": 38,
    "start_time": "2024-07-26T09:31:51.689Z"
   },
   {
    "duration": 5,
    "start_time": "2024-07-26T09:31:51.729Z"
   },
   {
    "duration": 9,
    "start_time": "2024-07-26T09:31:51.735Z"
   },
   {
    "duration": 24,
    "start_time": "2024-07-26T09:31:51.747Z"
   },
   {
    "duration": 24,
    "start_time": "2024-07-26T09:31:51.772Z"
   },
   {
    "duration": 164,
    "start_time": "2024-07-26T09:31:51.798Z"
   },
   {
    "duration": 193,
    "start_time": "2024-07-26T09:31:51.964Z"
   },
   {
    "duration": 9,
    "start_time": "2024-07-26T09:31:52.159Z"
   },
   {
    "duration": 305,
    "start_time": "2024-07-26T09:31:52.169Z"
   },
   {
    "duration": 7,
    "start_time": "2024-07-26T09:31:52.475Z"
   },
   {
    "duration": 789,
    "start_time": "2024-07-26T09:31:52.483Z"
   },
   {
    "duration": 7,
    "start_time": "2024-07-26T09:31:53.273Z"
   },
   {
    "duration": 186,
    "start_time": "2024-07-26T09:31:53.282Z"
   },
   {
    "duration": 21,
    "start_time": "2024-07-26T09:31:53.469Z"
   },
   {
    "duration": 41,
    "start_time": "2024-07-26T09:31:53.491Z"
   },
   {
    "duration": 12,
    "start_time": "2024-07-26T09:31:53.537Z"
   },
   {
    "duration": 190,
    "start_time": "2024-07-26T09:31:53.551Z"
   },
   {
    "duration": 188,
    "start_time": "2024-07-26T09:31:53.742Z"
   },
   {
    "duration": 174,
    "start_time": "2024-07-26T09:31:53.934Z"
   },
   {
    "duration": 166,
    "start_time": "2024-07-26T09:31:54.117Z"
   },
   {
    "duration": 7,
    "start_time": "2024-07-26T09:31:54.285Z"
   },
   {
    "duration": 19,
    "start_time": "2024-07-26T09:31:54.294Z"
   },
   {
    "duration": 13,
    "start_time": "2024-07-26T09:31:54.314Z"
   },
   {
    "duration": 9,
    "start_time": "2024-07-26T09:31:54.329Z"
   },
   {
    "duration": 133,
    "start_time": "2024-07-26T09:31:54.339Z"
   },
   {
    "duration": 10,
    "start_time": "2024-07-26T09:31:54.473Z"
   },
   {
    "duration": 86,
    "start_time": "2024-07-26T09:31:54.485Z"
   },
   {
    "duration": 19,
    "start_time": "2024-07-26T09:31:54.572Z"
   },
   {
    "duration": 9,
    "start_time": "2024-07-26T09:31:54.593Z"
   },
   {
    "duration": 1030,
    "start_time": "2024-07-26T09:45:24.005Z"
   },
   {
    "duration": 371,
    "start_time": "2024-07-26T09:45:25.036Z"
   },
   {
    "duration": 448,
    "start_time": "2024-07-26T09:45:25.408Z"
   },
   {
    "duration": 415,
    "start_time": "2024-07-26T09:45:25.858Z"
   },
   {
    "duration": 7,
    "start_time": "2024-07-26T09:45:26.275Z"
   },
   {
    "duration": 12,
    "start_time": "2024-07-26T09:45:26.283Z"
   },
   {
    "duration": 12,
    "start_time": "2024-07-26T09:45:26.296Z"
   },
   {
    "duration": 13,
    "start_time": "2024-07-26T09:45:26.310Z"
   },
   {
    "duration": 14,
    "start_time": "2024-07-26T09:45:26.324Z"
   },
   {
    "duration": 5,
    "start_time": "2024-07-26T09:45:26.339Z"
   },
   {
    "duration": 7,
    "start_time": "2024-07-26T09:45:26.345Z"
   },
   {
    "duration": 4,
    "start_time": "2024-07-26T09:45:26.353Z"
   },
   {
    "duration": 5,
    "start_time": "2024-07-26T09:45:26.359Z"
   },
   {
    "duration": 4,
    "start_time": "2024-07-26T09:45:26.366Z"
   },
   {
    "duration": 14,
    "start_time": "2024-07-26T09:45:26.371Z"
   },
   {
    "duration": 130,
    "start_time": "2024-07-26T09:45:26.387Z"
   },
   {
    "duration": 166,
    "start_time": "2024-07-26T09:45:26.518Z"
   },
   {
    "duration": 7,
    "start_time": "2024-07-26T09:45:26.685Z"
   },
   {
    "duration": 248,
    "start_time": "2024-07-26T09:45:26.693Z"
   },
   {
    "duration": 7,
    "start_time": "2024-07-26T09:45:26.942Z"
   },
   {
    "duration": 679,
    "start_time": "2024-07-26T09:45:26.950Z"
   },
   {
    "duration": 7,
    "start_time": "2024-07-26T09:45:27.630Z"
   },
   {
    "duration": 170,
    "start_time": "2024-07-26T09:45:27.638Z"
   },
   {
    "duration": 20,
    "start_time": "2024-07-26T09:45:27.811Z"
   },
   {
    "duration": 13,
    "start_time": "2024-07-26T09:45:27.832Z"
   },
   {
    "duration": 13,
    "start_time": "2024-07-26T09:45:27.846Z"
   },
   {
    "duration": 187,
    "start_time": "2024-07-26T09:45:27.860Z"
   },
   {
    "duration": 169,
    "start_time": "2024-07-26T09:45:28.048Z"
   },
   {
    "duration": 169,
    "start_time": "2024-07-26T09:45:28.219Z"
   },
   {
    "duration": 169,
    "start_time": "2024-07-26T09:45:28.390Z"
   },
   {
    "duration": 7,
    "start_time": "2024-07-26T09:45:28.560Z"
   },
   {
    "duration": 6,
    "start_time": "2024-07-26T09:45:28.568Z"
   },
   {
    "duration": 57,
    "start_time": "2024-07-26T09:45:28.575Z"
   },
   {
    "duration": 7,
    "start_time": "2024-07-26T09:45:28.634Z"
   },
   {
    "duration": 112,
    "start_time": "2024-07-26T09:45:28.643Z"
   },
   {
    "duration": 10,
    "start_time": "2024-07-26T09:45:28.757Z"
   },
   {
    "duration": 5,
    "start_time": "2024-07-26T09:45:28.769Z"
   },
   {
    "duration": 5,
    "start_time": "2024-07-26T09:45:28.775Z"
   },
   {
    "duration": 31,
    "start_time": "2024-07-26T09:45:28.781Z"
   },
   {
    "duration": 174,
    "start_time": "2024-07-26T09:45:52.699Z"
   },
   {
    "duration": 175,
    "start_time": "2024-07-26T09:46:09.587Z"
   },
   {
    "duration": 184,
    "start_time": "2024-07-26T09:46:16.931Z"
   },
   {
    "duration": 613,
    "start_time": "2024-07-26T09:47:14.138Z"
   },
   {
    "duration": 177,
    "start_time": "2024-07-26T09:48:36.733Z"
   },
   {
    "duration": 174,
    "start_time": "2024-07-26T09:48:47.186Z"
   },
   {
    "duration": 224,
    "start_time": "2024-07-26T09:49:08.817Z"
   },
   {
    "duration": 156,
    "start_time": "2024-07-26T09:49:18.659Z"
   },
   {
    "duration": 39,
    "start_time": "2024-07-26T09:50:26.563Z"
   },
   {
    "duration": 1058,
    "start_time": "2024-07-26T09:51:12.478Z"
   },
   {
    "duration": 379,
    "start_time": "2024-07-26T09:51:13.538Z"
   },
   {
    "duration": 452,
    "start_time": "2024-07-26T09:51:13.919Z"
   },
   {
    "duration": 423,
    "start_time": "2024-07-26T09:51:14.374Z"
   },
   {
    "duration": 6,
    "start_time": "2024-07-26T09:51:14.799Z"
   },
   {
    "duration": 23,
    "start_time": "2024-07-26T09:51:14.812Z"
   },
   {
    "duration": 31,
    "start_time": "2024-07-26T09:51:14.836Z"
   },
   {
    "duration": 37,
    "start_time": "2024-07-26T09:51:14.868Z"
   },
   {
    "duration": 30,
    "start_time": "2024-07-26T09:51:14.907Z"
   },
   {
    "duration": 29,
    "start_time": "2024-07-26T09:51:14.940Z"
   },
   {
    "duration": 33,
    "start_time": "2024-07-26T09:51:14.970Z"
   },
   {
    "duration": 12,
    "start_time": "2024-07-26T09:51:15.005Z"
   },
   {
    "duration": 39,
    "start_time": "2024-07-26T09:51:15.018Z"
   },
   {
    "duration": 24,
    "start_time": "2024-07-26T09:51:15.059Z"
   },
   {
    "duration": 51,
    "start_time": "2024-07-26T09:51:15.084Z"
   },
   {
    "duration": 122,
    "start_time": "2024-07-26T09:51:15.136Z"
   },
   {
    "duration": 175,
    "start_time": "2024-07-26T09:51:15.259Z"
   },
   {
    "duration": 7,
    "start_time": "2024-07-26T09:51:15.436Z"
   },
   {
    "duration": 268,
    "start_time": "2024-07-26T09:51:15.445Z"
   },
   {
    "duration": 7,
    "start_time": "2024-07-26T09:51:15.715Z"
   },
   {
    "duration": 679,
    "start_time": "2024-07-26T09:51:15.723Z"
   },
   {
    "duration": 9,
    "start_time": "2024-07-26T09:51:16.404Z"
   },
   {
    "duration": 170,
    "start_time": "2024-07-26T09:51:16.414Z"
   },
   {
    "duration": 28,
    "start_time": "2024-07-26T09:51:16.586Z"
   },
   {
    "duration": 82,
    "start_time": "2024-07-26T09:51:16.615Z"
   },
   {
    "duration": 12,
    "start_time": "2024-07-26T09:51:16.698Z"
   },
   {
    "duration": 182,
    "start_time": "2024-07-26T09:51:16.712Z"
   },
   {
    "duration": 208,
    "start_time": "2024-07-26T09:51:16.898Z"
   },
   {
    "duration": 184,
    "start_time": "2024-07-26T09:51:17.108Z"
   },
   {
    "duration": 230,
    "start_time": "2024-07-26T09:51:17.293Z"
   },
   {
    "duration": 7,
    "start_time": "2024-07-26T09:51:17.524Z"
   },
   {
    "duration": 13,
    "start_time": "2024-07-26T09:51:17.533Z"
   },
   {
    "duration": 19,
    "start_time": "2024-07-26T09:51:17.547Z"
   },
   {
    "duration": 29,
    "start_time": "2024-07-26T09:51:17.567Z"
   },
   {
    "duration": 42,
    "start_time": "2024-07-26T09:51:17.597Z"
   },
   {
    "duration": 12,
    "start_time": "2024-07-26T09:51:17.640Z"
   },
   {
    "duration": 7,
    "start_time": "2024-07-26T09:51:17.653Z"
   },
   {
    "duration": 24,
    "start_time": "2024-07-26T09:51:17.661Z"
   },
   {
    "duration": 7,
    "start_time": "2024-07-26T09:51:17.686Z"
   },
   {
    "duration": 170,
    "start_time": "2024-07-26T10:01:53.028Z"
   },
   {
    "duration": 166,
    "start_time": "2024-07-26T10:02:01.613Z"
   },
   {
    "duration": 172,
    "start_time": "2024-07-26T10:02:13.038Z"
   },
   {
    "duration": 167,
    "start_time": "2024-07-26T10:02:26.638Z"
   },
   {
    "duration": 99,
    "start_time": "2024-07-26T10:14:21.657Z"
   },
   {
    "duration": 985,
    "start_time": "2024-07-26T11:42:54.646Z"
   },
   {
    "duration": 387,
    "start_time": "2024-07-26T11:42:55.632Z"
   },
   {
    "duration": 431,
    "start_time": "2024-07-26T11:42:56.020Z"
   },
   {
    "duration": 409,
    "start_time": "2024-07-26T11:42:56.453Z"
   },
   {
    "duration": 6,
    "start_time": "2024-07-26T11:42:56.864Z"
   },
   {
    "duration": 5,
    "start_time": "2024-07-26T11:42:56.871Z"
   },
   {
    "duration": 17,
    "start_time": "2024-07-26T11:42:56.877Z"
   },
   {
    "duration": 16,
    "start_time": "2024-07-26T11:42:56.895Z"
   },
   {
    "duration": 5,
    "start_time": "2024-07-26T11:42:56.912Z"
   },
   {
    "duration": 5,
    "start_time": "2024-07-26T11:42:56.919Z"
   },
   {
    "duration": 11,
    "start_time": "2024-07-26T11:42:56.925Z"
   },
   {
    "duration": 4,
    "start_time": "2024-07-26T11:42:56.937Z"
   },
   {
    "duration": 5,
    "start_time": "2024-07-26T11:42:56.942Z"
   },
   {
    "duration": 4,
    "start_time": "2024-07-26T11:42:56.949Z"
   },
   {
    "duration": 30,
    "start_time": "2024-07-26T11:42:56.954Z"
   },
   {
    "duration": 179,
    "start_time": "2024-07-26T11:42:56.986Z"
   },
   {
    "duration": 173,
    "start_time": "2024-07-26T11:42:57.167Z"
   },
   {
    "duration": 8,
    "start_time": "2024-07-26T11:42:57.341Z"
   },
   {
    "duration": 262,
    "start_time": "2024-07-26T11:42:57.350Z"
   },
   {
    "duration": 7,
    "start_time": "2024-07-26T11:42:57.613Z"
   },
   {
    "duration": 651,
    "start_time": "2024-07-26T11:42:57.622Z"
   },
   {
    "duration": 7,
    "start_time": "2024-07-26T11:42:58.275Z"
   },
   {
    "duration": 229,
    "start_time": "2024-07-26T11:42:58.283Z"
   },
   {
    "duration": 20,
    "start_time": "2024-07-26T11:42:58.513Z"
   },
   {
    "duration": 50,
    "start_time": "2024-07-26T11:42:58.535Z"
   },
   {
    "duration": 11,
    "start_time": "2024-07-26T11:42:58.587Z"
   },
   {
    "duration": 175,
    "start_time": "2024-07-26T11:42:58.599Z"
   },
   {
    "duration": 183,
    "start_time": "2024-07-26T11:42:58.776Z"
   },
   {
    "duration": 174,
    "start_time": "2024-07-26T11:42:58.960Z"
   },
   {
    "duration": 157,
    "start_time": "2024-07-26T11:42:59.136Z"
   },
   {
    "duration": 7,
    "start_time": "2024-07-26T11:42:59.295Z"
   },
   {
    "duration": 6,
    "start_time": "2024-07-26T11:42:59.312Z"
   },
   {
    "duration": 6,
    "start_time": "2024-07-26T11:42:59.320Z"
   },
   {
    "duration": 6,
    "start_time": "2024-07-26T11:42:59.327Z"
   },
   {
    "duration": 134,
    "start_time": "2024-07-26T11:42:59.334Z"
   },
   {
    "duration": 11,
    "start_time": "2024-07-26T11:42:59.469Z"
   },
   {
    "duration": 5,
    "start_time": "2024-07-26T11:42:59.482Z"
   },
   {
    "duration": 24,
    "start_time": "2024-07-26T11:42:59.488Z"
   },
   {
    "duration": 8,
    "start_time": "2024-07-26T11:42:59.514Z"
   },
   {
    "duration": 1009,
    "start_time": "2024-07-26T11:43:42.023Z"
   },
   {
    "duration": 388,
    "start_time": "2024-07-26T11:43:43.033Z"
   },
   {
    "duration": 438,
    "start_time": "2024-07-26T11:43:43.422Z"
   },
   {
    "duration": 420,
    "start_time": "2024-07-26T11:43:43.861Z"
   },
   {
    "duration": 7,
    "start_time": "2024-07-26T11:43:44.283Z"
   },
   {
    "duration": 63,
    "start_time": "2024-07-26T11:43:44.291Z"
   },
   {
    "duration": 5,
    "start_time": "2024-07-26T11:43:44.355Z"
   },
   {
    "duration": 5,
    "start_time": "2024-07-26T11:43:44.362Z"
   },
   {
    "duration": 6,
    "start_time": "2024-07-26T11:43:44.369Z"
   },
   {
    "duration": 6,
    "start_time": "2024-07-26T11:43:44.376Z"
   },
   {
    "duration": 7,
    "start_time": "2024-07-26T11:43:44.383Z"
   },
   {
    "duration": 6,
    "start_time": "2024-07-26T11:43:44.391Z"
   },
   {
    "duration": 6,
    "start_time": "2024-07-26T11:43:44.398Z"
   },
   {
    "duration": 7,
    "start_time": "2024-07-26T11:43:44.406Z"
   },
   {
    "duration": 11,
    "start_time": "2024-07-26T11:43:44.415Z"
   },
   {
    "duration": 128,
    "start_time": "2024-07-26T11:43:44.427Z"
   },
   {
    "duration": 185,
    "start_time": "2024-07-26T11:43:44.557Z"
   },
   {
    "duration": 8,
    "start_time": "2024-07-26T11:43:44.743Z"
   },
   {
    "duration": 261,
    "start_time": "2024-07-26T11:43:44.753Z"
   },
   {
    "duration": 7,
    "start_time": "2024-07-26T11:43:45.016Z"
   },
   {
    "duration": 683,
    "start_time": "2024-07-26T11:43:45.024Z"
   },
   {
    "duration": 7,
    "start_time": "2024-07-26T11:43:45.712Z"
   },
   {
    "duration": 182,
    "start_time": "2024-07-26T11:43:45.720Z"
   },
   {
    "duration": 30,
    "start_time": "2024-07-26T11:43:45.903Z"
   },
   {
    "duration": 15,
    "start_time": "2024-07-26T11:43:45.935Z"
   },
   {
    "duration": 13,
    "start_time": "2024-07-26T11:43:45.952Z"
   },
   {
    "duration": 200,
    "start_time": "2024-07-26T11:43:45.967Z"
   },
   {
    "duration": 208,
    "start_time": "2024-07-26T11:43:46.168Z"
   },
   {
    "duration": 180,
    "start_time": "2024-07-26T11:43:46.378Z"
   },
   {
    "duration": 170,
    "start_time": "2024-07-26T11:43:46.560Z"
   },
   {
    "duration": 7,
    "start_time": "2024-07-26T11:43:46.732Z"
   },
   {
    "duration": 8,
    "start_time": "2024-07-26T11:43:46.741Z"
   },
   {
    "duration": 6,
    "start_time": "2024-07-26T11:43:46.750Z"
   },
   {
    "duration": 9,
    "start_time": "2024-07-26T11:43:46.758Z"
   },
   {
    "duration": 144,
    "start_time": "2024-07-26T11:43:46.769Z"
   },
   {
    "duration": 11,
    "start_time": "2024-07-26T11:43:46.915Z"
   },
   {
    "duration": 4,
    "start_time": "2024-07-26T11:43:46.927Z"
   },
   {
    "duration": 5,
    "start_time": "2024-07-26T11:43:46.932Z"
   },
   {
    "duration": 8,
    "start_time": "2024-07-26T11:43:46.938Z"
   },
   {
    "duration": 1048,
    "start_time": "2024-07-26T11:44:05.388Z"
   },
   {
    "duration": 376,
    "start_time": "2024-07-26T11:44:06.438Z"
   },
   {
    "duration": 482,
    "start_time": "2024-07-26T11:44:06.815Z"
   },
   {
    "duration": 422,
    "start_time": "2024-07-26T11:44:07.299Z"
   },
   {
    "duration": 7,
    "start_time": "2024-07-26T11:44:07.722Z"
   },
   {
    "duration": 12,
    "start_time": "2024-07-26T11:44:07.730Z"
   },
   {
    "duration": 10,
    "start_time": "2024-07-26T11:44:07.744Z"
   },
   {
    "duration": 9,
    "start_time": "2024-07-26T11:44:07.755Z"
   },
   {
    "duration": 15,
    "start_time": "2024-07-26T11:44:07.765Z"
   },
   {
    "duration": 15,
    "start_time": "2024-07-26T11:44:07.782Z"
   },
   {
    "duration": 7,
    "start_time": "2024-07-26T11:44:07.798Z"
   },
   {
    "duration": 13,
    "start_time": "2024-07-26T11:44:07.806Z"
   },
   {
    "duration": 16,
    "start_time": "2024-07-26T11:44:07.820Z"
   },
   {
    "duration": 7,
    "start_time": "2024-07-26T11:44:07.837Z"
   },
   {
    "duration": 11,
    "start_time": "2024-07-26T11:44:07.846Z"
   },
   {
    "duration": 118,
    "start_time": "2024-07-26T11:44:07.859Z"
   },
   {
    "duration": 177,
    "start_time": "2024-07-26T11:44:07.979Z"
   },
   {
    "duration": 8,
    "start_time": "2024-07-26T11:44:08.157Z"
   },
   {
    "duration": 292,
    "start_time": "2024-07-26T11:44:08.166Z"
   },
   {
    "duration": 7,
    "start_time": "2024-07-26T11:44:08.460Z"
   },
   {
    "duration": 690,
    "start_time": "2024-07-26T11:44:08.469Z"
   },
   {
    "duration": 7,
    "start_time": "2024-07-26T11:44:09.161Z"
   },
   {
    "duration": 175,
    "start_time": "2024-07-26T11:44:09.169Z"
   },
   {
    "duration": 21,
    "start_time": "2024-07-26T11:44:09.346Z"
   },
   {
    "duration": 13,
    "start_time": "2024-07-26T11:44:09.368Z"
   },
   {
    "duration": 29,
    "start_time": "2024-07-26T11:44:09.382Z"
   },
   {
    "duration": 197,
    "start_time": "2024-07-26T11:44:09.413Z"
   },
   {
    "duration": 177,
    "start_time": "2024-07-26T11:44:09.614Z"
   },
   {
    "duration": 172,
    "start_time": "2024-07-26T11:44:09.793Z"
   },
   {
    "duration": 226,
    "start_time": "2024-07-26T11:44:09.967Z"
   },
   {
    "duration": 7,
    "start_time": "2024-07-26T11:44:10.194Z"
   },
   {
    "duration": 17,
    "start_time": "2024-07-26T11:44:10.202Z"
   },
   {
    "duration": 10,
    "start_time": "2024-07-26T11:44:10.220Z"
   },
   {
    "duration": 8,
    "start_time": "2024-07-26T11:44:10.231Z"
   },
   {
    "duration": 61,
    "start_time": "2024-07-26T11:44:10.240Z"
   },
   {
    "duration": 39,
    "start_time": "2024-07-26T11:44:10.302Z"
   },
   {
    "duration": 13,
    "start_time": "2024-07-26T11:44:10.342Z"
   },
   {
    "duration": 8,
    "start_time": "2024-07-26T11:44:10.357Z"
   },
   {
    "duration": 8,
    "start_time": "2024-07-26T11:44:10.367Z"
   },
   {
    "duration": 1008,
    "start_time": "2024-07-26T11:44:33.929Z"
   },
   {
    "duration": 368,
    "start_time": "2024-07-26T11:44:34.938Z"
   },
   {
    "duration": 442,
    "start_time": "2024-07-26T11:44:35.307Z"
   },
   {
    "duration": 429,
    "start_time": "2024-07-26T11:44:35.750Z"
   },
   {
    "duration": 6,
    "start_time": "2024-07-26T11:44:36.181Z"
   },
   {
    "duration": 13,
    "start_time": "2024-07-26T11:44:36.189Z"
   },
   {
    "duration": 9,
    "start_time": "2024-07-26T11:44:36.203Z"
   },
   {
    "duration": 23,
    "start_time": "2024-07-26T11:44:36.213Z"
   },
   {
    "duration": 14,
    "start_time": "2024-07-26T11:44:36.237Z"
   },
   {
    "duration": 11,
    "start_time": "2024-07-26T11:44:36.253Z"
   },
   {
    "duration": 23,
    "start_time": "2024-07-26T11:44:36.266Z"
   },
   {
    "duration": 42,
    "start_time": "2024-07-26T11:44:36.291Z"
   },
   {
    "duration": 13,
    "start_time": "2024-07-26T11:44:36.335Z"
   },
   {
    "duration": 19,
    "start_time": "2024-07-26T11:44:36.349Z"
   },
   {
    "duration": 19,
    "start_time": "2024-07-26T11:44:36.369Z"
   },
   {
    "duration": 122,
    "start_time": "2024-07-26T11:44:36.389Z"
   },
   {
    "duration": 169,
    "start_time": "2024-07-26T11:44:36.513Z"
   },
   {
    "duration": 9,
    "start_time": "2024-07-26T11:44:36.683Z"
   },
   {
    "duration": 279,
    "start_time": "2024-07-26T11:44:36.693Z"
   },
   {
    "duration": 8,
    "start_time": "2024-07-26T11:44:36.974Z"
   },
   {
    "duration": 695,
    "start_time": "2024-07-26T11:44:36.983Z"
   },
   {
    "duration": 8,
    "start_time": "2024-07-26T11:44:37.679Z"
   },
   {
    "duration": 175,
    "start_time": "2024-07-26T11:44:37.688Z"
   },
   {
    "duration": 22,
    "start_time": "2024-07-26T11:44:37.865Z"
   },
   {
    "duration": 30,
    "start_time": "2024-07-26T11:44:37.889Z"
   },
   {
    "duration": 12,
    "start_time": "2024-07-26T11:44:37.920Z"
   },
   {
    "duration": 212,
    "start_time": "2024-07-26T11:44:37.934Z"
   },
   {
    "duration": 179,
    "start_time": "2024-07-26T11:44:38.149Z"
   },
   {
    "duration": 172,
    "start_time": "2024-07-26T11:44:38.330Z"
   },
   {
    "duration": 236,
    "start_time": "2024-07-26T11:44:38.503Z"
   },
   {
    "duration": 7,
    "start_time": "2024-07-26T11:44:38.740Z"
   },
   {
    "duration": 10,
    "start_time": "2024-07-26T11:44:38.748Z"
   },
   {
    "duration": 10,
    "start_time": "2024-07-26T11:44:38.759Z"
   },
   {
    "duration": 6,
    "start_time": "2024-07-26T11:44:38.771Z"
   },
   {
    "duration": 57,
    "start_time": "2024-07-26T11:44:38.778Z"
   },
   {
    "duration": 10,
    "start_time": "2024-07-26T11:44:38.837Z"
   },
   {
    "duration": 8,
    "start_time": "2024-07-26T11:44:38.848Z"
   },
   {
    "duration": 6,
    "start_time": "2024-07-26T11:44:38.857Z"
   },
   {
    "duration": 11,
    "start_time": "2024-07-26T11:44:38.864Z"
   },
   {
    "duration": 38,
    "start_time": "2024-07-26T11:49:01.398Z"
   },
   {
    "duration": 1013,
    "start_time": "2024-07-26T11:50:19.632Z"
   },
   {
    "duration": 385,
    "start_time": "2024-07-26T11:50:20.647Z"
   },
   {
    "duration": 449,
    "start_time": "2024-07-26T11:50:21.033Z"
   },
   {
    "duration": 426,
    "start_time": "2024-07-26T11:50:21.484Z"
   },
   {
    "duration": 7,
    "start_time": "2024-07-26T11:50:21.912Z"
   },
   {
    "duration": 11,
    "start_time": "2024-07-26T11:50:21.920Z"
   },
   {
    "duration": 7,
    "start_time": "2024-07-26T11:50:21.932Z"
   },
   {
    "duration": 5,
    "start_time": "2024-07-26T11:50:21.940Z"
   },
   {
    "duration": 6,
    "start_time": "2024-07-26T11:50:21.946Z"
   },
   {
    "duration": 5,
    "start_time": "2024-07-26T11:50:21.953Z"
   },
   {
    "duration": 10,
    "start_time": "2024-07-26T11:50:21.959Z"
   },
   {
    "duration": 4,
    "start_time": "2024-07-26T11:50:21.970Z"
   },
   {
    "duration": 4,
    "start_time": "2024-07-26T11:50:21.976Z"
   },
   {
    "duration": 31,
    "start_time": "2024-07-26T11:50:21.983Z"
   },
   {
    "duration": 13,
    "start_time": "2024-07-26T11:50:22.015Z"
   },
   {
    "duration": 137,
    "start_time": "2024-07-26T11:50:22.029Z"
   },
   {
    "duration": 177,
    "start_time": "2024-07-26T11:50:22.167Z"
   },
   {
    "duration": 7,
    "start_time": "2024-07-26T11:50:22.346Z"
   },
   {
    "duration": 264,
    "start_time": "2024-07-26T11:50:22.354Z"
   },
   {
    "duration": 7,
    "start_time": "2024-07-26T11:50:22.620Z"
   },
   {
    "duration": 690,
    "start_time": "2024-07-26T11:50:22.628Z"
   },
   {
    "duration": 7,
    "start_time": "2024-07-26T11:50:23.319Z"
   },
   {
    "duration": 173,
    "start_time": "2024-07-26T11:50:23.328Z"
   },
   {
    "duration": 28,
    "start_time": "2024-07-26T11:50:23.502Z"
   },
   {
    "duration": 14,
    "start_time": "2024-07-26T11:50:23.531Z"
   },
   {
    "duration": 13,
    "start_time": "2024-07-26T11:50:23.546Z"
   },
   {
    "duration": 200,
    "start_time": "2024-07-26T11:50:23.560Z"
   },
   {
    "duration": 186,
    "start_time": "2024-07-26T11:50:23.762Z"
   },
   {
    "duration": 177,
    "start_time": "2024-07-26T11:50:23.949Z"
   },
   {
    "duration": 176,
    "start_time": "2024-07-26T11:50:24.127Z"
   },
   {
    "duration": 10,
    "start_time": "2024-07-26T11:50:24.304Z"
   },
   {
    "duration": 69,
    "start_time": "2024-07-26T11:50:24.315Z"
   },
   {
    "duration": 9,
    "start_time": "2024-07-26T11:50:24.386Z"
   },
   {
    "duration": 7,
    "start_time": "2024-07-26T11:50:24.396Z"
   },
   {
    "duration": 97,
    "start_time": "2024-07-26T11:50:24.404Z"
   },
   {
    "duration": 0,
    "start_time": "2024-07-26T11:50:24.503Z"
   },
   {
    "duration": 0,
    "start_time": "2024-07-26T11:50:24.504Z"
   },
   {
    "duration": 0,
    "start_time": "2024-07-26T11:50:24.511Z"
   },
   {
    "duration": 0,
    "start_time": "2024-07-26T11:50:24.512Z"
   },
   {
    "duration": 39,
    "start_time": "2024-07-26T11:51:18.888Z"
   },
   {
    "duration": 1042,
    "start_time": "2024-07-26T11:51:56.495Z"
   },
   {
    "duration": 365,
    "start_time": "2024-07-26T11:51:57.539Z"
   },
   {
    "duration": 436,
    "start_time": "2024-07-26T11:51:57.905Z"
   },
   {
    "duration": 429,
    "start_time": "2024-07-26T11:51:58.344Z"
   },
   {
    "duration": 7,
    "start_time": "2024-07-26T11:51:58.774Z"
   },
   {
    "duration": 7,
    "start_time": "2024-07-26T11:51:58.782Z"
   },
   {
    "duration": 30,
    "start_time": "2024-07-26T11:51:58.790Z"
   },
   {
    "duration": 45,
    "start_time": "2024-07-26T11:51:58.821Z"
   },
   {
    "duration": 19,
    "start_time": "2024-07-26T11:51:58.867Z"
   },
   {
    "duration": 4,
    "start_time": "2024-07-26T11:51:58.889Z"
   },
   {
    "duration": 25,
    "start_time": "2024-07-26T11:51:58.895Z"
   },
   {
    "duration": 4,
    "start_time": "2024-07-26T11:51:58.921Z"
   },
   {
    "duration": 7,
    "start_time": "2024-07-26T11:51:58.926Z"
   },
   {
    "duration": 4,
    "start_time": "2024-07-26T11:51:58.934Z"
   },
   {
    "duration": 36,
    "start_time": "2024-07-26T11:51:58.940Z"
   },
   {
    "duration": 116,
    "start_time": "2024-07-26T11:51:58.977Z"
   },
   {
    "duration": 176,
    "start_time": "2024-07-26T11:51:59.095Z"
   },
   {
    "duration": 8,
    "start_time": "2024-07-26T11:51:59.272Z"
   },
   {
    "duration": 269,
    "start_time": "2024-07-26T11:51:59.282Z"
   },
   {
    "duration": 8,
    "start_time": "2024-07-26T11:51:59.552Z"
   },
   {
    "duration": 666,
    "start_time": "2024-07-26T11:51:59.561Z"
   },
   {
    "duration": 7,
    "start_time": "2024-07-26T11:52:00.229Z"
   },
   {
    "duration": 385,
    "start_time": "2024-07-26T11:52:00.237Z"
   },
   {
    "duration": 100,
    "start_time": "2024-07-26T11:52:00.624Z"
   },
   {
    "duration": 73,
    "start_time": "2024-07-26T11:52:00.725Z"
   },
   {
    "duration": 46,
    "start_time": "2024-07-26T11:52:00.800Z"
   },
   {
    "duration": 227,
    "start_time": "2024-07-26T11:52:00.848Z"
   },
   {
    "duration": 201,
    "start_time": "2024-07-26T11:52:01.078Z"
   },
   {
    "duration": 174,
    "start_time": "2024-07-26T11:52:01.281Z"
   },
   {
    "duration": 238,
    "start_time": "2024-07-26T11:52:01.456Z"
   },
   {
    "duration": 8,
    "start_time": "2024-07-26T11:52:01.695Z"
   },
   {
    "duration": 7,
    "start_time": "2024-07-26T11:52:01.712Z"
   },
   {
    "duration": 6,
    "start_time": "2024-07-26T11:52:01.720Z"
   },
   {
    "duration": 17,
    "start_time": "2024-07-26T11:52:01.728Z"
   },
   {
    "duration": 39,
    "start_time": "2024-07-26T11:52:01.746Z"
   },
   {
    "duration": 106,
    "start_time": "2024-07-26T11:52:01.786Z"
   },
   {
    "duration": 0,
    "start_time": "2024-07-26T11:52:01.894Z"
   },
   {
    "duration": 0,
    "start_time": "2024-07-26T11:52:01.895Z"
   },
   {
    "duration": 0,
    "start_time": "2024-07-26T11:52:01.896Z"
   },
   {
    "duration": 1050,
    "start_time": "2024-07-26T11:52:25.789Z"
   },
   {
    "duration": 427,
    "start_time": "2024-07-26T11:52:26.841Z"
   },
   {
    "duration": 440,
    "start_time": "2024-07-26T11:52:27.269Z"
   },
   {
    "duration": 421,
    "start_time": "2024-07-26T11:52:27.712Z"
   },
   {
    "duration": 7,
    "start_time": "2024-07-26T11:52:28.135Z"
   },
   {
    "duration": 6,
    "start_time": "2024-07-26T11:52:28.143Z"
   },
   {
    "duration": 5,
    "start_time": "2024-07-26T11:52:28.150Z"
   },
   {
    "duration": 5,
    "start_time": "2024-07-26T11:52:28.157Z"
   },
   {
    "duration": 5,
    "start_time": "2024-07-26T11:52:28.163Z"
   },
   {
    "duration": 5,
    "start_time": "2024-07-26T11:52:28.170Z"
   },
   {
    "duration": 41,
    "start_time": "2024-07-26T11:52:28.176Z"
   },
   {
    "duration": 4,
    "start_time": "2024-07-26T11:52:28.219Z"
   },
   {
    "duration": 6,
    "start_time": "2024-07-26T11:52:28.224Z"
   },
   {
    "duration": 4,
    "start_time": "2024-07-26T11:52:28.231Z"
   },
   {
    "duration": 11,
    "start_time": "2024-07-26T11:52:28.236Z"
   },
   {
    "duration": 147,
    "start_time": "2024-07-26T11:52:28.249Z"
   },
   {
    "duration": 185,
    "start_time": "2024-07-26T11:52:28.398Z"
   },
   {
    "duration": 8,
    "start_time": "2024-07-26T11:52:28.585Z"
   },
   {
    "duration": 265,
    "start_time": "2024-07-26T11:52:28.595Z"
   },
   {
    "duration": 7,
    "start_time": "2024-07-26T11:52:28.861Z"
   },
   {
    "duration": 678,
    "start_time": "2024-07-26T11:52:28.870Z"
   },
   {
    "duration": 8,
    "start_time": "2024-07-26T11:52:29.550Z"
   },
   {
    "duration": 189,
    "start_time": "2024-07-26T11:52:29.559Z"
   },
   {
    "duration": 21,
    "start_time": "2024-07-26T11:52:29.750Z"
   },
   {
    "duration": 14,
    "start_time": "2024-07-26T11:52:29.772Z"
   },
   {
    "duration": 32,
    "start_time": "2024-07-26T11:52:29.787Z"
   },
   {
    "duration": 191,
    "start_time": "2024-07-26T11:52:29.821Z"
   },
   {
    "duration": 193,
    "start_time": "2024-07-26T11:52:30.015Z"
   },
   {
    "duration": 175,
    "start_time": "2024-07-26T11:52:30.212Z"
   },
   {
    "duration": 244,
    "start_time": "2024-07-26T11:52:30.388Z"
   },
   {
    "duration": 8,
    "start_time": "2024-07-26T11:52:30.633Z"
   },
   {
    "duration": 40,
    "start_time": "2024-07-26T11:52:30.643Z"
   },
   {
    "duration": 90,
    "start_time": "2024-07-26T11:52:30.685Z"
   },
   {
    "duration": 51,
    "start_time": "2024-07-26T11:52:30.776Z"
   },
   {
    "duration": 111,
    "start_time": "2024-07-26T11:52:30.829Z"
   },
   {
    "duration": 12,
    "start_time": "2024-07-26T11:52:30.941Z"
   },
   {
    "duration": 33,
    "start_time": "2024-07-26T11:52:30.954Z"
   },
   {
    "duration": 109,
    "start_time": "2024-07-26T11:52:30.988Z"
   },
   {
    "duration": 137,
    "start_time": "2024-07-26T11:52:31.099Z"
   },
   {
    "duration": 1104,
    "start_time": "2024-07-26T11:52:47.787Z"
   },
   {
    "duration": 385,
    "start_time": "2024-07-26T11:52:48.894Z"
   },
   {
    "duration": 508,
    "start_time": "2024-07-26T11:52:49.280Z"
   },
   {
    "duration": 447,
    "start_time": "2024-07-26T11:52:49.790Z"
   },
   {
    "duration": 7,
    "start_time": "2024-07-26T11:52:50.240Z"
   },
   {
    "duration": 5,
    "start_time": "2024-07-26T11:52:50.249Z"
   },
   {
    "duration": 25,
    "start_time": "2024-07-26T11:52:50.255Z"
   },
   {
    "duration": 12,
    "start_time": "2024-07-26T11:52:50.282Z"
   },
   {
    "duration": 11,
    "start_time": "2024-07-26T11:52:50.296Z"
   },
   {
    "duration": 6,
    "start_time": "2024-07-26T11:52:50.309Z"
   },
   {
    "duration": 10,
    "start_time": "2024-07-26T11:52:50.316Z"
   },
   {
    "duration": 5,
    "start_time": "2024-07-26T11:52:50.328Z"
   },
   {
    "duration": 11,
    "start_time": "2024-07-26T11:52:50.334Z"
   },
   {
    "duration": 5,
    "start_time": "2024-07-26T11:52:50.349Z"
   },
   {
    "duration": 12,
    "start_time": "2024-07-26T11:52:50.356Z"
   },
   {
    "duration": 150,
    "start_time": "2024-07-26T11:52:50.370Z"
   },
   {
    "duration": 177,
    "start_time": "2024-07-26T11:52:50.522Z"
   },
   {
    "duration": 15,
    "start_time": "2024-07-26T11:52:50.700Z"
   },
   {
    "duration": 269,
    "start_time": "2024-07-26T11:52:50.716Z"
   },
   {
    "duration": 7,
    "start_time": "2024-07-26T11:52:50.986Z"
   },
   {
    "duration": 729,
    "start_time": "2024-07-26T11:52:50.994Z"
   },
   {
    "duration": 7,
    "start_time": "2024-07-26T11:52:51.724Z"
   },
   {
    "duration": 176,
    "start_time": "2024-07-26T11:52:51.732Z"
   },
   {
    "duration": 21,
    "start_time": "2024-07-26T11:52:51.912Z"
   },
   {
    "duration": 15,
    "start_time": "2024-07-26T11:52:51.935Z"
   },
   {
    "duration": 13,
    "start_time": "2024-07-26T11:52:51.951Z"
   },
   {
    "duration": 208,
    "start_time": "2024-07-26T11:52:51.966Z"
   },
   {
    "duration": 192,
    "start_time": "2024-07-26T11:52:52.175Z"
   },
   {
    "duration": 188,
    "start_time": "2024-07-26T11:52:52.369Z"
   },
   {
    "duration": 165,
    "start_time": "2024-07-26T11:52:52.558Z"
   },
   {
    "duration": 7,
    "start_time": "2024-07-26T11:52:52.724Z"
   },
   {
    "duration": 7,
    "start_time": "2024-07-26T11:52:52.732Z"
   },
   {
    "duration": 7,
    "start_time": "2024-07-26T11:52:52.740Z"
   },
   {
    "duration": 11,
    "start_time": "2024-07-26T11:52:52.748Z"
   },
   {
    "duration": 144,
    "start_time": "2024-07-26T11:52:52.760Z"
   },
   {
    "duration": 16,
    "start_time": "2024-07-26T11:52:52.906Z"
   },
   {
    "duration": 5,
    "start_time": "2024-07-26T11:52:52.924Z"
   },
   {
    "duration": 5,
    "start_time": "2024-07-26T11:52:52.931Z"
   },
   {
    "duration": 32,
    "start_time": "2024-07-26T11:52:52.938Z"
   },
   {
    "duration": 5,
    "start_time": "2024-07-26T11:56:12.494Z"
   },
   {
    "duration": 1002,
    "start_time": "2024-07-26T11:57:53.349Z"
   },
   {
    "duration": 380,
    "start_time": "2024-07-26T11:57:54.353Z"
   },
   {
    "duration": 455,
    "start_time": "2024-07-26T11:57:54.736Z"
   },
   {
    "duration": 440,
    "start_time": "2024-07-26T11:57:55.193Z"
   },
   {
    "duration": 7,
    "start_time": "2024-07-26T11:57:55.634Z"
   },
   {
    "duration": 6,
    "start_time": "2024-07-26T11:57:55.642Z"
   },
   {
    "duration": 10,
    "start_time": "2024-07-26T11:57:55.650Z"
   },
   {
    "duration": 8,
    "start_time": "2024-07-26T11:57:55.661Z"
   },
   {
    "duration": 9,
    "start_time": "2024-07-26T11:57:55.670Z"
   },
   {
    "duration": 26,
    "start_time": "2024-07-26T11:57:55.680Z"
   },
   {
    "duration": 10,
    "start_time": "2024-07-26T11:57:55.708Z"
   },
   {
    "duration": 4,
    "start_time": "2024-07-26T11:57:55.719Z"
   },
   {
    "duration": 7,
    "start_time": "2024-07-26T11:57:55.726Z"
   },
   {
    "duration": 6,
    "start_time": "2024-07-26T11:57:55.734Z"
   },
   {
    "duration": 25,
    "start_time": "2024-07-26T11:57:55.742Z"
   },
   {
    "duration": 149,
    "start_time": "2024-07-26T11:57:55.768Z"
   },
   {
    "duration": 173,
    "start_time": "2024-07-26T11:57:55.919Z"
   },
   {
    "duration": 7,
    "start_time": "2024-07-26T11:57:56.094Z"
   },
   {
    "duration": 264,
    "start_time": "2024-07-26T11:57:56.112Z"
   },
   {
    "duration": 7,
    "start_time": "2024-07-26T11:57:56.377Z"
   },
   {
    "duration": 707,
    "start_time": "2024-07-26T11:57:56.386Z"
   },
   {
    "duration": 17,
    "start_time": "2024-07-26T11:57:57.095Z"
   },
   {
    "duration": 168,
    "start_time": "2024-07-26T11:57:57.114Z"
   },
   {
    "duration": 20,
    "start_time": "2024-07-26T11:57:57.284Z"
   },
   {
    "duration": 16,
    "start_time": "2024-07-26T11:57:57.305Z"
   },
   {
    "duration": 15,
    "start_time": "2024-07-26T11:57:57.322Z"
   },
   {
    "duration": 190,
    "start_time": "2024-07-26T11:57:57.338Z"
   },
   {
    "duration": 187,
    "start_time": "2024-07-26T11:57:57.530Z"
   },
   {
    "duration": 170,
    "start_time": "2024-07-26T11:57:57.718Z"
   },
   {
    "duration": 173,
    "start_time": "2024-07-26T11:57:57.889Z"
   },
   {
    "duration": 8,
    "start_time": "2024-07-26T11:57:58.064Z"
   },
   {
    "duration": 35,
    "start_time": "2024-07-26T11:57:58.073Z"
   },
   {
    "duration": 6,
    "start_time": "2024-07-26T11:57:58.109Z"
   },
   {
    "duration": 9,
    "start_time": "2024-07-26T11:57:58.116Z"
   },
   {
    "duration": 116,
    "start_time": "2024-07-26T11:57:58.126Z"
   },
   {
    "duration": 11,
    "start_time": "2024-07-26T11:57:58.243Z"
   },
   {
    "duration": 12,
    "start_time": "2024-07-26T11:57:58.255Z"
   },
   {
    "duration": 4,
    "start_time": "2024-07-26T11:57:58.268Z"
   },
   {
    "duration": 15,
    "start_time": "2024-07-26T11:57:58.274Z"
   },
   {
    "duration": 1059,
    "start_time": "2024-07-26T12:15:54.895Z"
   },
   {
    "duration": 415,
    "start_time": "2024-07-26T12:15:55.956Z"
   },
   {
    "duration": 493,
    "start_time": "2024-07-26T12:15:56.373Z"
   },
   {
    "duration": 472,
    "start_time": "2024-07-26T12:15:56.868Z"
   },
   {
    "duration": 7,
    "start_time": "2024-07-26T12:15:57.342Z"
   },
   {
    "duration": 16,
    "start_time": "2024-07-26T12:15:57.350Z"
   },
   {
    "duration": 12,
    "start_time": "2024-07-26T12:15:57.368Z"
   },
   {
    "duration": 7,
    "start_time": "2024-07-26T12:15:57.382Z"
   },
   {
    "duration": 16,
    "start_time": "2024-07-26T12:15:57.390Z"
   },
   {
    "duration": 5,
    "start_time": "2024-07-26T12:15:57.408Z"
   },
   {
    "duration": 7,
    "start_time": "2024-07-26T12:15:57.414Z"
   },
   {
    "duration": 7,
    "start_time": "2024-07-26T12:15:57.422Z"
   },
   {
    "duration": 6,
    "start_time": "2024-07-26T12:15:57.430Z"
   },
   {
    "duration": 7,
    "start_time": "2024-07-26T12:15:57.437Z"
   },
   {
    "duration": 11,
    "start_time": "2024-07-26T12:15:57.446Z"
   },
   {
    "duration": 161,
    "start_time": "2024-07-26T12:15:57.459Z"
   },
   {
    "duration": 188,
    "start_time": "2024-07-26T12:15:57.621Z"
   },
   {
    "duration": 9,
    "start_time": "2024-07-26T12:15:57.811Z"
   },
   {
    "duration": 308,
    "start_time": "2024-07-26T12:15:57.821Z"
   },
   {
    "duration": 8,
    "start_time": "2024-07-26T12:15:58.130Z"
   },
   {
    "duration": 864,
    "start_time": "2024-07-26T12:15:58.140Z"
   },
   {
    "duration": 8,
    "start_time": "2024-07-26T12:15:59.005Z"
   },
   {
    "duration": 224,
    "start_time": "2024-07-26T12:15:59.015Z"
   },
   {
    "duration": 23,
    "start_time": "2024-07-26T12:15:59.240Z"
   },
   {
    "duration": 29,
    "start_time": "2024-07-26T12:15:59.265Z"
   },
   {
    "duration": 15,
    "start_time": "2024-07-26T12:15:59.295Z"
   },
   {
    "duration": 218,
    "start_time": "2024-07-26T12:15:59.312Z"
   },
   {
    "duration": 224,
    "start_time": "2024-07-26T12:15:59.533Z"
   },
   {
    "duration": 195,
    "start_time": "2024-07-26T12:15:59.759Z"
   },
   {
    "duration": 276,
    "start_time": "2024-07-26T12:15:59.956Z"
   },
   {
    "duration": 8,
    "start_time": "2024-07-26T12:16:00.234Z"
   },
   {
    "duration": 54,
    "start_time": "2024-07-26T12:16:00.244Z"
   },
   {
    "duration": 41,
    "start_time": "2024-07-26T12:16:00.300Z"
   },
   {
    "duration": 53,
    "start_time": "2024-07-26T12:16:00.342Z"
   },
   {
    "duration": 77,
    "start_time": "2024-07-26T12:16:00.396Z"
   },
   {
    "duration": 37,
    "start_time": "2024-07-26T12:16:00.474Z"
   },
   {
    "duration": 43,
    "start_time": "2024-07-26T12:16:00.513Z"
   },
   {
    "duration": 71,
    "start_time": "2024-07-26T12:16:00.558Z"
   },
   {
    "duration": 47,
    "start_time": "2024-07-26T12:16:00.631Z"
   },
   {
    "duration": 29,
    "start_time": "2024-07-26T13:03:52.428Z"
   },
   {
    "duration": 10,
    "start_time": "2024-07-26T13:05:46.397Z"
   },
   {
    "duration": 1036,
    "start_time": "2024-07-26T13:07:17.977Z"
   },
   {
    "duration": 426,
    "start_time": "2024-07-26T13:07:19.015Z"
   },
   {
    "duration": 458,
    "start_time": "2024-07-26T13:07:19.442Z"
   },
   {
    "duration": 436,
    "start_time": "2024-07-26T13:07:19.902Z"
   },
   {
    "duration": 7,
    "start_time": "2024-07-26T13:07:20.340Z"
   },
   {
    "duration": 16,
    "start_time": "2024-07-26T13:07:20.348Z"
   },
   {
    "duration": 7,
    "start_time": "2024-07-26T13:07:20.365Z"
   },
   {
    "duration": 17,
    "start_time": "2024-07-26T13:07:20.373Z"
   },
   {
    "duration": 6,
    "start_time": "2024-07-26T13:07:20.391Z"
   },
   {
    "duration": 8,
    "start_time": "2024-07-26T13:07:20.399Z"
   },
   {
    "duration": 15,
    "start_time": "2024-07-26T13:07:20.408Z"
   },
   {
    "duration": 5,
    "start_time": "2024-07-26T13:07:20.425Z"
   },
   {
    "duration": 6,
    "start_time": "2024-07-26T13:07:20.431Z"
   },
   {
    "duration": 3,
    "start_time": "2024-07-26T13:07:20.441Z"
   },
   {
    "duration": 19,
    "start_time": "2024-07-26T13:07:20.446Z"
   },
   {
    "duration": 135,
    "start_time": "2024-07-26T13:07:20.484Z"
   },
   {
    "duration": 181,
    "start_time": "2024-07-26T13:07:20.621Z"
   },
   {
    "duration": 9,
    "start_time": "2024-07-26T13:07:20.804Z"
   },
   {
    "duration": 306,
    "start_time": "2024-07-26T13:07:20.815Z"
   },
   {
    "duration": 9,
    "start_time": "2024-07-26T13:07:21.122Z"
   },
   {
    "duration": 762,
    "start_time": "2024-07-26T13:07:21.133Z"
   },
   {
    "duration": 9,
    "start_time": "2024-07-26T13:07:21.897Z"
   },
   {
    "duration": 197,
    "start_time": "2024-07-26T13:07:21.907Z"
   },
   {
    "duration": 23,
    "start_time": "2024-07-26T13:07:22.105Z"
   },
   {
    "duration": 14,
    "start_time": "2024-07-26T13:07:22.129Z"
   },
   {
    "duration": 17,
    "start_time": "2024-07-26T13:07:22.144Z"
   },
   {
    "duration": 219,
    "start_time": "2024-07-26T13:07:22.162Z"
   },
   {
    "duration": 196,
    "start_time": "2024-07-26T13:07:22.383Z"
   },
   {
    "duration": 179,
    "start_time": "2024-07-26T13:07:22.584Z"
   },
   {
    "duration": 169,
    "start_time": "2024-07-26T13:07:22.765Z"
   },
   {
    "duration": 8,
    "start_time": "2024-07-26T13:07:22.935Z"
   },
   {
    "duration": 23,
    "start_time": "2024-07-26T13:07:22.945Z"
   },
   {
    "duration": 7,
    "start_time": "2024-07-26T13:07:22.969Z"
   },
   {
    "duration": 9,
    "start_time": "2024-07-26T13:07:22.984Z"
   },
   {
    "duration": 139,
    "start_time": "2024-07-26T13:07:22.994Z"
   },
   {
    "duration": 12,
    "start_time": "2024-07-26T13:07:23.134Z"
   },
   {
    "duration": 4,
    "start_time": "2024-07-26T13:07:23.148Z"
   },
   {
    "duration": 19,
    "start_time": "2024-07-26T13:07:23.154Z"
   },
   {
    "duration": 35,
    "start_time": "2024-07-26T13:07:23.174Z"
   },
   {
    "duration": 1363,
    "start_time": "2024-07-27T07:06:13.396Z"
   },
   {
    "duration": 519,
    "start_time": "2024-07-27T07:06:14.764Z"
   },
   {
    "duration": 660,
    "start_time": "2024-07-27T07:06:15.285Z"
   },
   {
    "duration": 541,
    "start_time": "2024-07-27T07:06:15.946Z"
   },
   {
    "duration": 9,
    "start_time": "2024-07-27T07:06:16.490Z"
   },
   {
    "duration": 13,
    "start_time": "2024-07-27T07:06:16.501Z"
   },
   {
    "duration": 7,
    "start_time": "2024-07-27T07:06:16.515Z"
   },
   {
    "duration": 28,
    "start_time": "2024-07-27T07:06:16.524Z"
   },
   {
    "duration": 7,
    "start_time": "2024-07-27T07:06:16.556Z"
   },
   {
    "duration": 28,
    "start_time": "2024-07-27T07:06:16.564Z"
   },
   {
    "duration": 16,
    "start_time": "2024-07-27T07:06:16.594Z"
   },
   {
    "duration": 22,
    "start_time": "2024-07-27T07:06:16.612Z"
   },
   {
    "duration": 36,
    "start_time": "2024-07-27T07:06:16.636Z"
   },
   {
    "duration": 23,
    "start_time": "2024-07-27T07:06:16.677Z"
   },
   {
    "duration": 38,
    "start_time": "2024-07-27T07:06:16.701Z"
   },
   {
    "duration": 152,
    "start_time": "2024-07-27T07:06:16.741Z"
   },
   {
    "duration": 224,
    "start_time": "2024-07-27T07:06:16.895Z"
   },
   {
    "duration": 10,
    "start_time": "2024-07-27T07:06:17.122Z"
   },
   {
    "duration": 357,
    "start_time": "2024-07-27T07:06:17.134Z"
   },
   {
    "duration": 10,
    "start_time": "2024-07-27T07:06:17.493Z"
   },
   {
    "duration": 959,
    "start_time": "2024-07-27T07:06:17.504Z"
   },
   {
    "duration": 14,
    "start_time": "2024-07-27T07:06:18.465Z"
   },
   {
    "duration": 251,
    "start_time": "2024-07-27T07:06:18.480Z"
   },
   {
    "duration": 38,
    "start_time": "2024-07-27T07:06:18.733Z"
   },
   {
    "duration": 19,
    "start_time": "2024-07-27T07:06:18.773Z"
   },
   {
    "duration": 14,
    "start_time": "2024-07-27T07:06:18.794Z"
   },
   {
    "duration": 256,
    "start_time": "2024-07-27T07:06:18.810Z"
   },
   {
    "duration": 234,
    "start_time": "2024-07-27T07:06:19.071Z"
   },
   {
    "duration": 201,
    "start_time": "2024-07-27T07:06:19.306Z"
   },
   {
    "duration": 185,
    "start_time": "2024-07-27T07:06:19.509Z"
   },
   {
    "duration": 8,
    "start_time": "2024-07-27T07:06:19.695Z"
   },
   {
    "duration": 11,
    "start_time": "2024-07-27T07:06:19.704Z"
   },
   {
    "duration": 7,
    "start_time": "2024-07-27T07:06:19.717Z"
   },
   {
    "duration": 38,
    "start_time": "2024-07-27T07:06:19.726Z"
   },
   {
    "duration": 162,
    "start_time": "2024-07-27T07:06:19.766Z"
   },
   {
    "duration": 13,
    "start_time": "2024-07-27T07:06:19.929Z"
   },
   {
    "duration": 20,
    "start_time": "2024-07-27T07:06:19.944Z"
   },
   {
    "duration": 16,
    "start_time": "2024-07-27T07:06:19.966Z"
   },
   {
    "duration": 8,
    "start_time": "2024-07-27T07:06:19.984Z"
   },
   {
    "duration": 56,
    "start_time": "2024-07-27T07:16:31.160Z"
   },
   {
    "duration": 60,
    "start_time": "2024-07-27T07:16:43.633Z"
   },
   {
    "duration": 75,
    "start_time": "2024-07-27T07:17:00.858Z"
   },
   {
    "duration": 69,
    "start_time": "2024-07-27T07:17:06.349Z"
   },
   {
    "duration": 0,
    "start_time": "2024-07-27T07:17:06.421Z"
   },
   {
    "duration": 0,
    "start_time": "2024-07-27T07:17:06.424Z"
   },
   {
    "duration": 0,
    "start_time": "2024-07-27T07:17:06.425Z"
   },
   {
    "duration": 0,
    "start_time": "2024-07-27T07:17:06.426Z"
   },
   {
    "duration": 0,
    "start_time": "2024-07-27T07:17:06.427Z"
   },
   {
    "duration": 0,
    "start_time": "2024-07-27T07:17:06.428Z"
   },
   {
    "duration": 0,
    "start_time": "2024-07-27T07:17:06.429Z"
   },
   {
    "duration": 0,
    "start_time": "2024-07-27T07:17:06.430Z"
   },
   {
    "duration": 0,
    "start_time": "2024-07-27T07:17:06.431Z"
   },
   {
    "duration": 0,
    "start_time": "2024-07-27T07:17:06.432Z"
   },
   {
    "duration": 0,
    "start_time": "2024-07-27T07:17:06.433Z"
   },
   {
    "duration": 0,
    "start_time": "2024-07-27T07:17:06.434Z"
   },
   {
    "duration": 0,
    "start_time": "2024-07-27T07:17:06.435Z"
   },
   {
    "duration": 0,
    "start_time": "2024-07-27T07:17:06.436Z"
   },
   {
    "duration": 0,
    "start_time": "2024-07-27T07:17:06.437Z"
   },
   {
    "duration": 0,
    "start_time": "2024-07-27T07:17:06.438Z"
   },
   {
    "duration": 0,
    "start_time": "2024-07-27T07:17:06.439Z"
   },
   {
    "duration": 0,
    "start_time": "2024-07-27T07:17:06.440Z"
   },
   {
    "duration": 0,
    "start_time": "2024-07-27T07:17:06.441Z"
   },
   {
    "duration": 0,
    "start_time": "2024-07-27T07:17:06.442Z"
   },
   {
    "duration": 0,
    "start_time": "2024-07-27T07:17:06.444Z"
   },
   {
    "duration": 0,
    "start_time": "2024-07-27T07:17:06.445Z"
   },
   {
    "duration": 0,
    "start_time": "2024-07-27T07:17:06.446Z"
   },
   {
    "duration": 0,
    "start_time": "2024-07-27T07:17:06.447Z"
   },
   {
    "duration": 0,
    "start_time": "2024-07-27T07:17:06.448Z"
   },
   {
    "duration": 0,
    "start_time": "2024-07-27T07:17:06.455Z"
   },
   {
    "duration": 0,
    "start_time": "2024-07-27T07:17:06.456Z"
   },
   {
    "duration": 0,
    "start_time": "2024-07-27T07:17:06.457Z"
   },
   {
    "duration": 0,
    "start_time": "2024-07-27T07:17:06.459Z"
   },
   {
    "duration": 0,
    "start_time": "2024-07-27T07:17:06.460Z"
   },
   {
    "duration": 0,
    "start_time": "2024-07-27T07:17:06.461Z"
   },
   {
    "duration": 0,
    "start_time": "2024-07-27T07:17:06.462Z"
   },
   {
    "duration": 0,
    "start_time": "2024-07-27T07:17:06.463Z"
   },
   {
    "duration": 0,
    "start_time": "2024-07-27T07:17:06.464Z"
   },
   {
    "duration": 0,
    "start_time": "2024-07-27T07:17:06.465Z"
   },
   {
    "duration": 0,
    "start_time": "2024-07-27T07:17:06.466Z"
   },
   {
    "duration": 0,
    "start_time": "2024-07-27T07:17:06.467Z"
   },
   {
    "duration": 0,
    "start_time": "2024-07-27T07:17:06.468Z"
   },
   {
    "duration": 0,
    "start_time": "2024-07-27T07:17:06.469Z"
   },
   {
    "duration": 74,
    "start_time": "2024-07-27T07:17:33.680Z"
   },
   {
    "duration": 1178,
    "start_time": "2024-07-27T07:17:42.647Z"
   },
   {
    "duration": 61,
    "start_time": "2024-07-27T07:17:56.742Z"
   },
   {
    "duration": 0,
    "start_time": "2024-07-27T07:17:56.806Z"
   },
   {
    "duration": 0,
    "start_time": "2024-07-27T07:17:56.807Z"
   },
   {
    "duration": 0,
    "start_time": "2024-07-27T07:17:56.808Z"
   },
   {
    "duration": 0,
    "start_time": "2024-07-27T07:17:56.809Z"
   },
   {
    "duration": 0,
    "start_time": "2024-07-27T07:17:56.810Z"
   },
   {
    "duration": 0,
    "start_time": "2024-07-27T07:17:56.811Z"
   },
   {
    "duration": 0,
    "start_time": "2024-07-27T07:17:56.812Z"
   },
   {
    "duration": 1,
    "start_time": "2024-07-27T07:17:56.813Z"
   },
   {
    "duration": 0,
    "start_time": "2024-07-27T07:17:56.815Z"
   },
   {
    "duration": 0,
    "start_time": "2024-07-27T07:17:56.816Z"
   },
   {
    "duration": 0,
    "start_time": "2024-07-27T07:17:56.817Z"
   },
   {
    "duration": 0,
    "start_time": "2024-07-27T07:17:56.818Z"
   },
   {
    "duration": 0,
    "start_time": "2024-07-27T07:17:56.819Z"
   },
   {
    "duration": 0,
    "start_time": "2024-07-27T07:17:56.820Z"
   },
   {
    "duration": 0,
    "start_time": "2024-07-27T07:17:56.821Z"
   },
   {
    "duration": 0,
    "start_time": "2024-07-27T07:17:56.822Z"
   },
   {
    "duration": 0,
    "start_time": "2024-07-27T07:17:56.823Z"
   },
   {
    "duration": 0,
    "start_time": "2024-07-27T07:17:56.825Z"
   },
   {
    "duration": 0,
    "start_time": "2024-07-27T07:17:56.826Z"
   },
   {
    "duration": 0,
    "start_time": "2024-07-27T07:17:56.827Z"
   },
   {
    "duration": 0,
    "start_time": "2024-07-27T07:17:56.828Z"
   },
   {
    "duration": 0,
    "start_time": "2024-07-27T07:17:56.829Z"
   },
   {
    "duration": 0,
    "start_time": "2024-07-27T07:17:56.830Z"
   },
   {
    "duration": 0,
    "start_time": "2024-07-27T07:17:56.831Z"
   },
   {
    "duration": 0,
    "start_time": "2024-07-27T07:17:56.832Z"
   },
   {
    "duration": 0,
    "start_time": "2024-07-27T07:17:56.833Z"
   },
   {
    "duration": 0,
    "start_time": "2024-07-27T07:17:56.834Z"
   },
   {
    "duration": 0,
    "start_time": "2024-07-27T07:17:56.835Z"
   },
   {
    "duration": 0,
    "start_time": "2024-07-27T07:17:56.855Z"
   },
   {
    "duration": 0,
    "start_time": "2024-07-27T07:17:56.856Z"
   },
   {
    "duration": 0,
    "start_time": "2024-07-27T07:17:56.858Z"
   },
   {
    "duration": 0,
    "start_time": "2024-07-27T07:17:56.858Z"
   },
   {
    "duration": 0,
    "start_time": "2024-07-27T07:17:56.859Z"
   },
   {
    "duration": 0,
    "start_time": "2024-07-27T07:17:56.860Z"
   },
   {
    "duration": 0,
    "start_time": "2024-07-27T07:17:56.862Z"
   },
   {
    "duration": 0,
    "start_time": "2024-07-27T07:17:56.862Z"
   },
   {
    "duration": 0,
    "start_time": "2024-07-27T07:17:56.863Z"
   },
   {
    "duration": 0,
    "start_time": "2024-07-27T07:17:56.864Z"
   },
   {
    "duration": 0,
    "start_time": "2024-07-27T07:17:56.865Z"
   },
   {
    "duration": 1226,
    "start_time": "2024-07-27T07:19:00.925Z"
   },
   {
    "duration": 496,
    "start_time": "2024-07-27T07:19:02.154Z"
   },
   {
    "duration": 553,
    "start_time": "2024-07-27T07:19:02.656Z"
   },
   {
    "duration": 563,
    "start_time": "2024-07-27T07:19:03.210Z"
   },
   {
    "duration": 9,
    "start_time": "2024-07-27T07:19:03.775Z"
   },
   {
    "duration": 20,
    "start_time": "2024-07-27T07:19:03.785Z"
   },
   {
    "duration": 15,
    "start_time": "2024-07-27T07:19:03.806Z"
   },
   {
    "duration": 10,
    "start_time": "2024-07-27T07:19:03.823Z"
   },
   {
    "duration": 10,
    "start_time": "2024-07-27T07:19:03.835Z"
   },
   {
    "duration": 14,
    "start_time": "2024-07-27T07:19:03.846Z"
   },
   {
    "duration": 12,
    "start_time": "2024-07-27T07:19:03.861Z"
   },
   {
    "duration": 6,
    "start_time": "2024-07-27T07:19:03.876Z"
   },
   {
    "duration": 8,
    "start_time": "2024-07-27T07:19:03.884Z"
   },
   {
    "duration": 13,
    "start_time": "2024-07-27T07:19:03.896Z"
   },
   {
    "duration": 22,
    "start_time": "2024-07-27T07:19:03.911Z"
   },
   {
    "duration": 156,
    "start_time": "2024-07-27T07:19:03.935Z"
   },
   {
    "duration": 200,
    "start_time": "2024-07-27T07:19:04.092Z"
   },
   {
    "duration": 9,
    "start_time": "2024-07-27T07:19:04.294Z"
   },
   {
    "duration": 326,
    "start_time": "2024-07-27T07:19:04.304Z"
   },
   {
    "duration": 10,
    "start_time": "2024-07-27T07:19:04.632Z"
   },
   {
    "duration": 973,
    "start_time": "2024-07-27T07:19:04.644Z"
   },
   {
    "duration": 10,
    "start_time": "2024-07-27T07:19:05.619Z"
   },
   {
    "duration": 264,
    "start_time": "2024-07-27T07:19:05.631Z"
   },
   {
    "duration": 26,
    "start_time": "2024-07-27T07:19:05.897Z"
   },
   {
    "duration": 35,
    "start_time": "2024-07-27T07:19:05.925Z"
   },
   {
    "duration": 18,
    "start_time": "2024-07-27T07:19:05.962Z"
   },
   {
    "duration": 276,
    "start_time": "2024-07-27T07:19:05.982Z"
   },
   {
    "duration": 237,
    "start_time": "2024-07-27T07:19:06.260Z"
   },
   {
    "duration": 222,
    "start_time": "2024-07-27T07:19:06.499Z"
   },
   {
    "duration": 197,
    "start_time": "2024-07-27T07:19:06.723Z"
   },
   {
    "duration": 8,
    "start_time": "2024-07-27T07:19:06.922Z"
   },
   {
    "duration": 24,
    "start_time": "2024-07-27T07:19:06.932Z"
   },
   {
    "duration": 8,
    "start_time": "2024-07-27T07:19:06.957Z"
   },
   {
    "duration": 10,
    "start_time": "2024-07-27T07:19:06.967Z"
   },
   {
    "duration": 178,
    "start_time": "2024-07-27T07:19:06.978Z"
   },
   {
    "duration": 14,
    "start_time": "2024-07-27T07:19:07.158Z"
   },
   {
    "duration": 6,
    "start_time": "2024-07-27T07:19:07.174Z"
   },
   {
    "duration": 10,
    "start_time": "2024-07-27T07:19:07.181Z"
   },
   {
    "duration": 36,
    "start_time": "2024-07-27T07:19:07.192Z"
   },
   {
    "duration": 100,
    "start_time": "2024-07-27T07:34:27.914Z"
   },
   {
    "duration": 9,
    "start_time": "2024-07-27T07:34:46.167Z"
   },
   {
    "duration": 6,
    "start_time": "2024-07-27T07:34:57.107Z"
   },
   {
    "duration": 4,
    "start_time": "2024-07-27T07:35:12.419Z"
   },
   {
    "duration": 10,
    "start_time": "2024-07-27T07:35:19.258Z"
   },
   {
    "duration": 4,
    "start_time": "2024-07-27T07:35:29.979Z"
   },
   {
    "duration": 425,
    "start_time": "2024-07-27T07:42:26.962Z"
   },
   {
    "duration": 272,
    "start_time": "2024-07-27T07:44:43.707Z"
   },
   {
    "duration": 275,
    "start_time": "2024-07-27T07:47:38.762Z"
   },
   {
    "duration": 267,
    "start_time": "2024-07-27T07:47:55.043Z"
   },
   {
    "duration": 258,
    "start_time": "2024-07-27T07:47:59.818Z"
   },
   {
    "duration": 365,
    "start_time": "2024-07-27T07:59:55.915Z"
   },
   {
    "duration": 266,
    "start_time": "2024-07-27T08:00:12.196Z"
   },
   {
    "duration": 263,
    "start_time": "2024-07-27T08:00:27.082Z"
   },
   {
    "duration": 262,
    "start_time": "2024-07-27T08:01:07.548Z"
   },
   {
    "duration": 250,
    "start_time": "2024-07-27T08:01:34.684Z"
   },
   {
    "duration": 353,
    "start_time": "2024-07-27T08:02:34.876Z"
   },
   {
    "duration": 266,
    "start_time": "2024-07-27T08:02:44.123Z"
   },
   {
    "duration": 275,
    "start_time": "2024-07-27T08:03:15.156Z"
   },
   {
    "duration": 5,
    "start_time": "2024-07-27T08:05:15.901Z"
   },
   {
    "duration": 4,
    "start_time": "2024-07-27T08:05:56.885Z"
   },
   {
    "duration": 259,
    "start_time": "2024-07-27T08:06:19.262Z"
   },
   {
    "duration": 267,
    "start_time": "2024-07-27T08:08:07.646Z"
   },
   {
    "duration": 296,
    "start_time": "2024-07-27T08:09:02.309Z"
   },
   {
    "duration": 24,
    "start_time": "2024-07-27T08:14:37.245Z"
   },
   {
    "duration": 11,
    "start_time": "2024-07-27T08:14:45.054Z"
   },
   {
    "duration": 14,
    "start_time": "2024-07-27T08:15:16.895Z"
   },
   {
    "duration": 14,
    "start_time": "2024-07-27T08:28:14.662Z"
   },
   {
    "duration": 13,
    "start_time": "2024-07-27T08:28:31.367Z"
   },
   {
    "duration": 405,
    "start_time": "2024-07-27T08:30:51.528Z"
   },
   {
    "duration": 257,
    "start_time": "2024-07-27T08:30:54.150Z"
   },
   {
    "duration": 1127,
    "start_time": "2024-07-28T15:00:28.870Z"
   },
   {
    "duration": 422,
    "start_time": "2024-07-28T15:00:29.999Z"
   },
   {
    "duration": 527,
    "start_time": "2024-07-28T15:00:30.423Z"
   },
   {
    "duration": 494,
    "start_time": "2024-07-28T15:00:30.952Z"
   },
   {
    "duration": 10,
    "start_time": "2024-07-28T15:00:31.448Z"
   },
   {
    "duration": 114,
    "start_time": "2024-07-28T15:00:31.460Z"
   },
   {
    "duration": 29,
    "start_time": "2024-07-28T15:00:31.576Z"
   },
   {
    "duration": 32,
    "start_time": "2024-07-28T15:00:31.607Z"
   },
   {
    "duration": 51,
    "start_time": "2024-07-28T15:00:31.641Z"
   },
   {
    "duration": 46,
    "start_time": "2024-07-28T15:00:31.695Z"
   },
   {
    "duration": 22,
    "start_time": "2024-07-28T15:00:31.743Z"
   },
   {
    "duration": 18,
    "start_time": "2024-07-28T15:00:31.766Z"
   },
   {
    "duration": 13,
    "start_time": "2024-07-28T15:00:31.786Z"
   },
   {
    "duration": 73,
    "start_time": "2024-07-28T15:00:31.801Z"
   },
   {
    "duration": 32,
    "start_time": "2024-07-28T15:00:31.876Z"
   },
   {
    "duration": 39,
    "start_time": "2024-07-28T15:00:31.909Z"
   },
   {
    "duration": 169,
    "start_time": "2024-07-28T15:00:31.949Z"
   },
   {
    "duration": 197,
    "start_time": "2024-07-28T15:00:32.119Z"
   },
   {
    "duration": 8,
    "start_time": "2024-07-28T15:00:32.318Z"
   },
   {
    "duration": 382,
    "start_time": "2024-07-28T15:00:32.328Z"
   },
   {
    "duration": 8,
    "start_time": "2024-07-28T15:00:32.711Z"
   },
   {
    "duration": 863,
    "start_time": "2024-07-28T15:00:32.721Z"
   },
   {
    "duration": 8,
    "start_time": "2024-07-28T15:00:33.586Z"
   },
   {
    "duration": 193,
    "start_time": "2024-07-28T15:00:33.604Z"
   },
   {
    "duration": 256,
    "start_time": "2024-07-28T15:00:33.798Z"
   },
   {
    "duration": 22,
    "start_time": "2024-07-28T15:00:34.056Z"
   },
   {
    "duration": 34,
    "start_time": "2024-07-28T15:00:34.079Z"
   },
   {
    "duration": 13,
    "start_time": "2024-07-28T15:00:34.117Z"
   },
   {
    "duration": 29,
    "start_time": "2024-07-28T15:00:34.132Z"
   },
   {
    "duration": 32,
    "start_time": "2024-07-28T15:00:34.163Z"
   },
   {
    "duration": 27,
    "start_time": "2024-07-28T15:00:34.196Z"
   },
   {
    "duration": 23,
    "start_time": "2024-07-28T15:00:34.225Z"
   },
   {
    "duration": 309,
    "start_time": "2024-07-28T15:00:34.250Z"
   },
   {
    "duration": 358,
    "start_time": "2024-07-28T15:00:34.561Z"
   },
   {
    "duration": 8,
    "start_time": "2024-07-28T15:00:34.921Z"
   },
   {
    "duration": 15,
    "start_time": "2024-07-28T15:00:34.931Z"
   },
   {
    "duration": 7,
    "start_time": "2024-07-28T15:00:34.948Z"
   },
   {
    "duration": 7,
    "start_time": "2024-07-28T15:00:34.957Z"
   },
   {
    "duration": 70,
    "start_time": "2024-07-28T15:00:34.965Z"
   },
   {
    "duration": 14,
    "start_time": "2024-07-28T15:00:35.036Z"
   },
   {
    "duration": 6,
    "start_time": "2024-07-28T15:00:35.051Z"
   },
   {
    "duration": 24,
    "start_time": "2024-07-28T15:00:35.058Z"
   },
   {
    "duration": 17,
    "start_time": "2024-07-28T15:00:35.084Z"
   },
   {
    "duration": 1105,
    "start_time": "2024-07-28T15:06:37.109Z"
   },
   {
    "duration": 420,
    "start_time": "2024-07-28T15:06:38.217Z"
   },
   {
    "duration": 492,
    "start_time": "2024-07-28T15:06:38.639Z"
   },
   {
    "duration": 459,
    "start_time": "2024-07-28T15:06:39.132Z"
   },
   {
    "duration": 14,
    "start_time": "2024-07-28T15:06:39.593Z"
   },
   {
    "duration": 10,
    "start_time": "2024-07-28T15:06:39.608Z"
   },
   {
    "duration": 5,
    "start_time": "2024-07-28T15:06:39.620Z"
   },
   {
    "duration": 14,
    "start_time": "2024-07-28T15:06:39.626Z"
   },
   {
    "duration": 18,
    "start_time": "2024-07-28T15:06:39.642Z"
   },
   {
    "duration": 11,
    "start_time": "2024-07-28T15:06:39.662Z"
   },
   {
    "duration": 18,
    "start_time": "2024-07-28T15:06:39.675Z"
   },
   {
    "duration": 13,
    "start_time": "2024-07-28T15:06:39.695Z"
   },
   {
    "duration": 5,
    "start_time": "2024-07-28T15:06:39.709Z"
   },
   {
    "duration": 17,
    "start_time": "2024-07-28T15:06:39.718Z"
   },
   {
    "duration": 7,
    "start_time": "2024-07-28T15:06:39.737Z"
   },
   {
    "duration": 12,
    "start_time": "2024-07-28T15:06:39.746Z"
   },
   {
    "duration": 152,
    "start_time": "2024-07-28T15:06:39.759Z"
   },
   {
    "duration": 211,
    "start_time": "2024-07-28T15:06:39.913Z"
   },
   {
    "duration": 9,
    "start_time": "2024-07-28T15:06:40.125Z"
   },
   {
    "duration": 316,
    "start_time": "2024-07-28T15:06:40.135Z"
   },
   {
    "duration": 9,
    "start_time": "2024-07-28T15:06:40.452Z"
   },
   {
    "duration": 805,
    "start_time": "2024-07-28T15:06:40.463Z"
   },
   {
    "duration": 8,
    "start_time": "2024-07-28T15:06:41.270Z"
   },
   {
    "duration": 205,
    "start_time": "2024-07-28T15:06:41.279Z"
   },
   {
    "duration": 270,
    "start_time": "2024-07-28T15:06:41.486Z"
   },
   {
    "duration": 22,
    "start_time": "2024-07-28T15:06:41.758Z"
   },
   {
    "duration": 29,
    "start_time": "2024-07-28T15:06:41.782Z"
   },
   {
    "duration": 13,
    "start_time": "2024-07-28T15:06:41.813Z"
   },
   {
    "duration": 15,
    "start_time": "2024-07-28T15:06:41.827Z"
   },
   {
    "duration": 47,
    "start_time": "2024-07-28T15:06:41.844Z"
   },
   {
    "duration": 12,
    "start_time": "2024-07-28T15:06:41.893Z"
   },
   {
    "duration": 12,
    "start_time": "2024-07-28T15:06:41.907Z"
   },
   {
    "duration": 294,
    "start_time": "2024-07-28T15:06:41.920Z"
   },
   {
    "duration": 342,
    "start_time": "2024-07-28T15:06:42.215Z"
   },
   {
    "duration": 8,
    "start_time": "2024-07-28T15:06:42.559Z"
   },
   {
    "duration": 14,
    "start_time": "2024-07-28T15:06:42.568Z"
   },
   {
    "duration": 22,
    "start_time": "2024-07-28T15:06:42.584Z"
   },
   {
    "duration": 15,
    "start_time": "2024-07-28T15:06:42.607Z"
   },
   {
    "duration": 48,
    "start_time": "2024-07-28T15:06:42.623Z"
   },
   {
    "duration": 13,
    "start_time": "2024-07-28T15:06:42.672Z"
   },
   {
    "duration": 6,
    "start_time": "2024-07-28T15:06:42.706Z"
   },
   {
    "duration": 5,
    "start_time": "2024-07-28T15:06:42.713Z"
   },
   {
    "duration": 10,
    "start_time": "2024-07-28T15:06:42.720Z"
   }
  ],
  "kernelspec": {
   "display_name": "Python 3 (ipykernel)",
   "language": "python",
   "name": "python3"
  },
  "language_info": {
   "codemirror_mode": {
    "name": "ipython",
    "version": 3
   },
   "file_extension": ".py",
   "mimetype": "text/x-python",
   "name": "python",
   "nbconvert_exporter": "python",
   "pygments_lexer": "ipython3",
   "version": "3.9.5"
  },
  "toc": {
   "base_numbering": 1,
   "nav_menu": {},
   "number_sections": true,
   "sideBar": true,
   "skip_h1_title": true,
   "title_cell": "Table of Contents",
   "title_sidebar": "Contents",
   "toc_cell": false,
   "toc_position": {},
   "toc_section_display": true,
   "toc_window_display": false
  }
 },
 "nbformat": 4,
 "nbformat_minor": 5
}
