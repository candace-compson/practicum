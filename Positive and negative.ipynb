{
 "cells": [
  {
   "cell_type": "markdown",
   "metadata": {
    "toc": true
   },
   "source": [
    "<h1>Содержание<span class=\"tocSkip\"></span></h1>\n",
    "<div class=\"toc\"><ul class=\"toc-item\"><li><span><a href=\"#Подготовка\" data-toc-modified-id=\"Подготовка-1\"><span class=\"toc-item-num\">1&nbsp;&nbsp;</span>Подготовка</a></span></li><li><span><a href=\"#Обучение\" data-toc-modified-id=\"Обучение-2\"><span class=\"toc-item-num\">2&nbsp;&nbsp;</span>Обучение</a></span></li><li><span><a href=\"#Выводы\" data-toc-modified-id=\"Выводы-3\"><span class=\"toc-item-num\">3&nbsp;&nbsp;</span>Выводы</a></span></li><li><span><a href=\"#Чек-лист-проверки\" data-toc-modified-id=\"Чек-лист-проверки-4\"><span class=\"toc-item-num\">4&nbsp;&nbsp;</span>Чек-лист проверки</a></span></li></ul></div>"
   ]
  },
  {
   "cell_type": "markdown",
   "metadata": {},
   "source": [
    "# Проект для «Викишоп»"
   ]
  },
  {
   "cell_type": "markdown",
   "metadata": {},
   "source": [
    "Интернет-магазин «Викишоп» запускает новый сервис. Теперь пользователи могут редактировать и дополнять описания товаров, как в вики-сообществах. То есть клиенты предлагают свои правки и комментируют изменения других. Магазину нужен инструмент, который будет искать токсичные комментарии и отправлять их на модерацию. \n",
    "\n",
    "Обучите модель классифицировать комментарии на позитивные и негативные. В вашем распоряжении набор данных с разметкой о токсичности правок.\n",
    "\n",
    "Постройте модель со значением метрики качества *F1* не меньше 0.75. \n",
    "\n",
    "**Инструкция по выполнению проекта**\n",
    "\n",
    "1. Загрузите и подготовьте данные.\n",
    "2. Обучите разные модели. \n",
    "3. Сделайте выводы.\n",
    "\n",
    "Для выполнения проекта применять *BERT* необязательно, но вы можете попробовать.\n",
    "\n",
    "**Описание данных**\n",
    "\n",
    "Данные находятся в файле `toxic_comments.csv`. Столбец *text* в нём содержит текст комментария, а *toxic* — целевой признак."
   ]
  },
  {
   "cell_type": "markdown",
   "metadata": {},
   "source": [
    "## Подготовка"
   ]
  },
  {
   "cell_type": "code",
   "execution_count": 1,
   "metadata": {},
   "outputs": [
    {
     "name": "stderr",
     "output_type": "stream",
     "text": [
      "[nltk_data] Downloading package wordnet to /home/jovyan/nltk_data...\n",
      "[nltk_data]   Package wordnet is already up-to-date!\n",
      "[nltk_data] Downloading package punkt to /home/jovyan/nltk_data...\n",
      "[nltk_data]   Package punkt is already up-to-date!\n",
      "[nltk_data] Downloading package omw-1.4 to /home/jovyan/nltk_data...\n",
      "[nltk_data]   Package omw-1.4 is already up-to-date!\n",
      "[nltk_data] Downloading package averaged_perceptron_tagger to\n",
      "[nltk_data]     /home/jovyan/nltk_data...\n",
      "[nltk_data]   Package averaged_perceptron_tagger is already up-to-\n",
      "[nltk_data]       date!\n",
      "[nltk_data] Downloading package stopwords to /home/jovyan/nltk_data...\n",
      "[nltk_data]   Package stopwords is already up-to-date!\n"
     ]
    }
   ],
   "source": [
    "import os\n",
    "import pandas as pd\n",
    "import numpy as np\n",
    "import re\n",
    "import string\n",
    "import requests\n",
    "import nltk\n",
    "from nltk import pos_tag\n",
    "from nltk import word_tokenize, sent_tokenize, FreqDist\n",
    "from nltk.stem import WordNetLemmatizer\n",
    "from nltk.corpus import wordnet, stopwords\n",
    "from sklearn.feature_extraction.text import TfidfVectorizer, CountVectorizer\n",
    "from sklearn.model_selection import train_test_split, GridSearchCV\n",
    "from sklearn.tree import DecisionTreeClassifier\n",
    "from sklearn.ensemble import RandomForestClassifier\n",
    "from sklearn.linear_model import LogisticRegression \n",
    "from sklearn.metrics import f1_score, confusion_matrix\n",
    "from tqdm.notebook import tqdm\n",
    "import matplotlib.pyplot as plt\n",
    "from collections import defaultdict, Counter\n",
    "from lightgbm import LGBMClassifier\n",
    "nltk.download('wordnet')\n",
    "nltk.download('punkt')\n",
    "nltk.download('omw-1.4')\n",
    "nltk.download('averaged_perceptron_tagger')\n",
    "nltk.download('stopwords')\n",
    "tqdm.pandas()"
   ]
  },
  {
   "cell_type": "code",
   "execution_count": 2,
   "metadata": {},
   "outputs": [
    {
     "data": {
      "text/html": [
       "<div>\n",
       "<style scoped>\n",
       "    .dataframe tbody tr th:only-of-type {\n",
       "        vertical-align: middle;\n",
       "    }\n",
       "\n",
       "    .dataframe tbody tr th {\n",
       "        vertical-align: top;\n",
       "    }\n",
       "\n",
       "    .dataframe thead th {\n",
       "        text-align: right;\n",
       "    }\n",
       "</style>\n",
       "<table border=\"1\" class=\"dataframe\">\n",
       "  <thead>\n",
       "    <tr style=\"text-align: right;\">\n",
       "      <th></th>\n",
       "      <th>text</th>\n",
       "      <th>toxic</th>\n",
       "    </tr>\n",
       "  </thead>\n",
       "  <tbody>\n",
       "    <tr>\n",
       "      <th>0</th>\n",
       "      <td>Explanation\\nWhy the edits made under my usern...</td>\n",
       "      <td>0</td>\n",
       "    </tr>\n",
       "    <tr>\n",
       "      <th>1</th>\n",
       "      <td>D'aww! He matches this background colour I'm s...</td>\n",
       "      <td>0</td>\n",
       "    </tr>\n",
       "    <tr>\n",
       "      <th>2</th>\n",
       "      <td>Hey man, I'm really not trying to edit war. It...</td>\n",
       "      <td>0</td>\n",
       "    </tr>\n",
       "    <tr>\n",
       "      <th>3</th>\n",
       "      <td>\"\\nMore\\nI can't make any real suggestions on ...</td>\n",
       "      <td>0</td>\n",
       "    </tr>\n",
       "    <tr>\n",
       "      <th>4</th>\n",
       "      <td>You, sir, are my hero. Any chance you remember...</td>\n",
       "      <td>0</td>\n",
       "    </tr>\n",
       "  </tbody>\n",
       "</table>\n",
       "</div>"
      ],
      "text/plain": [
       "                                                text  toxic\n",
       "0  Explanation\\nWhy the edits made under my usern...      0\n",
       "1  D'aww! He matches this background colour I'm s...      0\n",
       "2  Hey man, I'm really not trying to edit war. It...      0\n",
       "3  \"\\nMore\\nI can't make any real suggestions on ...      0\n",
       "4  You, sir, are my hero. Any chance you remember...      0"
      ]
     },
     "metadata": {},
     "output_type": "display_data"
    },
    {
     "name": "stdout",
     "output_type": "stream",
     "text": [
      "<class 'pandas.core.frame.DataFrame'>\n",
      "Int64Index: 159292 entries, 0 to 159450\n",
      "Data columns (total 2 columns):\n",
      " #   Column  Non-Null Count   Dtype \n",
      "---  ------  --------------   ----- \n",
      " 0   text    159292 non-null  object\n",
      " 1   toxic   159292 non-null  int64 \n",
      "dtypes: int64(1), object(1)\n",
      "memory usage: 3.6+ MB\n"
     ]
    }
   ],
   "source": [
    "pth1 = '/datasets/toxic_comments.csv'\n",
    "pth2 = 'https://code.s3.yandex.net/datasets/toxic_comments.csv'\n",
    "\n",
    "if os.path.exists(pth1):\n",
    "    data= pd.read_csv(pth1, parse_dates=[0], index_col=[0])\n",
    "elif os.path.exists(pth2):\n",
    "    data= pd.read_csv(pth2, parse_dates=[0], index_col=[0])\n",
    "else:\n",
    "    print('Something is wrong')\n",
    "    \n",
    "display(data.head())\n",
    "data.info()"
   ]
  },
  {
   "cell_type": "code",
   "execution_count": 3,
   "metadata": {},
   "outputs": [
    {
     "data": {
      "text/plain": [
       "0"
      ]
     },
     "execution_count": 3,
     "metadata": {},
     "output_type": "execute_result"
    }
   ],
   "source": [
    "# проверим наличие дубликатов\n",
    "data.duplicated().sum()"
   ]
  },
  {
   "cell_type": "code",
   "execution_count": 4,
   "metadata": {},
   "outputs": [
    {
     "data": {
      "text/plain": [
       "0    143106\n",
       "1     16186\n",
       "Name: toxic, dtype: int64"
      ]
     },
     "execution_count": 4,
     "metadata": {},
     "output_type": "execute_result"
    }
   ],
   "source": [
    "# найдем уникальные значения для столбца toxic\n",
    "data.toxic.value_counts()"
   ]
  },
  {
   "cell_type": "code",
   "execution_count": 5,
   "metadata": {},
   "outputs": [],
   "source": [
    "# очистим и лемматизируем текст\n",
    "def clear_text(text):\n",
    "    text = re.sub(r\"[^a-zA-Z']\", ' ', text)\n",
    "    return ' '.join(text.split())"
   ]
  },
  {
   "cell_type": "code",
   "execution_count": 6,
   "metadata": {},
   "outputs": [],
   "source": [
    "def lemmatize(text):\n",
    "    m = WordNetLemmatizer()\n",
    "    txt_list = nltk.word_tokenize(text)\n",
    "    pos_tags = pos_tag(txt_list)\n",
    "    lemmatized_words = []\n",
    "    for word, tag in pos_tags:\n",
    "        # Преобразуем тег NLTK в формат, который понимает WordNetLemmatizer\n",
    "        if tag.startswith('J'):\n",
    "            pos = 'a'  # прилагательные\n",
    "        elif tag.startswith('V'):\n",
    "            pos = 'v'  # глаголы\n",
    "        elif tag.startswith('N'):\n",
    "            pos = 'n'  # существительные\n",
    "        elif tag.startswith('R'):\n",
    "            pos = 'r'  # наречия\n",
    "        else:\n",
    "            pos = 'n'  # по умолчанию используем существительное\n",
    "        lemmatized_words.append(m.lemmatize(word, pos))\n",
    "    return ' '.join(lemmatized_words)"
   ]
  },
  {
   "cell_type": "code",
   "execution_count": 7,
   "metadata": {},
   "outputs": [
    {
     "name": "stdout",
     "output_type": "stream",
     "text": [
      "                                                text\n",
      "0  The striped bats are hanging on their feet for...\n",
      "1      you should be ashamed of yourself went worked\n",
      "0    The striped bat be hang on their foot for best\n",
      "1         you should be ashamed of yourself go work\n",
      "Name: text, dtype: object\n"
     ]
    }
   ],
   "source": [
    "# тестируем добавление POS тегов\n",
    "sentence1 = \"The striped bats are hanging on their feet for best\"\n",
    "sentence2 = \"you should be ashamed of yourself went worked\"\n",
    "df_my = pd.DataFrame([sentence1, sentence2], columns = ['text'])\n",
    "print(df_my)\n",
    "print(df_my['text'].apply(lemmatize))"
   ]
  },
  {
   "cell_type": "code",
   "execution_count": 8,
   "metadata": {},
   "outputs": [
    {
     "data": {
      "application/vnd.jupyter.widget-view+json": {
       "model_id": "a277fbce24dc49a58b3fbd9e81502ee7",
       "version_major": 2,
       "version_minor": 0
      },
      "text/plain": [
       "  0%|          | 0/159292 [00:00<?, ?it/s]"
      ]
     },
     "metadata": {},
     "output_type": "display_data"
    }
   ],
   "source": [
    "data['lemm_text'] = data['text'].progress_apply(lambda x: lemmatize(clear_text(x)))"
   ]
  },
  {
   "cell_type": "code",
   "execution_count": 9,
   "metadata": {},
   "outputs": [
    {
     "data": {
      "text/html": [
       "<div>\n",
       "<style scoped>\n",
       "    .dataframe tbody tr th:only-of-type {\n",
       "        vertical-align: middle;\n",
       "    }\n",
       "\n",
       "    .dataframe tbody tr th {\n",
       "        vertical-align: top;\n",
       "    }\n",
       "\n",
       "    .dataframe thead th {\n",
       "        text-align: right;\n",
       "    }\n",
       "</style>\n",
       "<table border=\"1\" class=\"dataframe\">\n",
       "  <thead>\n",
       "    <tr style=\"text-align: right;\">\n",
       "      <th></th>\n",
       "      <th>text</th>\n",
       "      <th>toxic</th>\n",
       "      <th>lemm_text</th>\n",
       "    </tr>\n",
       "  </thead>\n",
       "  <tbody>\n",
       "    <tr>\n",
       "      <th>0</th>\n",
       "      <td>Explanation\\nWhy the edits made under my usern...</td>\n",
       "      <td>0</td>\n",
       "      <td>Explanation Why the edits make under my userna...</td>\n",
       "    </tr>\n",
       "    <tr>\n",
       "      <th>1</th>\n",
       "      <td>D'aww! He matches this background colour I'm s...</td>\n",
       "      <td>0</td>\n",
       "      <td>D'aww He match this background colour I 'm see...</td>\n",
       "    </tr>\n",
       "    <tr>\n",
       "      <th>2</th>\n",
       "      <td>Hey man, I'm really not trying to edit war. It...</td>\n",
       "      <td>0</td>\n",
       "      <td>Hey man I 'm really not try to edit war It 's ...</td>\n",
       "    </tr>\n",
       "    <tr>\n",
       "      <th>3</th>\n",
       "      <td>\"\\nMore\\nI can't make any real suggestions on ...</td>\n",
       "      <td>0</td>\n",
       "      <td>More I ca n't make any real suggestion on impr...</td>\n",
       "    </tr>\n",
       "    <tr>\n",
       "      <th>4</th>\n",
       "      <td>You, sir, are my hero. Any chance you remember...</td>\n",
       "      <td>0</td>\n",
       "      <td>You sir be my hero Any chance you remember wha...</td>\n",
       "    </tr>\n",
       "  </tbody>\n",
       "</table>\n",
       "</div>"
      ],
      "text/plain": [
       "                                                text  toxic  \\\n",
       "0  Explanation\\nWhy the edits made under my usern...      0   \n",
       "1  D'aww! He matches this background colour I'm s...      0   \n",
       "2  Hey man, I'm really not trying to edit war. It...      0   \n",
       "3  \"\\nMore\\nI can't make any real suggestions on ...      0   \n",
       "4  You, sir, are my hero. Any chance you remember...      0   \n",
       "\n",
       "                                           lemm_text  \n",
       "0  Explanation Why the edits make under my userna...  \n",
       "1  D'aww He match this background colour I 'm see...  \n",
       "2  Hey man I 'm really not try to edit war It 's ...  \n",
       "3  More I ca n't make any real suggestion on impr...  \n",
       "4  You sir be my hero Any chance you remember wha...  "
      ]
     },
     "execution_count": 9,
     "metadata": {},
     "output_type": "execute_result"
    }
   ],
   "source": [
    "data.head()"
   ]
  },
  {
   "cell_type": "code",
   "execution_count": 10,
   "metadata": {},
   "outputs": [],
   "source": [
    "# подготовим выборки\n",
    "train, test = train_test_split(data, test_size=0.1, random_state=12345)\n",
    "\n",
    "target_train = train['toxic']\n",
    "features_train = train['lemm_text']\n",
    "\n",
    "target_test = test['toxic']\n",
    "features_test = test['lemm_text']"
   ]
  },
  {
   "cell_type": "code",
   "execution_count": 11,
   "metadata": {},
   "outputs": [
    {
     "data": {
      "application/vnd.jupyter.widget-view+json": {
       "model_id": "32d7760cca874ce098ead59cf478c1d7",
       "version_major": 2,
       "version_minor": 0
      },
      "text/plain": [
       "  0%|          | 0/143362 [00:00<?, ?it/s]"
      ]
     },
     "metadata": {},
     "output_type": "display_data"
    }
   ],
   "source": [
    "# cоздадим матрицу cо значениями TF-IDF по корпусу и укажим стоп-слова \n",
    "stopwords_ = set(stopwords.words('english'))\n",
    "count_tf_idf = TfidfVectorizer(stop_words=stopwords_)\n",
    "tf_idf = count_tf_idf.fit_transform(tqdm(features_train))\n",
    "tf_idf_test = count_tf_idf.transform(features_test)"
   ]
  },
  {
   "cell_type": "markdown",
   "metadata": {},
   "source": [
    "Выводы:\n",
    "\n",
    "В датафрейме data 159292 записей, названия столбцов адекватны содержащимся в них данным. Было проверено, нет ли дубликатов. Выявлено, что в датафрейме 143106 нетоксичных комментарией и 16186 токсичных. Текст был очищен и лемматизирован с помощью WordNetLemmatizer, был создан столбец с лемматизированным текстом. Были подготовлены тестовые и тренировочные выборки для обучения. Создана матрица cо значениями TF-IDF и указаны стоп-слова. Данные готовы к обучению."
   ]
  },
  {
   "cell_type": "markdown",
   "metadata": {},
   "source": [
    "## Обучение"
   ]
  },
  {
   "cell_type": "markdown",
   "metadata": {},
   "source": [
    "Модель LogisticRegression"
   ]
  },
  {
   "cell_type": "code",
   "execution_count": 12,
   "metadata": {},
   "outputs": [
    {
     "name": "stdout",
     "output_type": "stream",
     "text": [
      "Значение C: 1\n",
      "F1_score на валидационных данных: 0.7400510587175252\n",
      "\n",
      "Значение C: 2\n",
      "F1_score на валидационных данных: 0.7450800915331808\n",
      "\n",
      "Значение C: 3\n",
      "F1_score на валидационных данных: 0.7489966038900896\n",
      "\n",
      "Значение C: 4\n",
      "F1_score на валидационных данных: 0.7511693171188026\n",
      "\n",
      "Значение C: 5\n",
      "F1_score на валидационных данных: 0.7533364735437273\n",
      "\n",
      "Значение C: 6\n",
      "F1_score на валидационных данных: 0.7558856059409069\n",
      "\n",
      "Значение C: 7\n",
      "F1_score на валидационных данных: 0.756585211044113\n",
      "\n",
      "Значение C: 8\n",
      "F1_score на валидационных данных: 0.7552514322087841\n",
      "\n",
      "Значение C: 9\n",
      "F1_score на валидационных данных: 0.7556618819776715\n",
      "\n",
      "Значение C: 10\n",
      "F1_score на валидационных данных: 0.754444978375781\n",
      "\n",
      "Значение C: 11\n",
      "F1_score на валидационных данных: 0.7546140266409886\n",
      "\n",
      "Значение C: 12\n",
      "F1_score на валидационных данных: 0.7538140356511965\n",
      "\n",
      "Значение C: 13\n",
      "F1_score на валидационных данных: 0.7535812007081925\n",
      "\n",
      "Значение C: 14\n",
      "F1_score на валидационных данных: 0.7533011272141708\n",
      "\n",
      "Лучшее значение C: 7\n",
      "Лучший F1_score на валидационных данных: 0.756585211044113\n"
     ]
    }
   ],
   "source": [
    "# разделим обучающие данные на обучающую и валидационную выборки\n",
    "X_train_split, X_val_split, y_train_split, y_val_split = train_test_split(\n",
    "    tf_idf, target_train, test_size=0.2, random_state=12345\n",
    ")\n",
    "\n",
    "# функция для оценки модели\n",
    "def evaluate_model(model, X_train, y_train, X_val, y_val):\n",
    "    model.fit(X_train, y_train)  \n",
    "    predicted = model.predict(X_val)  \n",
    "    return f1_score(y_val, predicted)  \n",
    "\n",
    "# поиск лучшего значения C\n",
    "best_score = 0\n",
    "best_c = None\n",
    "\n",
    "for c in range(1, 15):\n",
    "    model = LogisticRegression(\n",
    "        class_weight='balanced',\n",
    "        random_state=12345,\n",
    "        max_iter=100,\n",
    "        solver='liblinear',\n",
    "        C=c\n",
    "    )\n",
    "\n",
    "    # оценка модели на разделенной валидационной выборке\n",
    "    score = evaluate_model(model, X_train_split, y_train_split, X_val_split, y_val_split)\n",
    "\n",
    "    print(\"Значение C:\", c)\n",
    "    print(\"F1_score на валидационных данных:\", score)\n",
    "    print(\"\")\n",
    "\n",
    "    if score > best_score:\n",
    "        best_score = score\n",
    "        best_c = c\n",
    "\n",
    "print(\"Лучшее значение C:\", best_c)\n",
    "print(\"Лучший F1_score на валидационных данных:\", best_score)"
   ]
  },
  {
   "cell_type": "markdown",
   "metadata": {},
   "source": [
    "Модель LGBMClassifier"
   ]
  },
  {
   "cell_type": "code",
   "execution_count": 13,
   "metadata": {},
   "outputs": [],
   "source": [
    "model = LGBMClassifier(random_state=12345, class_weight='balanced')\n",
    "parameters = {\n",
    "    'max_depth': [5],\n",
    "    'num_leaves': [10],\n",
    "    'learning_rate': [0.1],\n",
    "    'n_estimators' : [250],\n",
    "}\n",
    "lgbm_grid = GridSearchCV(model, parameters, scoring='f1', cv=3, n_jobs=-1)"
   ]
  },
  {
   "cell_type": "code",
   "execution_count": 14,
   "metadata": {},
   "outputs": [
    {
     "data": {
      "text/plain": [
       "GridSearchCV(cv=3,\n",
       "             estimator=LGBMClassifier(class_weight='balanced',\n",
       "                                      random_state=12345),\n",
       "             n_jobs=-1,\n",
       "             param_grid={'learning_rate': [0.1], 'max_depth': [5],\n",
       "                         'n_estimators': [250], 'num_leaves': [10]},\n",
       "             scoring='f1')"
      ]
     },
     "execution_count": 14,
     "metadata": {},
     "output_type": "execute_result"
    }
   ],
   "source": [
    "lgbm_grid.fit(tf_idf, target_train)"
   ]
  },
  {
   "cell_type": "code",
   "execution_count": 15,
   "metadata": {},
   "outputs": [
    {
     "name": "stdout",
     "output_type": "stream",
     "text": [
      "Лучший показатель F1: 0.727\n"
     ]
    }
   ],
   "source": [
    "lgbm_fit_score = lgbm_grid.best_score_\n",
    "print(\n",
    "    f'Лучший показатель F1: {lgbm_fit_score:.3f}'\n",
    ")"
   ]
  },
  {
   "cell_type": "markdown",
   "metadata": {},
   "source": [
    "Тестирование"
   ]
  },
  {
   "cell_type": "code",
   "execution_count": 16,
   "metadata": {},
   "outputs": [
    {
     "name": "stdout",
     "output_type": "stream",
     "text": [
      "F1-score: 0.755\n",
      "Количество истинно отрицательных результатов: 13720\n",
      "Количество ложноотрицательных результатов: 272\n",
      "Количество истинно положительных результатов: 1340\n",
      "Количество ложноположительных результатов: 598\n",
      "\n"
     ]
    }
   ],
   "source": [
    "model = LogisticRegression(class_weight='balanced', \n",
    "                          random_state=12345, \n",
    "                          max_iter=100, \n",
    "                          solver='liblinear',\n",
    "                          C=7)\n",
    "model.fit(tf_idf, target_train)\n",
    "predictions = model.predict(tf_idf_test)\n",
    "lin_f1 = f1_score(target_test, predictions)\n",
    "lin_conf_mat = confusion_matrix(target_test, predictions)\n",
    "\n",
    "print(\n",
    "    f'F1-score: {lin_f1:.3f}\\n'\n",
    "    f'Количество истинно отрицательных результатов: {lin_conf_mat[0][0]}\\n'\n",
    "    f'Количество ложноотрицательных результатов: {lin_conf_mat[1][0]}\\n'\n",
    "    f'Количество истинно положительных результатов: {lin_conf_mat[1][1]}\\n'\n",
    "    f'Количество ложноположительных результатов: {lin_conf_mat[0][1]}\\n'\n",
    ")"
   ]
  },
  {
   "cell_type": "markdown",
   "metadata": {},
   "source": [
    "Выводы: \n",
    "\n",
    "Лучший результат показала модель логистической регрессии с параметрами С = 7, max_iter = 100 был достигнут целевой порог: F1-score выше 0.75, у этой модели наименьший показатель ложноотрицательных результатов - 272 (что является преимуществом для данной задачи)."
   ]
  },
  {
   "cell_type": "markdown",
   "metadata": {},
   "source": [
    "## Выводы"
   ]
  },
  {
   "cell_type": "markdown",
   "metadata": {},
   "source": [
    "В датафрейме data 159292 записей, названия столбцов адекватны содержащимся в них данным. Было проверено, нет ли дубликатов. Выявлено, что в датафрейме 143106 нетоксичных комментарией и 16186 токсичных. Текст был очищен и лемматизирован с помощью WordNetLemmatizer, был создан столбец с лемматизированным текстом. Были подготовлены тестовые и тренировочные выборки для обучения. Создана матрица cо значениями TF-IDF и указаны стоп-слова.\n",
    "\n",
    "Лучший результат показала модель логистической регрессии с параметрами С = 7, max_iter = 100 был достигнут целевой порог: F1-score выше 0.75, у этой модели наименьший показатель ложноотрицательных результатов - 272 (что является преимуществом для данной задачи)."
   ]
  },
  {
   "cell_type": "markdown",
   "metadata": {},
   "source": [
    "## Чек-лист проверки"
   ]
  },
  {
   "cell_type": "markdown",
   "metadata": {},
   "source": [
    "- [x]  Jupyter Notebook открыт\n",
    "- [x]  Весь код выполняется без ошибок\n",
    "- [x]  Ячейки с кодом расположены в порядке исполнения\n",
    "- [x]  Данные загружены и подготовлены\n",
    "- [x]  Модели обучены\n",
    "- [x]  Значение метрики *F1* не меньше 0.75\n",
    "- [x]  Выводы написаны"
   ]
  }
 ],
 "metadata": {
  "ExecuteTimeLog": [
   {
    "duration": 3134,
    "start_time": "2024-12-11T16:17:52.167Z"
   },
   {
    "duration": 1444,
    "start_time": "2024-12-11T16:17:58.074Z"
   },
   {
    "duration": 6,
    "start_time": "2024-12-11T16:19:42.172Z"
   },
   {
    "duration": 291,
    "start_time": "2024-12-11T16:20:34.612Z"
   },
   {
    "duration": 129,
    "start_time": "2024-12-11T16:30:24.411Z"
   },
   {
    "duration": 211,
    "start_time": "2024-12-11T16:32:07.645Z"
   },
   {
    "duration": 2006,
    "start_time": "2024-12-11T16:48:33.378Z"
   },
   {
    "duration": 1074,
    "start_time": "2024-12-11T16:48:35.386Z"
   },
   {
    "duration": 254,
    "start_time": "2024-12-11T16:48:36.462Z"
   },
   {
    "duration": 6,
    "start_time": "2024-12-11T16:48:36.717Z"
   },
   {
    "duration": 21,
    "start_time": "2024-12-11T16:48:36.725Z"
   },
   {
    "duration": 143,
    "start_time": "2024-12-11T16:48:36.748Z"
   },
   {
    "duration": 0,
    "start_time": "2024-12-11T16:48:36.893Z"
   },
   {
    "duration": 0,
    "start_time": "2024-12-11T16:48:36.894Z"
   },
   {
    "duration": 0,
    "start_time": "2024-12-11T16:48:36.895Z"
   },
   {
    "duration": 0,
    "start_time": "2024-12-11T16:48:36.896Z"
   },
   {
    "duration": 0,
    "start_time": "2024-12-11T16:48:36.897Z"
   },
   {
    "duration": 0,
    "start_time": "2024-12-11T16:48:36.898Z"
   },
   {
    "duration": 0,
    "start_time": "2024-12-11T16:48:36.899Z"
   },
   {
    "duration": 0,
    "start_time": "2024-12-11T16:48:36.899Z"
   },
   {
    "duration": 1979,
    "start_time": "2024-12-11T19:32:44.069Z"
   },
   {
    "duration": 1065,
    "start_time": "2024-12-11T19:32:46.049Z"
   },
   {
    "duration": 231,
    "start_time": "2024-12-11T19:32:47.116Z"
   },
   {
    "duration": 6,
    "start_time": "2024-12-11T19:32:47.349Z"
   },
   {
    "duration": 17,
    "start_time": "2024-12-11T19:32:47.357Z"
   },
   {
    "duration": 137,
    "start_time": "2024-12-11T19:32:47.375Z"
   },
   {
    "duration": 0,
    "start_time": "2024-12-11T19:32:47.513Z"
   },
   {
    "duration": 0,
    "start_time": "2024-12-11T19:32:47.515Z"
   },
   {
    "duration": 0,
    "start_time": "2024-12-11T19:32:47.516Z"
   },
   {
    "duration": 0,
    "start_time": "2024-12-11T19:32:47.517Z"
   },
   {
    "duration": 0,
    "start_time": "2024-12-11T19:32:47.518Z"
   },
   {
    "duration": 0,
    "start_time": "2024-12-11T19:32:47.519Z"
   },
   {
    "duration": 0,
    "start_time": "2024-12-11T19:32:47.520Z"
   },
   {
    "duration": 0,
    "start_time": "2024-12-11T19:32:47.521Z"
   },
   {
    "duration": 7726,
    "start_time": "2024-12-13T08:01:51.827Z"
   },
   {
    "duration": 1635,
    "start_time": "2024-12-13T08:01:59.556Z"
   },
   {
    "duration": 231,
    "start_time": "2024-12-13T08:02:01.193Z"
   },
   {
    "duration": 6,
    "start_time": "2024-12-13T08:02:01.426Z"
   },
   {
    "duration": 24,
    "start_time": "2024-12-13T08:02:01.434Z"
   },
   {
    "duration": 155,
    "start_time": "2024-12-13T08:02:01.459Z"
   },
   {
    "duration": 0,
    "start_time": "2024-12-13T08:02:01.616Z"
   },
   {
    "duration": 0,
    "start_time": "2024-12-13T08:02:01.617Z"
   },
   {
    "duration": 0,
    "start_time": "2024-12-13T08:02:01.618Z"
   },
   {
    "duration": 0,
    "start_time": "2024-12-13T08:02:01.619Z"
   },
   {
    "duration": 0,
    "start_time": "2024-12-13T08:02:01.620Z"
   },
   {
    "duration": 0,
    "start_time": "2024-12-13T08:02:01.621Z"
   },
   {
    "duration": 0,
    "start_time": "2024-12-13T08:02:01.629Z"
   },
   {
    "duration": 0,
    "start_time": "2024-12-13T08:02:01.630Z"
   },
   {
    "duration": 2132,
    "start_time": "2024-12-13T08:02:54.531Z"
   },
   {
    "duration": 91,
    "start_time": "2024-12-13T08:02:56.665Z"
   },
   {
    "duration": 1103,
    "start_time": "2024-12-13T08:02:56.757Z"
   },
   {
    "duration": 243,
    "start_time": "2024-12-13T08:02:57.862Z"
   },
   {
    "duration": 6,
    "start_time": "2024-12-13T08:02:58.108Z"
   },
   {
    "duration": 17,
    "start_time": "2024-12-13T08:02:58.115Z"
   },
   {
    "duration": 97361,
    "start_time": "2024-12-13T08:02:58.134Z"
   },
   {
    "duration": 7,
    "start_time": "2024-12-13T08:04:35.497Z"
   },
   {
    "duration": 73,
    "start_time": "2024-12-13T08:04:35.506Z"
   },
   {
    "duration": 7150,
    "start_time": "2024-12-13T08:04:35.581Z"
   },
   {
    "duration": 4,
    "start_time": "2024-12-13T08:04:42.732Z"
   },
   {
    "duration": 686,
    "start_time": "2024-12-13T08:04:42.738Z"
   },
   {
    "duration": 4,
    "start_time": "2024-12-13T08:04:43.426Z"
   },
   {
    "duration": 100026,
    "start_time": "2024-12-13T08:04:43.433Z"
   },
   {
    "duration": 22,
    "start_time": "2024-12-13T08:06:23.461Z"
   },
   {
    "duration": 2119,
    "start_time": "2024-12-13T08:17:26.085Z"
   },
   {
    "duration": 94,
    "start_time": "2024-12-13T08:17:28.206Z"
   },
   {
    "duration": 1172,
    "start_time": "2024-12-13T08:17:28.302Z"
   },
   {
    "duration": 246,
    "start_time": "2024-12-13T08:17:29.476Z"
   },
   {
    "duration": 6,
    "start_time": "2024-12-13T08:17:29.729Z"
   },
   {
    "duration": 4,
    "start_time": "2024-12-13T08:17:29.737Z"
   },
   {
    "duration": 102009,
    "start_time": "2024-12-13T08:17:29.742Z"
   },
   {
    "duration": 8,
    "start_time": "2024-12-13T08:19:11.752Z"
   },
   {
    "duration": 69,
    "start_time": "2024-12-13T08:19:11.761Z"
   },
   {
    "duration": 8465,
    "start_time": "2024-12-13T08:19:11.833Z"
   },
   {
    "duration": 4,
    "start_time": "2024-12-13T08:19:20.300Z"
   },
   {
    "duration": 779,
    "start_time": "2024-12-13T08:19:20.305Z"
   },
   {
    "duration": 4,
    "start_time": "2024-12-13T08:19:21.085Z"
   },
   {
    "duration": 99865,
    "start_time": "2024-12-13T08:19:21.091Z"
   },
   {
    "duration": 33,
    "start_time": "2024-12-13T08:21:00.957Z"
   },
   {
    "duration": 4,
    "start_time": "2024-12-13T08:21:00.992Z"
   },
   {
    "duration": 7988856,
    "start_time": "2024-12-13T08:21:00.997Z"
   },
   {
    "duration": 4,
    "start_time": "2024-12-13T10:34:09.854Z"
   },
   {
    "duration": 24,
    "start_time": "2024-12-13T10:34:09.859Z"
   },
   {
    "duration": 22270,
    "start_time": "2024-12-13T10:34:09.885Z"
   },
   {
    "duration": 2032,
    "start_time": "2024-12-13T11:26:58.568Z"
   },
   {
    "duration": 1085,
    "start_time": "2024-12-13T11:27:00.602Z"
   },
   {
    "duration": 242,
    "start_time": "2024-12-13T11:27:01.688Z"
   },
   {
    "duration": 6,
    "start_time": "2024-12-13T11:27:01.932Z"
   },
   {
    "duration": 83,
    "start_time": "2024-12-13T11:27:01.940Z"
   },
   {
    "duration": 165,
    "start_time": "2024-12-13T11:27:02.025Z"
   },
   {
    "duration": 0,
    "start_time": "2024-12-13T11:27:02.193Z"
   },
   {
    "duration": 0,
    "start_time": "2024-12-13T11:27:02.194Z"
   },
   {
    "duration": 0,
    "start_time": "2024-12-13T11:27:02.195Z"
   },
   {
    "duration": 0,
    "start_time": "2024-12-13T11:27:02.196Z"
   },
   {
    "duration": 0,
    "start_time": "2024-12-13T11:27:02.197Z"
   },
   {
    "duration": 0,
    "start_time": "2024-12-13T11:27:02.198Z"
   },
   {
    "duration": 0,
    "start_time": "2024-12-13T11:27:02.198Z"
   },
   {
    "duration": 0,
    "start_time": "2024-12-13T11:27:02.199Z"
   },
   {
    "duration": 0,
    "start_time": "2024-12-13T11:27:02.200Z"
   },
   {
    "duration": 0,
    "start_time": "2024-12-13T11:27:02.201Z"
   },
   {
    "duration": 0,
    "start_time": "2024-12-13T11:27:02.202Z"
   },
   {
    "duration": 0,
    "start_time": "2024-12-13T11:27:02.203Z"
   },
   {
    "duration": 0,
    "start_time": "2024-12-13T11:27:02.204Z"
   },
   {
    "duration": 0,
    "start_time": "2024-12-13T11:27:02.205Z"
   },
   {
    "duration": 0,
    "start_time": "2024-12-13T11:27:02.205Z"
   },
   {
    "duration": 0,
    "start_time": "2024-12-13T11:27:02.206Z"
   },
   {
    "duration": 0,
    "start_time": "2024-12-13T11:27:02.207Z"
   },
   {
    "duration": 2053,
    "start_time": "2024-12-13T11:27:55.461Z"
   },
   {
    "duration": 26,
    "start_time": "2024-12-13T11:27:57.516Z"
   },
   {
    "duration": 1125,
    "start_time": "2024-12-13T11:27:57.543Z"
   },
   {
    "duration": 241,
    "start_time": "2024-12-13T11:27:58.670Z"
   },
   {
    "duration": 18,
    "start_time": "2024-12-13T11:27:58.914Z"
   },
   {
    "duration": 8,
    "start_time": "2024-12-13T11:27:58.934Z"
   },
   {
    "duration": 163,
    "start_time": "2024-12-13T11:27:58.944Z"
   },
   {
    "duration": 0,
    "start_time": "2024-12-13T11:27:59.109Z"
   },
   {
    "duration": 0,
    "start_time": "2024-12-13T11:27:59.110Z"
   },
   {
    "duration": 0,
    "start_time": "2024-12-13T11:27:59.111Z"
   },
   {
    "duration": 0,
    "start_time": "2024-12-13T11:27:59.114Z"
   },
   {
    "duration": 0,
    "start_time": "2024-12-13T11:27:59.114Z"
   },
   {
    "duration": 0,
    "start_time": "2024-12-13T11:27:59.115Z"
   },
   {
    "duration": 0,
    "start_time": "2024-12-13T11:27:59.116Z"
   },
   {
    "duration": 0,
    "start_time": "2024-12-13T11:27:59.130Z"
   },
   {
    "duration": 0,
    "start_time": "2024-12-13T11:27:59.131Z"
   },
   {
    "duration": 0,
    "start_time": "2024-12-13T11:27:59.132Z"
   },
   {
    "duration": 0,
    "start_time": "2024-12-13T11:27:59.134Z"
   },
   {
    "duration": 0,
    "start_time": "2024-12-13T11:27:59.134Z"
   },
   {
    "duration": 0,
    "start_time": "2024-12-13T11:27:59.135Z"
   },
   {
    "duration": 0,
    "start_time": "2024-12-13T11:27:59.137Z"
   },
   {
    "duration": 0,
    "start_time": "2024-12-13T11:27:59.138Z"
   },
   {
    "duration": 0,
    "start_time": "2024-12-13T11:27:59.139Z"
   },
   {
    "duration": 0,
    "start_time": "2024-12-13T11:27:59.140Z"
   },
   {
    "duration": 2129,
    "start_time": "2024-12-13T11:28:13.831Z"
   },
   {
    "duration": 22,
    "start_time": "2024-12-13T11:28:15.962Z"
   },
   {
    "duration": 1087,
    "start_time": "2024-12-13T11:28:15.985Z"
   },
   {
    "duration": 249,
    "start_time": "2024-12-13T11:28:17.074Z"
   },
   {
    "duration": 6,
    "start_time": "2024-12-13T11:28:17.325Z"
   },
   {
    "duration": 7,
    "start_time": "2024-12-13T11:28:17.332Z"
   },
   {
    "duration": 156,
    "start_time": "2024-12-13T11:28:17.340Z"
   },
   {
    "duration": 0,
    "start_time": "2024-12-13T11:28:17.498Z"
   },
   {
    "duration": 0,
    "start_time": "2024-12-13T11:28:17.499Z"
   },
   {
    "duration": 0,
    "start_time": "2024-12-13T11:28:17.499Z"
   },
   {
    "duration": 0,
    "start_time": "2024-12-13T11:28:17.502Z"
   },
   {
    "duration": 0,
    "start_time": "2024-12-13T11:28:17.503Z"
   },
   {
    "duration": 0,
    "start_time": "2024-12-13T11:28:17.504Z"
   },
   {
    "duration": 0,
    "start_time": "2024-12-13T11:28:17.505Z"
   },
   {
    "duration": 0,
    "start_time": "2024-12-13T11:28:17.506Z"
   },
   {
    "duration": 0,
    "start_time": "2024-12-13T11:28:17.508Z"
   },
   {
    "duration": 0,
    "start_time": "2024-12-13T11:28:17.509Z"
   },
   {
    "duration": 0,
    "start_time": "2024-12-13T11:28:17.510Z"
   },
   {
    "duration": 0,
    "start_time": "2024-12-13T11:28:17.529Z"
   },
   {
    "duration": 0,
    "start_time": "2024-12-13T11:28:17.531Z"
   },
   {
    "duration": 0,
    "start_time": "2024-12-13T11:28:17.532Z"
   },
   {
    "duration": 0,
    "start_time": "2024-12-13T11:28:17.533Z"
   },
   {
    "duration": 0,
    "start_time": "2024-12-13T11:28:17.534Z"
   },
   {
    "duration": 0,
    "start_time": "2024-12-13T11:28:17.535Z"
   },
   {
    "duration": 1954,
    "start_time": "2024-12-13T11:28:50.711Z"
   },
   {
    "duration": 81,
    "start_time": "2024-12-13T11:28:52.666Z"
   },
   {
    "duration": 1098,
    "start_time": "2024-12-13T11:28:52.748Z"
   },
   {
    "duration": 246,
    "start_time": "2024-12-13T11:28:53.848Z"
   },
   {
    "duration": 7,
    "start_time": "2024-12-13T11:28:54.097Z"
   },
   {
    "duration": 4,
    "start_time": "2024-12-13T11:28:54.106Z"
   },
   {
    "duration": 171,
    "start_time": "2024-12-13T11:28:54.112Z"
   },
   {
    "duration": 0,
    "start_time": "2024-12-13T11:28:54.287Z"
   },
   {
    "duration": 0,
    "start_time": "2024-12-13T11:28:54.290Z"
   },
   {
    "duration": 0,
    "start_time": "2024-12-13T11:28:54.291Z"
   },
   {
    "duration": 0,
    "start_time": "2024-12-13T11:28:54.293Z"
   },
   {
    "duration": 0,
    "start_time": "2024-12-13T11:28:54.294Z"
   },
   {
    "duration": 0,
    "start_time": "2024-12-13T11:28:54.295Z"
   },
   {
    "duration": 0,
    "start_time": "2024-12-13T11:28:54.297Z"
   },
   {
    "duration": 0,
    "start_time": "2024-12-13T11:28:54.298Z"
   },
   {
    "duration": 0,
    "start_time": "2024-12-13T11:28:54.300Z"
   },
   {
    "duration": 0,
    "start_time": "2024-12-13T11:28:54.301Z"
   },
   {
    "duration": 0,
    "start_time": "2024-12-13T11:28:54.303Z"
   },
   {
    "duration": 0,
    "start_time": "2024-12-13T11:28:54.330Z"
   },
   {
    "duration": 0,
    "start_time": "2024-12-13T11:28:54.331Z"
   },
   {
    "duration": 0,
    "start_time": "2024-12-13T11:28:54.333Z"
   },
   {
    "duration": 0,
    "start_time": "2024-12-13T11:28:54.335Z"
   },
   {
    "duration": 0,
    "start_time": "2024-12-13T11:28:54.336Z"
   },
   {
    "duration": 0,
    "start_time": "2024-12-13T11:28:54.337Z"
   },
   {
    "duration": 1947,
    "start_time": "2024-12-13T11:30:43.038Z"
   },
   {
    "duration": 90,
    "start_time": "2024-12-13T11:30:44.987Z"
   },
   {
    "duration": 1104,
    "start_time": "2024-12-13T11:30:45.079Z"
   },
   {
    "duration": 245,
    "start_time": "2024-12-13T11:30:46.185Z"
   },
   {
    "duration": 6,
    "start_time": "2024-12-13T11:30:46.432Z"
   },
   {
    "duration": 59,
    "start_time": "2024-12-13T11:30:46.440Z"
   },
   {
    "duration": 98172,
    "start_time": "2024-12-13T11:30:46.501Z"
   },
   {
    "duration": 13,
    "start_time": "2024-12-13T11:32:24.676Z"
   },
   {
    "duration": 86,
    "start_time": "2024-12-13T11:32:24.691Z"
   },
   {
    "duration": 7113,
    "start_time": "2024-12-13T11:32:24.779Z"
   },
   {
    "duration": 4,
    "start_time": "2024-12-13T11:32:31.894Z"
   },
   {
    "duration": 706,
    "start_time": "2024-12-13T11:32:31.899Z"
   },
   {
    "duration": 4,
    "start_time": "2024-12-13T11:32:32.607Z"
   },
   {
    "duration": 99849,
    "start_time": "2024-12-13T11:32:32.613Z"
   },
   {
    "duration": 22,
    "start_time": "2024-12-13T11:34:12.464Z"
   },
   {
    "duration": 81,
    "start_time": "2024-12-13T11:34:12.488Z"
   },
   {
    "duration": 0,
    "start_time": "2024-12-13T11:34:12.571Z"
   },
   {
    "duration": 0,
    "start_time": "2024-12-13T11:34:12.573Z"
   },
   {
    "duration": 0,
    "start_time": "2024-12-13T11:34:12.574Z"
   },
   {
    "duration": 0,
    "start_time": "2024-12-13T11:34:12.576Z"
   },
   {
    "duration": 0,
    "start_time": "2024-12-13T11:34:12.577Z"
   },
   {
    "duration": 0,
    "start_time": "2024-12-13T11:34:12.579Z"
   },
   {
    "duration": 0,
    "start_time": "2024-12-13T11:34:12.580Z"
   },
   {
    "duration": 0,
    "start_time": "2024-12-13T11:34:12.582Z"
   },
   {
    "duration": 2015,
    "start_time": "2024-12-13T11:36:12.726Z"
   },
   {
    "duration": 90,
    "start_time": "2024-12-13T11:36:14.744Z"
   },
   {
    "duration": 1126,
    "start_time": "2024-12-13T11:36:14.836Z"
   },
   {
    "duration": 246,
    "start_time": "2024-12-13T11:36:15.964Z"
   },
   {
    "duration": 19,
    "start_time": "2024-12-13T11:36:16.213Z"
   },
   {
    "duration": 4,
    "start_time": "2024-12-13T11:36:16.234Z"
   },
   {
    "duration": 97606,
    "start_time": "2024-12-13T11:36:16.240Z"
   },
   {
    "duration": 8,
    "start_time": "2024-12-13T11:37:53.847Z"
   },
   {
    "duration": 80,
    "start_time": "2024-12-13T11:37:53.856Z"
   },
   {
    "duration": 7166,
    "start_time": "2024-12-13T11:37:53.938Z"
   },
   {
    "duration": 4,
    "start_time": "2024-12-13T11:38:01.106Z"
   },
   {
    "duration": 695,
    "start_time": "2024-12-13T11:38:01.111Z"
   },
   {
    "duration": 3,
    "start_time": "2024-12-13T11:38:01.808Z"
   },
   {
    "duration": 100047,
    "start_time": "2024-12-13T11:38:01.814Z"
   },
   {
    "duration": 24,
    "start_time": "2024-12-13T11:39:41.863Z"
   },
   {
    "duration": 65,
    "start_time": "2024-12-13T11:39:41.889Z"
   },
   {
    "duration": 160,
    "start_time": "2024-12-13T11:39:41.956Z"
   },
   {
    "duration": 0,
    "start_time": "2024-12-13T11:39:42.118Z"
   },
   {
    "duration": 0,
    "start_time": "2024-12-13T11:39:42.120Z"
   },
   {
    "duration": 0,
    "start_time": "2024-12-13T11:39:42.121Z"
   },
   {
    "duration": 0,
    "start_time": "2024-12-13T11:39:42.122Z"
   },
   {
    "duration": 0,
    "start_time": "2024-12-13T11:39:42.130Z"
   },
   {
    "duration": 0,
    "start_time": "2024-12-13T11:39:42.131Z"
   },
   {
    "duration": 2003,
    "start_time": "2024-12-13T11:42:23.121Z"
   },
   {
    "duration": 87,
    "start_time": "2024-12-13T11:42:25.131Z"
   },
   {
    "duration": 1152,
    "start_time": "2024-12-13T11:42:25.220Z"
   },
   {
    "duration": 247,
    "start_time": "2024-12-13T11:42:26.374Z"
   },
   {
    "duration": 12,
    "start_time": "2024-12-13T11:42:26.624Z"
   },
   {
    "duration": 34,
    "start_time": "2024-12-13T11:42:26.637Z"
   },
   {
    "duration": 98844,
    "start_time": "2024-12-13T11:42:26.673Z"
   },
   {
    "duration": 8,
    "start_time": "2024-12-13T11:44:05.530Z"
   },
   {
    "duration": 69,
    "start_time": "2024-12-13T11:44:05.539Z"
   },
   {
    "duration": 7236,
    "start_time": "2024-12-13T11:44:05.610Z"
   },
   {
    "duration": 3,
    "start_time": "2024-12-13T11:44:12.848Z"
   },
   {
    "duration": 713,
    "start_time": "2024-12-13T11:44:12.853Z"
   },
   {
    "duration": 3,
    "start_time": "2024-12-13T11:44:13.568Z"
   },
   {
    "duration": 99889,
    "start_time": "2024-12-13T11:44:13.574Z"
   },
   {
    "duration": 22,
    "start_time": "2024-12-13T11:45:53.465Z"
   },
   {
    "duration": 66,
    "start_time": "2024-12-13T11:45:53.489Z"
   },
   {
    "duration": 166,
    "start_time": "2024-12-13T11:45:53.557Z"
   },
   {
    "duration": 0,
    "start_time": "2024-12-13T11:45:53.725Z"
   },
   {
    "duration": 0,
    "start_time": "2024-12-13T11:45:53.726Z"
   },
   {
    "duration": 0,
    "start_time": "2024-12-13T11:45:53.727Z"
   },
   {
    "duration": 0,
    "start_time": "2024-12-13T11:45:53.729Z"
   },
   {
    "duration": 0,
    "start_time": "2024-12-13T11:45:53.730Z"
   },
   {
    "duration": 0,
    "start_time": "2024-12-13T11:45:53.731Z"
   },
   {
    "duration": 19,
    "start_time": "2024-12-13T11:47:30.588Z"
   },
   {
    "duration": 20,
    "start_time": "2024-12-13T11:47:33.124Z"
   },
   {
    "duration": 19,
    "start_time": "2024-12-13T11:47:43.644Z"
   },
   {
    "duration": 28,
    "start_time": "2024-12-13T11:48:31.420Z"
   },
   {
    "duration": 2038,
    "start_time": "2024-12-13T12:13:48.693Z"
   },
   {
    "duration": 1115,
    "start_time": "2024-12-13T12:13:50.733Z"
   },
   {
    "duration": 242,
    "start_time": "2024-12-13T12:13:51.850Z"
   },
   {
    "duration": 6,
    "start_time": "2024-12-13T12:13:52.093Z"
   },
   {
    "duration": 14,
    "start_time": "2024-12-13T12:13:52.102Z"
   },
   {
    "duration": 99555,
    "start_time": "2024-12-13T12:13:52.117Z"
   },
   {
    "duration": 8,
    "start_time": "2024-12-13T12:15:31.674Z"
   },
   {
    "duration": 73,
    "start_time": "2024-12-13T12:15:31.684Z"
   },
   {
    "duration": 7701,
    "start_time": "2024-12-13T12:15:31.759Z"
   },
   {
    "duration": 4,
    "start_time": "2024-12-13T12:15:39.462Z"
   },
   {
    "duration": 718,
    "start_time": "2024-12-13T12:15:39.468Z"
   },
   {
    "duration": 167,
    "start_time": "2024-12-13T12:15:40.188Z"
   },
   {
    "duration": 0,
    "start_time": "2024-12-13T12:15:40.357Z"
   },
   {
    "duration": 0,
    "start_time": "2024-12-13T12:15:40.358Z"
   },
   {
    "duration": 0,
    "start_time": "2024-12-13T12:15:40.359Z"
   },
   {
    "duration": 0,
    "start_time": "2024-12-13T12:15:40.361Z"
   },
   {
    "duration": 0,
    "start_time": "2024-12-13T12:15:40.362Z"
   },
   {
    "duration": 0,
    "start_time": "2024-12-13T12:15:40.363Z"
   },
   {
    "duration": 0,
    "start_time": "2024-12-13T12:15:40.364Z"
   },
   {
    "duration": 0,
    "start_time": "2024-12-13T12:15:40.365Z"
   },
   {
    "duration": 0,
    "start_time": "2024-12-13T12:15:40.366Z"
   },
   {
    "duration": 0,
    "start_time": "2024-12-13T12:15:40.367Z"
   },
   {
    "duration": 0,
    "start_time": "2024-12-13T12:15:40.368Z"
   },
   {
    "duration": 0,
    "start_time": "2024-12-13T12:15:40.369Z"
   },
   {
    "duration": 0,
    "start_time": "2024-12-13T12:15:40.370Z"
   },
   {
    "duration": 196461,
    "start_time": "2024-12-13T12:18:30.514Z"
   },
   {
    "duration": 43,
    "start_time": "2024-12-13T12:23:42.530Z"
   },
   {
    "duration": 53,
    "start_time": "2024-12-13T12:23:47.978Z"
   },
   {
    "duration": 190,
    "start_time": "2024-12-13T12:25:04.027Z"
   },
   {
    "duration": 4,
    "start_time": "2024-12-13T12:26:32.203Z"
   },
   {
    "duration": 2429,
    "start_time": "2024-12-13T12:27:36.794Z"
   },
   {
    "duration": 1167,
    "start_time": "2024-12-13T12:27:39.230Z"
   },
   {
    "duration": 245,
    "start_time": "2024-12-13T12:27:40.399Z"
   },
   {
    "duration": 6,
    "start_time": "2024-12-13T12:27:40.646Z"
   },
   {
    "duration": 9,
    "start_time": "2024-12-13T12:27:40.654Z"
   },
   {
    "duration": 98765,
    "start_time": "2024-12-13T12:27:40.665Z"
   },
   {
    "duration": 8,
    "start_time": "2024-12-13T12:29:19.431Z"
   },
   {
    "duration": 60,
    "start_time": "2024-12-13T12:29:19.441Z"
   },
   {
    "duration": 7427,
    "start_time": "2024-12-13T12:29:19.502Z"
   },
   {
    "duration": 4,
    "start_time": "2024-12-13T12:29:26.931Z"
   },
   {
    "duration": 711,
    "start_time": "2024-12-13T12:29:26.936Z"
   },
   {
    "duration": 196627,
    "start_time": "2024-12-13T12:29:27.648Z"
   },
   {
    "duration": 4,
    "start_time": "2024-12-13T12:32:44.277Z"
   },
   {
    "duration": 625079,
    "start_time": "2024-12-13T12:32:44.285Z"
   },
   {
    "duration": 3,
    "start_time": "2024-12-13T12:43:09.366Z"
   },
   {
    "duration": 185,
    "start_time": "2024-12-13T12:43:09.370Z"
   },
   {
    "duration": 0,
    "start_time": "2024-12-13T12:43:09.557Z"
   },
   {
    "duration": 16,
    "start_time": "2024-12-13T12:47:25.062Z"
   },
   {
    "duration": 21334,
    "start_time": "2024-12-13T12:49:22.743Z"
   },
   {
    "duration": 1060,
    "start_time": "2024-12-13T12:49:52.596Z"
   },
   {
    "duration": 2159,
    "start_time": "2024-12-13T12:52:29.232Z"
   },
   {
    "duration": 1209,
    "start_time": "2024-12-13T12:52:31.393Z"
   },
   {
    "duration": 253,
    "start_time": "2024-12-13T12:52:32.603Z"
   },
   {
    "duration": 6,
    "start_time": "2024-12-13T12:52:32.858Z"
   },
   {
    "duration": 15,
    "start_time": "2024-12-13T12:52:32.867Z"
   },
   {
    "duration": 1425,
    "start_time": "2024-12-13T12:52:32.884Z"
   },
   {
    "duration": 0,
    "start_time": "2024-12-13T12:52:34.311Z"
   },
   {
    "duration": 0,
    "start_time": "2024-12-13T12:52:34.313Z"
   },
   {
    "duration": 0,
    "start_time": "2024-12-13T12:52:34.314Z"
   },
   {
    "duration": 0,
    "start_time": "2024-12-13T12:52:34.315Z"
   },
   {
    "duration": 0,
    "start_time": "2024-12-13T12:52:34.316Z"
   },
   {
    "duration": 0,
    "start_time": "2024-12-13T12:52:34.317Z"
   },
   {
    "duration": 0,
    "start_time": "2024-12-13T12:52:34.318Z"
   },
   {
    "duration": 0,
    "start_time": "2024-12-13T12:52:34.319Z"
   },
   {
    "duration": 0,
    "start_time": "2024-12-13T12:52:34.321Z"
   },
   {
    "duration": 0,
    "start_time": "2024-12-13T12:52:34.322Z"
   },
   {
    "duration": 0,
    "start_time": "2024-12-13T12:52:34.323Z"
   },
   {
    "duration": 2081,
    "start_time": "2024-12-13T12:53:18.439Z"
   },
   {
    "duration": 1140,
    "start_time": "2024-12-13T12:53:20.529Z"
   },
   {
    "duration": 254,
    "start_time": "2024-12-13T12:53:21.670Z"
   },
   {
    "duration": 6,
    "start_time": "2024-12-13T12:53:21.929Z"
   },
   {
    "duration": 5,
    "start_time": "2024-12-13T12:53:21.937Z"
   },
   {
    "duration": 103857,
    "start_time": "2024-12-13T12:53:21.943Z"
   },
   {
    "duration": 9,
    "start_time": "2024-12-13T12:55:05.802Z"
   },
   {
    "duration": 91,
    "start_time": "2024-12-13T12:55:05.813Z"
   },
   {
    "duration": 7987,
    "start_time": "2024-12-13T12:55:05.906Z"
   },
   {
    "duration": 3,
    "start_time": "2024-12-13T12:55:13.895Z"
   },
   {
    "duration": 805,
    "start_time": "2024-12-13T12:55:13.900Z"
   },
   {
    "duration": 2275,
    "start_time": "2024-12-13T12:57:25.150Z"
   },
   {
    "duration": 1250,
    "start_time": "2024-12-13T12:57:27.427Z"
   },
   {
    "duration": 274,
    "start_time": "2024-12-13T12:57:28.678Z"
   },
   {
    "duration": 6,
    "start_time": "2024-12-13T12:57:28.954Z"
   },
   {
    "duration": 7,
    "start_time": "2024-12-13T12:57:28.962Z"
   },
   {
    "duration": 107828,
    "start_time": "2024-12-13T12:57:28.970Z"
   },
   {
    "duration": 8,
    "start_time": "2024-12-13T12:59:16.800Z"
   },
   {
    "duration": 66,
    "start_time": "2024-12-13T12:59:16.830Z"
   },
   {
    "duration": 9198,
    "start_time": "2024-12-13T12:59:16.898Z"
   },
   {
    "duration": 205775,
    "start_time": "2024-12-13T12:59:26.098Z"
   },
   {
    "duration": 4,
    "start_time": "2024-12-13T13:02:51.875Z"
   },
   {
    "duration": 1203283,
    "start_time": "2024-12-13T13:02:51.881Z"
   },
   {
    "duration": 3,
    "start_time": "2024-12-13T13:22:55.166Z"
   },
   {
    "duration": 21405,
    "start_time": "2024-12-13T13:22:55.172Z"
   },
   {
    "duration": 1168,
    "start_time": "2024-12-13T13:23:16.578Z"
   },
   {
    "duration": 2903,
    "start_time": "2024-12-14T09:58:48.628Z"
   },
   {
    "duration": 1425,
    "start_time": "2024-12-14T09:58:58.602Z"
   },
   {
    "duration": 219,
    "start_time": "2024-12-14T09:59:05.185Z"
   },
   {
    "duration": 8,
    "start_time": "2024-12-14T09:59:07.313Z"
   },
   {
    "duration": 3,
    "start_time": "2024-12-14T09:59:11.586Z"
   },
   {
    "duration": 5,
    "start_time": "2024-12-14T09:59:14.545Z"
   },
   {
    "duration": 503,
    "start_time": "2024-12-14T09:59:28.569Z"
   },
   {
    "duration": 716,
    "start_time": "2024-12-14T09:59:59.625Z"
   },
   {
    "duration": 1077,
    "start_time": "2024-12-14T10:00:00.714Z"
   },
   {
    "duration": 230,
    "start_time": "2024-12-14T10:00:03.920Z"
   },
   {
    "duration": 6,
    "start_time": "2024-12-14T10:00:05.137Z"
   },
   {
    "duration": 3,
    "start_time": "2024-12-14T10:00:07.600Z"
   },
   {
    "duration": 4,
    "start_time": "2024-12-14T10:00:09.921Z"
   },
   {
    "duration": 1335,
    "start_time": "2024-12-14T10:00:17.728Z"
   },
   {
    "duration": 14,
    "start_time": "2024-12-14T10:02:00.040Z"
   },
   {
    "duration": 1049,
    "start_time": "2024-12-14T10:02:01.337Z"
   },
   {
    "duration": 212,
    "start_time": "2024-12-14T10:02:03.009Z"
   },
   {
    "duration": 5,
    "start_time": "2024-12-14T10:02:05.058Z"
   },
   {
    "duration": 3,
    "start_time": "2024-12-14T10:02:08.794Z"
   },
   {
    "duration": 4,
    "start_time": "2024-12-14T10:02:18.433Z"
   },
   {
    "duration": 8,
    "start_time": "2024-12-14T10:02:20.466Z"
   },
   {
    "duration": 5,
    "start_time": "2024-12-14T10:07:16.098Z"
   },
   {
    "duration": 8,
    "start_time": "2024-12-14T10:07:17.042Z"
   },
   {
    "duration": 542973,
    "start_time": "2024-12-14T10:07:36.586Z"
   },
   {
    "duration": 8,
    "start_time": "2024-12-14T10:16:45.531Z"
   },
   {
    "duration": 51,
    "start_time": "2024-12-14T10:18:00.770Z"
   },
   {
    "duration": 7576,
    "start_time": "2024-12-14T10:18:02.801Z"
   },
   {
    "duration": 2043,
    "start_time": "2024-12-14T10:32:51.461Z"
   },
   {
    "duration": 1096,
    "start_time": "2024-12-14T10:32:53.506Z"
   },
   {
    "duration": 236,
    "start_time": "2024-12-14T10:32:54.603Z"
   },
   {
    "duration": 6,
    "start_time": "2024-12-14T10:32:54.840Z"
   },
   {
    "duration": 29,
    "start_time": "2024-12-14T10:32:54.848Z"
   },
   {
    "duration": 35,
    "start_time": "2024-12-14T10:32:54.878Z"
   },
   {
    "duration": 1389,
    "start_time": "2024-12-14T10:32:54.915Z"
   },
   {
    "duration": 558554,
    "start_time": "2024-12-14T10:32:56.305Z"
   },
   {
    "duration": 15,
    "start_time": "2024-12-14T10:42:14.861Z"
   },
   {
    "duration": 60,
    "start_time": "2024-12-14T10:42:14.877Z"
   },
   {
    "duration": 7836,
    "start_time": "2024-12-14T10:42:14.939Z"
   },
   {
    "duration": 3744594,
    "start_time": "2024-12-14T10:42:22.776Z"
   },
   {
    "duration": 4,
    "start_time": "2024-12-14T11:44:47.372Z"
   },
   {
    "duration": 1400705,
    "start_time": "2024-12-14T11:44:47.380Z"
   },
   {
    "duration": 4,
    "start_time": "2024-12-14T12:08:08.087Z"
   },
   {
    "duration": 22728,
    "start_time": "2024-12-14T12:08:08.093Z"
   },
   {
    "duration": 1075,
    "start_time": "2024-12-14T12:08:30.823Z"
   },
   {
    "duration": 62,
    "start_time": "2024-12-15T09:34:25.428Z"
   },
   {
    "duration": 3500,
    "start_time": "2024-12-15T09:37:03.211Z"
   },
   {
    "duration": 3769,
    "start_time": "2024-12-15T09:37:06.713Z"
   },
   {
    "duration": 246,
    "start_time": "2024-12-15T09:37:10.484Z"
   },
   {
    "duration": 6,
    "start_time": "2024-12-15T09:37:10.731Z"
   },
   {
    "duration": 14,
    "start_time": "2024-12-15T09:37:10.739Z"
   },
   {
    "duration": 6,
    "start_time": "2024-12-15T09:37:10.754Z"
   },
   {
    "duration": 1319,
    "start_time": "2024-12-15T09:37:10.762Z"
   },
   {
    "duration": 507736,
    "start_time": "2024-12-15T09:37:12.082Z"
   },
   {
    "duration": 7,
    "start_time": "2024-12-15T09:45:39.820Z"
   },
   {
    "duration": 54,
    "start_time": "2024-12-15T09:45:39.828Z"
   },
   {
    "duration": 7261,
    "start_time": "2024-12-15T09:45:39.884Z"
   },
   {
    "duration": 330331,
    "start_time": "2024-12-15T09:45:47.146Z"
   },
   {
    "duration": 4,
    "start_time": "2024-12-15T09:51:17.478Z"
   },
   {
    "duration": 419992,
    "start_time": "2024-12-15T09:51:17.484Z"
   },
   {
    "duration": 3,
    "start_time": "2024-12-15T09:58:17.477Z"
   },
   {
    "duration": 33606,
    "start_time": "2024-12-15T09:58:17.481Z"
   },
   {
    "duration": 976,
    "start_time": "2024-12-15T09:58:51.089Z"
   },
   {
    "duration": 24517,
    "start_time": "2024-12-15T09:58:52.067Z"
   },
   {
    "duration": 2012,
    "start_time": "2024-12-15T10:05:35.162Z"
   },
   {
    "duration": 1071,
    "start_time": "2024-12-15T10:05:37.175Z"
   },
   {
    "duration": 246,
    "start_time": "2024-12-15T10:05:38.252Z"
   },
   {
    "duration": 6,
    "start_time": "2024-12-15T10:05:38.500Z"
   },
   {
    "duration": 52,
    "start_time": "2024-12-15T10:05:38.507Z"
   },
   {
    "duration": 39,
    "start_time": "2024-12-15T10:05:38.560Z"
   },
   {
    "duration": 1459,
    "start_time": "2024-12-15T10:05:38.601Z"
   },
   {
    "duration": 511173,
    "start_time": "2024-12-15T10:05:40.062Z"
   },
   {
    "duration": 7,
    "start_time": "2024-12-15T10:14:11.236Z"
   },
   {
    "duration": 36,
    "start_time": "2024-12-15T10:14:11.254Z"
   },
   {
    "duration": 7258,
    "start_time": "2024-12-15T10:14:11.291Z"
   },
   {
    "duration": 326839,
    "start_time": "2024-12-15T10:14:18.553Z"
   },
   {
    "duration": 3,
    "start_time": "2024-12-15T10:19:45.393Z"
   },
   {
    "duration": 4382975,
    "start_time": "2024-12-15T10:19:45.398Z"
   },
   {
    "duration": 3,
    "start_time": "2024-12-15T11:32:48.375Z"
   },
   {
    "duration": 24509,
    "start_time": "2024-12-15T11:32:48.379Z"
   },
   {
    "duration": 895,
    "start_time": "2024-12-15T11:33:12.890Z"
   }
  ],
  "kernelspec": {
   "display_name": "Python 3 (ipykernel)",
   "language": "python",
   "name": "python3"
  },
  "language_info": {
   "codemirror_mode": {
    "name": "ipython",
    "version": 3
   },
   "file_extension": ".py",
   "mimetype": "text/x-python",
   "name": "python",
   "nbconvert_exporter": "python",
   "pygments_lexer": "ipython3",
   "version": "3.9.5"
  },
  "toc": {
   "base_numbering": 1,
   "nav_menu": {},
   "number_sections": true,
   "sideBar": true,
   "skip_h1_title": true,
   "title_cell": "Содержание",
   "title_sidebar": "Contents",
   "toc_cell": true,
   "toc_position": {
    "height": "calc(100% - 180px)",
    "left": "10px",
    "top": "150px",
    "width": "165px"
   },
   "toc_section_display": true,
   "toc_window_display": true
  }
 },
 "nbformat": 4,
 "nbformat_minor": 2
}
