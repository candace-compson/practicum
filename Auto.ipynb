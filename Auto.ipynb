{
 "cells": [
  {
   "cell_type": "markdown",
   "metadata": {},
   "source": [
    "# Определение стоимости автомобилей"
   ]
  },
  {
   "cell_type": "markdown",
   "metadata": {},
   "source": [
    "Сервис по продаже автомобилей с пробегом «Не бит, не крашен» разрабатывает приложение для привлечения новых клиентов. В нём можно быстро узнать рыночную стоимость своего автомобиля. В вашем распоряжении исторические данные: технические характеристики, комплектации и цены автомобилей. Вам нужно построить модель для определения стоимости. \n",
    "\n",
    "Заказчику важны:\n",
    "\n",
    "- качество предсказания;\n",
    "- скорость предсказания;\n",
    "- время обучения.\n",
    "\n",
    "Цель работы:\n",
    "\n",
    "Построить модель, которая умеет определять рыночную стоимость автомобиля.\n",
    "\n",
    "План работы:\n",
    "\n",
    "- Загрузить данные.\n",
    "- Изучить данные. Заполнить пропущенные значения и обработать аномалии в столбцах. Если среди признаков имеются неинформативные, удалить их.\n",
    "- Подготовить выборки для обучения моделей.\n",
    "- Обучить разные модели, одна из которых — LightGBM, как минимум одна — не бустинг. Для каждой модели попробовать разные гиперпараметры.\n",
    "- Проанализировать время обучения, время предсказания и качество моделей.\n",
    "- Опираясь на критерии заказчика, выбрать лучшую модель, проверить её качество на тестовой выборке.\n",
    "\n",
    "Описание данных:\n",
    "\n",
    "Признаки:\n",
    "\n",
    "DateCrawled — дата скачивания анкеты из базы\n",
    "\n",
    "VehicleType — тип автомобильного кузова\n",
    "\n",
    "RegistrationYear — год регистрации автомобиля\n",
    "\n",
    "Gearbox — тип коробки передач\n",
    "\n",
    "Power — мощность (л. с.)\n",
    "\n",
    "Model — модель автомобиля\n",
    "\n",
    "Kilometer — пробег (км)\n",
    "\n",
    "RegistrationMonth — месяц регистрации автомобиля\n",
    "\n",
    "FuelType — тип топлива\n",
    "\n",
    "Brand — марка автомобиля\n",
    "\n",
    "Repaired — была машина в ремонте или нет\n",
    "\n",
    "DateCreated — дата создания анкеты\n",
    "\n",
    "NumberOfPictures — количество фотографий автомобиля\n",
    "\n",
    "PostalCode — почтовый индекс владельца анкеты (пользователя)\n",
    "\n",
    "LastSeen — дата последней активности пользователя\n",
    "\n",
    "Целевой признак:\n",
    "\n",
    "Price — цена (евро)"
   ]
  },
  {
   "cell_type": "code",
   "execution_count": 1,
   "metadata": {},
   "outputs": [
    {
     "name": "stdout",
     "output_type": "stream",
     "text": [
      "Requirement already satisfied: scikit-learn==1.1.3 in /opt/conda/lib/python3.9/site-packages (1.1.3)\n",
      "Requirement already satisfied: joblib>=1.0.0 in /opt/conda/lib/python3.9/site-packages (from scikit-learn==1.1.3) (1.1.0)\n",
      "Requirement already satisfied: numpy>=1.17.3 in /opt/conda/lib/python3.9/site-packages (from scikit-learn==1.1.3) (1.21.1)\n",
      "Requirement already satisfied: threadpoolctl>=2.0.0 in /opt/conda/lib/python3.9/site-packages (from scikit-learn==1.1.3) (3.1.0)\n",
      "Requirement already satisfied: scipy>=1.3.2 in /opt/conda/lib/python3.9/site-packages (from scikit-learn==1.1.3) (1.9.1)\n"
     ]
    }
   ],
   "source": [
    "!pip install scikit-learn==1.1.3\n",
    "import os\n",
    "import pandas as pd\n",
    "import numpy as np\n",
    "import matplotlib.pyplot as plt\n",
    "import seaborn as sns\n",
    "import time\n",
    "from sklearn.model_selection import train_test_split\n",
    "from sklearn.preprocessing import OrdinalEncoder, StandardScaler\n",
    "from sklearn.model_selection import cross_val_score, GridSearchCV\n",
    "from sklearn.tree import DecisionTreeRegressor\n",
    "from sklearn.ensemble import RandomForestRegressor\n",
    "from sklearn.linear_model import LinearRegression\n",
    "from lightgbm import LGBMRegressor\n",
    "from sklearn.dummy import DummyRegressor\n",
    "from sklearn.metrics import mean_squared_error"
   ]
  },
  {
   "cell_type": "markdown",
   "metadata": {},
   "source": [
    "## Подготовка данных"
   ]
  },
  {
   "cell_type": "code",
   "execution_count": 2,
   "metadata": {},
   "outputs": [
    {
     "data": {
      "text/html": [
       "<div>\n",
       "<style scoped>\n",
       "    .dataframe tbody tr th:only-of-type {\n",
       "        vertical-align: middle;\n",
       "    }\n",
       "\n",
       "    .dataframe tbody tr th {\n",
       "        vertical-align: top;\n",
       "    }\n",
       "\n",
       "    .dataframe thead th {\n",
       "        text-align: right;\n",
       "    }\n",
       "</style>\n",
       "<table border=\"1\" class=\"dataframe\">\n",
       "  <thead>\n",
       "    <tr style=\"text-align: right;\">\n",
       "      <th></th>\n",
       "      <th>DateCrawled</th>\n",
       "      <th>Price</th>\n",
       "      <th>VehicleType</th>\n",
       "      <th>RegistrationYear</th>\n",
       "      <th>Gearbox</th>\n",
       "      <th>Power</th>\n",
       "      <th>Model</th>\n",
       "      <th>Kilometer</th>\n",
       "      <th>RegistrationMonth</th>\n",
       "      <th>FuelType</th>\n",
       "      <th>Brand</th>\n",
       "      <th>Repaired</th>\n",
       "      <th>DateCreated</th>\n",
       "      <th>NumberOfPictures</th>\n",
       "      <th>PostalCode</th>\n",
       "      <th>LastSeen</th>\n",
       "    </tr>\n",
       "  </thead>\n",
       "  <tbody>\n",
       "    <tr>\n",
       "      <th>0</th>\n",
       "      <td>2016-03-24 11:52:17</td>\n",
       "      <td>480</td>\n",
       "      <td>NaN</td>\n",
       "      <td>1993</td>\n",
       "      <td>manual</td>\n",
       "      <td>0</td>\n",
       "      <td>golf</td>\n",
       "      <td>150000</td>\n",
       "      <td>0</td>\n",
       "      <td>petrol</td>\n",
       "      <td>volkswagen</td>\n",
       "      <td>NaN</td>\n",
       "      <td>2016-03-24 00:00:00</td>\n",
       "      <td>0</td>\n",
       "      <td>70435</td>\n",
       "      <td>2016-04-07 03:16:57</td>\n",
       "    </tr>\n",
       "    <tr>\n",
       "      <th>1</th>\n",
       "      <td>2016-03-24 10:58:45</td>\n",
       "      <td>18300</td>\n",
       "      <td>coupe</td>\n",
       "      <td>2011</td>\n",
       "      <td>manual</td>\n",
       "      <td>190</td>\n",
       "      <td>NaN</td>\n",
       "      <td>125000</td>\n",
       "      <td>5</td>\n",
       "      <td>gasoline</td>\n",
       "      <td>audi</td>\n",
       "      <td>yes</td>\n",
       "      <td>2016-03-24 00:00:00</td>\n",
       "      <td>0</td>\n",
       "      <td>66954</td>\n",
       "      <td>2016-04-07 01:46:50</td>\n",
       "    </tr>\n",
       "    <tr>\n",
       "      <th>2</th>\n",
       "      <td>2016-03-14 12:52:21</td>\n",
       "      <td>9800</td>\n",
       "      <td>suv</td>\n",
       "      <td>2004</td>\n",
       "      <td>auto</td>\n",
       "      <td>163</td>\n",
       "      <td>grand</td>\n",
       "      <td>125000</td>\n",
       "      <td>8</td>\n",
       "      <td>gasoline</td>\n",
       "      <td>jeep</td>\n",
       "      <td>NaN</td>\n",
       "      <td>2016-03-14 00:00:00</td>\n",
       "      <td>0</td>\n",
       "      <td>90480</td>\n",
       "      <td>2016-04-05 12:47:46</td>\n",
       "    </tr>\n",
       "    <tr>\n",
       "      <th>3</th>\n",
       "      <td>2016-03-17 16:54:04</td>\n",
       "      <td>1500</td>\n",
       "      <td>small</td>\n",
       "      <td>2001</td>\n",
       "      <td>manual</td>\n",
       "      <td>75</td>\n",
       "      <td>golf</td>\n",
       "      <td>150000</td>\n",
       "      <td>6</td>\n",
       "      <td>petrol</td>\n",
       "      <td>volkswagen</td>\n",
       "      <td>no</td>\n",
       "      <td>2016-03-17 00:00:00</td>\n",
       "      <td>0</td>\n",
       "      <td>91074</td>\n",
       "      <td>2016-03-17 17:40:17</td>\n",
       "    </tr>\n",
       "    <tr>\n",
       "      <th>4</th>\n",
       "      <td>2016-03-31 17:25:20</td>\n",
       "      <td>3600</td>\n",
       "      <td>small</td>\n",
       "      <td>2008</td>\n",
       "      <td>manual</td>\n",
       "      <td>69</td>\n",
       "      <td>fabia</td>\n",
       "      <td>90000</td>\n",
       "      <td>7</td>\n",
       "      <td>gasoline</td>\n",
       "      <td>skoda</td>\n",
       "      <td>no</td>\n",
       "      <td>2016-03-31 00:00:00</td>\n",
       "      <td>0</td>\n",
       "      <td>60437</td>\n",
       "      <td>2016-04-06 10:17:21</td>\n",
       "    </tr>\n",
       "  </tbody>\n",
       "</table>\n",
       "</div>"
      ],
      "text/plain": [
       "           DateCrawled  Price VehicleType  RegistrationYear Gearbox  Power  \\\n",
       "0  2016-03-24 11:52:17    480         NaN              1993  manual      0   \n",
       "1  2016-03-24 10:58:45  18300       coupe              2011  manual    190   \n",
       "2  2016-03-14 12:52:21   9800         suv              2004    auto    163   \n",
       "3  2016-03-17 16:54:04   1500       small              2001  manual     75   \n",
       "4  2016-03-31 17:25:20   3600       small              2008  manual     69   \n",
       "\n",
       "   Model  Kilometer  RegistrationMonth  FuelType       Brand Repaired  \\\n",
       "0   golf     150000                  0    petrol  volkswagen      NaN   \n",
       "1    NaN     125000                  5  gasoline        audi      yes   \n",
       "2  grand     125000                  8  gasoline        jeep      NaN   \n",
       "3   golf     150000                  6    petrol  volkswagen       no   \n",
       "4  fabia      90000                  7  gasoline       skoda       no   \n",
       "\n",
       "           DateCreated  NumberOfPictures  PostalCode             LastSeen  \n",
       "0  2016-03-24 00:00:00                 0       70435  2016-04-07 03:16:57  \n",
       "1  2016-03-24 00:00:00                 0       66954  2016-04-07 01:46:50  \n",
       "2  2016-03-14 00:00:00                 0       90480  2016-04-05 12:47:46  \n",
       "3  2016-03-17 00:00:00                 0       91074  2016-03-17 17:40:17  \n",
       "4  2016-03-31 00:00:00                 0       60437  2016-04-06 10:17:21  "
      ]
     },
     "metadata": {},
     "output_type": "display_data"
    },
    {
     "name": "stdout",
     "output_type": "stream",
     "text": [
      "<class 'pandas.core.frame.DataFrame'>\n",
      "RangeIndex: 354369 entries, 0 to 354368\n",
      "Data columns (total 16 columns):\n",
      " #   Column             Non-Null Count   Dtype \n",
      "---  ------             --------------   ----- \n",
      " 0   DateCrawled        354369 non-null  object\n",
      " 1   Price              354369 non-null  int64 \n",
      " 2   VehicleType        316879 non-null  object\n",
      " 3   RegistrationYear   354369 non-null  int64 \n",
      " 4   Gearbox            334536 non-null  object\n",
      " 5   Power              354369 non-null  int64 \n",
      " 6   Model              334664 non-null  object\n",
      " 7   Kilometer          354369 non-null  int64 \n",
      " 8   RegistrationMonth  354369 non-null  int64 \n",
      " 9   FuelType           321474 non-null  object\n",
      " 10  Brand              354369 non-null  object\n",
      " 11  Repaired           283215 non-null  object\n",
      " 12  DateCreated        354369 non-null  object\n",
      " 13  NumberOfPictures   354369 non-null  int64 \n",
      " 14  PostalCode         354369 non-null  int64 \n",
      " 15  LastSeen           354369 non-null  object\n",
      "dtypes: int64(7), object(9)\n",
      "memory usage: 43.3+ MB\n"
     ]
    }
   ],
   "source": [
    "pth1 = '/datasets/autos.csv'\n",
    "pth2 = 'https://code.s3.yandex.net/datasets/autos.csv'\n",
    "\n",
    "if os.path.exists(pth1):\n",
    "    data= pd.read_csv(pth1)\n",
    "elif os.path.exists(pth2):\n",
    "    data= pd.read_csv(pth2)\n",
    "else:\n",
    "    print('Something is wrong')\n",
    "    \n",
    "display(data.head())\n",
    "data.info()"
   ]
  },
  {
   "cell_type": "code",
   "execution_count": 3,
   "metadata": {},
   "outputs": [],
   "source": [
    "# приведем названия стобцов к нижнему регистру:\n",
    "data.columns = data.columns.str.lower()"
   ]
  },
  {
   "cell_type": "code",
   "execution_count": 4,
   "metadata": {},
   "outputs": [],
   "source": [
    "# приведем в порядок названия столбцов\n",
    "data.rename(\n",
    "    columns={\n",
    "        'datecrawled':'date_crawled',\n",
    "        'vehicletype':'vehicle_type',\n",
    "        'registrationyear':'registration_year',\n",
    "        'registrationmonth':'registration_month',\n",
    "        'fueltype':'fuel_type',\n",
    "        'datecreated':'date_created',\n",
    "        'numberofpictures':'number_of_pictures',\n",
    "        'postalcode':'postal_code',\n",
    "        'lastseen':'last_seen'\n",
    "    },\n",
    "    inplace=True\n",
    ")"
   ]
  },
  {
   "cell_type": "code",
   "execution_count": 5,
   "metadata": {},
   "outputs": [
    {
     "data": {
      "text/html": [
       "<div>\n",
       "<style scoped>\n",
       "    .dataframe tbody tr th:only-of-type {\n",
       "        vertical-align: middle;\n",
       "    }\n",
       "\n",
       "    .dataframe tbody tr th {\n",
       "        vertical-align: top;\n",
       "    }\n",
       "\n",
       "    .dataframe thead th {\n",
       "        text-align: right;\n",
       "    }\n",
       "</style>\n",
       "<table border=\"1\" class=\"dataframe\">\n",
       "  <thead>\n",
       "    <tr style=\"text-align: right;\">\n",
       "      <th></th>\n",
       "      <th>date_crawled</th>\n",
       "      <th>price</th>\n",
       "      <th>vehicle_type</th>\n",
       "      <th>registration_year</th>\n",
       "      <th>gearbox</th>\n",
       "      <th>power</th>\n",
       "      <th>model</th>\n",
       "      <th>kilometer</th>\n",
       "      <th>registration_month</th>\n",
       "      <th>fuel_type</th>\n",
       "      <th>brand</th>\n",
       "      <th>repaired</th>\n",
       "      <th>date_created</th>\n",
       "      <th>number_of_pictures</th>\n",
       "      <th>postal_code</th>\n",
       "      <th>last_seen</th>\n",
       "    </tr>\n",
       "  </thead>\n",
       "  <tbody>\n",
       "    <tr>\n",
       "      <th>0</th>\n",
       "      <td>2016-03-24 11:52:17</td>\n",
       "      <td>480</td>\n",
       "      <td>NaN</td>\n",
       "      <td>1993</td>\n",
       "      <td>manual</td>\n",
       "      <td>0</td>\n",
       "      <td>golf</td>\n",
       "      <td>150000</td>\n",
       "      <td>0</td>\n",
       "      <td>petrol</td>\n",
       "      <td>volkswagen</td>\n",
       "      <td>NaN</td>\n",
       "      <td>2016-03-24 00:00:00</td>\n",
       "      <td>0</td>\n",
       "      <td>70435</td>\n",
       "      <td>2016-04-07 03:16:57</td>\n",
       "    </tr>\n",
       "    <tr>\n",
       "      <th>1</th>\n",
       "      <td>2016-03-24 10:58:45</td>\n",
       "      <td>18300</td>\n",
       "      <td>coupe</td>\n",
       "      <td>2011</td>\n",
       "      <td>manual</td>\n",
       "      <td>190</td>\n",
       "      <td>NaN</td>\n",
       "      <td>125000</td>\n",
       "      <td>5</td>\n",
       "      <td>gasoline</td>\n",
       "      <td>audi</td>\n",
       "      <td>yes</td>\n",
       "      <td>2016-03-24 00:00:00</td>\n",
       "      <td>0</td>\n",
       "      <td>66954</td>\n",
       "      <td>2016-04-07 01:46:50</td>\n",
       "    </tr>\n",
       "    <tr>\n",
       "      <th>2</th>\n",
       "      <td>2016-03-14 12:52:21</td>\n",
       "      <td>9800</td>\n",
       "      <td>suv</td>\n",
       "      <td>2004</td>\n",
       "      <td>auto</td>\n",
       "      <td>163</td>\n",
       "      <td>grand</td>\n",
       "      <td>125000</td>\n",
       "      <td>8</td>\n",
       "      <td>gasoline</td>\n",
       "      <td>jeep</td>\n",
       "      <td>NaN</td>\n",
       "      <td>2016-03-14 00:00:00</td>\n",
       "      <td>0</td>\n",
       "      <td>90480</td>\n",
       "      <td>2016-04-05 12:47:46</td>\n",
       "    </tr>\n",
       "    <tr>\n",
       "      <th>3</th>\n",
       "      <td>2016-03-17 16:54:04</td>\n",
       "      <td>1500</td>\n",
       "      <td>small</td>\n",
       "      <td>2001</td>\n",
       "      <td>manual</td>\n",
       "      <td>75</td>\n",
       "      <td>golf</td>\n",
       "      <td>150000</td>\n",
       "      <td>6</td>\n",
       "      <td>petrol</td>\n",
       "      <td>volkswagen</td>\n",
       "      <td>no</td>\n",
       "      <td>2016-03-17 00:00:00</td>\n",
       "      <td>0</td>\n",
       "      <td>91074</td>\n",
       "      <td>2016-03-17 17:40:17</td>\n",
       "    </tr>\n",
       "    <tr>\n",
       "      <th>4</th>\n",
       "      <td>2016-03-31 17:25:20</td>\n",
       "      <td>3600</td>\n",
       "      <td>small</td>\n",
       "      <td>2008</td>\n",
       "      <td>manual</td>\n",
       "      <td>69</td>\n",
       "      <td>fabia</td>\n",
       "      <td>90000</td>\n",
       "      <td>7</td>\n",
       "      <td>gasoline</td>\n",
       "      <td>skoda</td>\n",
       "      <td>no</td>\n",
       "      <td>2016-03-31 00:00:00</td>\n",
       "      <td>0</td>\n",
       "      <td>60437</td>\n",
       "      <td>2016-04-06 10:17:21</td>\n",
       "    </tr>\n",
       "  </tbody>\n",
       "</table>\n",
       "</div>"
      ],
      "text/plain": [
       "          date_crawled  price vehicle_type  registration_year gearbox  power  \\\n",
       "0  2016-03-24 11:52:17    480          NaN               1993  manual      0   \n",
       "1  2016-03-24 10:58:45  18300        coupe               2011  manual    190   \n",
       "2  2016-03-14 12:52:21   9800          suv               2004    auto    163   \n",
       "3  2016-03-17 16:54:04   1500        small               2001  manual     75   \n",
       "4  2016-03-31 17:25:20   3600        small               2008  manual     69   \n",
       "\n",
       "   model  kilometer  registration_month fuel_type       brand repaired  \\\n",
       "0   golf     150000                   0    petrol  volkswagen      NaN   \n",
       "1    NaN     125000                   5  gasoline        audi      yes   \n",
       "2  grand     125000                   8  gasoline        jeep      NaN   \n",
       "3   golf     150000                   6    petrol  volkswagen       no   \n",
       "4  fabia      90000                   7  gasoline       skoda       no   \n",
       "\n",
       "          date_created  number_of_pictures  postal_code            last_seen  \n",
       "0  2016-03-24 00:00:00                   0        70435  2016-04-07 03:16:57  \n",
       "1  2016-03-24 00:00:00                   0        66954  2016-04-07 01:46:50  \n",
       "2  2016-03-14 00:00:00                   0        90480  2016-04-05 12:47:46  \n",
       "3  2016-03-17 00:00:00                   0        91074  2016-03-17 17:40:17  \n",
       "4  2016-03-31 00:00:00                   0        60437  2016-04-06 10:17:21  "
      ]
     },
     "metadata": {},
     "output_type": "display_data"
    }
   ],
   "source": [
    "# проверяем замены в названиях\n",
    "display(data.head())"
   ]
  },
  {
   "cell_type": "code",
   "execution_count": 6,
   "metadata": {},
   "outputs": [
    {
     "data": {
      "text/plain": [
       "date_crawled              0\n",
       "price                     0\n",
       "vehicle_type          37490\n",
       "registration_year         0\n",
       "gearbox               19833\n",
       "power                     0\n",
       "model                 19705\n",
       "kilometer                 0\n",
       "registration_month        0\n",
       "fuel_type             32895\n",
       "brand                     0\n",
       "repaired              71154\n",
       "date_created              0\n",
       "number_of_pictures        0\n",
       "postal_code               0\n",
       "last_seen                 0\n",
       "dtype: int64"
      ]
     },
     "execution_count": 6,
     "metadata": {},
     "output_type": "execute_result"
    }
   ],
   "source": [
    "# проверяем наличие пропущенных значений в датафреймах\n",
    "data.isna().sum()"
   ]
  },
  {
   "cell_type": "code",
   "execution_count": 7,
   "metadata": {},
   "outputs": [
    {
     "name": "stdout",
     "output_type": "stream",
     "text": [
      "<class 'pandas.core.frame.DataFrame'>\n",
      "RangeIndex: 354369 entries, 0 to 354368\n",
      "Data columns (total 16 columns):\n",
      " #   Column              Non-Null Count   Dtype \n",
      "---  ------              --------------   ----- \n",
      " 0   date_crawled        354369 non-null  object\n",
      " 1   price               354369 non-null  int64 \n",
      " 2   vehicle_type        354369 non-null  object\n",
      " 3   registration_year   354369 non-null  int64 \n",
      " 4   gearbox             354369 non-null  object\n",
      " 5   power               354369 non-null  int64 \n",
      " 6   model               354369 non-null  object\n",
      " 7   kilometer           354369 non-null  int64 \n",
      " 8   registration_month  354369 non-null  int64 \n",
      " 9   fuel_type           354369 non-null  object\n",
      " 10  brand               354369 non-null  object\n",
      " 11  repaired            354369 non-null  object\n",
      " 12  date_created        354369 non-null  object\n",
      " 13  number_of_pictures  354369 non-null  int64 \n",
      " 14  postal_code         354369 non-null  int64 \n",
      " 15  last_seen           354369 non-null  object\n",
      "dtypes: int64(7), object(9)\n",
      "memory usage: 43.3+ MB\n"
     ]
    }
   ],
   "source": [
    "# заменим пропуски в категориальных данных на unknown:\n",
    "data['vehicle_type'] = data['vehicle_type'].fillna('unknown1')\n",
    "data['gearbox'] = data['gearbox'].fillna('unknown2')\n",
    "data['model'] = data['model'].fillna('unknown3')\n",
    "data['fuel_type'] = data['fuel_type'].fillna('unknown4')\n",
    "data['repaired'] = data['repaired'].fillna('unknown5')\n",
    "data.info()"
   ]
  },
  {
   "cell_type": "code",
   "execution_count": 8,
   "metadata": {},
   "outputs": [],
   "source": [
    "# изменим тип данных столбцов с датами и временем на datetime\n",
    "data['date_crawled'] = pd.to_datetime(data['date_crawled'])\n",
    "data['date_created'] = pd.to_datetime(data['date_created'])\n",
    "data['last_seen'] = pd.to_datetime(data['last_seen'])"
   ]
  },
  {
   "cell_type": "code",
   "execution_count": 9,
   "metadata": {},
   "outputs": [
    {
     "name": "stderr",
     "output_type": "stream",
     "text": [
      "/tmp/ipykernel_204/1602202450.py:1: FutureWarning: Treating datetime data as categorical rather than numeric in `.describe` is deprecated and will be removed in a future version of pandas. Specify `datetime_is_numeric=True` to silence this warning and adopt the future behavior now.\n",
      "  data.describe(include='datetime')\n",
      "/tmp/ipykernel_204/1602202450.py:1: FutureWarning: Treating datetime data as categorical rather than numeric in `.describe` is deprecated and will be removed in a future version of pandas. Specify `datetime_is_numeric=True` to silence this warning and adopt the future behavior now.\n",
      "  data.describe(include='datetime')\n",
      "/tmp/ipykernel_204/1602202450.py:1: FutureWarning: Treating datetime data as categorical rather than numeric in `.describe` is deprecated and will be removed in a future version of pandas. Specify `datetime_is_numeric=True` to silence this warning and adopt the future behavior now.\n",
      "  data.describe(include='datetime')\n"
     ]
    },
    {
     "data": {
      "text/html": [
       "<div>\n",
       "<style scoped>\n",
       "    .dataframe tbody tr th:only-of-type {\n",
       "        vertical-align: middle;\n",
       "    }\n",
       "\n",
       "    .dataframe tbody tr th {\n",
       "        vertical-align: top;\n",
       "    }\n",
       "\n",
       "    .dataframe thead th {\n",
       "        text-align: right;\n",
       "    }\n",
       "</style>\n",
       "<table border=\"1\" class=\"dataframe\">\n",
       "  <thead>\n",
       "    <tr style=\"text-align: right;\">\n",
       "      <th></th>\n",
       "      <th>date_crawled</th>\n",
       "      <th>date_created</th>\n",
       "      <th>last_seen</th>\n",
       "    </tr>\n",
       "  </thead>\n",
       "  <tbody>\n",
       "    <tr>\n",
       "      <th>count</th>\n",
       "      <td>354369</td>\n",
       "      <td>354369</td>\n",
       "      <td>354369</td>\n",
       "    </tr>\n",
       "    <tr>\n",
       "      <th>unique</th>\n",
       "      <td>271174</td>\n",
       "      <td>109</td>\n",
       "      <td>179150</td>\n",
       "    </tr>\n",
       "    <tr>\n",
       "      <th>top</th>\n",
       "      <td>2016-03-24 14:49:47</td>\n",
       "      <td>2016-04-03 00:00:00</td>\n",
       "      <td>2016-04-06 13:45:54</td>\n",
       "    </tr>\n",
       "    <tr>\n",
       "      <th>freq</th>\n",
       "      <td>7</td>\n",
       "      <td>13719</td>\n",
       "      <td>17</td>\n",
       "    </tr>\n",
       "    <tr>\n",
       "      <th>first</th>\n",
       "      <td>2016-03-05 14:06:22</td>\n",
       "      <td>2014-03-10 00:00:00</td>\n",
       "      <td>2016-03-05 14:15:08</td>\n",
       "    </tr>\n",
       "    <tr>\n",
       "      <th>last</th>\n",
       "      <td>2016-04-07 14:36:58</td>\n",
       "      <td>2016-04-07 00:00:00</td>\n",
       "      <td>2016-04-07 14:58:51</td>\n",
       "    </tr>\n",
       "  </tbody>\n",
       "</table>\n",
       "</div>"
      ],
      "text/plain": [
       "               date_crawled         date_created            last_seen\n",
       "count                354369               354369               354369\n",
       "unique               271174                  109               179150\n",
       "top     2016-03-24 14:49:47  2016-04-03 00:00:00  2016-04-06 13:45:54\n",
       "freq                      7                13719                   17\n",
       "first   2016-03-05 14:06:22  2014-03-10 00:00:00  2016-03-05 14:15:08\n",
       "last    2016-04-07 14:36:58  2016-04-07 00:00:00  2016-04-07 14:58:51"
      ]
     },
     "execution_count": 9,
     "metadata": {},
     "output_type": "execute_result"
    }
   ],
   "source": [
    "data.describe(include='datetime')"
   ]
  },
  {
   "cell_type": "markdown",
   "metadata": {},
   "source": [
    "Анкеты созданы с 2014 по 2016 гг. "
   ]
  },
  {
   "cell_type": "code",
   "execution_count": 10,
   "metadata": {},
   "outputs": [
    {
     "data": {
      "image/png": "[encoded data removed]",
      "text/plain": [
       "<Figure size 1080x864 with 2 Axes>"
      ]
     },
     "metadata": {
      "needs_background": "light"
     },
     "output_type": "display_data"
    },
    {
     "name": "stdout",
     "output_type": "stream",
     "text": [
      "                   count   percent\n",
      "registration_year                 \n",
      "2000               24490  6.910875\n",
      "1999               22728  6.413654\n",
      "2005               22109  6.238977\n",
      "2001               20124  5.678826\n",
      "2006               19900  5.615615\n",
      "...                  ...       ...\n",
      "2900                   1  0.000282\n",
      "3200                   1  0.000282\n",
      "3500                   1  0.000282\n",
      "3700                   1  0.000282\n",
      "1255                   1  0.000282\n",
      "\n",
      "[151 rows x 2 columns]\n"
     ]
    },
    {
     "data": {
      "image/png": "[encoded data removed]",
      "text/plain": [
       "<Figure size 1080x864 with 2 Axes>"
      ]
     },
     "metadata": {
      "needs_background": "light"
     },
     "output_type": "display_data"
    },
    {
     "data": {
      "image/png": "[encoded data removed]",
      "text/plain": [
       "<Figure size 1080x864 with 2 Axes>"
      ]
     },
     "metadata": {
      "needs_background": "light"
     },
     "output_type": "display_data"
    },
    {
     "name": "stdout",
     "output_type": "stream",
     "text": [
      "            count    percent\n",
      "kilometer                   \n",
      "150000     238209  67.220609\n",
      "125000      36454  10.287017\n",
      "100000      14882   4.199577\n",
      "90000       11567   3.264112\n",
      "80000       10047   2.835180\n",
      "70000        8593   2.424874\n",
      "60000        7444   2.100635\n",
      "5000         6397   1.805180\n",
      "50000        6232   1.758619\n",
      "40000        4911   1.385844\n",
      "30000        4436   1.251802\n",
      "20000        3975   1.121712\n",
      "10000        1222   0.344838\n"
     ]
    },
    {
     "data": {
      "image/png": "[encoded data removed]",
      "text/plain": [
       "<Figure size 1080x864 with 2 Axes>"
      ]
     },
     "metadata": {
      "needs_background": "light"
     },
     "output_type": "display_data"
    },
    {
     "name": "stdout",
     "output_type": "stream",
     "text": [
      "                    count    percent\n",
      "registration_month                  \n",
      "0                   37352  10.540425\n",
      "3                   34373   9.699776\n",
      "6                   31508   8.891297\n",
      "4                   29270   8.259752\n",
      "5                   29153   8.226735\n",
      "7                   27213   7.679283\n",
      "10                  26099   7.364922\n",
      "12                  24289   6.854155\n",
      "11                  24186   6.825089\n",
      "9                   23813   6.719832\n",
      "1                   23219   6.552210\n",
      "8                   22627   6.385152\n",
      "2                   21267   6.001371\n"
     ]
    },
    {
     "data": {
      "image/png": "[encoded data removed]",
      "text/plain": [
       "<Figure size 1080x864 with 2 Axes>"
      ]
     },
     "metadata": {
      "needs_background": "light"
     },
     "output_type": "display_data"
    },
    {
     "name": "stdout",
     "output_type": "stream",
     "text": [
      "                     count  percent\n",
      "number_of_pictures                 \n",
      "0                   354369    100.0\n"
     ]
    },
    {
     "data": {
      "image/png": "[encoded data removed]",
      "text/plain": [
       "<Figure size 1080x864 with 2 Axes>"
      ]
     },
     "metadata": {
      "needs_background": "light"
     },
     "output_type": "display_data"
    },
    {
     "data": {
      "image/png": "[encoded data removed]",
      "text/plain": [
       "<Figure size 1080x864 with 2 Axes>"
      ]
     },
     "metadata": {
      "needs_background": "light"
     },
     "output_type": "display_data"
    }
   ],
   "source": [
    "# проведем анализ числовых значений датафрейма\n",
    "continuous_col = ['price', 'power', 'postal_code']\n",
    "discrete_col = ['kilometer', 'number_of_pictures', 'registration_year', 'registration_month']\n",
    "\n",
    "for col in data.select_dtypes(include='number').columns:\n",
    "\n",
    "    plt.figure(figsize=(15,12))\n",
    "    plt.subplot(2,1,1)\n",
    "    if col in continuous_col:\n",
    "        sns.histplot(data=data[col], kde=True, bins=100)\n",
    "        plt.grid()\n",
    "        plt.title('Histplot '+col)\n",
    "    else:\n",
    "        print(data.groupby(col)[col].agg(['count']).assign(percent=lambda x: x / x.sum() * 100).\n",
    "                                    sort_values('count', ascending=False))\n",
    "        sns.countplot(data=data, x=col)\n",
    "        plt.grid()\n",
    "        plt.title('Countplot '+col)\n",
    "        plt.xticks(rotation=90, fontsize=8)\n",
    "    plt.subplot(2,1,2)\n",
    "    sns.boxplot(data=data, x=col)\n",
    "    plt.grid()\n",
    "    plt.title('Boxplot '+col)\n",
    "    \n",
    "    plt.show()"
   ]
  },
  {
   "cell_type": "markdown",
   "metadata": {},
   "source": [
    "Цена меняется от нуля до 20 тысяч, а медианное значение составляет примерно 2700. Возможно, нулевые значения являются ошибкой в данных и их можно удалить."
   ]
  },
  {
   "cell_type": "code",
   "execution_count": 11,
   "metadata": {},
   "outputs": [
    {
     "data": {
      "text/plain": [
       "3.0397692800442475"
      ]
     },
     "execution_count": 11,
     "metadata": {},
     "output_type": "execute_result"
    }
   ],
   "source": [
    "# посчитаем процент объектов с нулевым значением цены\n",
    "data[data['price'] == 0]['price'].count() / data.shape[0] * 100"
   ]
  },
  {
   "cell_type": "code",
   "execution_count": 12,
   "metadata": {},
   "outputs": [
    {
     "data": {
      "text/plain": [
       "4.927631931687026"
      ]
     },
     "execution_count": 12,
     "metadata": {},
     "output_type": "execute_result"
    }
   ],
   "source": [
    "# посчитаем процент объектов c ценой менее 200 евро\n",
    "data[data['price'] < 200]['price'].count() / data.shape[0] * 100"
   ]
  },
  {
   "cell_type": "code",
   "execution_count": 13,
   "metadata": {},
   "outputs": [],
   "source": [
    "data = data.query('price > 200')"
   ]
  },
  {
   "cell_type": "markdown",
   "metadata": {},
   "source": [
    "Автомобили, зарегистрированные после 2016 года, - это ошибочные данные. Имеются явно ошибочные данные со значениями менее 1900."
   ]
  },
  {
   "cell_type": "code",
   "execution_count": 14,
   "metadata": {},
   "outputs": [
    {
     "data": {
      "text/plain": [
       "4.064839171028392"
      ]
     },
     "execution_count": 14,
     "metadata": {},
     "output_type": "execute_result"
    }
   ],
   "source": [
    "# посчитаем процент объектов с датой регистрации ранее 1900 г и позже 2016 года\n",
    "data[(data['registration_year'] < 1900) | (data['registration_year'] > 2016)]['price'].count() / data.shape[0] * 100"
   ]
  },
  {
   "cell_type": "code",
   "execution_count": 15,
   "metadata": {},
   "outputs": [
    {
     "data": {
      "text/plain": [
       "array([1910, 1923, 1925, 1927, 1928, 1929, 1930, 1931, 1932, 1933, 1934,\n",
       "       1935, 1936, 1937, 1938, 1940, 1941, 1942, 1943, 1944, 1945, 1946,\n",
       "       1947, 1948, 1949, 1950, 1951, 1952, 1953, 1954, 1955, 1956, 1957,\n",
       "       1958, 1959, 1960, 1961, 1962, 1963, 1964, 1965, 1966, 1967, 1968,\n",
       "       1969, 1970, 1971, 1972, 1973, 1974, 1975, 1976, 1977, 1978, 1979,\n",
       "       1980, 1981, 1982, 1983, 1984, 1985, 1986, 1987, 1988, 1989, 1990,\n",
       "       1991, 1992, 1993, 1994, 1995, 1996, 1997, 1998, 1999, 2000, 2001,\n",
       "       2002, 2003, 2004, 2005, 2006, 2007, 2008, 2009, 2010, 2011, 2012,\n",
       "       2013, 2014, 2015])"
      ]
     },
     "execution_count": 15,
     "metadata": {},
     "output_type": "execute_result"
    }
   ],
   "source": [
    "# удалим данные по году регистрации до 1900 года и после 2016:\n",
    "data = data.query('registration_year > 1900 & registration_year < 2016')\n",
    "np.sort(data['registration_year'].unique())"
   ]
  },
  {
   "cell_type": "code",
   "execution_count": 16,
   "metadata": {},
   "outputs": [],
   "source": [
    "# добавим столбец с группировкой данных по возврасту\n",
    "def age(registration_year):\n",
    "    if registration_year < 1930:\n",
    "        return 'vintage'\n",
    "    if registration_year < 1960:\n",
    "        return 'superretro'\n",
    "    if registration_year < 1980:\n",
    "        return 'retro'\n",
    "    if registration_year < 2000:\n",
    "        return 'classic'\n",
    "    if registration_year < 2016:\n",
    "        return 'ordinary'\n",
    "    else:\n",
    "        return 'unknown'\n",
    "    return registration_year\n",
    "\n",
    "data['age_group'] = data['registration_year'].apply(age)"
   ]
  },
  {
   "cell_type": "markdown",
   "metadata": {},
   "source": [
    "Мощности автомобилей в данных меняются от нуля до 20 000 л.с, часть данных явно ошибочно заполнена."
   ]
  },
  {
   "cell_type": "code",
   "execution_count": 17,
   "metadata": {},
   "outputs": [
    {
     "data": {
      "text/plain": [
       "0.07700197137827139"
      ]
     },
     "execution_count": 17,
     "metadata": {},
     "output_type": "execute_result"
    }
   ],
   "source": [
    "# посчитаем процент объектов с мощностью более 1000 л.с.\n",
    "data[data['power'] > 1000]['price'].count() / data.shape[0] * 100"
   ]
  },
  {
   "cell_type": "code",
   "execution_count": 18,
   "metadata": {},
   "outputs": [
    {
     "data": {
      "text/plain": [
       "8.729020157901967"
      ]
     },
     "execution_count": 18,
     "metadata": {},
     "output_type": "execute_result"
    }
   ],
   "source": [
    "# посчитаем процент объектов с мощностью менее 1 л.с.\n",
    "data[data['power'] < 1]['price'].count() / data.shape[0] * 100"
   ]
  },
  {
   "cell_type": "code",
   "execution_count": 19,
   "metadata": {},
   "outputs": [],
   "source": [
    "# удалим данные по мощности более 1000\n",
    "data = data.query('power < 1000')"
   ]
  },
  {
   "cell_type": "code",
   "execution_count": 20,
   "metadata": {},
   "outputs": [
    {
     "name": "stdout",
     "output_type": "stream",
     "text": [
      "              count    percent\n",
      "vehicle_type                  \n",
      "sedan         88180  28.196396\n",
      "small         74671  23.876765\n",
      "wagon         62836  20.092411\n",
      "bus           28149   9.000911\n",
      "convertible   19748   6.314611\n",
      "coupe         15354   4.909588\n",
      "suv           11732   3.751419\n",
      "unknown1       9100   2.909812\n",
      "other          2965   0.948087\n"
     ]
    },
    {
     "data": {
      "image/png": "[encoded data removed]",
      "text/plain": [
       "<Figure size 1080x1080 with 2 Axes>"
      ]
     },
     "metadata": {
      "needs_background": "light"
     },
     "output_type": "display_data"
    },
    {
     "name": "stdout",
     "output_type": "stream",
     "text": [
      "           count    percent\n",
      "gearbox                    \n",
      "manual    238691  76.323725\n",
      "auto       61557  19.683438\n",
      "unknown2   12487   3.992837\n"
     ]
    },
    {
     "data": {
      "image/png": "[encoded data removed]",
      "text/plain": [
       "<Figure size 1080x1080 with 2 Axes>"
      ]
     },
     "metadata": {
      "needs_background": "light"
     },
     "output_type": "display_data"
    },
    {
     "name": "stdout",
     "output_type": "stream",
     "text": [
      "                    count   percent\n",
      "model                              \n",
      "golf                25169  8.048028\n",
      "other               22223  7.106016\n",
      "3er                 18166  5.808752\n",
      "unknown3            13372  4.275825\n",
      "polo                10941  3.498489\n",
      "...                   ...       ...\n",
      "elefantino              4  0.001279\n",
      "rangerover              3  0.000959\n",
      "serie_3                 3  0.000959\n",
      "range_rover_evoque      2  0.000640\n",
      "serie_1                 1  0.000320\n",
      "\n",
      "[251 rows x 2 columns]\n"
     ]
    },
    {
     "data": {
      "image/png": "[encoded data removed]",
      "text/plain": [
       "<Figure size 1080x1080 with 2 Axes>"
      ]
     },
     "metadata": {
      "needs_background": "light"
     },
     "output_type": "display_data"
    },
    {
     "name": "stdout",
     "output_type": "stream",
     "text": [
      "            count    percent\n",
      "fuel_type                   \n",
      "petrol     195239  62.429533\n",
      "gasoline    93249  29.817257\n",
      "unknown4    18396   5.882297\n",
      "lpg          4909   1.569700\n",
      "cng           515   0.164676\n",
      "hybrid        212   0.067789\n",
      "other         133   0.042528\n",
      "electric       82   0.026220\n"
     ]
    },
    {
     "data": {
      "image/png": "[encoded data removed]",
      "text/plain": [
       "<Figure size 1080x1080 with 2 Axes>"
      ]
     },
     "metadata": {
      "needs_background": "light"
     },
     "output_type": "display_data"
    },
    {
     "name": "stdout",
     "output_type": "stream",
     "text": [
      "                count    percent\n",
      "brand                           \n",
      "volkswagen      66885  21.387117\n",
      "bmw             33808  10.810431\n",
      "opel            33787  10.803716\n",
      "mercedes_benz   29550   9.448894\n",
      "audi            26829   8.578829\n",
      "ford            21593   6.904568\n",
      "renault         15096   4.827090\n",
      "peugeot          9914   3.170096\n",
      "fiat             8199   2.621708\n",
      "seat             5989   1.915040\n",
      "skoda            5171   1.653477\n",
      "mazda            4983   1.593362\n",
      "smart            4820   1.541241\n",
      "citroen          4543   1.452668\n",
      "nissan           4345   1.389355\n",
      "toyota           4295   1.373367\n",
      "hyundai          3293   1.052968\n",
      "mini             3018   0.965034\n",
      "volvo            2958   0.945849\n",
      "mitsubishi       2626   0.839689\n",
      "sonstige_autos   2477   0.792044\n",
      "honda            2475   0.791405\n",
      "kia              2232   0.713703\n",
      "suzuki           2059   0.658385\n",
      "alfa_romeo       2046   0.654228\n",
      "chevrolet        1622   0.518650\n",
      "chrysler         1274   0.407374\n",
      "dacia             849   0.271476\n",
      "porsche           686   0.219355\n",
      "subaru            664   0.212320\n",
      "daihatsu          661   0.211361\n",
      "jeep              620   0.198251\n",
      "land_rover        523   0.167234\n",
      "saab              492   0.157322\n",
      "jaguar            479   0.153165\n",
      "daewoo            458   0.146450\n",
      "trabant           434   0.138776\n",
      "lancia            393   0.125665\n",
      "rover             392   0.125346\n",
      "lada              197   0.062993\n"
     ]
    },
    {
     "data": {
      "image/png": "[encoded data removed]",
      "text/plain": [
       "<Figure size 1080x1080 with 2 Axes>"
      ]
     },
     "metadata": {
      "needs_background": "light"
     },
     "output_type": "display_data"
    },
    {
     "name": "stdout",
     "output_type": "stream",
     "text": [
      "           count    percent\n",
      "repaired                   \n",
      "no        231649  74.071978\n",
      "unknown5   51833  16.574096\n",
      "yes        29253   9.353926\n"
     ]
    },
    {
     "data": {
      "image/png": "[encoded data removed]",
      "text/plain": [
       "<Figure size 1080x1080 with 2 Axes>"
      ]
     },
     "metadata": {
      "needs_background": "light"
     },
     "output_type": "display_data"
    },
    {
     "name": "stdout",
     "output_type": "stream",
     "text": [
      "             count    percent\n",
      "age_group                    \n",
      "ordinary    221113  70.702991\n",
      "classic      88639  28.343166\n",
      "retro         2738   0.875502\n",
      "superretro     208   0.066510\n",
      "vintage         37   0.011831\n"
     ]
    },
    {
     "data": {
      "image/png": "[encoded data removed]",
      "text/plain": [
       "<Figure size 1080x1080 with 2 Axes>"
      ]
     },
     "metadata": {
      "needs_background": "light"
     },
     "output_type": "display_data"
    }
   ],
   "source": [
    "# рассмотрим категориальные признаки\n",
    "for col in data.select_dtypes(include='object').columns:\n",
    "    plt.figure(figsize=(15,15))\n",
    "    plt.subplot(2,1,1)\n",
    "    print(data.groupby(col)[col].agg(['count']).assign(percent=lambda x: x / x.sum() * 100).\n",
    "                                    sort_values('count', ascending=False))\n",
    "    sns.countplot(data = data, x = col, order = data[col].value_counts().index[:50])\n",
    "    plt.grid()\n",
    "    plt.title('Countplot '+col)\n",
    "    plt.xticks(rotation=45)\n",
    "    plt.subplot(2,1,2)\n",
    "    sns.boxplot(data = data, x = col, y='price', order = data[col].value_counts().index[:50])\n",
    "    plt.grid()\n",
    "    plt.xticks(rotation=45)\n",
    "    plt.xlabel('Boxplot '+col)\n",
    "\n",
    "    plt.show()"
   ]
  },
  {
   "cell_type": "code",
   "execution_count": 21,
   "metadata": {},
   "outputs": [],
   "source": [
    "# переименуем gasoline в petrol\n",
    "data['fuel_type'] = data['fuel_type'].replace(['gasoline'],'petrol')"
   ]
  },
  {
   "cell_type": "code",
   "execution_count": 22,
   "metadata": {},
   "outputs": [
    {
     "data": {
      "text/plain": [
       "4"
      ]
     },
     "execution_count": 22,
     "metadata": {},
     "output_type": "execute_result"
    }
   ],
   "source": [
    "# проверяем наличие явных дубликатов в датафреймах\n",
    "data.duplicated().sum()"
   ]
  },
  {
   "cell_type": "code",
   "execution_count": 23,
   "metadata": {},
   "outputs": [
    {
     "name": "stdout",
     "output_type": "stream",
     "text": [
      "<class 'pandas.core.frame.DataFrame'>\n",
      "RangeIndex: 312731 entries, 0 to 312730\n",
      "Data columns (total 17 columns):\n",
      " #   Column              Non-Null Count   Dtype         \n",
      "---  ------              --------------   -----         \n",
      " 0   date_crawled        312731 non-null  datetime64[ns]\n",
      " 1   price               312731 non-null  int64         \n",
      " 2   vehicle_type        312731 non-null  object        \n",
      " 3   registration_year   312731 non-null  int64         \n",
      " 4   gearbox             312731 non-null  object        \n",
      " 5   power               312731 non-null  int64         \n",
      " 6   model               312731 non-null  object        \n",
      " 7   kilometer           312731 non-null  int64         \n",
      " 8   registration_month  312731 non-null  int64         \n",
      " 9   fuel_type           312731 non-null  object        \n",
      " 10  brand               312731 non-null  object        \n",
      " 11  repaired            312731 non-null  object        \n",
      " 12  date_created        312731 non-null  datetime64[ns]\n",
      " 13  number_of_pictures  312731 non-null  int64         \n",
      " 14  postal_code         312731 non-null  int64         \n",
      " 15  last_seen           312731 non-null  datetime64[ns]\n",
      " 16  age_group           312731 non-null  object        \n",
      "dtypes: datetime64[ns](3), int64(7), object(7)\n",
      "memory usage: 40.6+ MB\n"
     ]
    }
   ],
   "source": [
    "# удалим дубликаты\n",
    "data = data.drop_duplicates().reset_index(drop = True)\n",
    "data.info()"
   ]
  },
  {
   "cell_type": "code",
   "execution_count": 24,
   "metadata": {},
   "outputs": [],
   "source": [
    "# удалим столбцы date_crawled, date_created, last_seen, number_of_pictures, т.к. эти данные не влияют на стоимость автомобиля\n",
    "data = data.drop(['date_crawled', 'date_created', 'last_seen', 'number_of_pictures', 'registration_year'], axis=1)"
   ]
  },
  {
   "cell_type": "code",
   "execution_count": 25,
   "metadata": {},
   "outputs": [
    {
     "data": {
      "text/plain": [
       "(312731, 12)"
      ]
     },
     "execution_count": 25,
     "metadata": {},
     "output_type": "execute_result"
    }
   ],
   "source": [
    "data.shape"
   ]
  },
  {
   "cell_type": "markdown",
   "metadata": {},
   "source": [
    "Выводы:\n",
    "\n",
    "В датафрейме data 354369 записей, названия столбцов адекватны содержащимся в них данным. Названия столбцов были отредактированы. Было проверено, нет ли пропущенных значений, для категориальных данных пропуски заменены на unknown. Было проверено наличие явных и неявных дубликатов, 4 дубликата были удалены. Отдельно рассмотрены числовые и категориальные данные.  Цена меняется от нуля до 20 тысяч, а медианное значение составляет примерно 2700. Возможно, нулевые и околонулевые значения являются ошибкой в данных и их можно удалить. Удалены записи с registration_year до 1900 года и после 2016. Мощности автомобилей в данных меняются от нуля до 20 000 л.с, часть данных явно ошибочно заполнена, удалены записи с мощностью более 1000. В столбце тип топлива gasoline переименовали  petrol. Столбцы date_crawled, date_created, last_see, number_of_pictures никак не влияют на стоимость автомобиля, поэтому было принято решение удалить столбцы. Данные готовы к обучению моделей."
   ]
  },
  {
   "cell_type": "markdown",
   "metadata": {},
   "source": [
    "## Обучение моделей"
   ]
  },
  {
   "cell_type": "markdown",
   "metadata": {},
   "source": [
    "Кодирование категориальных признаков OneHotEncoder для LinearRegression"
   ]
  },
  {
   "cell_type": "code",
   "execution_count": 26,
   "metadata": {},
   "outputs": [],
   "source": [
    "data_ohe = pd.get_dummies(data, drop_first = True)\n",
    "features_ohe = data_ohe.drop('price',axis=1)\n",
    "target_ohe = data_ohe['price']\n",
    "\n",
    "x_train_ohe, x_temp, y_train_ohe, y_temp = train_test_split(\\\n",
    "                                                    features_ohe, target_ohe,\\\n",
    "                                                    test_size=.3, random_state=12345)\n",
    "x_test_ohe, x_valid_ohe, y_test_ohe, y_valid_ohe = train_test_split(\\\n",
    "                                                    x_temp, y_temp,\\\n",
    "                                                    test_size=.5, random_state=12345)"
   ]
  },
  {
   "cell_type": "markdown",
   "metadata": {},
   "source": [
    "Кодирование категориальных признаков Ordinal Encoder (OE) для DecisionTreeRegressor, RandomForestRegressor и LightGBM"
   ]
  },
  {
   "cell_type": "code",
   "execution_count": 27,
   "metadata": {},
   "outputs": [],
   "source": [
    "# Определяем категориальные признаки\n",
    "categorical_features = ['vehicle_type', 'gearbox', 'model', 'fuel_type', 'brand', 'repaired', 'age_group']\n",
    "kol = list((set(data.columns) - set(['price'])) - set(categorical_features))\n",
    "\n",
    "data = data.reset_index(drop=True)\n",
    "\n",
    "# Разделение признаков и целевой переменной\n",
    "features = data.drop('price', axis=1)\n",
    "target = data['price']\n",
    "\n",
    "# Разбиение данных на обучающую и временную выборки\n",
    "x_train, x_temp, y_train, y_temp = train_test_split(\n",
    "    features, target, test_size=0.3, random_state=12345)\n",
    "x_test, x_valid, y_test, y_valid = train_test_split(\n",
    "    x_temp, y_temp, test_size=0.5, random_state=12345)\n",
    "\n",
    "# Кодировка категориальных признаков\n",
    "enc = OrdinalEncoder(handle_unknown='use_encoded_value', unknown_value=-1)\n",
    "\n",
    "# Применение fit_transform только к обучающим данным\n",
    "temp_0_train = x_train[categorical_features]\n",
    "temp_train = enc.fit_transform(temp_0_train)\n",
    "x_train_encoded = pd.DataFrame(data=temp_train, columns=temp_0_train.columns)\n",
    "\n",
    "# Применение transform к валидационным и тестовым данным\n",
    "temp_0_valid = x_valid[categorical_features]\n",
    "temp_valid = enc.transform(temp_0_valid)\n",
    "x_valid_encoded = pd.DataFrame(data=temp_valid, columns=temp_0_valid.columns)\n",
    "\n",
    "temp_0_test = x_test[categorical_features]\n",
    "temp_test = enc.transform(temp_0_test)\n",
    "x_test_encoded = pd.DataFrame(data=temp_test, columns=temp_0_test.columns)\n",
    "\n",
    "# Объединяем закодированные признаки с остальными признаками\n",
    "x_train = pd.concat([x_train_encoded, x_train[kol].reset_index(drop=True)], axis=1)\n",
    "x_valid = pd.concat([x_valid_encoded, x_valid[kol].reset_index(drop=True)], axis=1)\n",
    "x_test = pd.concat([x_test_encoded, x_test[kol].reset_index(drop=True)], axis=1)\n",
    "\n",
    "# Масштабирование данных\n",
    "scaler = StandardScaler()\n",
    "x_train = pd.DataFrame(data=scaler.fit_transform(x_train), columns=x_train.columns)\n",
    "x_valid = pd.DataFrame(data=scaler.transform(x_valid), columns=x_valid.columns)\n",
    "x_test = pd.DataFrame(data=scaler.transform(x_test), columns=x_test.columns)"
   ]
  },
  {
   "cell_type": "code",
   "execution_count": 28,
   "metadata": {},
   "outputs": [
    {
     "data": {
      "text/plain": [
       "Index(['power', 'kilometer', 'registration_month', 'postal_code',\n",
       "       'vehicle_type_convertible', 'vehicle_type_coupe', 'vehicle_type_other',\n",
       "       'vehicle_type_sedan', 'vehicle_type_small', 'vehicle_type_suv',\n",
       "       ...\n",
       "       'brand_toyota', 'brand_trabant', 'brand_volkswagen', 'brand_volvo',\n",
       "       'repaired_unknown5', 'repaired_yes', 'age_group_ordinary',\n",
       "       'age_group_retro', 'age_group_superretro', 'age_group_vintage'],\n",
       "      dtype='object', length=315)"
      ]
     },
     "execution_count": 28,
     "metadata": {},
     "output_type": "execute_result"
    }
   ],
   "source": [
    "# Масштабирование данных\n",
    "scaler = StandardScaler()\n",
    "x_train = pd.DataFrame(data=scaler.fit_transform(x_train), columns=features.columns)\n",
    "x_test = pd.DataFrame(data=scaler.transform(x_test), columns=features.columns)\n",
    "x_valid = pd.DataFrame(data=scaler.transform(x_valid), columns=features.columns)\n",
    "\n",
    "# подготовим данные\n",
    "column_all_ohe = features_ohe.columns\n",
    "column_all = features.columns\n",
    "column_all_ohe"
   ]
  },
  {
   "cell_type": "code",
   "execution_count": 29,
   "metadata": {},
   "outputs": [
    {
     "data": {
      "text/html": [
       "<div>\n",
       "<style scoped>\n",
       "    .dataframe tbody tr th:only-of-type {\n",
       "        vertical-align: middle;\n",
       "    }\n",
       "\n",
       "    .dataframe tbody tr th {\n",
       "        vertical-align: top;\n",
       "    }\n",
       "\n",
       "    .dataframe thead th {\n",
       "        text-align: right;\n",
       "    }\n",
       "</style>\n",
       "<table border=\"1\" class=\"dataframe\">\n",
       "  <thead>\n",
       "    <tr style=\"text-align: right;\">\n",
       "      <th></th>\n",
       "      <th>power</th>\n",
       "      <th>kilometer</th>\n",
       "      <th>registration_month</th>\n",
       "      <th>postal_code</th>\n",
       "      <th>vehicle_type_convertible</th>\n",
       "      <th>vehicle_type_coupe</th>\n",
       "      <th>vehicle_type_other</th>\n",
       "      <th>vehicle_type_sedan</th>\n",
       "      <th>vehicle_type_small</th>\n",
       "      <th>vehicle_type_suv</th>\n",
       "      <th>...</th>\n",
       "      <th>brand_toyota</th>\n",
       "      <th>brand_trabant</th>\n",
       "      <th>brand_volkswagen</th>\n",
       "      <th>brand_volvo</th>\n",
       "      <th>repaired_unknown5</th>\n",
       "      <th>repaired_yes</th>\n",
       "      <th>age_group_ordinary</th>\n",
       "      <th>age_group_retro</th>\n",
       "      <th>age_group_superretro</th>\n",
       "      <th>age_group_vintage</th>\n",
       "    </tr>\n",
       "  </thead>\n",
       "  <tbody>\n",
       "    <tr>\n",
       "      <th>0</th>\n",
       "      <td>1.164361</td>\n",
       "      <td>0.587976</td>\n",
       "      <td>-0.249620</td>\n",
       "      <td>-0.596448</td>\n",
       "      <td>-0.259425</td>\n",
       "      <td>-0.226906</td>\n",
       "      <td>-0.097275</td>\n",
       "      <td>-0.625616</td>\n",
       "      <td>-0.560462</td>\n",
       "      <td>-0.19782</td>\n",
       "      <td>...</td>\n",
       "      <td>-0.118927</td>\n",
       "      <td>-0.037414</td>\n",
       "      <td>-0.522824</td>\n",
       "      <td>-0.098037</td>\n",
       "      <td>2.239537</td>\n",
       "      <td>-0.321799</td>\n",
       "      <td>0.644946</td>\n",
       "      <td>-0.093793</td>\n",
       "      <td>-0.025834</td>\n",
       "      <td>-0.011106</td>\n",
       "    </tr>\n",
       "    <tr>\n",
       "      <th>1</th>\n",
       "      <td>-0.130287</td>\n",
       "      <td>0.587976</td>\n",
       "      <td>-1.072617</td>\n",
       "      <td>0.631021</td>\n",
       "      <td>-0.259425</td>\n",
       "      <td>-0.226906</td>\n",
       "      <td>-0.097275</td>\n",
       "      <td>-0.625616</td>\n",
       "      <td>-0.560462</td>\n",
       "      <td>-0.19782</td>\n",
       "      <td>...</td>\n",
       "      <td>-0.118927</td>\n",
       "      <td>-0.037414</td>\n",
       "      <td>-0.522824</td>\n",
       "      <td>-0.098037</td>\n",
       "      <td>-0.446521</td>\n",
       "      <td>-0.321799</td>\n",
       "      <td>0.644946</td>\n",
       "      <td>-0.093793</td>\n",
       "      <td>-0.025834</td>\n",
       "      <td>-0.011106</td>\n",
       "    </tr>\n",
       "    <tr>\n",
       "      <th>2</th>\n",
       "      <td>-1.776568</td>\n",
       "      <td>0.587976</td>\n",
       "      <td>-1.072617</td>\n",
       "      <td>-0.837392</td>\n",
       "      <td>-0.259425</td>\n",
       "      <td>-0.226906</td>\n",
       "      <td>-0.097275</td>\n",
       "      <td>-0.625616</td>\n",
       "      <td>-0.560462</td>\n",
       "      <td>-0.19782</td>\n",
       "      <td>...</td>\n",
       "      <td>-0.118927</td>\n",
       "      <td>-0.037414</td>\n",
       "      <td>-0.522824</td>\n",
       "      <td>-0.098037</td>\n",
       "      <td>2.239537</td>\n",
       "      <td>-0.321799</td>\n",
       "      <td>-1.550517</td>\n",
       "      <td>-0.093793</td>\n",
       "      <td>-0.025834</td>\n",
       "      <td>-0.011106</td>\n",
       "    </tr>\n",
       "    <tr>\n",
       "      <th>3</th>\n",
       "      <td>0.780761</td>\n",
       "      <td>-0.084666</td>\n",
       "      <td>1.122042</td>\n",
       "      <td>1.897230</td>\n",
       "      <td>-0.259425</td>\n",
       "      <td>-0.226906</td>\n",
       "      <td>-0.097275</td>\n",
       "      <td>-0.625616</td>\n",
       "      <td>-0.560462</td>\n",
       "      <td>-0.19782</td>\n",
       "      <td>...</td>\n",
       "      <td>-0.118927</td>\n",
       "      <td>-0.037414</td>\n",
       "      <td>-0.522824</td>\n",
       "      <td>-0.098037</td>\n",
       "      <td>-0.446521</td>\n",
       "      <td>-0.321799</td>\n",
       "      <td>0.644946</td>\n",
       "      <td>-0.093793</td>\n",
       "      <td>-0.025834</td>\n",
       "      <td>-0.011106</td>\n",
       "    </tr>\n",
       "    <tr>\n",
       "      <th>4</th>\n",
       "      <td>-0.162254</td>\n",
       "      <td>0.587976</td>\n",
       "      <td>-1.621281</td>\n",
       "      <td>1.614362</td>\n",
       "      <td>-0.259425</td>\n",
       "      <td>-0.226906</td>\n",
       "      <td>-0.097275</td>\n",
       "      <td>-0.625616</td>\n",
       "      <td>-0.560462</td>\n",
       "      <td>-0.19782</td>\n",
       "      <td>...</td>\n",
       "      <td>-0.118927</td>\n",
       "      <td>-0.037414</td>\n",
       "      <td>-0.522824</td>\n",
       "      <td>-0.098037</td>\n",
       "      <td>-0.446521</td>\n",
       "      <td>-0.321799</td>\n",
       "      <td>-1.550517</td>\n",
       "      <td>-0.093793</td>\n",
       "      <td>-0.025834</td>\n",
       "      <td>-0.011106</td>\n",
       "    </tr>\n",
       "    <tr>\n",
       "      <th>...</th>\n",
       "      <td>...</td>\n",
       "      <td>...</td>\n",
       "      <td>...</td>\n",
       "      <td>...</td>\n",
       "      <td>...</td>\n",
       "      <td>...</td>\n",
       "      <td>...</td>\n",
       "      <td>...</td>\n",
       "      <td>...</td>\n",
       "      <td>...</td>\n",
       "      <td>...</td>\n",
       "      <td>...</td>\n",
       "      <td>...</td>\n",
       "      <td>...</td>\n",
       "      <td>...</td>\n",
       "      <td>...</td>\n",
       "      <td>...</td>\n",
       "      <td>...</td>\n",
       "      <td>...</td>\n",
       "      <td>...</td>\n",
       "      <td>...</td>\n",
       "    </tr>\n",
       "    <tr>\n",
       "      <th>46905</th>\n",
       "      <td>-0.098321</td>\n",
       "      <td>-1.295420</td>\n",
       "      <td>-0.523952</td>\n",
       "      <td>0.832060</td>\n",
       "      <td>-0.259425</td>\n",
       "      <td>-0.226906</td>\n",
       "      <td>-0.097275</td>\n",
       "      <td>-0.625616</td>\n",
       "      <td>-0.560462</td>\n",
       "      <td>-0.19782</td>\n",
       "      <td>...</td>\n",
       "      <td>-0.118927</td>\n",
       "      <td>-0.037414</td>\n",
       "      <td>1.912688</td>\n",
       "      <td>-0.098037</td>\n",
       "      <td>-0.446521</td>\n",
       "      <td>-0.321799</td>\n",
       "      <td>0.644946</td>\n",
       "      <td>-0.093793</td>\n",
       "      <td>-0.025834</td>\n",
       "      <td>-0.011106</td>\n",
       "    </tr>\n",
       "    <tr>\n",
       "      <th>46906</th>\n",
       "      <td>-1.776568</td>\n",
       "      <td>0.587976</td>\n",
       "      <td>-1.621281</td>\n",
       "      <td>-0.326856</td>\n",
       "      <td>-0.259425</td>\n",
       "      <td>-0.226906</td>\n",
       "      <td>-0.097275</td>\n",
       "      <td>1.598425</td>\n",
       "      <td>-0.560462</td>\n",
       "      <td>-0.19782</td>\n",
       "      <td>...</td>\n",
       "      <td>-0.118927</td>\n",
       "      <td>-0.037414</td>\n",
       "      <td>-0.522824</td>\n",
       "      <td>-0.098037</td>\n",
       "      <td>-0.446521</td>\n",
       "      <td>-0.321799</td>\n",
       "      <td>0.644946</td>\n",
       "      <td>-0.093793</td>\n",
       "      <td>-0.025834</td>\n",
       "      <td>-0.011106</td>\n",
       "    </tr>\n",
       "    <tr>\n",
       "      <th>46907</th>\n",
       "      <td>3.721690</td>\n",
       "      <td>0.587976</td>\n",
       "      <td>0.847709</td>\n",
       "      <td>1.397679</td>\n",
       "      <td>-0.259425</td>\n",
       "      <td>-0.226906</td>\n",
       "      <td>-0.097275</td>\n",
       "      <td>-0.625616</td>\n",
       "      <td>-0.560462</td>\n",
       "      <td>-0.19782</td>\n",
       "      <td>...</td>\n",
       "      <td>-0.118927</td>\n",
       "      <td>-0.037414</td>\n",
       "      <td>-0.522824</td>\n",
       "      <td>-0.098037</td>\n",
       "      <td>-0.446521</td>\n",
       "      <td>-0.321799</td>\n",
       "      <td>0.644946</td>\n",
       "      <td>-0.093793</td>\n",
       "      <td>-0.025834</td>\n",
       "      <td>-0.011106</td>\n",
       "    </tr>\n",
       "    <tr>\n",
       "      <th>46908</th>\n",
       "      <td>-0.577820</td>\n",
       "      <td>0.587976</td>\n",
       "      <td>0.847709</td>\n",
       "      <td>-0.954351</td>\n",
       "      <td>-0.259425</td>\n",
       "      <td>-0.226906</td>\n",
       "      <td>-0.097275</td>\n",
       "      <td>-0.625616</td>\n",
       "      <td>1.784242</td>\n",
       "      <td>-0.19782</td>\n",
       "      <td>...</td>\n",
       "      <td>-0.118927</td>\n",
       "      <td>-0.037414</td>\n",
       "      <td>1.912688</td>\n",
       "      <td>-0.098037</td>\n",
       "      <td>-0.446521</td>\n",
       "      <td>-0.321799</td>\n",
       "      <td>-1.550517</td>\n",
       "      <td>-0.093793</td>\n",
       "      <td>-0.025834</td>\n",
       "      <td>-0.011106</td>\n",
       "    </tr>\n",
       "    <tr>\n",
       "      <th>46909</th>\n",
       "      <td>0.349212</td>\n",
       "      <td>0.587976</td>\n",
       "      <td>0.847709</td>\n",
       "      <td>0.634165</td>\n",
       "      <td>-0.259425</td>\n",
       "      <td>-0.226906</td>\n",
       "      <td>-0.097275</td>\n",
       "      <td>1.598425</td>\n",
       "      <td>-0.560462</td>\n",
       "      <td>-0.19782</td>\n",
       "      <td>...</td>\n",
       "      <td>-0.118927</td>\n",
       "      <td>-0.037414</td>\n",
       "      <td>-0.522824</td>\n",
       "      <td>-0.098037</td>\n",
       "      <td>-0.446521</td>\n",
       "      <td>3.107531</td>\n",
       "      <td>0.644946</td>\n",
       "      <td>-0.093793</td>\n",
       "      <td>-0.025834</td>\n",
       "      <td>-0.011106</td>\n",
       "    </tr>\n",
       "  </tbody>\n",
       "</table>\n",
       "<p>46910 rows × 315 columns</p>\n",
       "</div>"
      ],
      "text/plain": [
       "          power  kilometer  registration_month  postal_code  \\\n",
       "0      1.164361   0.587976           -0.249620    -0.596448   \n",
       "1     -0.130287   0.587976           -1.072617     0.631021   \n",
       "2     -1.776568   0.587976           -1.072617    -0.837392   \n",
       "3      0.780761  -0.084666            1.122042     1.897230   \n",
       "4     -0.162254   0.587976           -1.621281     1.614362   \n",
       "...         ...        ...                 ...          ...   \n",
       "46905 -0.098321  -1.295420           -0.523952     0.832060   \n",
       "46906 -1.776568   0.587976           -1.621281    -0.326856   \n",
       "46907  3.721690   0.587976            0.847709     1.397679   \n",
       "46908 -0.577820   0.587976            0.847709    -0.954351   \n",
       "46909  0.349212   0.587976            0.847709     0.634165   \n",
       "\n",
       "       vehicle_type_convertible  vehicle_type_coupe  vehicle_type_other  \\\n",
       "0                     -0.259425           -0.226906           -0.097275   \n",
       "1                     -0.259425           -0.226906           -0.097275   \n",
       "2                     -0.259425           -0.226906           -0.097275   \n",
       "3                     -0.259425           -0.226906           -0.097275   \n",
       "4                     -0.259425           -0.226906           -0.097275   \n",
       "...                         ...                 ...                 ...   \n",
       "46905                 -0.259425           -0.226906           -0.097275   \n",
       "46906                 -0.259425           -0.226906           -0.097275   \n",
       "46907                 -0.259425           -0.226906           -0.097275   \n",
       "46908                 -0.259425           -0.226906           -0.097275   \n",
       "46909                 -0.259425           -0.226906           -0.097275   \n",
       "\n",
       "       vehicle_type_sedan  vehicle_type_small  vehicle_type_suv  ...  \\\n",
       "0               -0.625616           -0.560462          -0.19782  ...   \n",
       "1               -0.625616           -0.560462          -0.19782  ...   \n",
       "2               -0.625616           -0.560462          -0.19782  ...   \n",
       "3               -0.625616           -0.560462          -0.19782  ...   \n",
       "4               -0.625616           -0.560462          -0.19782  ...   \n",
       "...                   ...                 ...               ...  ...   \n",
       "46905           -0.625616           -0.560462          -0.19782  ...   \n",
       "46906            1.598425           -0.560462          -0.19782  ...   \n",
       "46907           -0.625616           -0.560462          -0.19782  ...   \n",
       "46908           -0.625616            1.784242          -0.19782  ...   \n",
       "46909            1.598425           -0.560462          -0.19782  ...   \n",
       "\n",
       "       brand_toyota  brand_trabant  brand_volkswagen  brand_volvo  \\\n",
       "0         -0.118927      -0.037414         -0.522824    -0.098037   \n",
       "1         -0.118927      -0.037414         -0.522824    -0.098037   \n",
       "2         -0.118927      -0.037414         -0.522824    -0.098037   \n",
       "3         -0.118927      -0.037414         -0.522824    -0.098037   \n",
       "4         -0.118927      -0.037414         -0.522824    -0.098037   \n",
       "...             ...            ...               ...          ...   \n",
       "46905     -0.118927      -0.037414          1.912688    -0.098037   \n",
       "46906     -0.118927      -0.037414         -0.522824    -0.098037   \n",
       "46907     -0.118927      -0.037414         -0.522824    -0.098037   \n",
       "46908     -0.118927      -0.037414          1.912688    -0.098037   \n",
       "46909     -0.118927      -0.037414         -0.522824    -0.098037   \n",
       "\n",
       "       repaired_unknown5  repaired_yes  age_group_ordinary  age_group_retro  \\\n",
       "0               2.239537     -0.321799            0.644946        -0.093793   \n",
       "1              -0.446521     -0.321799            0.644946        -0.093793   \n",
       "2               2.239537     -0.321799           -1.550517        -0.093793   \n",
       "3              -0.446521     -0.321799            0.644946        -0.093793   \n",
       "4              -0.446521     -0.321799           -1.550517        -0.093793   \n",
       "...                  ...           ...                 ...              ...   \n",
       "46905          -0.446521     -0.321799            0.644946        -0.093793   \n",
       "46906          -0.446521     -0.321799            0.644946        -0.093793   \n",
       "46907          -0.446521     -0.321799            0.644946        -0.093793   \n",
       "46908          -0.446521     -0.321799           -1.550517        -0.093793   \n",
       "46909          -0.446521      3.107531            0.644946        -0.093793   \n",
       "\n",
       "       age_group_superretro  age_group_vintage  \n",
       "0                 -0.025834          -0.011106  \n",
       "1                 -0.025834          -0.011106  \n",
       "2                 -0.025834          -0.011106  \n",
       "3                 -0.025834          -0.011106  \n",
       "4                 -0.025834          -0.011106  \n",
       "...                     ...                ...  \n",
       "46905             -0.025834          -0.011106  \n",
       "46906             -0.025834          -0.011106  \n",
       "46907             -0.025834          -0.011106  \n",
       "46908             -0.025834          -0.011106  \n",
       "46909             -0.025834          -0.011106  \n",
       "\n",
       "[46910 rows x 315 columns]"
      ]
     },
     "execution_count": 29,
     "metadata": {},
     "output_type": "execute_result"
    }
   ],
   "source": [
    "# масштабирование\n",
    "scaler_ohe = StandardScaler()\n",
    "x_train_ohe = pd.DataFrame(data = scaler_ohe.fit_transform(x_train_ohe), columns = column_all_ohe)\n",
    "x_test_ohe =  pd.DataFrame(data = scaler_ohe.transform(x_test_ohe), columns = column_all_ohe)\n",
    "x_valid_ohe = pd.DataFrame(data = scaler_ohe.transform(x_valid_ohe), columns = column_all_ohe)\n",
    "x_valid_ohe"
   ]
  },
  {
   "cell_type": "markdown",
   "metadata": {},
   "source": [
    "Модель LinearRegression"
   ]
  },
  {
   "cell_type": "code",
   "execution_count": 30,
   "metadata": {},
   "outputs": [
    {
     "name": "stdout",
     "output_type": "stream",
     "text": [
      "2845.000195136076\n"
     ]
    }
   ],
   "source": [
    "model = LinearRegression()\n",
    "model.fit(x_train_ohe, y_train_ohe)\n",
    "#построим предсказания на тренировочной выборке\n",
    "predictions_train_ohe = model.predict(x_train_ohe)\n",
    "#найдем корень из квадратичной средней ошибки (RMSE)\n",
    "rmse = mean_squared_error(y_train_ohe, predictions_train_ohe)**0.5\n",
    "print(rmse)"
   ]
  },
  {
   "cell_type": "markdown",
   "metadata": {},
   "source": [
    "Модель DecisionTreeRegressor"
   ]
  },
  {
   "cell_type": "code",
   "execution_count": 31,
   "metadata": {
    "scrolled": true
   },
   "outputs": [
    {
     "name": "stdout",
     "output_type": "stream",
     "text": [
      "Глубина: 1\n",
      "RMSE для решающего дерева: 4077.0361707302804\n",
      "\n",
      "Глубина: 3\n",
      "RMSE для решающего дерева: 3324.5673255497873\n",
      "\n",
      "Глубина: 5\n",
      "RMSE для решающего дерева: 2991.5350410267392\n",
      "\n",
      "Глубина: 7\n",
      "RMSE для решающего дерева: 2839.5393030980154\n",
      "\n",
      "Глубина: 9\n",
      "RMSE для решающего дерева: 2702.0757359634813\n",
      "\n",
      "Глубина: 11\n",
      "RMSE для решающего дерева: 2601.4688656782973\n",
      "\n",
      "\n"
     ]
    }
   ],
   "source": [
    "# найдем лучшие гиперпараметры для глубины дерева\n",
    "for depth in range(1,13,2):\n",
    "    model = DecisionTreeRegressor(random_state=12345, max_depth = depth)\n",
    "    model.fit(x_train, y_train)\n",
    "    predictions_train = model.predict(x_valid)\n",
    "    rmse = mean_squared_error(y_valid, predictions_train)**0.5\n",
    "    print('Глубина:', depth)\n",
    "    print('RMSE для решающего дерева:', rmse)\n",
    "    print('')\n",
    "print()"
   ]
  },
  {
   "cell_type": "markdown",
   "metadata": {},
   "source": [
    "Модель RandomForestRegressor"
   ]
  },
  {
   "cell_type": "code",
   "execution_count": 32,
   "metadata": {},
   "outputs": [
    {
     "name": "stdout",
     "output_type": "stream",
     "text": [
      "Глубина: 1\n",
      "RMSE для RandomForestRegressor: 4077.0499320899003\n",
      "\n",
      "Глубина: 3\n",
      "RMSE для RandomForestRegressor: 3318.783292779791\n",
      "\n",
      "Глубина: 5\n",
      "RMSE для RandomForestRegressor: 2979.6872367243363\n",
      "\n",
      "Глубина: 7\n",
      "RMSE для RandomForestRegressor: 2805.6220997844134\n",
      "\n",
      "Глубина: 9\n",
      "RMSE для RandomForestRegressor: 2636.463469685529\n",
      "\n",
      "Глубина: 11\n",
      "RMSE для RandomForestRegressor: 2475.8252814444527\n",
      "\n",
      "\n"
     ]
    }
   ],
   "source": [
    "for depth in range(1,13, 2):\n",
    "    model = RandomForestRegressor(random_state=12345, max_depth = depth)\n",
    "    model.fit(x_train, y_train)\n",
    "    predictions_train = model.predict(x_valid)\n",
    "    rmse = mean_squared_error(y_valid, predictions_train)**0.5\n",
    "    print('Глубина:', depth)\n",
    "    print('RMSE для RandomForestRegressor:', rmse)\n",
    "    print('')\n",
    "print()"
   ]
  },
  {
   "cell_type": "markdown",
   "metadata": {},
   "source": [
    "Модель LGBM"
   ]
  },
  {
   "cell_type": "code",
   "execution_count": 33,
   "metadata": {},
   "outputs": [
    {
     "name": "stdout",
     "output_type": "stream",
     "text": [
      "2377.4482755486347\n"
     ]
    }
   ],
   "source": [
    "# построим модель без подбора гиперпараметров\n",
    "model = LGBMRegressor(random_state=12345)\n",
    "model.fit(x_train, y_train)\n",
    "predictions_train = model.predict(x_valid)\n",
    "rmse = mean_squared_error(y_valid, predictions_train)**0.5\n",
    "print(rmse)"
   ]
  },
  {
   "cell_type": "code",
   "execution_count": 34,
   "metadata": {},
   "outputs": [],
   "source": [
    "# найдем наилучшие гиперпараметры для LGBM\n",
    "param_grid = {'num_leaves':[10,50,70], 'learning_rate':[0.1,0.3,0.5]}"
   ]
  },
  {
   "cell_type": "code",
   "execution_count": 35,
   "metadata": {
    "scrolled": false
   },
   "outputs": [
    {
     "name": "stdout",
     "output_type": "stream",
     "text": [
      "Fitting 3 folds for each of 9 candidates, totalling 27 fits\n",
      "[CV 1/3] END learning_rate=0.1, num_leaves=10;, score=-2543.835 total time=   1.0s\n",
      "[CV 2/3] END learning_rate=0.1, num_leaves=10;, score=-2594.135 total time=   1.1s\n",
      "[CV 3/3] END learning_rate=0.1, num_leaves=10;, score=-2603.028 total time=   1.1s\n",
      "[CV 1/3] END learning_rate=0.1, num_leaves=50;, score=-2328.994 total time=   2.4s\n",
      "[CV 2/3] END learning_rate=0.1, num_leaves=50;, score=-2385.639 total time=   2.4s\n",
      "[CV 3/3] END learning_rate=0.1, num_leaves=50;, score=-2389.511 total time=   2.5s\n",
      "[CV 1/3] END learning_rate=0.1, num_leaves=70;, score=-2307.986 total time=   3.0s\n",
      "[CV 2/3] END learning_rate=0.1, num_leaves=70;, score=-2368.289 total time=   3.0s\n",
      "[CV 3/3] END learning_rate=0.1, num_leaves=70;, score=-2368.331 total time=   3.3s\n",
      "[CV 1/3] END learning_rate=0.3, num_leaves=10;, score=-2432.032 total time=   0.8s\n",
      "[CV 2/3] END learning_rate=0.3, num_leaves=10;, score=-2457.563 total time=   0.8s\n",
      "[CV 3/3] END learning_rate=0.3, num_leaves=10;, score=-2480.181 total time=   0.9s\n",
      "[CV 1/3] END learning_rate=0.3, num_leaves=50;, score=-2314.514 total time=   2.3s\n",
      "[CV 2/3] END learning_rate=0.3, num_leaves=50;, score=-2363.755 total time=   2.2s\n",
      "[CV 3/3] END learning_rate=0.3, num_leaves=50;, score=-2390.603 total time=   2.1s\n",
      "[CV 1/3] END learning_rate=0.3, num_leaves=70;, score=-2333.239 total time=   3.0s\n",
      "[CV 2/3] END learning_rate=0.3, num_leaves=70;, score=-2372.779 total time=   2.5s\n",
      "[CV 3/3] END learning_rate=0.3, num_leaves=70;, score=-2392.029 total time=   3.1s\n",
      "[CV 1/3] END learning_rate=0.5, num_leaves=10;, score=-2398.235 total time=   0.9s\n",
      "[CV 2/3] END learning_rate=0.5, num_leaves=10;, score=-2447.962 total time=   0.9s\n",
      "[CV 3/3] END learning_rate=0.5, num_leaves=10;, score=-2473.773 total time=   0.9s\n",
      "[CV 1/3] END learning_rate=0.5, num_leaves=50;, score=-2397.100 total time=   2.2s\n",
      "[CV 2/3] END learning_rate=0.5, num_leaves=50;, score=-2439.241 total time=   2.1s\n",
      "[CV 3/3] END learning_rate=0.5, num_leaves=50;, score=-2479.477 total time=   2.2s\n",
      "[CV 1/3] END learning_rate=0.5, num_leaves=70;, score=-2419.820 total time=   3.7s\n",
      "[CV 2/3] END learning_rate=0.5, num_leaves=70;, score=-2467.021 total time=   2.7s\n",
      "[CV 3/3] END learning_rate=0.5, num_leaves=70;, score=-2494.873 total time=   2.7s\n"
     ]
    },
    {
     "data": {
      "text/plain": [
       "{'learning_rate': 0.1, 'num_leaves': 70}"
      ]
     },
     "metadata": {},
     "output_type": "display_data"
    },
    {
     "data": {
      "text/plain": [
       "2348.201883809456"
      ]
     },
     "metadata": {},
     "output_type": "display_data"
    }
   ],
   "source": [
    "model = LGBMRegressor(random_state=12345)\n",
    "\n",
    "tuning_model=GridSearchCV(estimator=model,\n",
    "                          param_grid=param_grid,\n",
    "                          scoring='neg_root_mean_squared_error',\n",
    "                          cv=3,\n",
    "                          verbose=3)\n",
    "\n",
    "tuning_model.fit(x_valid, y_valid)\n",
    "display(tuning_model.best_params_)\n",
    "display(tuning_model.best_score_*-1)"
   ]
  },
  {
   "cell_type": "markdown",
   "metadata": {},
   "source": [
    "Выводы:\n",
    "\n",
    "Для LinearRegression RMSE - 2845, для модели DecisionTreeRegressor при max_depth 11 RMSE - 2601, для модели RandomForestRegressor при max_depth 11 - 2475, для LGBM 'learning_rate': 0.1, 'num_leaves': 70 RMSE - 2348."
   ]
  },
  {
   "cell_type": "markdown",
   "metadata": {},
   "source": [
    "## Анализ моделей"
   ]
  },
  {
   "cell_type": "code",
   "execution_count": 36,
   "metadata": {},
   "outputs": [
    {
     "name": "stdout",
     "output_type": "stream",
     "text": [
      "CPU times: user 19.5 s, sys: 4.76 s, total: 24.3 s\n",
      "Wall time: 24.3 s\n"
     ]
    },
    {
     "data": {
      "text/html": [
       "<style>#sk-container-id-1 {color: black;background-color: white;}#sk-container-id-1 pre{padding: 0;}#sk-container-id-1 div.sk-toggleable {background-color: white;}#sk-container-id-1 label.sk-toggleable__label {cursor: pointer;display: block;width: 100%;margin-bottom: 0;padding: 0.3em;box-sizing: border-box;text-align: center;}#sk-container-id-1 label.sk-toggleable__label-arrow:before {content: \"▸\";float: left;margin-right: 0.25em;color: #696969;}#sk-container-id-1 label.sk-toggleable__label-arrow:hover:before {color: black;}#sk-container-id-1 div.sk-estimator:hover label.sk-toggleable__label-arrow:before {color: black;}#sk-container-id-1 div.sk-toggleable__content {max-height: 0;max-width: 0;overflow: hidden;text-align: left;background-color: #f0f8ff;}#sk-container-id-1 div.sk-toggleable__content pre {margin: 0.2em;color: black;border-radius: 0.25em;background-color: #f0f8ff;}#sk-container-id-1 input.sk-toggleable__control:checked~div.sk-toggleable__content {max-height: 200px;max-width: 100%;overflow: auto;}#sk-container-id-1 input.sk-toggleable__control:checked~label.sk-toggleable__label-arrow:before {content: \"▾\";}#sk-container-id-1 div.sk-estimator input.sk-toggleable__control:checked~label.sk-toggleable__label {background-color: #d4ebff;}#sk-container-id-1 div.sk-label input.sk-toggleable__control:checked~label.sk-toggleable__label {background-color: #d4ebff;}#sk-container-id-1 input.sk-hidden--visually {border: 0;clip: rect(1px 1px 1px 1px);clip: rect(1px, 1px, 1px, 1px);height: 1px;margin: -1px;overflow: hidden;padding: 0;position: absolute;width: 1px;}#sk-container-id-1 div.sk-estimator {font-family: monospace;background-color: #f0f8ff;border: 1px dotted black;border-radius: 0.25em;box-sizing: border-box;margin-bottom: 0.5em;}#sk-container-id-1 div.sk-estimator:hover {background-color: #d4ebff;}#sk-container-id-1 div.sk-parallel-item::after {content: \"\";width: 100%;border-bottom: 1px solid gray;flex-grow: 1;}#sk-container-id-1 div.sk-label:hover label.sk-toggleable__label {background-color: #d4ebff;}#sk-container-id-1 div.sk-serial::before {content: \"\";position: absolute;border-left: 1px solid gray;box-sizing: border-box;top: 0;bottom: 0;left: 50%;z-index: 0;}#sk-container-id-1 div.sk-serial {display: flex;flex-direction: column;align-items: center;background-color: white;padding-right: 0.2em;padding-left: 0.2em;position: relative;}#sk-container-id-1 div.sk-item {position: relative;z-index: 1;}#sk-container-id-1 div.sk-parallel {display: flex;align-items: stretch;justify-content: center;background-color: white;position: relative;}#sk-container-id-1 div.sk-item::before, #sk-container-id-1 div.sk-parallel-item::before {content: \"\";position: absolute;border-left: 1px solid gray;box-sizing: border-box;top: 0;bottom: 0;left: 50%;z-index: -1;}#sk-container-id-1 div.sk-parallel-item {display: flex;flex-direction: column;z-index: 1;position: relative;background-color: white;}#sk-container-id-1 div.sk-parallel-item:first-child::after {align-self: flex-end;width: 50%;}#sk-container-id-1 div.sk-parallel-item:last-child::after {align-self: flex-start;width: 50%;}#sk-container-id-1 div.sk-parallel-item:only-child::after {width: 0;}#sk-container-id-1 div.sk-dashed-wrapped {border: 1px dashed gray;margin: 0 0.4em 0.5em 0.4em;box-sizing: border-box;padding-bottom: 0.4em;background-color: white;}#sk-container-id-1 div.sk-label label {font-family: monospace;font-weight: bold;display: inline-block;line-height: 1.2em;}#sk-container-id-1 div.sk-label-container {text-align: center;}#sk-container-id-1 div.sk-container {/* jupyter's `normalize.less` sets `[hidden] { display: none; }` but bootstrap.min.css set `[hidden] { display: none !important; }` so we also need the `!important` here to be able to override the default hidden behavior on the sphinx rendered scikit-learn.org. See: https://github.com/scikit-learn/scikit-learn/issues/21755 */display: inline-block !important;position: relative;}#sk-container-id-1 div.sk-text-repr-fallback {display: none;}</style><div id=\"sk-container-id-1\" class=\"sk-top-container\"><div class=\"sk-text-repr-fallback\"><pre>LinearRegression()</pre><b>In a Jupyter environment, please rerun this cell to show the HTML representation or trust the notebook. <br />On GitHub, the HTML representation is unable to render, please try loading this page with nbviewer.org.</b></div><div class=\"sk-container\" hidden><div class=\"sk-item\"><div class=\"sk-estimator sk-toggleable\"><input class=\"sk-toggleable__control sk-hidden--visually\" id=\"sk-estimator-id-1\" type=\"checkbox\" checked><label for=\"sk-estimator-id-1\" class=\"sk-toggleable__label sk-toggleable__label-arrow\">LinearRegression</label><div class=\"sk-toggleable__content\"><pre>LinearRegression()</pre></div></div></div></div></div>"
      ],
      "text/plain": [
       "LinearRegression()"
      ]
     },
     "execution_count": 36,
     "metadata": {},
     "output_type": "execute_result"
    }
   ],
   "source": [
    "%%time\n",
    "# найдем время обучения LinearRegression\n",
    "model = LinearRegression()\n",
    "model.fit(x_train_ohe, y_train_ohe)"
   ]
  },
  {
   "cell_type": "code",
   "execution_count": 37,
   "metadata": {},
   "outputs": [
    {
     "name": "stdout",
     "output_type": "stream",
     "text": [
      "CPU times: user 182 ms, sys: 24.7 ms, total: 207 ms\n",
      "Wall time: 265 ms\n"
     ]
    }
   ],
   "source": [
    "%%time\n",
    "#построим предсказания на тренировочной выборке и найдем скорость\n",
    "predictions_train_ohe = model.predict(x_train_ohe)"
   ]
  },
  {
   "cell_type": "code",
   "execution_count": 38,
   "metadata": {},
   "outputs": [
    {
     "name": "stdout",
     "output_type": "stream",
     "text": [
      "CPU times: user 647 ms, sys: 23.8 ms, total: 670 ms\n",
      "Wall time: 723 ms\n"
     ]
    },
    {
     "data": {
      "text/html": [
       "<style>#sk-container-id-2 {color: black;background-color: white;}#sk-container-id-2 pre{padding: 0;}#sk-container-id-2 div.sk-toggleable {background-color: white;}#sk-container-id-2 label.sk-toggleable__label {cursor: pointer;display: block;width: 100%;margin-bottom: 0;padding: 0.3em;box-sizing: border-box;text-align: center;}#sk-container-id-2 label.sk-toggleable__label-arrow:before {content: \"▸\";float: left;margin-right: 0.25em;color: #696969;}#sk-container-id-2 label.sk-toggleable__label-arrow:hover:before {color: black;}#sk-container-id-2 div.sk-estimator:hover label.sk-toggleable__label-arrow:before {color: black;}#sk-container-id-2 div.sk-toggleable__content {max-height: 0;max-width: 0;overflow: hidden;text-align: left;background-color: #f0f8ff;}#sk-container-id-2 div.sk-toggleable__content pre {margin: 0.2em;color: black;border-radius: 0.25em;background-color: #f0f8ff;}#sk-container-id-2 input.sk-toggleable__control:checked~div.sk-toggleable__content {max-height: 200px;max-width: 100%;overflow: auto;}#sk-container-id-2 input.sk-toggleable__control:checked~label.sk-toggleable__label-arrow:before {content: \"▾\";}#sk-container-id-2 div.sk-estimator input.sk-toggleable__control:checked~label.sk-toggleable__label {background-color: #d4ebff;}#sk-container-id-2 div.sk-label input.sk-toggleable__control:checked~label.sk-toggleable__label {background-color: #d4ebff;}#sk-container-id-2 input.sk-hidden--visually {border: 0;clip: rect(1px 1px 1px 1px);clip: rect(1px, 1px, 1px, 1px);height: 1px;margin: -1px;overflow: hidden;padding: 0;position: absolute;width: 1px;}#sk-container-id-2 div.sk-estimator {font-family: monospace;background-color: #f0f8ff;border: 1px dotted black;border-radius: 0.25em;box-sizing: border-box;margin-bottom: 0.5em;}#sk-container-id-2 div.sk-estimator:hover {background-color: #d4ebff;}#sk-container-id-2 div.sk-parallel-item::after {content: \"\";width: 100%;border-bottom: 1px solid gray;flex-grow: 1;}#sk-container-id-2 div.sk-label:hover label.sk-toggleable__label {background-color: #d4ebff;}#sk-container-id-2 div.sk-serial::before {content: \"\";position: absolute;border-left: 1px solid gray;box-sizing: border-box;top: 0;bottom: 0;left: 50%;z-index: 0;}#sk-container-id-2 div.sk-serial {display: flex;flex-direction: column;align-items: center;background-color: white;padding-right: 0.2em;padding-left: 0.2em;position: relative;}#sk-container-id-2 div.sk-item {position: relative;z-index: 1;}#sk-container-id-2 div.sk-parallel {display: flex;align-items: stretch;justify-content: center;background-color: white;position: relative;}#sk-container-id-2 div.sk-item::before, #sk-container-id-2 div.sk-parallel-item::before {content: \"\";position: absolute;border-left: 1px solid gray;box-sizing: border-box;top: 0;bottom: 0;left: 50%;z-index: -1;}#sk-container-id-2 div.sk-parallel-item {display: flex;flex-direction: column;z-index: 1;position: relative;background-color: white;}#sk-container-id-2 div.sk-parallel-item:first-child::after {align-self: flex-end;width: 50%;}#sk-container-id-2 div.sk-parallel-item:last-child::after {align-self: flex-start;width: 50%;}#sk-container-id-2 div.sk-parallel-item:only-child::after {width: 0;}#sk-container-id-2 div.sk-dashed-wrapped {border: 1px dashed gray;margin: 0 0.4em 0.5em 0.4em;box-sizing: border-box;padding-bottom: 0.4em;background-color: white;}#sk-container-id-2 div.sk-label label {font-family: monospace;font-weight: bold;display: inline-block;line-height: 1.2em;}#sk-container-id-2 div.sk-label-container {text-align: center;}#sk-container-id-2 div.sk-container {/* jupyter's `normalize.less` sets `[hidden] { display: none; }` but bootstrap.min.css set `[hidden] { display: none !important; }` so we also need the `!important` here to be able to override the default hidden behavior on the sphinx rendered scikit-learn.org. See: https://github.com/scikit-learn/scikit-learn/issues/21755 */display: inline-block !important;position: relative;}#sk-container-id-2 div.sk-text-repr-fallback {display: none;}</style><div id=\"sk-container-id-2\" class=\"sk-top-container\"><div class=\"sk-text-repr-fallback\"><pre>DecisionTreeRegressor(max_depth=9, random_state=12345)</pre><b>In a Jupyter environment, please rerun this cell to show the HTML representation or trust the notebook. <br />On GitHub, the HTML representation is unable to render, please try loading this page with nbviewer.org.</b></div><div class=\"sk-container\" hidden><div class=\"sk-item\"><div class=\"sk-estimator sk-toggleable\"><input class=\"sk-toggleable__control sk-hidden--visually\" id=\"sk-estimator-id-2\" type=\"checkbox\" checked><label for=\"sk-estimator-id-2\" class=\"sk-toggleable__label sk-toggleable__label-arrow\">DecisionTreeRegressor</label><div class=\"sk-toggleable__content\"><pre>DecisionTreeRegressor(max_depth=9, random_state=12345)</pre></div></div></div></div></div>"
      ],
      "text/plain": [
       "DecisionTreeRegressor(max_depth=9, random_state=12345)"
      ]
     },
     "execution_count": 38,
     "metadata": {},
     "output_type": "execute_result"
    }
   ],
   "source": [
    "%%time\n",
    "# найдем время обучения DecisionTreeRegression\n",
    "model = DecisionTreeRegressor(random_state=12345, max_depth=9)\n",
    "model.fit(x_train, y_train)"
   ]
  },
  {
   "cell_type": "code",
   "execution_count": 39,
   "metadata": {},
   "outputs": [
    {
     "name": "stdout",
     "output_type": "stream",
     "text": [
      "CPU times: user 21.6 ms, sys: 7 µs, total: 21.6 ms\n",
      "Wall time: 20.1 ms\n"
     ]
    }
   ],
   "source": [
    "%%time\n",
    "#построим предсказания на тренировочной выборке и найдем скорость\n",
    "predictions_train = model.predict(x_train)"
   ]
  },
  {
   "cell_type": "code",
   "execution_count": 40,
   "metadata": {},
   "outputs": [
    {
     "name": "stdout",
     "output_type": "stream",
     "text": [
      "CPU times: user 6min 28s, sys: 79.5 ms, total: 6min 28s\n",
      "Wall time: 6min 29s\n"
     ]
    },
    {
     "data": {
      "text/html": [
       "<style>#sk-container-id-3 {color: black;background-color: white;}#sk-container-id-3 pre{padding: 0;}#sk-container-id-3 div.sk-toggleable {background-color: white;}#sk-container-id-3 label.sk-toggleable__label {cursor: pointer;display: block;width: 100%;margin-bottom: 0;padding: 0.3em;box-sizing: border-box;text-align: center;}#sk-container-id-3 label.sk-toggleable__label-arrow:before {content: \"▸\";float: left;margin-right: 0.25em;color: #696969;}#sk-container-id-3 label.sk-toggleable__label-arrow:hover:before {color: black;}#sk-container-id-3 div.sk-estimator:hover label.sk-toggleable__label-arrow:before {color: black;}#sk-container-id-3 div.sk-toggleable__content {max-height: 0;max-width: 0;overflow: hidden;text-align: left;background-color: #f0f8ff;}#sk-container-id-3 div.sk-toggleable__content pre {margin: 0.2em;color: black;border-radius: 0.25em;background-color: #f0f8ff;}#sk-container-id-3 input.sk-toggleable__control:checked~div.sk-toggleable__content {max-height: 200px;max-width: 100%;overflow: auto;}#sk-container-id-3 input.sk-toggleable__control:checked~label.sk-toggleable__label-arrow:before {content: \"▾\";}#sk-container-id-3 div.sk-estimator input.sk-toggleable__control:checked~label.sk-toggleable__label {background-color: #d4ebff;}#sk-container-id-3 div.sk-label input.sk-toggleable__control:checked~label.sk-toggleable__label {background-color: #d4ebff;}#sk-container-id-3 input.sk-hidden--visually {border: 0;clip: rect(1px 1px 1px 1px);clip: rect(1px, 1px, 1px, 1px);height: 1px;margin: -1px;overflow: hidden;padding: 0;position: absolute;width: 1px;}#sk-container-id-3 div.sk-estimator {font-family: monospace;background-color: #f0f8ff;border: 1px dotted black;border-radius: 0.25em;box-sizing: border-box;margin-bottom: 0.5em;}#sk-container-id-3 div.sk-estimator:hover {background-color: #d4ebff;}#sk-container-id-3 div.sk-parallel-item::after {content: \"\";width: 100%;border-bottom: 1px solid gray;flex-grow: 1;}#sk-container-id-3 div.sk-label:hover label.sk-toggleable__label {background-color: #d4ebff;}#sk-container-id-3 div.sk-serial::before {content: \"\";position: absolute;border-left: 1px solid gray;box-sizing: border-box;top: 0;bottom: 0;left: 50%;z-index: 0;}#sk-container-id-3 div.sk-serial {display: flex;flex-direction: column;align-items: center;background-color: white;padding-right: 0.2em;padding-left: 0.2em;position: relative;}#sk-container-id-3 div.sk-item {position: relative;z-index: 1;}#sk-container-id-3 div.sk-parallel {display: flex;align-items: stretch;justify-content: center;background-color: white;position: relative;}#sk-container-id-3 div.sk-item::before, #sk-container-id-3 div.sk-parallel-item::before {content: \"\";position: absolute;border-left: 1px solid gray;box-sizing: border-box;top: 0;bottom: 0;left: 50%;z-index: -1;}#sk-container-id-3 div.sk-parallel-item {display: flex;flex-direction: column;z-index: 1;position: relative;background-color: white;}#sk-container-id-3 div.sk-parallel-item:first-child::after {align-self: flex-end;width: 50%;}#sk-container-id-3 div.sk-parallel-item:last-child::after {align-self: flex-start;width: 50%;}#sk-container-id-3 div.sk-parallel-item:only-child::after {width: 0;}#sk-container-id-3 div.sk-dashed-wrapped {border: 1px dashed gray;margin: 0 0.4em 0.5em 0.4em;box-sizing: border-box;padding-bottom: 0.4em;background-color: white;}#sk-container-id-3 div.sk-label label {font-family: monospace;font-weight: bold;display: inline-block;line-height: 1.2em;}#sk-container-id-3 div.sk-label-container {text-align: center;}#sk-container-id-3 div.sk-container {/* jupyter's `normalize.less` sets `[hidden] { display: none; }` but bootstrap.min.css set `[hidden] { display: none !important; }` so we also need the `!important` here to be able to override the default hidden behavior on the sphinx rendered scikit-learn.org. See: https://github.com/scikit-learn/scikit-learn/issues/21755 */display: inline-block !important;position: relative;}#sk-container-id-3 div.sk-text-repr-fallback {display: none;}</style><div id=\"sk-container-id-3\" class=\"sk-top-container\"><div class=\"sk-text-repr-fallback\"><pre>RandomForestRegressor(max_depth=9, n_estimators=1000, random_state=12345)</pre><b>In a Jupyter environment, please rerun this cell to show the HTML representation or trust the notebook. <br />On GitHub, the HTML representation is unable to render, please try loading this page with nbviewer.org.</b></div><div class=\"sk-container\" hidden><div class=\"sk-item\"><div class=\"sk-estimator sk-toggleable\"><input class=\"sk-toggleable__control sk-hidden--visually\" id=\"sk-estimator-id-3\" type=\"checkbox\" checked><label for=\"sk-estimator-id-3\" class=\"sk-toggleable__label sk-toggleable__label-arrow\">RandomForestRegressor</label><div class=\"sk-toggleable__content\"><pre>RandomForestRegressor(max_depth=9, n_estimators=1000, random_state=12345)</pre></div></div></div></div></div>"
      ],
      "text/plain": [
       "RandomForestRegressor(max_depth=9, n_estimators=1000, random_state=12345)"
      ]
     },
     "execution_count": 40,
     "metadata": {},
     "output_type": "execute_result"
    }
   ],
   "source": [
    "%%time\n",
    "# обучим RandomForestRegression\n",
    "model = RandomForestRegressor(random_state=12345, max_depth=9, n_estimators=1000)\n",
    "model.fit(x_train, y_train)"
   ]
  },
  {
   "cell_type": "code",
   "execution_count": 41,
   "metadata": {},
   "outputs": [
    {
     "name": "stdout",
     "output_type": "stream",
     "text": [
      "CPU times: user 14.2 s, sys: 4.97 ms, total: 14.2 s\n",
      "Wall time: 14.2 s\n"
     ]
    }
   ],
   "source": [
    "%%time\n",
    "#построим предсказания на тренировочной выборке\n",
    "predictions_train = model.predict(x_train)"
   ]
  },
  {
   "cell_type": "code",
   "execution_count": 42,
   "metadata": {
    "scrolled": true
   },
   "outputs": [
    {
     "name": "stdout",
     "output_type": "stream",
     "text": [
      "CPU times: user 5.73 s, sys: 47.2 ms, total: 5.77 s\n",
      "Wall time: 5.77 s\n"
     ]
    },
    {
     "data": {
      "text/html": [
       "<style>#sk-container-id-4 {color: black;background-color: white;}#sk-container-id-4 pre{padding: 0;}#sk-container-id-4 div.sk-toggleable {background-color: white;}#sk-container-id-4 label.sk-toggleable__label {cursor: pointer;display: block;width: 100%;margin-bottom: 0;padding: 0.3em;box-sizing: border-box;text-align: center;}#sk-container-id-4 label.sk-toggleable__label-arrow:before {content: \"▸\";float: left;margin-right: 0.25em;color: #696969;}#sk-container-id-4 label.sk-toggleable__label-arrow:hover:before {color: black;}#sk-container-id-4 div.sk-estimator:hover label.sk-toggleable__label-arrow:before {color: black;}#sk-container-id-4 div.sk-toggleable__content {max-height: 0;max-width: 0;overflow: hidden;text-align: left;background-color: #f0f8ff;}#sk-container-id-4 div.sk-toggleable__content pre {margin: 0.2em;color: black;border-radius: 0.25em;background-color: #f0f8ff;}#sk-container-id-4 input.sk-toggleable__control:checked~div.sk-toggleable__content {max-height: 200px;max-width: 100%;overflow: auto;}#sk-container-id-4 input.sk-toggleable__control:checked~label.sk-toggleable__label-arrow:before {content: \"▾\";}#sk-container-id-4 div.sk-estimator input.sk-toggleable__control:checked~label.sk-toggleable__label {background-color: #d4ebff;}#sk-container-id-4 div.sk-label input.sk-toggleable__control:checked~label.sk-toggleable__label {background-color: #d4ebff;}#sk-container-id-4 input.sk-hidden--visually {border: 0;clip: rect(1px 1px 1px 1px);clip: rect(1px, 1px, 1px, 1px);height: 1px;margin: -1px;overflow: hidden;padding: 0;position: absolute;width: 1px;}#sk-container-id-4 div.sk-estimator {font-family: monospace;background-color: #f0f8ff;border: 1px dotted black;border-radius: 0.25em;box-sizing: border-box;margin-bottom: 0.5em;}#sk-container-id-4 div.sk-estimator:hover {background-color: #d4ebff;}#sk-container-id-4 div.sk-parallel-item::after {content: \"\";width: 100%;border-bottom: 1px solid gray;flex-grow: 1;}#sk-container-id-4 div.sk-label:hover label.sk-toggleable__label {background-color: #d4ebff;}#sk-container-id-4 div.sk-serial::before {content: \"\";position: absolute;border-left: 1px solid gray;box-sizing: border-box;top: 0;bottom: 0;left: 50%;z-index: 0;}#sk-container-id-4 div.sk-serial {display: flex;flex-direction: column;align-items: center;background-color: white;padding-right: 0.2em;padding-left: 0.2em;position: relative;}#sk-container-id-4 div.sk-item {position: relative;z-index: 1;}#sk-container-id-4 div.sk-parallel {display: flex;align-items: stretch;justify-content: center;background-color: white;position: relative;}#sk-container-id-4 div.sk-item::before, #sk-container-id-4 div.sk-parallel-item::before {content: \"\";position: absolute;border-left: 1px solid gray;box-sizing: border-box;top: 0;bottom: 0;left: 50%;z-index: -1;}#sk-container-id-4 div.sk-parallel-item {display: flex;flex-direction: column;z-index: 1;position: relative;background-color: white;}#sk-container-id-4 div.sk-parallel-item:first-child::after {align-self: flex-end;width: 50%;}#sk-container-id-4 div.sk-parallel-item:last-child::after {align-self: flex-start;width: 50%;}#sk-container-id-4 div.sk-parallel-item:only-child::after {width: 0;}#sk-container-id-4 div.sk-dashed-wrapped {border: 1px dashed gray;margin: 0 0.4em 0.5em 0.4em;box-sizing: border-box;padding-bottom: 0.4em;background-color: white;}#sk-container-id-4 div.sk-label label {font-family: monospace;font-weight: bold;display: inline-block;line-height: 1.2em;}#sk-container-id-4 div.sk-label-container {text-align: center;}#sk-container-id-4 div.sk-container {/* jupyter's `normalize.less` sets `[hidden] { display: none; }` but bootstrap.min.css set `[hidden] { display: none !important; }` so we also need the `!important` here to be able to override the default hidden behavior on the sphinx rendered scikit-learn.org. See: https://github.com/scikit-learn/scikit-learn/issues/21755 */display: inline-block !important;position: relative;}#sk-container-id-4 div.sk-text-repr-fallback {display: none;}</style><div id=\"sk-container-id-4\" class=\"sk-top-container\"><div class=\"sk-text-repr-fallback\"><pre>LGBMRegressor(learning_rate=0.3, num_leaves=70, random_state=12345)</pre><b>In a Jupyter environment, please rerun this cell to show the HTML representation or trust the notebook. <br />On GitHub, the HTML representation is unable to render, please try loading this page with nbviewer.org.</b></div><div class=\"sk-container\" hidden><div class=\"sk-item\"><div class=\"sk-estimator sk-toggleable\"><input class=\"sk-toggleable__control sk-hidden--visually\" id=\"sk-estimator-id-4\" type=\"checkbox\" checked><label for=\"sk-estimator-id-4\" class=\"sk-toggleable__label sk-toggleable__label-arrow\">LGBMRegressor</label><div class=\"sk-toggleable__content\"><pre>LGBMRegressor(learning_rate=0.3, num_leaves=70, random_state=12345)</pre></div></div></div></div></div>"
      ],
      "text/plain": [
       "LGBMRegressor(learning_rate=0.3, num_leaves=70, random_state=12345)"
      ]
     },
     "execution_count": 42,
     "metadata": {},
     "output_type": "execute_result"
    }
   ],
   "source": [
    "%%time\n",
    "# найдем время обучения LightGBM\n",
    "model = LGBMRegressor(random_state=12345,\n",
    "                          learning_rate=0.3,\n",
    "                          num_leaves=70)\n",
    "model.fit(x_train, y_train)"
   ]
  },
  {
   "cell_type": "code",
   "execution_count": 43,
   "metadata": {},
   "outputs": [
    {
     "name": "stdout",
     "output_type": "stream",
     "text": [
      "CPU times: user 1.39 s, sys: 0 ns, total: 1.39 s\n",
      "Wall time: 1.49 s\n"
     ]
    }
   ],
   "source": [
    "%%time\n",
    "#построим предсказания на тренировочной выборке и найдем скорость\n",
    "predictions_train = model.predict(x_train)"
   ]
  },
  {
   "cell_type": "code",
   "execution_count": 44,
   "metadata": {},
   "outputs": [
    {
     "name": "stdout",
     "output_type": "stream",
     "text": [
      "2162.175552214923\n"
     ]
    }
   ],
   "source": [
    "predictions_test = model.predict(x_test)\n",
    "rmse = mean_squared_error(y_test, predictions_test)**0.5\n",
    "print(rmse)"
   ]
  },
  {
   "cell_type": "markdown",
   "metadata": {},
   "source": [
    "Выводы:\n",
    "\n",
    "У LinearRegression время обучения 24.3 секунд, предсказание на тренировочной выборке - 265 мсек, у DecisionTreeRegression время обучения - 723 мсек, предсказание на тренировочной выборке - 20.1 мсек, у RandomForestRegression время обучения - 29 сек, предсказание на тренировочной выборке - 14.2 секунд, у LGBMRegressor время обучения 5.77 сек, предсказание на тренировочной выборке - 1.49 секунд. Самая быстрая по времени обучения и предсказания - LGBMRegressor. Наилучшая модель - LGBMRegressor (learning_rate=0.1, num_leaves=70). "
   ]
  },
  {
   "cell_type": "code",
   "execution_count": 45,
   "metadata": {},
   "outputs": [
    {
     "data": {
      "image/png": "[encoded data removed]",
      "text/plain": [
       "<Figure size 1440x720 with 1 Axes>"
      ]
     },
     "metadata": {
      "needs_background": "light"
     },
     "output_type": "display_data"
    }
   ],
   "source": [
    "# обучим лучшую по метрике RMSE модель LGBMRegressor и построим график feature_importance\n",
    "model_LGBM = LGBMRegressor(random_state=12345, num_leaves=70, learning_rate=0.1).fit(x_test\n",
    "                                                                                     , y_test)\n",
    "\n",
    "feature_imp = pd.DataFrame(sorted(zip(model_LGBM.feature_importances_, x_test.columns))\n",
    "                           , columns=['Value','Feature'])\n",
    "\n",
    "plt.figure(figsize=(20, 10))\n",
    "sns.barplot(x=\"Value\", y=\"Feature\", data=feature_imp.sort_values(by=\"Value\", ascending=False))\n",
    "plt.title('LightGBM Features Importances')\n",
    "plt.tight_layout()\n",
    "plt.show()"
   ]
  },
  {
   "cell_type": "markdown",
   "metadata": {},
   "source": [
    "Больше всего на стоимость автомобиля влияет модель автомобиля, страна, ремонт. "
   ]
  },
  {
   "cell_type": "markdown",
   "metadata": {},
   "source": [
    "## Общие выводы"
   ]
  },
  {
   "cell_type": "markdown",
   "metadata": {},
   "source": [
    "В датафрейме data 354369 записей, названия столбцов адекватны содержащимся в них данным. Названия столбцов были отредактированы. Было проверено, нет ли пропущенных значений, для категориальных данных пропуски заменены на unknown. Было проверено наличие явных и неявных дубликатов, 4 дубликата были удалены. Отдельно рассмотрены числовые и категориальные данные. Цена меняется от нуля до 20 тысяч, а медианное значение составляет примерно 2700. Возможно, нулевые значения являются ошибкой в данных и их можно удалить. Удалены записи с registration_year до 1900 года и после 2016. Мощности автомобилей в данных меняются от нуля до 20 000 л.с, часть данных явно ошибочно заполнена, удалены записи с мощность более 1000. В столбце тип топлива gasoline переименовали petrol. Столбцы date_crawled, date_created, last_see, number_of_pictures никак не влияют на стоимость автомобиля, поэтому было принято решение удалить столбцы. Данные готовы к обучению моделей.\n",
    "\n",
    "Для LinearRegression RMSE - 2845, для модели DecisionTreeRegressor при max_depth 11 RMSE - 2601, для модели RandomForestRegressor при max_depth 11 - 2475, для LGBM 'learning_rate': 0.1, 'num_leaves': 70 RMSE - 2348.\n",
    "\n",
    "У LinearRegression время обучения 24.3 секунд, предсказание на тренировочной выборке - 265 мсек, у DecisionTreeRegression время обучения - 723 мсек, предсказание на тренировочной выборке - 20.1 мсек, у RandomForestRegression время обучения - 29 сек, предсказание на тренировочной выборке - 14.2 секунд, у LGBMRegressor время обучения 5.77 сек, предсказание на тренировочной выборке - 1.49 секунд. Самая быстрая по времени обучения и предсказания - LGBMRegressor. Наилучшая модель - LGBMRegressor (learning_rate=0.1, num_leaves=70).  Больше всего на стоимость автомобиля влияет модель автомобиля, страна, ремонт."
   ]
  },
  {
   "cell_type": "markdown",
   "metadata": {},
   "source": [
    "## Чек-лист проверки"
   ]
  },
  {
   "cell_type": "markdown",
   "metadata": {},
   "source": [
    "Поставьте 'x' в выполненных пунктах. Далее нажмите Shift+Enter."
   ]
  },
  {
   "cell_type": "markdown",
   "metadata": {},
   "source": [
    "- [x]  Jupyter Notebook открыт\n",
    "- [x]  Весь код выполняется без ошибок\n",
    "- [x]  Ячейки с кодом расположены в порядке исполнения\n",
    "- [x]  Выполнена загрузка и подготовка данных\n",
    "- [x]  Выполнено обучение моделей\n",
    "- [x]  Есть анализ скорости работы и качества моделей"
   ]
  }
 ],
 "metadata": {
  "ExecuteTimeLog": [
   {
    "duration": 53,
    "start_time": "2024-11-18T10:16:35.239Z"
   },
   {
    "duration": 8,
    "start_time": "2024-11-18T10:16:54.771Z"
   },
   {
    "duration": 1688,
    "start_time": "2024-11-18T10:16:57.732Z"
   },
   {
    "duration": 145,
    "start_time": "2024-11-18T10:17:00.532Z"
   },
   {
    "duration": 1562,
    "start_time": "2024-11-18T10:17:19.474Z"
   },
   {
    "duration": 194,
    "start_time": "2024-11-18T10:17:21.039Z"
   },
   {
    "duration": 77,
    "start_time": "2024-11-18T10:18:16.355Z"
   },
   {
    "duration": 75,
    "start_time": "2024-11-18T10:18:31.525Z"
   },
   {
    "duration": 1452,
    "start_time": "2024-11-18T10:25:08.349Z"
   },
   {
    "duration": 153,
    "start_time": "2024-11-18T10:25:54.324Z"
   },
   {
    "duration": 515,
    "start_time": "2024-11-18T10:26:22.596Z"
   },
   {
    "duration": 784,
    "start_time": "2024-11-18T10:26:47.740Z"
   },
   {
    "duration": 16,
    "start_time": "2024-11-18T10:27:37.156Z"
   },
   {
    "duration": 11,
    "start_time": "2024-11-18T10:29:05.821Z"
   },
   {
    "duration": 15,
    "start_time": "2024-11-18T11:03:32.266Z"
   },
   {
    "duration": 3852,
    "start_time": "2024-11-18T11:05:09.914Z"
   },
   {
    "duration": 4321,
    "start_time": "2024-11-18T11:06:45.506Z"
   },
   {
    "duration": 1183,
    "start_time": "2024-11-18T11:06:49.829Z"
   },
   {
    "duration": 164,
    "start_time": "2024-11-18T11:06:51.014Z"
   },
   {
    "duration": 556,
    "start_time": "2024-11-18T11:06:51.180Z"
   },
   {
    "duration": 53,
    "start_time": "2024-11-18T12:13:30.341Z"
   },
   {
    "duration": 4423,
    "start_time": "2024-11-18T12:13:35.606Z"
   },
   {
    "duration": 1542,
    "start_time": "2024-11-18T12:13:40.031Z"
   },
   {
    "duration": 171,
    "start_time": "2024-11-18T12:13:41.575Z"
   },
   {
    "duration": 559,
    "start_time": "2024-11-18T12:13:41.749Z"
   },
   {
    "duration": 7,
    "start_time": "2024-11-18T12:13:42.310Z"
   },
   {
    "duration": 42,
    "start_time": "2024-11-18T12:14:17.925Z"
   },
   {
    "duration": 23,
    "start_time": "2024-11-18T12:14:49.415Z"
   },
   {
    "duration": 3,
    "start_time": "2024-11-18T12:16:18.941Z"
   },
   {
    "duration": 1416,
    "start_time": "2024-11-18T12:16:38.478Z"
   },
   {
    "duration": 2863,
    "start_time": "2024-11-18T12:19:56.070Z"
   },
   {
    "duration": 1238,
    "start_time": "2024-11-18T12:19:58.936Z"
   },
   {
    "duration": 4,
    "start_time": "2024-11-18T12:20:02.822Z"
   },
   {
    "duration": 194,
    "start_time": "2024-11-18T12:20:05.189Z"
   },
   {
    "duration": 5,
    "start_time": "2024-11-18T12:27:37.454Z"
   },
   {
    "duration": 14,
    "start_time": "2024-11-18T12:28:02.991Z"
   },
   {
    "duration": 147,
    "start_time": "2024-11-18T12:28:21.943Z"
   },
   {
    "duration": 483,
    "start_time": "2024-11-18T12:28:27.263Z"
   },
   {
    "duration": 1691,
    "start_time": "2024-11-18T12:28:30.134Z"
   },
   {
    "duration": 7,
    "start_time": "2024-11-18T12:28:41.120Z"
   },
   {
    "duration": 64,
    "start_time": "2024-11-18T12:28:53.231Z"
   },
   {
    "duration": 27,
    "start_time": "2024-11-18T12:29:04.838Z"
   },
   {
    "duration": 832,
    "start_time": "2024-11-18T12:33:10.432Z"
   },
   {
    "duration": 237,
    "start_time": "2024-11-18T12:33:47.696Z"
   },
   {
    "duration": 2586,
    "start_time": "2024-11-18T12:47:47.680Z"
   },
   {
    "duration": 1108,
    "start_time": "2024-11-18T12:47:50.923Z"
   },
   {
    "duration": 3,
    "start_time": "2024-11-18T12:47:53.895Z"
   },
   {
    "duration": 4,
    "start_time": "2024-11-18T12:47:56.104Z"
   },
   {
    "duration": 13,
    "start_time": "2024-11-18T12:48:02.871Z"
   },
   {
    "duration": 159,
    "start_time": "2024-11-18T12:48:05.632Z"
   },
   {
    "duration": 238,
    "start_time": "2024-11-18T12:48:07.696Z"
   },
   {
    "duration": 462,
    "start_time": "2024-11-18T12:48:11.216Z"
   },
   {
    "duration": 7,
    "start_time": "2024-11-18T12:48:13.675Z"
   },
   {
    "duration": 24,
    "start_time": "2024-11-18T12:48:15.624Z"
   },
   {
    "duration": 37,
    "start_time": "2024-11-18T12:48:17.864Z"
   },
   {
    "duration": 41,
    "start_time": "2024-11-18T12:48:32.713Z"
   },
   {
    "duration": 50,
    "start_time": "2024-11-18T12:49:17.816Z"
   },
   {
    "duration": 39,
    "start_time": "2024-11-18T12:50:11.288Z"
   },
   {
    "duration": 364,
    "start_time": "2024-11-18T12:50:15.360Z"
   },
   {
    "duration": 15,
    "start_time": "2024-11-18T12:51:11.576Z"
   },
   {
    "duration": 4098,
    "start_time": "2024-11-18T12:51:51.542Z"
   },
   {
    "duration": 1093,
    "start_time": "2024-11-18T12:51:55.643Z"
   },
   {
    "duration": 3,
    "start_time": "2024-11-18T12:51:56.738Z"
   },
   {
    "duration": 7,
    "start_time": "2024-11-18T12:51:56.742Z"
   },
   {
    "duration": 35,
    "start_time": "2024-11-18T12:51:56.751Z"
   },
   {
    "duration": 153,
    "start_time": "2024-11-18T12:51:56.787Z"
   },
   {
    "duration": 256,
    "start_time": "2024-11-18T12:51:56.942Z"
   },
   {
    "duration": 7,
    "start_time": "2024-11-18T12:51:57.200Z"
   },
   {
    "duration": 32,
    "start_time": "2024-11-18T12:51:57.209Z"
   },
   {
    "duration": 23,
    "start_time": "2024-11-18T12:51:57.243Z"
   },
   {
    "duration": 92,
    "start_time": "2024-11-18T12:51:57.268Z"
   },
   {
    "duration": 495,
    "start_time": "2024-11-18T12:51:57.361Z"
   },
   {
    "duration": 772,
    "start_time": "2024-11-18T12:51:57.857Z"
   },
   {
    "duration": 33,
    "start_time": "2024-11-18T12:51:58.631Z"
   },
   {
    "duration": 928,
    "start_time": "2024-11-18T12:51:58.666Z"
   },
   {
    "duration": 4088,
    "start_time": "2024-11-18T12:52:34.210Z"
   },
   {
    "duration": 1138,
    "start_time": "2024-11-18T12:52:38.300Z"
   },
   {
    "duration": 3,
    "start_time": "2024-11-18T12:52:39.440Z"
   },
   {
    "duration": 17,
    "start_time": "2024-11-18T12:52:39.444Z"
   },
   {
    "duration": 27,
    "start_time": "2024-11-18T12:52:39.464Z"
   },
   {
    "duration": 162,
    "start_time": "2024-11-18T12:52:39.493Z"
   },
   {
    "duration": 259,
    "start_time": "2024-11-18T12:52:39.656Z"
   },
   {
    "duration": 6,
    "start_time": "2024-11-18T12:52:39.917Z"
   },
   {
    "duration": 30,
    "start_time": "2024-11-18T12:52:39.925Z"
   },
   {
    "duration": 47,
    "start_time": "2024-11-18T12:52:39.957Z"
   },
   {
    "duration": 68,
    "start_time": "2024-11-18T12:52:40.006Z"
   },
   {
    "duration": 484,
    "start_time": "2024-11-18T12:52:40.076Z"
   },
   {
    "duration": 711,
    "start_time": "2024-11-18T12:52:40.562Z"
   },
   {
    "duration": 45,
    "start_time": "2024-11-18T12:52:41.275Z"
   },
   {
    "duration": 219,
    "start_time": "2024-11-18T12:52:41.321Z"
   },
   {
    "duration": 5630,
    "start_time": "2024-11-19T08:43:37.397Z"
   },
   {
    "duration": 3176,
    "start_time": "2024-11-19T08:43:43.029Z"
   },
   {
    "duration": 5,
    "start_time": "2024-11-19T08:43:46.208Z"
   },
   {
    "duration": 16,
    "start_time": "2024-11-19T08:43:46.215Z"
   },
   {
    "duration": 135,
    "start_time": "2024-11-19T08:43:46.233Z"
   },
   {
    "duration": 176,
    "start_time": "2024-11-19T08:43:46.370Z"
   },
   {
    "duration": 266,
    "start_time": "2024-11-19T08:43:46.548Z"
   },
   {
    "duration": 7,
    "start_time": "2024-11-19T08:43:46.816Z"
   },
   {
    "duration": 73,
    "start_time": "2024-11-19T08:43:46.825Z"
   },
   {
    "duration": 33,
    "start_time": "2024-11-19T08:43:46.899Z"
   },
   {
    "duration": 94,
    "start_time": "2024-11-19T08:43:46.933Z"
   },
   {
    "duration": 41,
    "start_time": "2024-11-19T08:43:47.029Z"
   },
   {
    "duration": 49,
    "start_time": "2024-11-19T08:43:47.072Z"
   },
   {
    "duration": 573,
    "start_time": "2024-11-19T08:43:47.123Z"
   },
   {
    "duration": 719,
    "start_time": "2024-11-19T08:43:47.698Z"
   },
   {
    "duration": 30,
    "start_time": "2024-11-19T08:43:48.419Z"
   },
   {
    "duration": 4,
    "start_time": "2024-11-19T08:43:48.450Z"
   },
   {
    "duration": 4119,
    "start_time": "2024-11-19T08:45:16.971Z"
   },
   {
    "duration": 1111,
    "start_time": "2024-11-19T08:45:21.093Z"
   },
   {
    "duration": 4,
    "start_time": "2024-11-19T08:45:22.206Z"
   },
   {
    "duration": 13,
    "start_time": "2024-11-19T08:45:22.221Z"
   },
   {
    "duration": 122,
    "start_time": "2024-11-19T08:45:22.236Z"
   },
   {
    "duration": 200,
    "start_time": "2024-11-19T08:45:22.359Z"
   },
   {
    "duration": 295,
    "start_time": "2024-11-19T08:45:22.560Z"
   },
   {
    "duration": 7,
    "start_time": "2024-11-19T08:45:22.857Z"
   },
   {
    "duration": 47,
    "start_time": "2024-11-19T08:45:22.865Z"
   },
   {
    "duration": 74,
    "start_time": "2024-11-19T08:45:22.914Z"
   },
   {
    "duration": 63,
    "start_time": "2024-11-19T08:45:22.990Z"
   },
   {
    "duration": 38,
    "start_time": "2024-11-19T08:45:23.055Z"
   },
   {
    "duration": 138,
    "start_time": "2024-11-19T08:45:23.095Z"
   },
   {
    "duration": 417,
    "start_time": "2024-11-19T08:45:23.235Z"
   },
   {
    "duration": 684,
    "start_time": "2024-11-19T08:45:23.654Z"
   },
   {
    "duration": 31,
    "start_time": "2024-11-19T08:45:24.340Z"
   },
   {
    "duration": 25,
    "start_time": "2024-11-19T08:45:24.373Z"
   },
   {
    "duration": 4184,
    "start_time": "2024-11-19T08:50:04.303Z"
   },
   {
    "duration": 1126,
    "start_time": "2024-11-19T08:50:08.489Z"
   },
   {
    "duration": 6,
    "start_time": "2024-11-19T08:50:09.616Z"
   },
   {
    "duration": 16,
    "start_time": "2024-11-19T08:50:09.623Z"
   },
   {
    "duration": 49,
    "start_time": "2024-11-19T08:50:09.641Z"
   },
   {
    "duration": 170,
    "start_time": "2024-11-19T08:50:09.691Z"
   },
   {
    "duration": 311,
    "start_time": "2024-11-19T08:50:09.864Z"
   },
   {
    "duration": 8,
    "start_time": "2024-11-19T08:50:10.176Z"
   },
   {
    "duration": 78,
    "start_time": "2024-11-19T08:50:10.186Z"
   },
   {
    "duration": 33,
    "start_time": "2024-11-19T08:50:10.265Z"
   },
   {
    "duration": 172,
    "start_time": "2024-11-19T08:50:10.299Z"
   },
   {
    "duration": 39,
    "start_time": "2024-11-19T08:50:10.472Z"
   },
   {
    "duration": 34,
    "start_time": "2024-11-19T08:50:10.521Z"
   },
   {
    "duration": 430,
    "start_time": "2024-11-19T08:50:10.557Z"
   },
   {
    "duration": 671,
    "start_time": "2024-11-19T08:50:10.989Z"
   },
   {
    "duration": 29,
    "start_time": "2024-11-19T08:50:11.662Z"
   },
   {
    "duration": 4,
    "start_time": "2024-11-19T08:50:11.692Z"
   },
   {
    "duration": 4250,
    "start_time": "2024-11-19T08:51:36.617Z"
   },
   {
    "duration": 1111,
    "start_time": "2024-11-19T08:51:40.869Z"
   },
   {
    "duration": 4,
    "start_time": "2024-11-19T08:51:41.982Z"
   },
   {
    "duration": 27,
    "start_time": "2024-11-19T08:51:41.988Z"
   },
   {
    "duration": 15,
    "start_time": "2024-11-19T08:51:42.018Z"
   },
   {
    "duration": 163,
    "start_time": "2024-11-19T08:51:42.035Z"
   },
   {
    "duration": 283,
    "start_time": "2024-11-19T08:51:42.200Z"
   },
   {
    "duration": 7,
    "start_time": "2024-11-19T08:51:42.484Z"
   },
   {
    "duration": 44,
    "start_time": "2024-11-19T08:51:42.493Z"
   },
   {
    "duration": 30,
    "start_time": "2024-11-19T08:51:42.538Z"
   },
   {
    "duration": 78,
    "start_time": "2024-11-19T08:51:42.570Z"
   },
   {
    "duration": 39,
    "start_time": "2024-11-19T08:51:42.650Z"
   },
   {
    "duration": 49,
    "start_time": "2024-11-19T08:51:42.690Z"
   },
   {
    "duration": 478,
    "start_time": "2024-11-19T08:51:42.741Z"
   },
   {
    "duration": 689,
    "start_time": "2024-11-19T08:51:43.221Z"
   },
   {
    "duration": 31,
    "start_time": "2024-11-19T08:51:43.911Z"
   },
   {
    "duration": 17,
    "start_time": "2024-11-19T08:51:43.944Z"
   },
   {
    "duration": 26,
    "start_time": "2024-11-19T08:51:43.963Z"
   },
   {
    "duration": 187,
    "start_time": "2024-11-19T08:51:43.991Z"
   },
   {
    "duration": 55,
    "start_time": "2024-11-19T08:51:44.180Z"
   },
   {
    "duration": 4231,
    "start_time": "2024-11-19T08:56:23.193Z"
   },
   {
    "duration": 1160,
    "start_time": "2024-11-19T08:56:27.426Z"
   },
   {
    "duration": 3,
    "start_time": "2024-11-19T08:56:28.588Z"
   },
   {
    "duration": 13,
    "start_time": "2024-11-19T08:56:28.594Z"
   },
   {
    "duration": 33,
    "start_time": "2024-11-19T08:56:28.609Z"
   },
   {
    "duration": 170,
    "start_time": "2024-11-19T08:56:28.643Z"
   },
   {
    "duration": 283,
    "start_time": "2024-11-19T08:56:28.815Z"
   },
   {
    "duration": 8,
    "start_time": "2024-11-19T08:56:29.100Z"
   },
   {
    "duration": 32,
    "start_time": "2024-11-19T08:56:29.122Z"
   },
   {
    "duration": 31,
    "start_time": "2024-11-19T08:56:29.158Z"
   },
   {
    "duration": 236,
    "start_time": "2024-11-19T08:56:29.191Z"
   },
   {
    "duration": 38,
    "start_time": "2024-11-19T08:56:29.429Z"
   },
   {
    "duration": 64,
    "start_time": "2024-11-19T08:56:29.469Z"
   },
   {
    "duration": 497,
    "start_time": "2024-11-19T08:56:29.535Z"
   },
   {
    "duration": 675,
    "start_time": "2024-11-19T08:56:30.034Z"
   },
   {
    "duration": 36,
    "start_time": "2024-11-19T08:56:30.711Z"
   },
   {
    "duration": 4,
    "start_time": "2024-11-19T08:56:30.749Z"
   },
   {
    "duration": 48,
    "start_time": "2024-11-19T08:56:30.755Z"
   },
   {
    "duration": 201,
    "start_time": "2024-11-19T08:56:30.805Z"
   },
   {
    "duration": 56,
    "start_time": "2024-11-19T08:56:31.007Z"
   },
   {
    "duration": 1520,
    "start_time": "2024-11-19T09:01:09.852Z"
   },
   {
    "duration": 1162,
    "start_time": "2024-11-19T09:01:11.374Z"
   },
   {
    "duration": 4,
    "start_time": "2024-11-19T09:01:12.537Z"
   },
   {
    "duration": 10,
    "start_time": "2024-11-19T09:01:12.543Z"
   },
   {
    "duration": 30,
    "start_time": "2024-11-19T09:01:12.556Z"
   },
   {
    "duration": 155,
    "start_time": "2024-11-19T09:01:12.587Z"
   },
   {
    "duration": 278,
    "start_time": "2024-11-19T09:01:12.744Z"
   },
   {
    "duration": 6,
    "start_time": "2024-11-19T09:01:13.023Z"
   },
   {
    "duration": 75,
    "start_time": "2024-11-19T09:01:13.031Z"
   },
   {
    "duration": 30,
    "start_time": "2024-11-19T09:01:13.107Z"
   },
   {
    "duration": 62,
    "start_time": "2024-11-19T09:01:13.139Z"
   },
   {
    "duration": 58,
    "start_time": "2024-11-19T09:01:13.202Z"
   },
   {
    "duration": 46,
    "start_time": "2024-11-19T09:01:13.261Z"
   },
   {
    "duration": 431,
    "start_time": "2024-11-19T09:01:13.309Z"
   },
   {
    "duration": 697,
    "start_time": "2024-11-19T09:01:13.742Z"
   },
   {
    "duration": 31,
    "start_time": "2024-11-19T09:01:14.441Z"
   },
   {
    "duration": 16,
    "start_time": "2024-11-19T09:01:14.474Z"
   },
   {
    "duration": 39,
    "start_time": "2024-11-19T09:01:14.492Z"
   },
   {
    "duration": 193,
    "start_time": "2024-11-19T09:01:14.533Z"
   },
   {
    "duration": 47,
    "start_time": "2024-11-19T09:01:14.728Z"
   },
   {
    "duration": 1590,
    "start_time": "2024-11-19T09:03:42.652Z"
   },
   {
    "duration": 1130,
    "start_time": "2024-11-19T09:03:44.244Z"
   },
   {
    "duration": 3,
    "start_time": "2024-11-19T09:03:45.376Z"
   },
   {
    "duration": 22,
    "start_time": "2024-11-19T09:03:45.380Z"
   },
   {
    "duration": 66,
    "start_time": "2024-11-19T09:03:45.405Z"
   },
   {
    "duration": 191,
    "start_time": "2024-11-19T09:03:45.473Z"
   },
   {
    "duration": 311,
    "start_time": "2024-11-19T09:03:45.667Z"
   },
   {
    "duration": 7,
    "start_time": "2024-11-19T09:03:45.979Z"
   },
   {
    "duration": 50,
    "start_time": "2024-11-19T09:03:45.988Z"
   },
   {
    "duration": 51,
    "start_time": "2024-11-19T09:03:46.039Z"
   },
   {
    "duration": 63,
    "start_time": "2024-11-19T09:03:46.091Z"
   },
   {
    "duration": 38,
    "start_time": "2024-11-19T09:03:46.156Z"
   },
   {
    "duration": 58,
    "start_time": "2024-11-19T09:03:46.195Z"
   },
   {
    "duration": 454,
    "start_time": "2024-11-19T09:03:46.257Z"
   },
   {
    "duration": 685,
    "start_time": "2024-11-19T09:03:46.713Z"
   },
   {
    "duration": 39,
    "start_time": "2024-11-19T09:03:47.400Z"
   },
   {
    "duration": 7,
    "start_time": "2024-11-19T09:03:47.441Z"
   },
   {
    "duration": 46,
    "start_time": "2024-11-19T09:03:47.450Z"
   },
   {
    "duration": 202,
    "start_time": "2024-11-19T09:03:47.497Z"
   },
   {
    "duration": 54,
    "start_time": "2024-11-19T09:03:47.701Z"
   },
   {
    "duration": 758287,
    "start_time": "2024-11-19T09:03:47.757Z"
   },
   {
    "duration": 788,
    "start_time": "2024-11-19T09:16:26.046Z"
   },
   {
    "duration": 437,
    "start_time": "2024-11-19T09:16:26.836Z"
   },
   {
    "duration": 148,
    "start_time": "2024-11-19T09:16:27.274Z"
   },
   {
    "duration": 0,
    "start_time": "2024-11-19T09:16:27.424Z"
   },
   {
    "duration": 0,
    "start_time": "2024-11-19T09:16:27.425Z"
   },
   {
    "duration": 0,
    "start_time": "2024-11-19T09:16:27.426Z"
   },
   {
    "duration": 0,
    "start_time": "2024-11-19T09:16:27.427Z"
   },
   {
    "duration": 0,
    "start_time": "2024-11-19T09:16:27.428Z"
   },
   {
    "duration": 1,
    "start_time": "2024-11-19T09:16:27.429Z"
   },
   {
    "duration": 0,
    "start_time": "2024-11-19T09:16:27.431Z"
   },
   {
    "duration": 0,
    "start_time": "2024-11-19T09:16:27.432Z"
   },
   {
    "duration": 0,
    "start_time": "2024-11-19T09:16:27.433Z"
   },
   {
    "duration": 0,
    "start_time": "2024-11-19T09:16:27.434Z"
   },
   {
    "duration": 306,
    "start_time": "2024-11-19T09:17:28.522Z"
   },
   {
    "duration": 88635,
    "start_time": "2024-11-19T09:17:31.064Z"
   },
   {
    "duration": 1511,
    "start_time": "2024-11-19T09:32:54.073Z"
   },
   {
    "duration": 1154,
    "start_time": "2024-11-19T09:32:55.586Z"
   },
   {
    "duration": 3,
    "start_time": "2024-11-19T09:32:56.743Z"
   },
   {
    "duration": 7,
    "start_time": "2024-11-19T09:32:56.747Z"
   },
   {
    "duration": 42,
    "start_time": "2024-11-19T09:32:56.757Z"
   },
   {
    "duration": 152,
    "start_time": "2024-11-19T09:32:56.801Z"
   },
   {
    "duration": 296,
    "start_time": "2024-11-19T09:32:56.955Z"
   },
   {
    "duration": 7,
    "start_time": "2024-11-19T09:32:57.253Z"
   },
   {
    "duration": 40,
    "start_time": "2024-11-19T09:32:57.262Z"
   },
   {
    "duration": 43,
    "start_time": "2024-11-19T09:32:57.304Z"
   },
   {
    "duration": 74,
    "start_time": "2024-11-19T09:32:57.349Z"
   },
   {
    "duration": 39,
    "start_time": "2024-11-19T09:32:57.425Z"
   },
   {
    "duration": 38,
    "start_time": "2024-11-19T09:32:57.465Z"
   },
   {
    "duration": 482,
    "start_time": "2024-11-19T09:32:57.523Z"
   },
   {
    "duration": 694,
    "start_time": "2024-11-19T09:32:58.007Z"
   },
   {
    "duration": 37,
    "start_time": "2024-11-19T09:32:58.703Z"
   },
   {
    "duration": 4,
    "start_time": "2024-11-19T09:32:58.742Z"
   },
   {
    "duration": 54,
    "start_time": "2024-11-19T09:32:58.747Z"
   },
   {
    "duration": 191,
    "start_time": "2024-11-19T09:32:58.803Z"
   },
   {
    "duration": 58,
    "start_time": "2024-11-19T09:32:58.996Z"
   },
   {
    "duration": 381478,
    "start_time": "2024-11-19T09:32:59.056Z"
   },
   {
    "duration": 701,
    "start_time": "2024-11-19T09:39:20.536Z"
   },
   {
    "duration": 401,
    "start_time": "2024-11-19T09:39:21.239Z"
   },
   {
    "duration": 317,
    "start_time": "2024-11-19T09:39:21.642Z"
   },
   {
    "duration": 81270,
    "start_time": "2024-11-19T09:39:21.961Z"
   },
   {
    "duration": 6725294,
    "start_time": "2024-11-19T09:40:43.233Z"
   },
   {
    "duration": 22100,
    "start_time": "2024-11-19T11:32:48.528Z"
   },
   {
    "duration": 1506,
    "start_time": "2024-11-19T11:33:10.630Z"
   },
   {
    "duration": 218,
    "start_time": "2024-11-19T11:33:12.138Z"
   },
   {
    "duration": 757,
    "start_time": "2024-11-19T11:33:12.357Z"
   },
   {
    "duration": 199,
    "start_time": "2024-11-19T11:33:13.121Z"
   },
   {
    "duration": 99,
    "start_time": "2024-11-19T11:33:13.323Z"
   },
   {
    "duration": 12,
    "start_time": "2024-11-19T11:33:13.424Z"
   },
   {
    "duration": 14274,
    "start_time": "2024-11-19T11:33:13.438Z"
   },
   {
    "duration": 5,
    "start_time": "2024-11-19T12:39:59.121Z"
   },
   {
    "duration": 1075,
    "start_time": "2024-11-19T12:40:01.175Z"
   },
   {
    "duration": 4,
    "start_time": "2024-11-19T12:40:06.072Z"
   },
   {
    "duration": 6,
    "start_time": "2024-11-19T12:40:08.328Z"
   },
   {
    "duration": 14,
    "start_time": "2024-11-19T12:40:10.658Z"
   },
   {
    "duration": 160,
    "start_time": "2024-11-19T12:40:13.568Z"
   },
   {
    "duration": 275,
    "start_time": "2024-11-19T12:40:16.836Z"
   },
   {
    "duration": 206,
    "start_time": "2024-11-19T12:42:00.560Z"
   },
   {
    "duration": 2177,
    "start_time": "2024-11-19T12:42:49.649Z"
   },
   {
    "duration": 9462,
    "start_time": "2024-11-19T12:50:14.784Z"
   },
   {
    "duration": 19559,
    "start_time": "2024-11-19T13:24:33.343Z"
   },
   {
    "duration": 1615,
    "start_time": "2024-11-19T15:27:39.786Z"
   },
   {
    "duration": 1400,
    "start_time": "2024-11-19T15:27:42.083Z"
   },
   {
    "duration": 3,
    "start_time": "2024-11-19T15:27:46.592Z"
   },
   {
    "duration": 4,
    "start_time": "2024-11-19T15:27:49.473Z"
   },
   {
    "duration": 12,
    "start_time": "2024-11-19T15:27:52.277Z"
   },
   {
    "duration": 143,
    "start_time": "2024-11-19T15:28:02.370Z"
   },
   {
    "duration": 248,
    "start_time": "2024-11-19T15:28:04.826Z"
   },
   {
    "duration": 8415,
    "start_time": "2024-11-19T15:28:14.345Z"
   },
   {
    "duration": 63,
    "start_time": "2024-11-19T15:29:42.938Z"
   },
   {
    "duration": 59,
    "start_time": "2024-11-19T15:29:57.609Z"
   },
   {
    "duration": 52,
    "start_time": "2024-11-19T15:31:04.946Z"
   },
   {
    "duration": 816,
    "start_time": "2024-11-19T15:31:26.770Z"
   },
   {
    "duration": 15763,
    "start_time": "2024-11-19T15:32:19.458Z"
   },
   {
    "duration": 30,
    "start_time": "2024-11-19T15:33:26.610Z"
   },
   {
    "duration": 330,
    "start_time": "2024-11-19T15:33:27.953Z"
   },
   {
    "duration": 523,
    "start_time": "2024-11-19T15:33:30.689Z"
   },
   {
    "duration": 30,
    "start_time": "2024-11-19T15:33:54.386Z"
   },
   {
    "duration": 4,
    "start_time": "2024-11-19T15:33:55.097Z"
   },
   {
    "duration": 1311,
    "start_time": "2024-11-19T15:52:59.779Z"
   },
   {
    "duration": 986,
    "start_time": "2024-11-19T15:53:01.092Z"
   },
   {
    "duration": 3,
    "start_time": "2024-11-19T15:53:02.080Z"
   },
   {
    "duration": 6,
    "start_time": "2024-11-19T15:53:02.085Z"
   },
   {
    "duration": 15,
    "start_time": "2024-11-19T15:53:02.092Z"
   },
   {
    "duration": 148,
    "start_time": "2024-11-19T15:53:02.108Z"
   },
   {
    "duration": 296,
    "start_time": "2024-11-19T15:53:02.258Z"
   },
   {
    "duration": 8605,
    "start_time": "2024-11-19T15:53:02.556Z"
   },
   {
    "duration": 69,
    "start_time": "2024-11-19T15:53:11.162Z"
   },
   {
    "duration": 60,
    "start_time": "2024-11-19T15:53:11.233Z"
   },
   {
    "duration": 56,
    "start_time": "2024-11-19T15:53:11.295Z"
   },
   {
    "duration": 15596,
    "start_time": "2024-11-19T15:53:11.353Z"
   },
   {
    "duration": 29,
    "start_time": "2024-11-19T15:53:26.951Z"
   },
   {
    "duration": 362,
    "start_time": "2024-11-19T15:53:26.981Z"
   },
   {
    "duration": 558,
    "start_time": "2024-11-19T15:53:27.345Z"
   },
   {
    "duration": 36,
    "start_time": "2024-11-19T15:53:27.904Z"
   },
   {
    "duration": 4,
    "start_time": "2024-11-19T15:53:27.941Z"
   },
   {
    "duration": 29,
    "start_time": "2024-11-19T15:53:27.946Z"
   },
   {
    "duration": 183,
    "start_time": "2024-11-19T15:53:27.977Z"
   },
   {
    "duration": 39,
    "start_time": "2024-11-19T15:53:28.161Z"
   },
   {
    "duration": 1351,
    "start_time": "2024-11-19T16:05:45.549Z"
   },
   {
    "duration": 1057,
    "start_time": "2024-11-19T16:05:46.902Z"
   },
   {
    "duration": 3,
    "start_time": "2024-11-19T16:05:47.964Z"
   },
   {
    "duration": 10,
    "start_time": "2024-11-19T16:05:47.969Z"
   },
   {
    "duration": 38,
    "start_time": "2024-11-19T16:05:47.980Z"
   },
   {
    "duration": 235,
    "start_time": "2024-11-19T16:05:48.019Z"
   },
   {
    "duration": 248,
    "start_time": "2024-11-19T16:05:48.255Z"
   },
   {
    "duration": 8618,
    "start_time": "2024-11-19T16:05:48.505Z"
   },
   {
    "duration": 58,
    "start_time": "2024-11-19T16:05:57.125Z"
   },
   {
    "duration": 81,
    "start_time": "2024-11-19T16:05:57.185Z"
   },
   {
    "duration": 66,
    "start_time": "2024-11-19T16:05:57.268Z"
   },
   {
    "duration": 16417,
    "start_time": "2024-11-19T16:05:57.337Z"
   },
   {
    "duration": 31,
    "start_time": "2024-11-19T16:06:13.756Z"
   },
   {
    "duration": 356,
    "start_time": "2024-11-19T16:06:13.789Z"
   },
   {
    "duration": 559,
    "start_time": "2024-11-19T16:06:14.146Z"
   },
   {
    "duration": 36,
    "start_time": "2024-11-19T16:06:14.706Z"
   },
   {
    "duration": 8,
    "start_time": "2024-11-19T16:06:14.743Z"
   },
   {
    "duration": 25,
    "start_time": "2024-11-19T16:06:14.752Z"
   },
   {
    "duration": 195,
    "start_time": "2024-11-19T16:06:14.779Z"
   },
   {
    "duration": 52,
    "start_time": "2024-11-19T16:06:14.976Z"
   },
   {
    "duration": 1673,
    "start_time": "2024-11-20T07:50:14.331Z"
   },
   {
    "duration": 3100,
    "start_time": "2024-11-20T07:50:16.456Z"
   },
   {
    "duration": 3,
    "start_time": "2024-11-20T07:50:19.557Z"
   },
   {
    "duration": 4,
    "start_time": "2024-11-20T07:50:25.528Z"
   },
   {
    "duration": 13,
    "start_time": "2024-11-20T07:50:27.287Z"
   },
   {
    "duration": 133,
    "start_time": "2024-11-20T07:50:29.585Z"
   },
   {
    "duration": 225,
    "start_time": "2024-11-20T07:50:31.383Z"
   },
   {
    "duration": 315,
    "start_time": "2024-11-20T07:50:33.760Z"
   },
   {
    "duration": 79,
    "start_time": "2024-11-20T07:50:34.739Z"
   },
   {
    "duration": 8906,
    "start_time": "2024-11-20T07:52:06.568Z"
   },
   {
    "duration": 12,
    "start_time": "2024-11-20T07:54:03.009Z"
   },
   {
    "duration": 38,
    "start_time": "2024-11-20T07:54:04.952Z"
   },
   {
    "duration": 15,
    "start_time": "2024-11-20T07:55:14.977Z"
   },
   {
    "duration": 45,
    "start_time": "2024-11-20T07:55:21.073Z"
   },
   {
    "duration": 6,
    "start_time": "2024-11-20T07:57:27.257Z"
   },
   {
    "duration": 27,
    "start_time": "2024-11-20T07:57:28.880Z"
   },
   {
    "duration": 6124,
    "start_time": "2024-11-20T07:57:32.208Z"
   },
   {
    "duration": 30,
    "start_time": "2024-11-20T07:57:38.334Z"
   },
   {
    "duration": 233,
    "start_time": "2024-11-20T07:57:38.664Z"
   },
   {
    "duration": 403,
    "start_time": "2024-11-20T07:57:42.206Z"
   },
   {
    "duration": 22,
    "start_time": "2024-11-20T07:57:46.105Z"
   },
   {
    "duration": 4,
    "start_time": "2024-11-20T07:57:46.984Z"
   },
   {
    "duration": 1544,
    "start_time": "2024-11-20T08:02:05.185Z"
   },
   {
    "duration": 1099,
    "start_time": "2024-11-20T08:02:06.731Z"
   },
   {
    "duration": 3,
    "start_time": "2024-11-20T08:02:07.832Z"
   },
   {
    "duration": 20,
    "start_time": "2024-11-20T08:02:07.837Z"
   },
   {
    "duration": 14,
    "start_time": "2024-11-20T08:02:07.859Z"
   },
   {
    "duration": 139,
    "start_time": "2024-11-20T08:02:07.875Z"
   },
   {
    "duration": 274,
    "start_time": "2024-11-20T08:02:08.016Z"
   },
   {
    "duration": 314,
    "start_time": "2024-11-20T08:02:08.292Z"
   },
   {
    "duration": 107,
    "start_time": "2024-11-20T08:02:08.608Z"
   },
   {
    "duration": 8807,
    "start_time": "2024-11-20T08:02:08.717Z"
   },
   {
    "duration": 12,
    "start_time": "2024-11-20T08:02:17.525Z"
   },
   {
    "duration": 61,
    "start_time": "2024-11-20T08:02:17.538Z"
   },
   {
    "duration": 13,
    "start_time": "2024-11-20T08:02:17.601Z"
   },
   {
    "duration": 37,
    "start_time": "2024-11-20T08:02:17.618Z"
   },
   {
    "duration": 6,
    "start_time": "2024-11-20T08:02:17.656Z"
   },
   {
    "duration": 52,
    "start_time": "2024-11-20T08:02:17.664Z"
   },
   {
    "duration": 6075,
    "start_time": "2024-11-20T08:02:17.718Z"
   },
   {
    "duration": 33,
    "start_time": "2024-11-20T08:02:23.795Z"
   },
   {
    "duration": 275,
    "start_time": "2024-11-20T08:02:23.830Z"
   },
   {
    "duration": 373,
    "start_time": "2024-11-20T08:02:24.107Z"
   },
   {
    "duration": 27,
    "start_time": "2024-11-20T08:02:24.482Z"
   },
   {
    "duration": 5,
    "start_time": "2024-11-20T08:02:24.510Z"
   },
   {
    "duration": 23,
    "start_time": "2024-11-20T08:02:24.517Z"
   },
   {
    "duration": 196,
    "start_time": "2024-11-20T08:02:24.541Z"
   },
   {
    "duration": 45,
    "start_time": "2024-11-20T08:02:24.738Z"
   },
   {
    "duration": 1603,
    "start_time": "2024-11-20T11:11:14.171Z"
   },
   {
    "duration": 1250,
    "start_time": "2024-11-20T11:11:15.776Z"
   },
   {
    "duration": 4,
    "start_time": "2024-11-20T11:11:17.032Z"
   },
   {
    "duration": 8,
    "start_time": "2024-11-20T11:11:17.038Z"
   },
   {
    "duration": 16,
    "start_time": "2024-11-20T11:11:17.049Z"
   },
   {
    "duration": 189,
    "start_time": "2024-11-20T11:11:17.067Z"
   },
   {
    "duration": 336,
    "start_time": "2024-11-20T11:11:17.258Z"
   },
   {
    "duration": 366,
    "start_time": "2024-11-20T11:11:17.595Z"
   },
   {
    "duration": 110,
    "start_time": "2024-11-20T11:11:17.963Z"
   },
   {
    "duration": 10318,
    "start_time": "2024-11-20T11:11:18.075Z"
   },
   {
    "duration": 15,
    "start_time": "2024-11-20T11:11:28.401Z"
   },
   {
    "duration": 41,
    "start_time": "2024-11-20T11:11:28.429Z"
   },
   {
    "duration": 14,
    "start_time": "2024-11-20T11:11:28.471Z"
   },
   {
    "duration": 63,
    "start_time": "2024-11-20T11:11:28.488Z"
   },
   {
    "duration": 6,
    "start_time": "2024-11-20T11:11:28.553Z"
   },
   {
    "duration": 48,
    "start_time": "2024-11-20T11:11:28.560Z"
   },
   {
    "duration": 7473,
    "start_time": "2024-11-20T11:11:28.609Z"
   },
   {
    "duration": 45,
    "start_time": "2024-11-20T11:11:36.084Z"
   },
   {
    "duration": 256,
    "start_time": "2024-11-20T11:11:36.131Z"
   },
   {
    "duration": 406,
    "start_time": "2024-11-20T11:11:36.389Z"
   },
   {
    "duration": 29,
    "start_time": "2024-11-20T11:11:36.801Z"
   },
   {
    "duration": 4,
    "start_time": "2024-11-20T11:11:36.831Z"
   },
   {
    "duration": 35,
    "start_time": "2024-11-20T11:11:36.836Z"
   },
   {
    "duration": 191,
    "start_time": "2024-11-20T11:11:36.873Z"
   },
   {
    "duration": 62,
    "start_time": "2024-11-20T11:11:37.065Z"
   },
   {
    "duration": 1658,
    "start_time": "2024-11-20T12:40:07.913Z"
   },
   {
    "duration": 1183,
    "start_time": "2024-11-20T12:40:09.572Z"
   },
   {
    "duration": 3,
    "start_time": "2024-11-20T12:40:10.757Z"
   },
   {
    "duration": 21,
    "start_time": "2024-11-20T12:40:10.762Z"
   },
   {
    "duration": 26,
    "start_time": "2024-11-20T12:40:10.784Z"
   },
   {
    "duration": 187,
    "start_time": "2024-11-20T12:40:10.814Z"
   },
   {
    "duration": 352,
    "start_time": "2024-11-20T12:40:11.002Z"
   },
   {
    "duration": 362,
    "start_time": "2024-11-20T12:40:11.356Z"
   },
   {
    "duration": 103,
    "start_time": "2024-11-20T12:40:11.727Z"
   },
   {
    "duration": 10202,
    "start_time": "2024-11-20T12:40:11.833Z"
   },
   {
    "duration": 11,
    "start_time": "2024-11-20T12:40:22.037Z"
   },
   {
    "duration": 39,
    "start_time": "2024-11-20T12:40:22.049Z"
   },
   {
    "duration": 27,
    "start_time": "2024-11-20T12:40:22.089Z"
   },
   {
    "duration": 68,
    "start_time": "2024-11-20T12:40:22.120Z"
   },
   {
    "duration": 15,
    "start_time": "2024-11-20T12:40:22.200Z"
   },
   {
    "duration": 62,
    "start_time": "2024-11-20T12:40:22.217Z"
   },
   {
    "duration": 7441,
    "start_time": "2024-11-20T12:40:22.281Z"
   },
   {
    "duration": 42,
    "start_time": "2024-11-20T12:40:29.726Z"
   },
   {
    "duration": 308,
    "start_time": "2024-11-20T12:40:29.770Z"
   },
   {
    "duration": 488,
    "start_time": "2024-11-20T12:40:30.080Z"
   },
   {
    "duration": 23,
    "start_time": "2024-11-20T12:40:30.570Z"
   },
   {
    "duration": 67,
    "start_time": "2024-11-20T12:40:30.604Z"
   },
   {
    "duration": 43,
    "start_time": "2024-11-20T12:40:30.673Z"
   },
   {
    "duration": 236,
    "start_time": "2024-11-20T12:40:30.723Z"
   },
   {
    "duration": 48,
    "start_time": "2024-11-20T12:40:30.960Z"
   },
   {
    "duration": 11129696,
    "start_time": "2024-11-20T12:40:31.011Z"
   },
   {
    "duration": 767,
    "start_time": "2024-11-20T15:46:00.709Z"
   },
   {
    "duration": 424,
    "start_time": "2024-11-20T15:46:01.480Z"
   },
   {
    "duration": 298,
    "start_time": "2024-11-20T15:46:01.908Z"
   },
   {
    "duration": 50059,
    "start_time": "2024-11-20T15:46:02.208Z"
   },
   {
    "duration": 440432,
    "start_time": "2024-11-20T15:46:52.269Z"
   },
   {
    "duration": 21906,
    "start_time": "2024-11-20T15:54:12.703Z"
   },
   {
    "duration": 828,
    "start_time": "2024-11-20T15:54:34.700Z"
   },
   {
    "duration": 179,
    "start_time": "2024-11-20T15:54:35.599Z"
   },
   {
    "duration": 277,
    "start_time": "2024-11-20T15:54:35.779Z"
   },
   {
    "duration": 242,
    "start_time": "2024-11-20T15:54:36.057Z"
   },
   {
    "duration": 10,
    "start_time": "2024-11-20T15:54:36.301Z"
   },
   {
    "duration": 94,
    "start_time": "2024-11-20T15:54:36.313Z"
   },
   {
    "duration": 12824,
    "start_time": "2024-11-20T15:54:36.409Z"
   },
   {
    "duration": 86,
    "start_time": "2024-11-21T14:52:11.016Z"
   },
   {
    "duration": 1925,
    "start_time": "2024-11-21T14:53:08.928Z"
   },
   {
    "duration": 1510,
    "start_time": "2024-11-21T14:53:13.816Z"
   },
   {
    "duration": 4,
    "start_time": "2024-11-21T14:53:18.785Z"
   },
   {
    "duration": 4,
    "start_time": "2024-11-21T14:53:24.264Z"
   },
   {
    "duration": 14,
    "start_time": "2024-11-21T14:53:26.992Z"
   },
   {
    "duration": 160,
    "start_time": "2024-11-21T14:53:29.696Z"
   },
   {
    "duration": 280,
    "start_time": "2024-11-21T14:53:31.680Z"
   },
   {
    "duration": 487,
    "start_time": "2024-11-21T14:53:35.703Z"
   },
   {
    "duration": 97,
    "start_time": "2024-11-21T14:53:37.596Z"
   },
   {
    "duration": 10106,
    "start_time": "2024-11-21T14:54:05.280Z"
   },
   {
    "duration": 10,
    "start_time": "2024-11-21T14:54:19.832Z"
   },
   {
    "duration": 37,
    "start_time": "2024-11-21T14:54:20.761Z"
   },
   {
    "duration": 9,
    "start_time": "2024-11-21T14:55:26.681Z"
   },
   {
    "duration": 7,
    "start_time": "2024-11-21T14:55:53.305Z"
   },
   {
    "duration": 6,
    "start_time": "2024-11-21T14:56:00.953Z"
   },
   {
    "duration": 6,
    "start_time": "2024-11-21T14:56:07.658Z"
   },
   {
    "duration": 6,
    "start_time": "2024-11-21T14:56:14.840Z"
   },
   {
    "duration": 7,
    "start_time": "2024-11-21T14:56:35.216Z"
   },
   {
    "duration": 10,
    "start_time": "2024-11-21T14:59:14.905Z"
   },
   {
    "duration": 11,
    "start_time": "2024-11-21T14:59:37.217Z"
   },
   {
    "duration": 8,
    "start_time": "2024-11-21T14:59:45.244Z"
   },
   {
    "duration": 20,
    "start_time": "2024-11-21T15:00:07.817Z"
   },
   {
    "duration": 14,
    "start_time": "2024-11-21T15:00:19.177Z"
   },
   {
    "duration": 13,
    "start_time": "2024-11-21T15:00:25.176Z"
   },
   {
    "duration": 13,
    "start_time": "2024-11-21T15:00:29.586Z"
   },
   {
    "duration": 11,
    "start_time": "2024-11-21T15:00:47.115Z"
   },
   {
    "duration": 12,
    "start_time": "2024-11-21T15:00:53.362Z"
   },
   {
    "duration": 13,
    "start_time": "2024-11-21T15:00:57.770Z"
   },
   {
    "duration": 44,
    "start_time": "2024-11-21T15:01:31.505Z"
   },
   {
    "duration": 12,
    "start_time": "2024-11-21T15:02:45.817Z"
   },
   {
    "duration": 39,
    "start_time": "2024-11-21T15:02:50.599Z"
   },
   {
    "duration": 6,
    "start_time": "2024-11-21T15:02:56.890Z"
   },
   {
    "duration": 6041,
    "start_time": "2024-11-21T15:06:46.857Z"
   },
   {
    "duration": 31,
    "start_time": "2024-11-21T15:06:53.538Z"
   },
   {
    "duration": 214,
    "start_time": "2024-11-21T15:06:56.905Z"
   },
   {
    "duration": 337,
    "start_time": "2024-11-21T15:06:57.442Z"
   },
   {
    "duration": 20,
    "start_time": "2024-11-21T15:07:00.346Z"
   },
   {
    "duration": 4,
    "start_time": "2024-11-21T15:07:02.515Z"
   },
   {
    "duration": 20,
    "start_time": "2024-11-21T15:07:41.626Z"
   },
   {
    "duration": 182,
    "start_time": "2024-11-21T15:07:50.585Z"
   },
   {
    "duration": 48,
    "start_time": "2024-11-21T15:07:55.763Z"
   },
   {
    "duration": 1649,
    "start_time": "2024-11-22T11:00:21.165Z"
   },
   {
    "duration": 1342,
    "start_time": "2024-11-22T11:00:23.442Z"
   },
   {
    "duration": 4,
    "start_time": "2024-11-22T11:00:24.803Z"
   },
   {
    "duration": 4,
    "start_time": "2024-11-22T11:00:25.252Z"
   },
   {
    "duration": 14,
    "start_time": "2024-11-22T11:00:26.517Z"
   },
   {
    "duration": 179,
    "start_time": "2024-11-22T11:00:28.151Z"
   },
   {
    "duration": 283,
    "start_time": "2024-11-22T11:00:30.501Z"
   },
   {
    "duration": 312,
    "start_time": "2024-11-22T11:00:34.549Z"
   },
   {
    "duration": 92,
    "start_time": "2024-11-22T11:00:36.564Z"
   },
   {
    "duration": 9216,
    "start_time": "2024-11-22T11:00:40.631Z"
   },
   {
    "duration": 24,
    "start_time": "2024-11-22T11:00:49.849Z"
   },
   {
    "duration": 12,
    "start_time": "2024-11-22T11:00:49.874Z"
   },
   {
    "duration": 36,
    "start_time": "2024-11-22T11:00:51.766Z"
   },
   {
    "duration": 12,
    "start_time": "2024-11-22T11:00:55.940Z"
   },
   {
    "duration": 39,
    "start_time": "2024-11-22T11:00:56.651Z"
   },
   {
    "duration": 7,
    "start_time": "2024-11-22T11:01:00.331Z"
   },
   {
    "duration": 26,
    "start_time": "2024-11-22T11:01:02.603Z"
   },
   {
    "duration": 6046,
    "start_time": "2024-11-22T11:01:03.668Z"
   },
   {
    "duration": 28,
    "start_time": "2024-11-22T11:01:09.716Z"
   },
   {
    "duration": 198,
    "start_time": "2024-11-22T11:01:11.188Z"
   },
   {
    "duration": 311,
    "start_time": "2024-11-22T11:01:13.047Z"
   },
   {
    "duration": 19,
    "start_time": "2024-11-22T11:01:15.366Z"
   },
   {
    "duration": 3,
    "start_time": "2024-11-22T11:01:16.391Z"
   },
   {
    "duration": 120,
    "start_time": "2024-11-22T11:01:32.663Z"
   },
   {
    "duration": 9,
    "start_time": "2024-11-22T11:02:12.612Z"
   },
   {
    "duration": 23,
    "start_time": "2024-11-22T11:02:15.468Z"
   },
   {
    "duration": 631,
    "start_time": "2024-11-22T11:02:19.317Z"
   },
   {
    "duration": 330,
    "start_time": "2024-11-22T11:02:22.749Z"
   },
   {
    "duration": 236,
    "start_time": "2024-11-22T11:02:27.860Z"
   },
   {
    "duration": 23957,
    "start_time": "2024-11-22T11:02:31.422Z"
   },
   {
    "duration": 11,
    "start_time": "2024-11-22T11:03:25.132Z"
   },
   {
    "duration": 19,
    "start_time": "2024-11-22T11:03:39.965Z"
   },
   {
    "duration": 13,
    "start_time": "2024-11-22T11:03:53.187Z"
   },
   {
    "duration": 147,
    "start_time": "2024-11-22T11:04:02.309Z"
   },
   {
    "duration": 1407,
    "start_time": "2024-11-22T11:04:09.270Z"
   },
   {
    "duration": 59,
    "start_time": "2024-11-22T11:04:25.765Z"
   },
   {
    "duration": 4310,
    "start_time": "2024-11-22T11:04:31.587Z"
   },
   {
    "duration": 676423,
    "start_time": "2024-11-22T11:04:41.309Z"
   },
   {
    "duration": 154,
    "start_time": "2024-11-22T11:15:57.734Z"
   },
   {
    "duration": 62,
    "start_time": "2024-11-22T11:15:57.931Z"
   },
   {
    "duration": 3,
    "start_time": "2024-11-22T11:15:57.995Z"
   },
   {
    "duration": 30,
    "start_time": "2024-11-22T11:15:57.999Z"
   },
   {
    "duration": 10,
    "start_time": "2024-11-22T11:19:02.278Z"
   },
   {
    "duration": 10,
    "start_time": "2024-11-22T11:19:56.814Z"
   },
   {
    "duration": 10,
    "start_time": "2024-11-22T11:20:19.238Z"
   },
   {
    "duration": 11,
    "start_time": "2024-11-22T11:20:56.934Z"
   },
   {
    "duration": 177928,
    "start_time": "2024-11-22T11:21:09.774Z"
   },
   {
    "duration": 3,
    "start_time": "2024-11-22T11:25:07.453Z"
   },
   {
    "duration": 11,
    "start_time": "2024-11-22T11:25:12.878Z"
   },
   {
    "duration": 9,
    "start_time": "2024-11-22T11:25:29.343Z"
   },
   {
    "duration": 1451,
    "start_time": "2024-11-22T13:22:29.911Z"
   },
   {
    "duration": 1093,
    "start_time": "2024-11-22T13:22:31.364Z"
   },
   {
    "duration": 2,
    "start_time": "2024-11-22T13:22:32.459Z"
   },
   {
    "duration": 13,
    "start_time": "2024-11-22T13:22:32.469Z"
   },
   {
    "duration": 18,
    "start_time": "2024-11-22T13:22:32.483Z"
   },
   {
    "duration": 139,
    "start_time": "2024-11-22T13:22:32.503Z"
   },
   {
    "duration": 273,
    "start_time": "2024-11-22T13:22:32.644Z"
   },
   {
    "duration": 297,
    "start_time": "2024-11-22T13:22:32.918Z"
   },
   {
    "duration": 90,
    "start_time": "2024-11-22T13:22:33.217Z"
   },
   {
    "duration": 8889,
    "start_time": "2024-11-22T13:22:33.309Z"
   },
   {
    "duration": 10,
    "start_time": "2024-11-22T13:22:42.199Z"
   },
   {
    "duration": 11,
    "start_time": "2024-11-22T13:22:42.211Z"
   },
   {
    "duration": 51,
    "start_time": "2024-11-22T13:22:42.223Z"
   },
   {
    "duration": 12,
    "start_time": "2024-11-22T13:22:42.275Z"
   },
   {
    "duration": 36,
    "start_time": "2024-11-22T13:22:42.288Z"
   },
   {
    "duration": 5,
    "start_time": "2024-11-22T13:22:42.326Z"
   },
   {
    "duration": 50,
    "start_time": "2024-11-22T13:22:42.333Z"
   },
   {
    "duration": 5832,
    "start_time": "2024-11-22T13:22:42.385Z"
   },
   {
    "duration": 30,
    "start_time": "2024-11-22T13:22:48.219Z"
   },
   {
    "duration": 210,
    "start_time": "2024-11-22T13:22:48.250Z"
   },
   {
    "duration": 318,
    "start_time": "2024-11-22T13:22:48.462Z"
   },
   {
    "duration": 18,
    "start_time": "2024-11-22T13:22:48.781Z"
   },
   {
    "duration": 5,
    "start_time": "2024-11-22T13:22:48.801Z"
   },
   {
    "duration": 697,
    "start_time": "2024-11-22T13:22:48.808Z"
   },
   {
    "duration": 0,
    "start_time": "2024-11-22T13:22:49.508Z"
   },
   {
    "duration": 0,
    "start_time": "2024-11-22T13:22:49.509Z"
   },
   {
    "duration": 0,
    "start_time": "2024-11-22T13:22:49.510Z"
   },
   {
    "duration": 0,
    "start_time": "2024-11-22T13:22:49.511Z"
   },
   {
    "duration": 0,
    "start_time": "2024-11-22T13:22:49.512Z"
   },
   {
    "duration": 0,
    "start_time": "2024-11-22T13:22:49.513Z"
   },
   {
    "duration": 0,
    "start_time": "2024-11-22T13:22:49.514Z"
   },
   {
    "duration": 0,
    "start_time": "2024-11-22T13:22:49.515Z"
   },
   {
    "duration": 0,
    "start_time": "2024-11-22T13:22:49.515Z"
   },
   {
    "duration": 0,
    "start_time": "2024-11-22T13:22:49.516Z"
   },
   {
    "duration": 0,
    "start_time": "2024-11-22T13:22:49.517Z"
   },
   {
    "duration": 0,
    "start_time": "2024-11-22T13:22:49.518Z"
   },
   {
    "duration": 0,
    "start_time": "2024-11-22T13:22:49.518Z"
   },
   {
    "duration": 0,
    "start_time": "2024-11-22T13:22:49.520Z"
   },
   {
    "duration": 0,
    "start_time": "2024-11-22T13:22:49.520Z"
   },
   {
    "duration": 0,
    "start_time": "2024-11-22T13:22:49.522Z"
   },
   {
    "duration": 0,
    "start_time": "2024-11-22T13:22:49.522Z"
   },
   {
    "duration": 0,
    "start_time": "2024-11-22T13:22:49.523Z"
   },
   {
    "duration": 0,
    "start_time": "2024-11-22T13:22:49.524Z"
   },
   {
    "duration": 0,
    "start_time": "2024-11-22T13:22:49.525Z"
   },
   {
    "duration": 0,
    "start_time": "2024-11-22T13:22:49.526Z"
   },
   {
    "duration": 0,
    "start_time": "2024-11-22T13:22:49.526Z"
   },
   {
    "duration": 0,
    "start_time": "2024-11-22T13:22:49.527Z"
   },
   {
    "duration": 0,
    "start_time": "2024-11-22T13:22:49.528Z"
   },
   {
    "duration": 0,
    "start_time": "2024-11-22T13:22:49.529Z"
   },
   {
    "duration": 0,
    "start_time": "2024-11-22T13:22:49.530Z"
   },
   {
    "duration": 0,
    "start_time": "2024-11-22T13:22:49.531Z"
   },
   {
    "duration": 0,
    "start_time": "2024-11-22T13:22:49.532Z"
   },
   {
    "duration": 0,
    "start_time": "2024-11-22T13:22:49.570Z"
   },
   {
    "duration": 0,
    "start_time": "2024-11-22T13:22:49.571Z"
   },
   {
    "duration": 0,
    "start_time": "2024-11-22T13:22:49.572Z"
   },
   {
    "duration": 0,
    "start_time": "2024-11-22T13:22:49.573Z"
   },
   {
    "duration": 0,
    "start_time": "2024-11-22T13:22:49.574Z"
   },
   {
    "duration": 0,
    "start_time": "2024-11-22T13:22:49.575Z"
   },
   {
    "duration": 0,
    "start_time": "2024-11-22T13:22:49.576Z"
   },
   {
    "duration": 0,
    "start_time": "2024-11-22T13:22:49.577Z"
   },
   {
    "duration": 0,
    "start_time": "2024-11-22T13:22:49.578Z"
   },
   {
    "duration": 0,
    "start_time": "2024-11-22T13:22:49.579Z"
   },
   {
    "duration": 0,
    "start_time": "2024-11-22T13:22:49.579Z"
   },
   {
    "duration": 0,
    "start_time": "2024-11-22T13:22:49.580Z"
   },
   {
    "duration": 0,
    "start_time": "2024-11-22T13:22:49.581Z"
   },
   {
    "duration": 0,
    "start_time": "2024-11-22T13:22:49.582Z"
   },
   {
    "duration": 0,
    "start_time": "2024-11-22T13:22:49.583Z"
   },
   {
    "duration": 0,
    "start_time": "2024-11-22T13:22:49.584Z"
   },
   {
    "duration": 0,
    "start_time": "2024-11-22T13:22:49.585Z"
   },
   {
    "duration": 0,
    "start_time": "2024-11-22T13:22:49.586Z"
   },
   {
    "duration": 0,
    "start_time": "2024-11-22T13:22:49.587Z"
   },
   {
    "duration": 0,
    "start_time": "2024-11-22T13:22:49.588Z"
   },
   {
    "duration": 0,
    "start_time": "2024-11-22T13:22:49.588Z"
   },
   {
    "duration": 1,
    "start_time": "2024-11-22T13:22:49.589Z"
   },
   {
    "duration": 0,
    "start_time": "2024-11-22T13:22:49.591Z"
   },
   {
    "duration": 0,
    "start_time": "2024-11-22T13:22:49.592Z"
   },
   {
    "duration": 0,
    "start_time": "2024-11-22T13:22:49.592Z"
   },
   {
    "duration": 0,
    "start_time": "2024-11-22T13:22:49.593Z"
   },
   {
    "duration": 0,
    "start_time": "2024-11-22T13:22:49.595Z"
   },
   {
    "duration": 0,
    "start_time": "2024-11-22T13:22:49.596Z"
   },
   {
    "duration": 0,
    "start_time": "2024-11-22T13:22:49.597Z"
   },
   {
    "duration": 0,
    "start_time": "2024-11-22T13:22:49.598Z"
   },
   {
    "duration": 0,
    "start_time": "2024-11-22T13:22:49.599Z"
   },
   {
    "duration": 0,
    "start_time": "2024-11-22T13:22:49.600Z"
   },
   {
    "duration": 0,
    "start_time": "2024-11-22T13:22:49.601Z"
   },
   {
    "duration": 0,
    "start_time": "2024-11-22T13:22:49.602Z"
   },
   {
    "duration": 0,
    "start_time": "2024-11-22T13:22:49.603Z"
   },
   {
    "duration": 1021,
    "start_time": "2024-11-22T13:23:11.796Z"
   },
   {
    "duration": 3,
    "start_time": "2024-11-22T13:23:14.188Z"
   },
   {
    "duration": 501,
    "start_time": "2024-11-22T13:23:16.484Z"
   },
   {
    "duration": 52,
    "start_time": "2024-11-22T13:23:18.388Z"
   },
   {
    "duration": 3,
    "start_time": "2024-11-22T13:23:19.340Z"
   },
   {
    "duration": 5,
    "start_time": "2024-11-22T13:23:45.532Z"
   },
   {
    "duration": 1472,
    "start_time": "2024-11-22T13:24:11.439Z"
   },
   {
    "duration": 1112,
    "start_time": "2024-11-22T13:24:12.913Z"
   },
   {
    "duration": 3,
    "start_time": "2024-11-22T13:24:14.027Z"
   },
   {
    "duration": 9,
    "start_time": "2024-11-22T13:24:14.032Z"
   },
   {
    "duration": 17,
    "start_time": "2024-11-22T13:24:14.042Z"
   },
   {
    "duration": 158,
    "start_time": "2024-11-22T13:24:14.070Z"
   },
   {
    "duration": 281,
    "start_time": "2024-11-22T13:24:14.229Z"
   },
   {
    "duration": 315,
    "start_time": "2024-11-22T13:24:14.512Z"
   },
   {
    "duration": 96,
    "start_time": "2024-11-22T13:24:14.828Z"
   },
   {
    "duration": 8738,
    "start_time": "2024-11-22T13:24:14.927Z"
   },
   {
    "duration": 9,
    "start_time": "2024-11-22T13:24:23.669Z"
   },
   {
    "duration": 13,
    "start_time": "2024-11-22T13:24:23.680Z"
   },
   {
    "duration": 35,
    "start_time": "2024-11-22T13:24:23.694Z"
   },
   {
    "duration": 41,
    "start_time": "2024-11-22T13:24:23.731Z"
   },
   {
    "duration": 38,
    "start_time": "2024-11-22T13:24:23.774Z"
   },
   {
    "duration": 6,
    "start_time": "2024-11-22T13:24:23.814Z"
   },
   {
    "duration": 50,
    "start_time": "2024-11-22T13:24:23.821Z"
   },
   {
    "duration": 5706,
    "start_time": "2024-11-22T13:24:23.873Z"
   },
   {
    "duration": 27,
    "start_time": "2024-11-22T13:24:29.581Z"
   },
   {
    "duration": 197,
    "start_time": "2024-11-22T13:24:29.609Z"
   },
   {
    "duration": 311,
    "start_time": "2024-11-22T13:24:29.807Z"
   },
   {
    "duration": 18,
    "start_time": "2024-11-22T13:24:30.120Z"
   },
   {
    "duration": 12,
    "start_time": "2024-11-22T13:24:30.139Z"
   },
   {
    "duration": 1052,
    "start_time": "2024-11-22T13:24:30.153Z"
   },
   {
    "duration": 3,
    "start_time": "2024-11-22T13:24:31.207Z"
   },
   {
    "duration": 498,
    "start_time": "2024-11-22T13:24:31.211Z"
   },
   {
    "duration": 50,
    "start_time": "2024-11-22T13:24:31.710Z"
   },
   {
    "duration": 4,
    "start_time": "2024-11-22T13:24:31.769Z"
   },
   {
    "duration": 36,
    "start_time": "2024-11-22T13:24:31.775Z"
   },
   {
    "duration": 2401,
    "start_time": "2024-11-22T13:24:31.813Z"
   },
   {
    "duration": 77,
    "start_time": "2024-11-22T13:24:34.215Z"
   },
   {
    "duration": 816,
    "start_time": "2024-11-22T13:24:34.294Z"
   },
   {
    "duration": 18991,
    "start_time": "2024-11-22T13:24:35.112Z"
   },
   {
    "duration": 13,
    "start_time": "2024-11-22T13:24:54.104Z"
   },
   {
    "duration": 0,
    "start_time": "2024-11-22T13:24:54.119Z"
   },
   {
    "duration": 0,
    "start_time": "2024-11-22T13:24:54.120Z"
   },
   {
    "duration": 0,
    "start_time": "2024-11-22T13:24:54.121Z"
   },
   {
    "duration": 0,
    "start_time": "2024-11-22T13:24:54.122Z"
   },
   {
    "duration": 0,
    "start_time": "2024-11-22T13:24:54.123Z"
   },
   {
    "duration": 0,
    "start_time": "2024-11-22T13:24:54.124Z"
   },
   {
    "duration": 0,
    "start_time": "2024-11-22T13:24:54.125Z"
   },
   {
    "duration": 0,
    "start_time": "2024-11-22T13:24:54.126Z"
   },
   {
    "duration": 0,
    "start_time": "2024-11-22T13:24:54.127Z"
   },
   {
    "duration": 0,
    "start_time": "2024-11-22T13:24:54.128Z"
   },
   {
    "duration": 0,
    "start_time": "2024-11-22T13:24:54.129Z"
   },
   {
    "duration": 0,
    "start_time": "2024-11-22T13:24:54.130Z"
   },
   {
    "duration": 0,
    "start_time": "2024-11-22T13:24:54.132Z"
   },
   {
    "duration": 0,
    "start_time": "2024-11-22T13:24:54.133Z"
   },
   {
    "duration": 0,
    "start_time": "2024-11-22T13:24:54.134Z"
   },
   {
    "duration": 0,
    "start_time": "2024-11-22T13:24:54.135Z"
   },
   {
    "duration": 0,
    "start_time": "2024-11-22T13:24:54.136Z"
   },
   {
    "duration": 0,
    "start_time": "2024-11-22T13:24:54.137Z"
   },
   {
    "duration": 0,
    "start_time": "2024-11-22T13:24:54.138Z"
   },
   {
    "duration": 0,
    "start_time": "2024-11-22T13:24:54.139Z"
   },
   {
    "duration": 0,
    "start_time": "2024-11-22T13:24:54.140Z"
   },
   {
    "duration": 0,
    "start_time": "2024-11-22T13:24:54.141Z"
   },
   {
    "duration": 0,
    "start_time": "2024-11-22T13:24:54.143Z"
   },
   {
    "duration": 0,
    "start_time": "2024-11-22T13:24:54.143Z"
   },
   {
    "duration": 1,
    "start_time": "2024-11-22T13:24:54.144Z"
   },
   {
    "duration": 0,
    "start_time": "2024-11-22T13:24:54.145Z"
   },
   {
    "duration": 0,
    "start_time": "2024-11-22T13:24:54.170Z"
   },
   {
    "duration": 0,
    "start_time": "2024-11-22T13:24:54.171Z"
   },
   {
    "duration": 0,
    "start_time": "2024-11-22T13:24:54.172Z"
   },
   {
    "duration": 0,
    "start_time": "2024-11-22T13:24:54.173Z"
   },
   {
    "duration": 0,
    "start_time": "2024-11-22T13:24:54.174Z"
   },
   {
    "duration": 0,
    "start_time": "2024-11-22T13:24:54.175Z"
   },
   {
    "duration": 0,
    "start_time": "2024-11-22T13:24:54.176Z"
   },
   {
    "duration": 0,
    "start_time": "2024-11-22T13:24:54.177Z"
   },
   {
    "duration": 0,
    "start_time": "2024-11-22T13:24:54.178Z"
   },
   {
    "duration": 0,
    "start_time": "2024-11-22T13:24:54.179Z"
   },
   {
    "duration": 0,
    "start_time": "2024-11-22T13:24:54.180Z"
   },
   {
    "duration": 0,
    "start_time": "2024-11-22T13:24:54.181Z"
   },
   {
    "duration": 0,
    "start_time": "2024-11-22T13:24:54.182Z"
   },
   {
    "duration": 0,
    "start_time": "2024-11-22T13:24:54.183Z"
   },
   {
    "duration": 0,
    "start_time": "2024-11-22T13:24:54.184Z"
   },
   {
    "duration": 0,
    "start_time": "2024-11-22T13:24:54.184Z"
   },
   {
    "duration": 0,
    "start_time": "2024-11-22T13:24:54.186Z"
   },
   {
    "duration": 0,
    "start_time": "2024-11-22T13:24:54.187Z"
   },
   {
    "duration": 0,
    "start_time": "2024-11-22T13:24:54.188Z"
   },
   {
    "duration": 0,
    "start_time": "2024-11-22T13:24:54.189Z"
   },
   {
    "duration": 0,
    "start_time": "2024-11-22T13:24:54.190Z"
   },
   {
    "duration": 0,
    "start_time": "2024-11-22T13:24:54.191Z"
   },
   {
    "duration": 0,
    "start_time": "2024-11-22T13:24:54.192Z"
   },
   {
    "duration": 0,
    "start_time": "2024-11-22T13:24:54.193Z"
   },
   {
    "duration": 0,
    "start_time": "2024-11-22T13:24:54.194Z"
   },
   {
    "duration": 0,
    "start_time": "2024-11-22T13:24:54.195Z"
   },
   {
    "duration": 0,
    "start_time": "2024-11-22T13:24:54.196Z"
   },
   {
    "duration": 19668,
    "start_time": "2024-11-22T13:50:19.709Z"
   },
   {
    "duration": 98,
    "start_time": "2024-11-22T13:50:39.379Z"
   },
   {
    "duration": 18795,
    "start_time": "2024-11-22T13:51:08.275Z"
   },
   {
    "duration": 101,
    "start_time": "2024-11-22T13:51:27.073Z"
   },
   {
    "duration": 3,
    "start_time": "2024-11-22T13:52:01.842Z"
   },
   {
    "duration": 1451,
    "start_time": "2024-11-22T13:54:16.856Z"
   },
   {
    "duration": 1048,
    "start_time": "2024-11-22T13:54:18.309Z"
   },
   {
    "duration": 3,
    "start_time": "2024-11-22T13:54:19.359Z"
   },
   {
    "duration": 7,
    "start_time": "2024-11-22T13:54:19.363Z"
   },
   {
    "duration": 18,
    "start_time": "2024-11-22T13:54:19.371Z"
   },
   {
    "duration": 182,
    "start_time": "2024-11-22T13:54:19.390Z"
   },
   {
    "duration": 262,
    "start_time": "2024-11-22T13:54:19.574Z"
   },
   {
    "duration": 309,
    "start_time": "2024-11-22T13:54:19.838Z"
   },
   {
    "duration": 94,
    "start_time": "2024-11-22T13:54:20.149Z"
   },
   {
    "duration": 8906,
    "start_time": "2024-11-22T13:54:20.245Z"
   },
   {
    "duration": 19,
    "start_time": "2024-11-22T13:54:29.152Z"
   },
   {
    "duration": 42,
    "start_time": "2024-11-22T13:54:29.172Z"
   },
   {
    "duration": 35,
    "start_time": "2024-11-22T13:54:29.216Z"
   },
   {
    "duration": 11,
    "start_time": "2024-11-22T13:54:29.252Z"
   },
   {
    "duration": 38,
    "start_time": "2024-11-22T13:54:29.265Z"
   },
   {
    "duration": 7,
    "start_time": "2024-11-22T13:54:29.304Z"
   },
   {
    "duration": 39,
    "start_time": "2024-11-22T13:54:29.313Z"
   },
   {
    "duration": 5916,
    "start_time": "2024-11-22T13:54:29.354Z"
   },
   {
    "duration": 29,
    "start_time": "2024-11-22T13:54:35.271Z"
   },
   {
    "duration": 219,
    "start_time": "2024-11-22T13:54:35.302Z"
   },
   {
    "duration": 321,
    "start_time": "2024-11-22T13:54:35.523Z"
   },
   {
    "duration": 26,
    "start_time": "2024-11-22T13:54:35.845Z"
   },
   {
    "duration": 10,
    "start_time": "2024-11-22T13:54:35.873Z"
   },
   {
    "duration": 1117,
    "start_time": "2024-11-22T13:54:35.884Z"
   },
   {
    "duration": 3,
    "start_time": "2024-11-22T13:54:37.003Z"
   },
   {
    "duration": 514,
    "start_time": "2024-11-22T13:54:37.008Z"
   },
   {
    "duration": 55,
    "start_time": "2024-11-22T13:54:37.523Z"
   },
   {
    "duration": 4,
    "start_time": "2024-11-22T13:54:37.582Z"
   },
   {
    "duration": 6,
    "start_time": "2024-11-22T13:54:37.588Z"
   },
   {
    "duration": 2431,
    "start_time": "2024-11-22T13:54:37.595Z"
   },
   {
    "duration": 83,
    "start_time": "2024-11-22T13:54:40.028Z"
   },
   {
    "duration": 18758,
    "start_time": "2024-11-22T13:54:40.113Z"
   },
   {
    "duration": 6,
    "start_time": "2024-11-22T13:54:58.873Z"
   },
   {
    "duration": 978614,
    "start_time": "2024-11-22T13:54:58.969Z"
   },
   {
    "duration": 83018,
    "start_time": "2024-11-22T14:11:17.584Z"
   },
   {
    "duration": 51,
    "start_time": "2024-11-22T14:12:40.604Z"
   },
   {
    "duration": 83,
    "start_time": "2024-11-22T14:12:40.657Z"
   },
   {
    "duration": 68,
    "start_time": "2024-11-22T14:12:40.741Z"
   },
   {
    "duration": 23,
    "start_time": "2024-11-22T14:12:40.811Z"
   },
   {
    "duration": 545,
    "start_time": "2024-11-22T14:12:40.836Z"
   },
   {
    "duration": 335,
    "start_time": "2024-11-22T14:12:41.383Z"
   },
   {
    "duration": 229,
    "start_time": "2024-11-22T14:12:41.720Z"
   },
   {
    "duration": 134,
    "start_time": "2024-11-22T14:32:43.663Z"
   },
   {
    "duration": 53,
    "start_time": "2024-11-22T14:33:13.160Z"
   },
   {
    "duration": 71,
    "start_time": "2024-11-22T16:25:50.125Z"
   },
   {
    "duration": 69,
    "start_time": "2024-11-22T16:29:57.644Z"
   },
   {
    "duration": 9,
    "start_time": "2024-11-22T16:33:02.300Z"
   },
   {
    "duration": 1479,
    "start_time": "2024-11-22T16:36:00.757Z"
   },
   {
    "duration": 1312,
    "start_time": "2024-11-22T16:36:02.238Z"
   },
   {
    "duration": 3,
    "start_time": "2024-11-22T16:36:03.552Z"
   },
   {
    "duration": 14,
    "start_time": "2024-11-22T16:36:03.556Z"
   },
   {
    "duration": 19,
    "start_time": "2024-11-22T16:36:03.572Z"
   },
   {
    "duration": 144,
    "start_time": "2024-11-22T16:36:03.592Z"
   },
   {
    "duration": 237,
    "start_time": "2024-11-22T16:36:03.737Z"
   },
   {
    "duration": 307,
    "start_time": "2024-11-22T16:36:03.975Z"
   },
   {
    "duration": 90,
    "start_time": "2024-11-22T16:36:04.283Z"
   },
   {
    "duration": 8683,
    "start_time": "2024-11-22T16:36:04.376Z"
   },
   {
    "duration": 17,
    "start_time": "2024-11-22T16:36:13.060Z"
   },
   {
    "duration": 11,
    "start_time": "2024-11-22T16:36:13.079Z"
   },
   {
    "duration": 34,
    "start_time": "2024-11-22T16:36:13.091Z"
   },
   {
    "duration": 12,
    "start_time": "2024-11-22T16:36:13.127Z"
   },
   {
    "duration": 59,
    "start_time": "2024-11-22T16:36:13.140Z"
   },
   {
    "duration": 5,
    "start_time": "2024-11-22T16:36:13.201Z"
   },
   {
    "duration": 26,
    "start_time": "2024-11-22T16:36:13.208Z"
   },
   {
    "duration": 5662,
    "start_time": "2024-11-22T16:36:13.236Z"
   },
   {
    "duration": 26,
    "start_time": "2024-11-22T16:36:18.900Z"
   },
   {
    "duration": 205,
    "start_time": "2024-11-22T16:36:18.927Z"
   },
   {
    "duration": 313,
    "start_time": "2024-11-22T16:36:19.133Z"
   },
   {
    "duration": 25,
    "start_time": "2024-11-22T16:36:19.448Z"
   },
   {
    "duration": 4,
    "start_time": "2024-11-22T16:36:19.475Z"
   },
   {
    "duration": 990,
    "start_time": "2024-11-22T16:36:19.480Z"
   },
   {
    "duration": 3,
    "start_time": "2024-11-22T16:36:20.472Z"
   },
   {
    "duration": 524,
    "start_time": "2024-11-22T16:36:20.477Z"
   },
   {
    "duration": 49,
    "start_time": "2024-11-22T16:36:21.003Z"
   },
   {
    "duration": 15,
    "start_time": "2024-11-22T16:36:21.056Z"
   },
   {
    "duration": 5,
    "start_time": "2024-11-22T16:36:21.072Z"
   },
   {
    "duration": 2358,
    "start_time": "2024-11-22T16:36:21.079Z"
   },
   {
    "duration": 85,
    "start_time": "2024-11-22T16:36:23.439Z"
   },
   {
    "duration": 834,
    "start_time": "2024-11-22T16:36:23.526Z"
   },
   {
    "duration": 26016,
    "start_time": "2024-11-22T16:36:24.362Z"
   },
   {
    "duration": 91,
    "start_time": "2024-11-22T16:36:50.380Z"
   },
   {
    "duration": 252,
    "start_time": "2024-11-22T16:36:50.474Z"
   },
   {
    "duration": 55,
    "start_time": "2024-11-22T16:36:50.727Z"
   },
   {
    "duration": 14,
    "start_time": "2024-11-22T16:36:50.784Z"
   },
   {
    "duration": 546,
    "start_time": "2024-11-22T16:36:50.800Z"
   },
   {
    "duration": 347,
    "start_time": "2024-11-22T16:36:51.347Z"
   },
   {
    "duration": 243,
    "start_time": "2024-11-22T16:36:51.696Z"
   },
   {
    "duration": 21732,
    "start_time": "2024-11-22T16:36:51.940Z"
   },
   {
    "duration": 1408,
    "start_time": "2024-11-22T16:37:13.675Z"
   },
   {
    "duration": 53,
    "start_time": "2024-11-22T16:37:15.085Z"
   },
   {
    "duration": 4073,
    "start_time": "2024-11-22T16:37:15.140Z"
   },
   {
    "duration": 1504,
    "start_time": "2024-11-22T16:43:59.361Z"
   },
   {
    "duration": 1103,
    "start_time": "2024-11-22T16:44:00.867Z"
   },
   {
    "duration": 4,
    "start_time": "2024-11-22T16:44:01.971Z"
   },
   {
    "duration": 48,
    "start_time": "2024-11-22T16:44:01.977Z"
   },
   {
    "duration": 27,
    "start_time": "2024-11-22T16:44:02.027Z"
   },
   {
    "duration": 179,
    "start_time": "2024-11-22T16:44:02.056Z"
   },
   {
    "duration": 271,
    "start_time": "2024-11-22T16:44:02.236Z"
   },
   {
    "duration": 311,
    "start_time": "2024-11-22T16:44:02.509Z"
   },
   {
    "duration": 91,
    "start_time": "2024-11-22T16:44:02.822Z"
   },
   {
    "duration": 8771,
    "start_time": "2024-11-22T16:44:02.916Z"
   },
   {
    "duration": 10,
    "start_time": "2024-11-22T16:44:11.689Z"
   },
   {
    "duration": 42,
    "start_time": "2024-11-22T16:44:11.700Z"
   },
   {
    "duration": 34,
    "start_time": "2024-11-22T16:44:11.744Z"
   },
   {
    "duration": 12,
    "start_time": "2024-11-22T16:44:11.780Z"
   },
   {
    "duration": 35,
    "start_time": "2024-11-22T16:44:11.794Z"
   },
   {
    "duration": 7,
    "start_time": "2024-11-22T16:44:11.831Z"
   },
   {
    "duration": 51,
    "start_time": "2024-11-22T16:44:11.839Z"
   },
   {
    "duration": 5615,
    "start_time": "2024-11-22T16:44:11.891Z"
   },
   {
    "duration": 27,
    "start_time": "2024-11-22T16:44:17.508Z"
   },
   {
    "duration": 207,
    "start_time": "2024-11-22T16:44:17.537Z"
   },
   {
    "duration": 303,
    "start_time": "2024-11-22T16:44:17.746Z"
   },
   {
    "duration": 26,
    "start_time": "2024-11-22T16:44:18.050Z"
   },
   {
    "duration": 3,
    "start_time": "2024-11-22T16:44:18.078Z"
   },
   {
    "duration": 1036,
    "start_time": "2024-11-22T16:44:18.082Z"
   },
   {
    "duration": 3,
    "start_time": "2024-11-22T16:44:19.119Z"
   },
   {
    "duration": 513,
    "start_time": "2024-11-22T16:44:19.123Z"
   },
   {
    "duration": 58,
    "start_time": "2024-11-22T16:44:19.638Z"
   },
   {
    "duration": 4,
    "start_time": "2024-11-22T16:44:19.700Z"
   },
   {
    "duration": 38,
    "start_time": "2024-11-22T16:44:19.705Z"
   },
   {
    "duration": 2389,
    "start_time": "2024-11-22T16:44:19.745Z"
   },
   {
    "duration": 76,
    "start_time": "2024-11-22T16:44:22.135Z"
   },
   {
    "duration": 19062,
    "start_time": "2024-11-22T16:44:22.212Z"
   },
   {
    "duration": 3658,
    "start_time": "2024-11-22T16:44:41.276Z"
   },
   {
    "duration": 813,
    "start_time": "2024-11-22T16:44:44.936Z"
   },
   {
    "duration": 18823,
    "start_time": "2024-11-22T16:44:45.751Z"
   },
   {
    "duration": 95,
    "start_time": "2024-11-22T16:45:04.576Z"
   },
   {
    "duration": 175,
    "start_time": "2024-11-22T16:45:04.673Z"
   },
   {
    "duration": 47,
    "start_time": "2024-11-22T16:45:04.850Z"
   },
   {
    "duration": 18,
    "start_time": "2024-11-22T16:45:04.898Z"
   },
   {
    "duration": 520,
    "start_time": "2024-11-22T16:45:04.917Z"
   },
   {
    "duration": 335,
    "start_time": "2024-11-22T16:45:05.439Z"
   },
   {
    "duration": 239,
    "start_time": "2024-11-22T16:45:05.775Z"
   },
   {
    "duration": 23,
    "start_time": "2024-11-22T16:45:06.015Z"
   },
   {
    "duration": 18739,
    "start_time": "2024-11-22T16:45:06.039Z"
   },
   {
    "duration": 1425,
    "start_time": "2024-11-22T16:45:24.780Z"
   },
   {
    "duration": 67,
    "start_time": "2024-11-22T16:45:26.207Z"
   },
   {
    "duration": 4177,
    "start_time": "2024-11-22T16:45:26.275Z"
   },
   {
    "duration": 665112,
    "start_time": "2024-11-22T16:45:30.453Z"
   },
   {
    "duration": 170,
    "start_time": "2024-11-22T16:56:35.567Z"
   },
   {
    "duration": 59,
    "start_time": "2024-11-22T16:56:35.739Z"
   },
   {
    "duration": 4,
    "start_time": "2024-11-22T16:56:35.800Z"
   },
   {
    "duration": 214973,
    "start_time": "2024-11-22T16:56:35.806Z"
   },
   {
    "duration": 3,
    "start_time": "2024-11-22T17:00:10.780Z"
   },
   {
    "duration": 1455,
    "start_time": "2024-11-22T17:14:11.977Z"
   },
   {
    "duration": 1147,
    "start_time": "2024-11-22T17:14:13.434Z"
   },
   {
    "duration": 4,
    "start_time": "2024-11-22T17:14:14.583Z"
   },
   {
    "duration": 10,
    "start_time": "2024-11-22T17:14:14.590Z"
   },
   {
    "duration": 14,
    "start_time": "2024-11-22T17:14:14.602Z"
   },
   {
    "duration": 167,
    "start_time": "2024-11-22T17:14:14.617Z"
   },
   {
    "duration": 291,
    "start_time": "2024-11-22T17:14:14.787Z"
   },
   {
    "duration": 331,
    "start_time": "2024-11-22T17:14:15.080Z"
   },
   {
    "duration": 107,
    "start_time": "2024-11-22T17:14:15.413Z"
   },
   {
    "duration": 9392,
    "start_time": "2024-11-22T17:14:15.523Z"
   },
   {
    "duration": 10,
    "start_time": "2024-11-22T17:14:24.917Z"
   },
   {
    "duration": 11,
    "start_time": "2024-11-22T17:14:24.929Z"
   },
   {
    "duration": 66,
    "start_time": "2024-11-22T17:14:24.941Z"
   },
   {
    "duration": 17,
    "start_time": "2024-11-22T17:14:25.009Z"
   },
   {
    "duration": 66,
    "start_time": "2024-11-22T17:14:25.027Z"
   },
   {
    "duration": 6,
    "start_time": "2024-11-22T17:14:25.096Z"
   },
   {
    "duration": 26,
    "start_time": "2024-11-22T17:14:25.103Z"
   },
   {
    "duration": 6341,
    "start_time": "2024-11-22T17:14:25.131Z"
   },
   {
    "duration": 30,
    "start_time": "2024-11-22T17:14:31.480Z"
   },
   {
    "duration": 247,
    "start_time": "2024-11-22T17:14:31.512Z"
   },
   {
    "duration": 346,
    "start_time": "2024-11-22T17:14:31.761Z"
   },
   {
    "duration": 19,
    "start_time": "2024-11-22T17:14:32.109Z"
   },
   {
    "duration": 4,
    "start_time": "2024-11-22T17:14:32.129Z"
   },
   {
    "duration": 1116,
    "start_time": "2024-11-22T17:14:32.135Z"
   },
   {
    "duration": 3,
    "start_time": "2024-11-22T17:14:33.252Z"
   },
   {
    "duration": 595,
    "start_time": "2024-11-22T17:14:33.257Z"
   },
   {
    "duration": 68,
    "start_time": "2024-11-22T17:14:33.854Z"
   },
   {
    "duration": 4,
    "start_time": "2024-11-22T17:14:33.925Z"
   },
   {
    "duration": 10,
    "start_time": "2024-11-22T17:14:33.930Z"
   },
   {
    "duration": 2419,
    "start_time": "2024-11-22T17:14:33.941Z"
   },
   {
    "duration": 105,
    "start_time": "2024-11-22T17:14:36.362Z"
   },
   {
    "duration": 30806,
    "start_time": "2024-11-22T17:14:36.469Z"
   },
   {
    "duration": 4355,
    "start_time": "2024-11-22T17:15:07.277Z"
   },
   {
    "duration": 16,
    "start_time": "2024-11-22T17:15:11.634Z"
   },
   {
    "duration": 279928,
    "start_time": "2024-11-22T17:15:11.651Z"
   },
   {
    "duration": 3,
    "start_time": "2024-11-22T17:19:51.586Z"
   },
   {
    "duration": 3369482,
    "start_time": "2024-11-22T17:19:51.591Z"
   },
   {
    "duration": 173,
    "start_time": "2024-11-22T18:16:01.074Z"
   },
   {
    "duration": 55,
    "start_time": "2024-11-22T18:16:01.248Z"
   },
   {
    "duration": 57,
    "start_time": "2024-11-22T18:16:01.305Z"
   },
   {
    "duration": 55,
    "start_time": "2024-11-22T18:16:01.364Z"
   },
   {
    "duration": 51,
    "start_time": "2024-11-22T18:16:01.420Z"
   },
   {
    "duration": 64,
    "start_time": "2024-11-22T18:16:01.473Z"
   },
   {
    "duration": 4,
    "start_time": "2024-11-22T18:16:01.539Z"
   },
   {
    "duration": 0,
    "start_time": "2024-11-22T18:16:01.544Z"
   },
   {
    "duration": 0,
    "start_time": "2024-11-22T18:16:01.545Z"
   },
   {
    "duration": 0,
    "start_time": "2024-11-22T18:16:01.546Z"
   },
   {
    "duration": 0,
    "start_time": "2024-11-22T18:16:01.548Z"
   },
   {
    "duration": 0,
    "start_time": "2024-11-22T18:16:01.549Z"
   },
   {
    "duration": 0,
    "start_time": "2024-11-22T18:16:01.550Z"
   },
   {
    "duration": 0,
    "start_time": "2024-11-22T18:16:01.551Z"
   },
   {
    "duration": 0,
    "start_time": "2024-11-22T18:16:01.552Z"
   },
   {
    "duration": 0,
    "start_time": "2024-11-22T18:16:01.553Z"
   },
   {
    "duration": 0,
    "start_time": "2024-11-22T18:16:01.554Z"
   },
   {
    "duration": 1689,
    "start_time": "2024-11-23T07:31:27.334Z"
   },
   {
    "duration": 3183,
    "start_time": "2024-11-23T07:31:29.025Z"
   },
   {
    "duration": 3,
    "start_time": "2024-11-23T07:31:32.210Z"
   },
   {
    "duration": 9,
    "start_time": "2024-11-23T07:31:32.217Z"
   },
   {
    "duration": 34,
    "start_time": "2024-11-23T07:31:32.227Z"
   },
   {
    "duration": 157,
    "start_time": "2024-11-23T07:31:32.262Z"
   },
   {
    "duration": 270,
    "start_time": "2024-11-23T07:31:32.421Z"
   },
   {
    "duration": 341,
    "start_time": "2024-11-23T07:31:32.693Z"
   },
   {
    "duration": 98,
    "start_time": "2024-11-23T07:31:33.036Z"
   },
   {
    "duration": 9246,
    "start_time": "2024-11-23T07:31:33.136Z"
   },
   {
    "duration": 10,
    "start_time": "2024-11-23T07:31:42.384Z"
   },
   {
    "duration": 28,
    "start_time": "2024-11-23T07:31:42.396Z"
   },
   {
    "duration": 36,
    "start_time": "2024-11-23T07:31:42.426Z"
   },
   {
    "duration": 11,
    "start_time": "2024-11-23T07:31:42.464Z"
   },
   {
    "duration": 58,
    "start_time": "2024-11-23T07:31:42.477Z"
   },
   {
    "duration": 6,
    "start_time": "2024-11-23T07:31:42.536Z"
   },
   {
    "duration": 54,
    "start_time": "2024-11-23T07:31:42.544Z"
   },
   {
    "duration": 5883,
    "start_time": "2024-11-23T07:31:42.600Z"
   },
   {
    "duration": 35,
    "start_time": "2024-11-23T07:31:48.484Z"
   },
   {
    "duration": 211,
    "start_time": "2024-11-23T07:31:48.521Z"
   },
   {
    "duration": 352,
    "start_time": "2024-11-23T07:31:48.733Z"
   },
   {
    "duration": 19,
    "start_time": "2024-11-23T07:31:49.087Z"
   },
   {
    "duration": 13,
    "start_time": "2024-11-23T07:31:49.107Z"
   },
   {
    "duration": 1005,
    "start_time": "2024-11-23T07:31:49.122Z"
   },
   {
    "duration": 4,
    "start_time": "2024-11-23T07:31:50.129Z"
   },
   {
    "duration": 521,
    "start_time": "2024-11-23T07:31:50.135Z"
   },
   {
    "duration": 60,
    "start_time": "2024-11-23T07:31:50.658Z"
   },
   {
    "duration": 4,
    "start_time": "2024-11-23T07:31:50.723Z"
   },
   {
    "duration": 13,
    "start_time": "2024-11-23T07:31:50.729Z"
   },
   {
    "duration": 2720,
    "start_time": "2024-11-23T07:31:50.744Z"
   },
   {
    "duration": 82,
    "start_time": "2024-11-23T07:31:53.466Z"
   },
   {
    "duration": 18676,
    "start_time": "2024-11-23T07:31:53.550Z"
   },
   {
    "duration": 2364,
    "start_time": "2024-11-23T07:32:12.317Z"
   },
   {
    "duration": 164874,
    "start_time": "2024-11-23T07:32:14.683Z"
   },
   {
    "duration": 71061,
    "start_time": "2024-11-23T07:34:59.559Z"
   },
   {
    "duration": 7,
    "start_time": "2024-11-23T07:36:10.622Z"
   },
   {
    "duration": 950096,
    "start_time": "2024-11-23T07:36:10.632Z"
   },
   {
    "duration": 242,
    "start_time": "2024-11-23T07:52:00.731Z"
   },
   {
    "duration": 74,
    "start_time": "2024-11-23T07:52:00.974Z"
   },
   {
    "duration": 96,
    "start_time": "2024-11-23T07:52:01.050Z"
   },
   {
    "duration": 83,
    "start_time": "2024-11-23T07:52:01.148Z"
   },
   {
    "duration": 81,
    "start_time": "2024-11-23T07:52:01.233Z"
   },
   {
    "duration": 76,
    "start_time": "2024-11-23T07:52:01.315Z"
   },
   {
    "duration": 4,
    "start_time": "2024-11-23T07:52:01.393Z"
   },
   {
    "duration": 0,
    "start_time": "2024-11-23T07:52:01.399Z"
   },
   {
    "duration": 0,
    "start_time": "2024-11-23T07:52:01.401Z"
   },
   {
    "duration": 0,
    "start_time": "2024-11-23T07:52:01.402Z"
   },
   {
    "duration": 0,
    "start_time": "2024-11-23T07:52:01.404Z"
   },
   {
    "duration": 0,
    "start_time": "2024-11-23T07:52:01.405Z"
   },
   {
    "duration": 0,
    "start_time": "2024-11-23T07:52:01.407Z"
   },
   {
    "duration": 0,
    "start_time": "2024-11-23T07:52:01.408Z"
   },
   {
    "duration": 1,
    "start_time": "2024-11-23T07:52:01.409Z"
   },
   {
    "duration": 0,
    "start_time": "2024-11-23T07:52:01.411Z"
   },
   {
    "duration": 0,
    "start_time": "2024-11-23T07:52:01.413Z"
   },
   {
    "duration": 1509,
    "start_time": "2024-11-23T07:53:52.936Z"
   },
   {
    "duration": 1133,
    "start_time": "2024-11-23T07:53:54.447Z"
   },
   {
    "duration": 3,
    "start_time": "2024-11-23T07:53:55.582Z"
   },
   {
    "duration": 4,
    "start_time": "2024-11-23T07:53:55.587Z"
   },
   {
    "duration": 28,
    "start_time": "2024-11-23T07:53:55.592Z"
   },
   {
    "duration": 153,
    "start_time": "2024-11-23T07:53:55.622Z"
   },
   {
    "duration": 244,
    "start_time": "2024-11-23T07:53:55.777Z"
   },
   {
    "duration": 324,
    "start_time": "2024-11-23T07:53:56.022Z"
   },
   {
    "duration": 99,
    "start_time": "2024-11-23T07:53:56.348Z"
   },
   {
    "duration": 9174,
    "start_time": "2024-11-23T07:53:56.451Z"
   },
   {
    "duration": 10,
    "start_time": "2024-11-23T07:54:05.627Z"
   },
   {
    "duration": 26,
    "start_time": "2024-11-23T07:54:05.639Z"
   },
   {
    "duration": 74,
    "start_time": "2024-11-23T07:54:05.667Z"
   },
   {
    "duration": 14,
    "start_time": "2024-11-23T07:54:05.743Z"
   },
   {
    "duration": 57,
    "start_time": "2024-11-23T07:54:05.759Z"
   },
   {
    "duration": 6,
    "start_time": "2024-11-23T07:54:05.818Z"
   },
   {
    "duration": 47,
    "start_time": "2024-11-23T07:54:05.825Z"
   },
   {
    "duration": 5954,
    "start_time": "2024-11-23T07:54:05.873Z"
   },
   {
    "duration": 29,
    "start_time": "2024-11-23T07:54:11.829Z"
   },
   {
    "duration": 202,
    "start_time": "2024-11-23T07:54:11.859Z"
   },
   {
    "duration": 335,
    "start_time": "2024-11-23T07:54:12.062Z"
   },
   {
    "duration": 26,
    "start_time": "2024-11-23T07:54:12.399Z"
   },
   {
    "duration": 4,
    "start_time": "2024-11-23T07:54:12.427Z"
   },
   {
    "duration": 130,
    "start_time": "2024-11-23T07:54:12.432Z"
   },
   {
    "duration": 0,
    "start_time": "2024-11-23T07:54:12.564Z"
   },
   {
    "duration": 0,
    "start_time": "2024-11-23T07:54:12.565Z"
   },
   {
    "duration": 0,
    "start_time": "2024-11-23T07:54:12.566Z"
   },
   {
    "duration": 0,
    "start_time": "2024-11-23T07:54:12.567Z"
   },
   {
    "duration": 0,
    "start_time": "2024-11-23T07:54:12.568Z"
   },
   {
    "duration": 0,
    "start_time": "2024-11-23T07:54:12.569Z"
   },
   {
    "duration": 0,
    "start_time": "2024-11-23T07:54:12.570Z"
   },
   {
    "duration": 0,
    "start_time": "2024-11-23T07:54:12.571Z"
   },
   {
    "duration": 0,
    "start_time": "2024-11-23T07:54:12.572Z"
   },
   {
    "duration": 0,
    "start_time": "2024-11-23T07:54:12.573Z"
   },
   {
    "duration": 0,
    "start_time": "2024-11-23T07:54:12.575Z"
   },
   {
    "duration": 0,
    "start_time": "2024-11-23T07:54:12.576Z"
   },
   {
    "duration": 0,
    "start_time": "2024-11-23T07:54:12.577Z"
   },
   {
    "duration": 0,
    "start_time": "2024-11-23T07:54:12.578Z"
   },
   {
    "duration": 0,
    "start_time": "2024-11-23T07:54:12.579Z"
   },
   {
    "duration": 0,
    "start_time": "2024-11-23T07:54:12.580Z"
   },
   {
    "duration": 0,
    "start_time": "2024-11-23T07:54:12.582Z"
   },
   {
    "duration": 0,
    "start_time": "2024-11-23T07:54:12.583Z"
   },
   {
    "duration": 0,
    "start_time": "2024-11-23T07:54:12.584Z"
   },
   {
    "duration": 0,
    "start_time": "2024-11-23T07:54:12.618Z"
   },
   {
    "duration": 0,
    "start_time": "2024-11-23T07:54:12.620Z"
   },
   {
    "duration": 0,
    "start_time": "2024-11-23T07:54:12.621Z"
   },
   {
    "duration": 0,
    "start_time": "2024-11-23T07:54:12.623Z"
   },
   {
    "duration": 555,
    "start_time": "2024-11-23T08:01:05.136Z"
   },
   {
    "duration": 977,
    "start_time": "2024-11-23T08:01:18.391Z"
   },
   {
    "duration": 983,
    "start_time": "2024-11-23T08:01:26.727Z"
   },
   {
    "duration": 3,
    "start_time": "2024-11-23T08:01:29.262Z"
   },
   {
    "duration": 10,
    "start_time": "2024-11-23T08:01:34.501Z"
   },
   {
    "duration": 490,
    "start_time": "2024-11-23T08:03:40.103Z"
   },
   {
    "duration": 52,
    "start_time": "2024-11-23T08:03:56.492Z"
   },
   {
    "duration": 4,
    "start_time": "2024-11-23T08:03:59.839Z"
   },
   {
    "duration": 7,
    "start_time": "2024-11-23T08:04:02.134Z"
   },
   {
    "duration": 2536,
    "start_time": "2024-11-23T08:04:03.534Z"
   },
   {
    "duration": 78,
    "start_time": "2024-11-23T08:04:06.072Z"
   },
   {
    "duration": 25235,
    "start_time": "2024-11-23T08:04:10.983Z"
   },
   {
    "duration": 2437,
    "start_time": "2024-11-23T08:04:36.221Z"
   },
   {
    "duration": 162026,
    "start_time": "2024-11-23T08:04:38.659Z"
   },
   {
    "duration": 1458,
    "start_time": "2024-11-23T08:21:37.774Z"
   },
   {
    "duration": 1084,
    "start_time": "2024-11-23T08:21:39.234Z"
   },
   {
    "duration": 3,
    "start_time": "2024-11-23T08:21:40.319Z"
   },
   {
    "duration": 5,
    "start_time": "2024-11-23T08:21:40.324Z"
   },
   {
    "duration": 17,
    "start_time": "2024-11-23T08:21:40.331Z"
   },
   {
    "duration": 183,
    "start_time": "2024-11-23T08:21:40.349Z"
   },
   {
    "duration": 284,
    "start_time": "2024-11-23T08:21:40.535Z"
   },
   {
    "duration": 310,
    "start_time": "2024-11-23T08:21:40.820Z"
   },
   {
    "duration": 89,
    "start_time": "2024-11-23T08:21:41.131Z"
   },
   {
    "duration": 9250,
    "start_time": "2024-11-23T08:21:41.222Z"
   },
   {
    "duration": 9,
    "start_time": "2024-11-23T08:21:50.474Z"
   },
   {
    "duration": 28,
    "start_time": "2024-11-23T08:21:50.484Z"
   },
   {
    "duration": 34,
    "start_time": "2024-11-23T08:21:50.514Z"
   },
   {
    "duration": 11,
    "start_time": "2024-11-23T08:21:50.550Z"
   },
   {
    "duration": 34,
    "start_time": "2024-11-23T08:21:50.562Z"
   },
   {
    "duration": 23,
    "start_time": "2024-11-23T08:21:50.598Z"
   },
   {
    "duration": 30,
    "start_time": "2024-11-23T08:21:50.623Z"
   },
   {
    "duration": 6153,
    "start_time": "2024-11-23T08:21:50.655Z"
   },
   {
    "duration": 32,
    "start_time": "2024-11-23T08:21:56.809Z"
   },
   {
    "duration": 222,
    "start_time": "2024-11-23T08:21:56.842Z"
   },
   {
    "duration": 317,
    "start_time": "2024-11-23T08:21:57.065Z"
   },
   {
    "duration": 18,
    "start_time": "2024-11-23T08:21:57.383Z"
   },
   {
    "duration": 4,
    "start_time": "2024-11-23T08:21:57.402Z"
   },
   {
    "duration": 999,
    "start_time": "2024-11-23T08:21:57.418Z"
   },
   {
    "duration": 3,
    "start_time": "2024-11-23T08:21:58.419Z"
   },
   {
    "duration": 510,
    "start_time": "2024-11-23T08:21:58.424Z"
   },
   {
    "duration": 52,
    "start_time": "2024-11-23T08:21:58.936Z"
   },
   {
    "duration": 3,
    "start_time": "2024-11-23T08:21:58.992Z"
   },
   {
    "duration": 6,
    "start_time": "2024-11-23T08:21:58.997Z"
   },
   {
    "duration": 2361,
    "start_time": "2024-11-23T08:21:59.018Z"
   },
   {
    "duration": 83,
    "start_time": "2024-11-23T08:22:01.380Z"
   },
   {
    "duration": 18860,
    "start_time": "2024-11-23T08:22:01.465Z"
   },
   {
    "duration": 2490,
    "start_time": "2024-11-23T08:22:20.327Z"
   },
   {
    "duration": 157498,
    "start_time": "2024-11-23T08:22:22.819Z"
   },
   {
    "duration": 10305,
    "start_time": "2024-11-23T08:25:00.319Z"
   },
   {
    "duration": 2,
    "start_time": "2024-11-23T08:25:10.626Z"
   },
   {
    "duration": 211790,
    "start_time": "2024-11-23T08:25:10.630Z"
   },
   {
    "duration": 202,
    "start_time": "2024-11-23T08:28:42.422Z"
   },
   {
    "duration": 76,
    "start_time": "2024-11-23T08:28:42.626Z"
   },
   {
    "duration": 74,
    "start_time": "2024-11-23T08:28:42.704Z"
   },
   {
    "duration": 74,
    "start_time": "2024-11-23T08:28:42.780Z"
   },
   {
    "duration": 123,
    "start_time": "2024-11-23T08:28:42.855Z"
   },
   {
    "duration": 81,
    "start_time": "2024-11-23T08:28:42.980Z"
   },
   {
    "duration": 4,
    "start_time": "2024-11-23T08:28:43.063Z"
   },
   {
    "duration": 0,
    "start_time": "2024-11-23T08:28:43.068Z"
   },
   {
    "duration": 0,
    "start_time": "2024-11-23T08:28:43.070Z"
   },
   {
    "duration": 0,
    "start_time": "2024-11-23T08:28:43.071Z"
   },
   {
    "duration": 18984,
    "start_time": "2024-11-23T08:32:53.954Z"
   },
   {
    "duration": 1516,
    "start_time": "2024-11-23T08:35:36.725Z"
   },
   {
    "duration": 1089,
    "start_time": "2024-11-23T08:35:38.243Z"
   },
   {
    "duration": 3,
    "start_time": "2024-11-23T08:35:39.334Z"
   },
   {
    "duration": 38,
    "start_time": "2024-11-23T08:35:39.339Z"
   },
   {
    "duration": 13,
    "start_time": "2024-11-23T08:35:39.380Z"
   },
   {
    "duration": 167,
    "start_time": "2024-11-23T08:35:39.394Z"
   },
   {
    "duration": 267,
    "start_time": "2024-11-23T08:35:39.563Z"
   },
   {
    "duration": 308,
    "start_time": "2024-11-23T08:35:39.832Z"
   },
   {
    "duration": 93,
    "start_time": "2024-11-23T08:35:40.142Z"
   },
   {
    "duration": 9060,
    "start_time": "2024-11-23T08:35:40.236Z"
   },
   {
    "duration": 21,
    "start_time": "2024-11-23T08:35:49.298Z"
   },
   {
    "duration": 12,
    "start_time": "2024-11-23T08:35:49.320Z"
   },
   {
    "duration": 34,
    "start_time": "2024-11-23T08:35:49.333Z"
   },
   {
    "duration": 11,
    "start_time": "2024-11-23T08:35:49.371Z"
   },
   {
    "duration": 62,
    "start_time": "2024-11-23T08:35:49.384Z"
   },
   {
    "duration": 6,
    "start_time": "2024-11-23T08:35:49.448Z"
   },
   {
    "duration": 25,
    "start_time": "2024-11-23T08:35:49.455Z"
   },
   {
    "duration": 6171,
    "start_time": "2024-11-23T08:35:49.482Z"
   },
   {
    "duration": 28,
    "start_time": "2024-11-23T08:35:55.655Z"
   },
   {
    "duration": 207,
    "start_time": "2024-11-23T08:35:55.685Z"
   },
   {
    "duration": 313,
    "start_time": "2024-11-23T08:35:55.894Z"
   },
   {
    "duration": 22,
    "start_time": "2024-11-23T08:35:56.209Z"
   },
   {
    "duration": 26,
    "start_time": "2024-11-23T08:35:56.232Z"
   },
   {
    "duration": 981,
    "start_time": "2024-11-23T08:35:56.259Z"
   },
   {
    "duration": 3,
    "start_time": "2024-11-23T08:35:57.241Z"
   },
   {
    "duration": 531,
    "start_time": "2024-11-23T08:35:57.246Z"
   },
   {
    "duration": 56,
    "start_time": "2024-11-23T08:35:57.778Z"
   },
   {
    "duration": 3,
    "start_time": "2024-11-23T08:35:57.836Z"
   },
   {
    "duration": 5,
    "start_time": "2024-11-23T08:35:57.841Z"
   },
   {
    "duration": 2387,
    "start_time": "2024-11-23T08:35:57.847Z"
   },
   {
    "duration": 85,
    "start_time": "2024-11-23T08:36:00.236Z"
   },
   {
    "duration": 18796,
    "start_time": "2024-11-23T08:36:00.323Z"
   },
   {
    "duration": 2449,
    "start_time": "2024-11-23T08:36:19.124Z"
   },
   {
    "duration": 162723,
    "start_time": "2024-11-23T08:36:21.575Z"
   },
   {
    "duration": 79740,
    "start_time": "2024-11-23T08:39:04.300Z"
   },
   {
    "duration": 3,
    "start_time": "2024-11-23T08:40:24.041Z"
   },
   {
    "duration": 1542,
    "start_time": "2024-11-23T08:49:32.561Z"
   },
   {
    "duration": 1128,
    "start_time": "2024-11-23T08:49:34.105Z"
   },
   {
    "duration": 3,
    "start_time": "2024-11-23T08:49:35.235Z"
   },
   {
    "duration": 27,
    "start_time": "2024-11-23T08:49:35.239Z"
   },
   {
    "duration": 25,
    "start_time": "2024-11-23T08:49:35.269Z"
   },
   {
    "duration": 151,
    "start_time": "2024-11-23T08:49:35.296Z"
   },
   {
    "duration": 265,
    "start_time": "2024-11-23T08:49:35.449Z"
   },
   {
    "duration": 330,
    "start_time": "2024-11-23T08:49:35.717Z"
   },
   {
    "duration": 108,
    "start_time": "2024-11-23T08:49:36.049Z"
   },
   {
    "duration": 9770,
    "start_time": "2024-11-23T08:49:36.159Z"
   },
   {
    "duration": 12,
    "start_time": "2024-11-23T08:49:45.930Z"
   },
   {
    "duration": 11,
    "start_time": "2024-11-23T08:49:45.944Z"
   },
   {
    "duration": 36,
    "start_time": "2024-11-23T08:49:45.956Z"
   },
   {
    "duration": 39,
    "start_time": "2024-11-23T08:49:45.995Z"
   },
   {
    "duration": 38,
    "start_time": "2024-11-23T08:49:46.036Z"
   },
   {
    "duration": 94,
    "start_time": "2024-11-23T08:49:46.076Z"
   },
   {
    "duration": 60,
    "start_time": "2024-11-23T08:49:46.171Z"
   },
   {
    "duration": 27,
    "start_time": "2024-11-23T08:49:46.233Z"
   },
   {
    "duration": 7143,
    "start_time": "2024-11-23T08:49:46.262Z"
   },
   {
    "duration": 38,
    "start_time": "2024-11-23T08:49:53.407Z"
   },
   {
    "duration": 240,
    "start_time": "2024-11-23T08:49:53.447Z"
   },
   {
    "duration": 405,
    "start_time": "2024-11-23T08:49:53.689Z"
   },
   {
    "duration": 36,
    "start_time": "2024-11-23T08:49:54.095Z"
   },
   {
    "duration": 5,
    "start_time": "2024-11-23T08:49:54.133Z"
   },
   {
    "duration": 1209,
    "start_time": "2024-11-23T08:49:54.140Z"
   },
   {
    "duration": 3,
    "start_time": "2024-11-23T08:49:55.350Z"
   },
   {
    "duration": 697,
    "start_time": "2024-11-23T08:49:55.355Z"
   },
   {
    "duration": 80,
    "start_time": "2024-11-23T08:49:56.054Z"
   },
   {
    "duration": 5,
    "start_time": "2024-11-23T08:49:56.136Z"
   },
   {
    "duration": 7,
    "start_time": "2024-11-23T08:49:56.143Z"
   },
   {
    "duration": 3201,
    "start_time": "2024-11-23T08:49:56.152Z"
   },
   {
    "duration": 311,
    "start_time": "2024-11-23T08:49:59.355Z"
   },
   {
    "duration": 0,
    "start_time": "2024-11-23T08:49:59.668Z"
   },
   {
    "duration": 0,
    "start_time": "2024-11-23T08:49:59.669Z"
   },
   {
    "duration": 0,
    "start_time": "2024-11-23T08:49:59.670Z"
   },
   {
    "duration": 0,
    "start_time": "2024-11-23T08:49:59.671Z"
   },
   {
    "duration": 0,
    "start_time": "2024-11-23T08:49:59.672Z"
   },
   {
    "duration": 0,
    "start_time": "2024-11-23T08:49:59.673Z"
   },
   {
    "duration": 0,
    "start_time": "2024-11-23T08:49:59.674Z"
   },
   {
    "duration": 0,
    "start_time": "2024-11-23T08:49:59.675Z"
   },
   {
    "duration": 0,
    "start_time": "2024-11-23T08:49:59.676Z"
   },
   {
    "duration": 0,
    "start_time": "2024-11-23T08:49:59.677Z"
   },
   {
    "duration": 0,
    "start_time": "2024-11-23T08:49:59.678Z"
   },
   {
    "duration": 1,
    "start_time": "2024-11-23T08:49:59.679Z"
   },
   {
    "duration": 0,
    "start_time": "2024-11-23T08:49:59.682Z"
   },
   {
    "duration": 0,
    "start_time": "2024-11-23T08:49:59.683Z"
   },
   {
    "duration": 0,
    "start_time": "2024-11-23T08:49:59.684Z"
   },
   {
    "duration": 0,
    "start_time": "2024-11-23T08:49:59.685Z"
   },
   {
    "duration": 1585,
    "start_time": "2024-11-23T08:52:12.681Z"
   },
   {
    "duration": 1181,
    "start_time": "2024-11-23T08:52:14.268Z"
   },
   {
    "duration": 3,
    "start_time": "2024-11-23T08:52:15.451Z"
   },
   {
    "duration": 5,
    "start_time": "2024-11-23T08:52:15.456Z"
   },
   {
    "duration": 20,
    "start_time": "2024-11-23T08:52:15.462Z"
   },
   {
    "duration": 194,
    "start_time": "2024-11-23T08:52:15.484Z"
   },
   {
    "duration": 319,
    "start_time": "2024-11-23T08:52:15.679Z"
   },
   {
    "duration": 344,
    "start_time": "2024-11-23T08:52:15.999Z"
   },
   {
    "duration": 101,
    "start_time": "2024-11-23T08:52:16.345Z"
   },
   {
    "duration": 10152,
    "start_time": "2024-11-23T08:52:16.449Z"
   },
   {
    "duration": 28,
    "start_time": "2024-11-23T08:52:26.604Z"
   },
   {
    "duration": 14,
    "start_time": "2024-11-23T08:52:26.644Z"
   },
   {
    "duration": 36,
    "start_time": "2024-11-23T08:52:26.659Z"
   },
   {
    "duration": 12,
    "start_time": "2024-11-23T08:52:26.696Z"
   },
   {
    "duration": 49,
    "start_time": "2024-11-23T08:52:26.709Z"
   },
   {
    "duration": 123,
    "start_time": "2024-11-23T08:52:26.759Z"
   },
   {
    "duration": 60,
    "start_time": "2024-11-23T08:52:26.884Z"
   },
   {
    "duration": 37,
    "start_time": "2024-11-23T08:52:26.946Z"
   },
   {
    "duration": 7712,
    "start_time": "2024-11-23T08:52:26.984Z"
   },
   {
    "duration": 47,
    "start_time": "2024-11-23T08:52:34.698Z"
   },
   {
    "duration": 293,
    "start_time": "2024-11-23T08:52:34.749Z"
   },
   {
    "duration": 389,
    "start_time": "2024-11-23T08:52:35.048Z"
   },
   {
    "duration": 22,
    "start_time": "2024-11-23T08:52:35.447Z"
   },
   {
    "duration": 29,
    "start_time": "2024-11-23T08:52:35.471Z"
   },
   {
    "duration": 1187,
    "start_time": "2024-11-23T08:52:35.502Z"
   },
   {
    "duration": 4,
    "start_time": "2024-11-23T08:52:36.691Z"
   },
   {
    "duration": 734,
    "start_time": "2024-11-23T08:52:36.697Z"
   },
   {
    "duration": 69,
    "start_time": "2024-11-23T08:52:37.438Z"
   },
   {
    "duration": 5,
    "start_time": "2024-11-23T08:52:37.508Z"
   },
   {
    "duration": 18,
    "start_time": "2024-11-23T08:52:37.518Z"
   },
   {
    "duration": 3103,
    "start_time": "2024-11-23T08:52:37.538Z"
   },
   {
    "duration": 305,
    "start_time": "2024-11-23T08:52:40.643Z"
   },
   {
    "duration": 0,
    "start_time": "2024-11-23T08:52:40.951Z"
   },
   {
    "duration": 0,
    "start_time": "2024-11-23T08:52:40.952Z"
   },
   {
    "duration": 1,
    "start_time": "2024-11-23T08:52:40.953Z"
   },
   {
    "duration": 0,
    "start_time": "2024-11-23T08:52:40.954Z"
   },
   {
    "duration": 1,
    "start_time": "2024-11-23T08:52:40.955Z"
   },
   {
    "duration": 0,
    "start_time": "2024-11-23T08:52:40.956Z"
   },
   {
    "duration": 0,
    "start_time": "2024-11-23T08:52:40.957Z"
   },
   {
    "duration": 0,
    "start_time": "2024-11-23T08:52:40.958Z"
   },
   {
    "duration": 0,
    "start_time": "2024-11-23T08:52:40.959Z"
   },
   {
    "duration": 0,
    "start_time": "2024-11-23T08:52:40.961Z"
   },
   {
    "duration": 0,
    "start_time": "2024-11-23T08:52:40.962Z"
   },
   {
    "duration": 0,
    "start_time": "2024-11-23T08:52:40.963Z"
   },
   {
    "duration": 0,
    "start_time": "2024-11-23T08:52:40.964Z"
   },
   {
    "duration": 0,
    "start_time": "2024-11-23T08:52:40.965Z"
   },
   {
    "duration": 0,
    "start_time": "2024-11-23T08:52:40.965Z"
   },
   {
    "duration": 0,
    "start_time": "2024-11-23T08:52:40.967Z"
   },
   {
    "duration": 1507,
    "start_time": "2024-11-23T08:53:23.962Z"
   },
   {
    "duration": 1183,
    "start_time": "2024-11-23T08:53:25.471Z"
   },
   {
    "duration": 3,
    "start_time": "2024-11-23T08:53:26.655Z"
   },
   {
    "duration": 3,
    "start_time": "2024-11-23T08:53:26.661Z"
   },
   {
    "duration": 20,
    "start_time": "2024-11-23T08:53:26.666Z"
   },
   {
    "duration": 190,
    "start_time": "2024-11-23T08:53:26.688Z"
   },
   {
    "duration": 290,
    "start_time": "2024-11-23T08:53:26.880Z"
   },
   {
    "duration": 360,
    "start_time": "2024-11-23T08:53:27.172Z"
   },
   {
    "duration": 100,
    "start_time": "2024-11-23T08:53:27.533Z"
   },
   {
    "duration": 10111,
    "start_time": "2024-11-23T08:53:27.636Z"
   },
   {
    "duration": 11,
    "start_time": "2024-11-23T08:53:37.751Z"
   },
   {
    "duration": 21,
    "start_time": "2024-11-23T08:53:37.764Z"
   },
   {
    "duration": 54,
    "start_time": "2024-11-23T08:53:37.787Z"
   },
   {
    "duration": 13,
    "start_time": "2024-11-23T08:53:37.844Z"
   },
   {
    "duration": 36,
    "start_time": "2024-11-23T08:53:37.859Z"
   },
   {
    "duration": 105,
    "start_time": "2024-11-23T08:53:37.896Z"
   },
   {
    "duration": 47,
    "start_time": "2024-11-23T08:53:38.003Z"
   },
   {
    "duration": 30,
    "start_time": "2024-11-23T08:53:38.051Z"
   },
   {
    "duration": 7430,
    "start_time": "2024-11-23T08:53:38.082Z"
   },
   {
    "duration": 46,
    "start_time": "2024-11-23T08:53:45.514Z"
   },
   {
    "duration": 310,
    "start_time": "2024-11-23T08:53:45.562Z"
   },
   {
    "duration": 426,
    "start_time": "2024-11-23T08:53:45.874Z"
   },
   {
    "duration": 37,
    "start_time": "2024-11-23T08:53:46.302Z"
   },
   {
    "duration": 6,
    "start_time": "2024-11-23T08:53:46.341Z"
   },
   {
    "duration": 1073,
    "start_time": "2024-11-23T08:53:46.349Z"
   },
   {
    "duration": 6,
    "start_time": "2024-11-23T08:53:47.424Z"
   },
   {
    "duration": 807,
    "start_time": "2024-11-23T08:53:47.431Z"
   },
   {
    "duration": 54,
    "start_time": "2024-11-23T08:53:48.242Z"
   },
   {
    "duration": 4,
    "start_time": "2024-11-23T08:53:48.297Z"
   },
   {
    "duration": 26,
    "start_time": "2024-11-23T08:53:48.303Z"
   },
   {
    "duration": 3136,
    "start_time": "2024-11-23T08:53:48.333Z"
   },
   {
    "duration": 83,
    "start_time": "2024-11-23T08:53:51.470Z"
   },
   {
    "duration": 67866,
    "start_time": "2024-11-23T08:53:51.554Z"
   },
   {
    "duration": 2928,
    "start_time": "2024-11-23T08:54:59.422Z"
   },
   {
    "duration": 177981,
    "start_time": "2024-11-23T08:55:02.351Z"
   },
   {
    "duration": 307824,
    "start_time": "2024-11-23T08:58:00.336Z"
   },
   {
    "duration": 3,
    "start_time": "2024-11-23T09:03:08.161Z"
   },
   {
    "duration": 1531,
    "start_time": "2024-11-23T09:09:39.439Z"
   },
   {
    "duration": 1196,
    "start_time": "2024-11-23T09:09:40.973Z"
   },
   {
    "duration": 3,
    "start_time": "2024-11-23T09:09:42.171Z"
   },
   {
    "duration": 5,
    "start_time": "2024-11-23T09:09:42.176Z"
   },
   {
    "duration": 16,
    "start_time": "2024-11-23T09:09:42.184Z"
   },
   {
    "duration": 232,
    "start_time": "2024-11-23T09:09:42.201Z"
   },
   {
    "duration": 332,
    "start_time": "2024-11-23T09:09:42.440Z"
   },
   {
    "duration": 411,
    "start_time": "2024-11-23T09:09:42.773Z"
   },
   {
    "duration": 102,
    "start_time": "2024-11-23T09:09:43.186Z"
   },
   {
    "duration": 10277,
    "start_time": "2024-11-23T09:09:43.290Z"
   },
   {
    "duration": 10,
    "start_time": "2024-11-23T09:09:53.568Z"
   },
   {
    "duration": 15,
    "start_time": "2024-11-23T09:09:53.579Z"
   },
   {
    "duration": 61,
    "start_time": "2024-11-23T09:09:53.596Z"
   },
   {
    "duration": 14,
    "start_time": "2024-11-23T09:09:53.662Z"
   },
   {
    "duration": 44,
    "start_time": "2024-11-23T09:09:53.678Z"
   },
   {
    "duration": 106,
    "start_time": "2024-11-23T09:09:53.724Z"
   },
   {
    "duration": 47,
    "start_time": "2024-11-23T09:09:53.833Z"
   },
   {
    "duration": 10,
    "start_time": "2024-11-23T09:09:53.882Z"
   },
   {
    "duration": 59,
    "start_time": "2024-11-23T09:09:53.894Z"
   },
   {
    "duration": 7607,
    "start_time": "2024-11-23T09:09:53.955Z"
   },
   {
    "duration": 29,
    "start_time": "2024-11-23T09:10:01.564Z"
   },
   {
    "duration": 341,
    "start_time": "2024-11-23T09:10:01.595Z"
   },
   {
    "duration": 471,
    "start_time": "2024-11-23T09:10:01.938Z"
   },
   {
    "duration": 39,
    "start_time": "2024-11-23T09:10:02.411Z"
   },
   {
    "duration": 10,
    "start_time": "2024-11-23T09:10:02.452Z"
   },
   {
    "duration": 1165,
    "start_time": "2024-11-23T09:10:02.464Z"
   },
   {
    "duration": 14,
    "start_time": "2024-11-23T09:10:03.639Z"
   },
   {
    "duration": 829,
    "start_time": "2024-11-23T09:10:03.656Z"
   },
   {
    "duration": 72,
    "start_time": "2024-11-23T09:10:04.487Z"
   },
   {
    "duration": 4,
    "start_time": "2024-11-23T09:10:04.560Z"
   },
   {
    "duration": 28,
    "start_time": "2024-11-23T09:10:04.566Z"
   },
   {
    "duration": 2457,
    "start_time": "2024-11-23T09:10:04.596Z"
   },
   {
    "duration": 97,
    "start_time": "2024-11-23T09:10:07.054Z"
   },
   {
    "duration": 1563,
    "start_time": "2024-11-23T09:10:26.988Z"
   },
   {
    "duration": 1215,
    "start_time": "2024-11-23T09:10:28.553Z"
   },
   {
    "duration": 3,
    "start_time": "2024-11-23T09:10:29.770Z"
   },
   {
    "duration": 4,
    "start_time": "2024-11-23T09:10:29.775Z"
   },
   {
    "duration": 14,
    "start_time": "2024-11-23T09:10:29.781Z"
   },
   {
    "duration": 177,
    "start_time": "2024-11-23T09:10:29.817Z"
   },
   {
    "duration": 303,
    "start_time": "2024-11-23T09:10:29.995Z"
   },
   {
    "duration": 351,
    "start_time": "2024-11-23T09:10:30.300Z"
   },
   {
    "duration": 103,
    "start_time": "2024-11-23T09:10:30.652Z"
   },
   {
    "duration": 10303,
    "start_time": "2024-11-23T09:10:30.756Z"
   },
   {
    "duration": 11,
    "start_time": "2024-11-23T09:10:41.061Z"
   },
   {
    "duration": 13,
    "start_time": "2024-11-23T09:10:41.073Z"
   },
   {
    "duration": 63,
    "start_time": "2024-11-23T09:10:41.087Z"
   },
   {
    "duration": 12,
    "start_time": "2024-11-23T09:10:41.155Z"
   },
   {
    "duration": 68,
    "start_time": "2024-11-23T09:10:41.169Z"
   },
   {
    "duration": 118,
    "start_time": "2024-11-23T09:10:41.239Z"
   },
   {
    "duration": 46,
    "start_time": "2024-11-23T09:10:41.359Z"
   },
   {
    "duration": 27,
    "start_time": "2024-11-23T09:10:41.420Z"
   },
   {
    "duration": 31,
    "start_time": "2024-11-23T09:10:41.450Z"
   },
   {
    "duration": 7798,
    "start_time": "2024-11-23T09:10:41.483Z"
   },
   {
    "duration": 54,
    "start_time": "2024-11-23T09:10:49.283Z"
   },
   {
    "duration": 271,
    "start_time": "2024-11-23T09:10:49.340Z"
   },
   {
    "duration": 434,
    "start_time": "2024-11-23T09:10:49.617Z"
   },
   {
    "duration": 21,
    "start_time": "2024-11-23T09:10:50.053Z"
   },
   {
    "duration": 4,
    "start_time": "2024-11-23T09:10:50.076Z"
   },
   {
    "duration": 1185,
    "start_time": "2024-11-23T09:10:50.081Z"
   },
   {
    "duration": 4,
    "start_time": "2024-11-23T09:10:51.267Z"
   },
   {
    "duration": 775,
    "start_time": "2024-11-23T09:10:51.272Z"
   },
   {
    "duration": 55,
    "start_time": "2024-11-23T09:10:52.049Z"
   },
   {
    "duration": 4,
    "start_time": "2024-11-23T09:10:52.106Z"
   },
   {
    "duration": 12,
    "start_time": "2024-11-23T09:10:52.118Z"
   },
   {
    "duration": 2621,
    "start_time": "2024-11-23T09:10:52.132Z"
   },
   {
    "duration": 100,
    "start_time": "2024-11-23T09:10:54.757Z"
   },
   {
    "duration": 1562,
    "start_time": "2024-11-23T09:11:23.142Z"
   },
   {
    "duration": 1202,
    "start_time": "2024-11-23T09:11:24.706Z"
   },
   {
    "duration": 10,
    "start_time": "2024-11-23T09:11:25.917Z"
   },
   {
    "duration": 18,
    "start_time": "2024-11-23T09:11:25.929Z"
   },
   {
    "duration": 20,
    "start_time": "2024-11-23T09:11:25.950Z"
   },
   {
    "duration": 178,
    "start_time": "2024-11-23T09:11:25.972Z"
   },
   {
    "duration": 304,
    "start_time": "2024-11-23T09:11:26.151Z"
   },
   {
    "duration": 348,
    "start_time": "2024-11-23T09:11:26.457Z"
   },
   {
    "duration": 96,
    "start_time": "2024-11-23T09:11:26.806Z"
   },
   {
    "duration": 10365,
    "start_time": "2024-11-23T09:11:26.905Z"
   },
   {
    "duration": 10,
    "start_time": "2024-11-23T09:11:37.272Z"
   },
   {
    "duration": 12,
    "start_time": "2024-11-23T09:11:37.283Z"
   },
   {
    "duration": 60,
    "start_time": "2024-11-23T09:11:37.296Z"
   },
   {
    "duration": 13,
    "start_time": "2024-11-23T09:11:37.357Z"
   },
   {
    "duration": 70,
    "start_time": "2024-11-23T09:11:37.371Z"
   },
   {
    "duration": 98,
    "start_time": "2024-11-23T09:11:37.447Z"
   },
   {
    "duration": 44,
    "start_time": "2024-11-23T09:11:37.547Z"
   },
   {
    "duration": 11,
    "start_time": "2024-11-23T09:11:37.593Z"
   },
   {
    "duration": 54,
    "start_time": "2024-11-23T09:11:37.606Z"
   },
   {
    "duration": 7637,
    "start_time": "2024-11-23T09:11:37.662Z"
   },
   {
    "duration": 48,
    "start_time": "2024-11-23T09:11:45.301Z"
   },
   {
    "duration": 299,
    "start_time": "2024-11-23T09:11:45.351Z"
   },
   {
    "duration": 429,
    "start_time": "2024-11-23T09:11:45.651Z"
   },
   {
    "duration": 42,
    "start_time": "2024-11-23T09:11:46.083Z"
   },
   {
    "duration": 8,
    "start_time": "2024-11-23T09:11:46.128Z"
   },
   {
    "duration": 1130,
    "start_time": "2024-11-23T09:11:46.138Z"
   },
   {
    "duration": 4,
    "start_time": "2024-11-23T09:11:47.269Z"
   },
   {
    "duration": 751,
    "start_time": "2024-11-23T09:11:47.277Z"
   },
   {
    "duration": 179,
    "start_time": "2024-11-23T09:11:48.033Z"
   },
   {
    "duration": 4,
    "start_time": "2024-11-23T09:11:48.214Z"
   },
   {
    "duration": 7,
    "start_time": "2024-11-23T09:11:48.220Z"
   },
   {
    "duration": 2593,
    "start_time": "2024-11-23T09:11:48.229Z"
   },
   {
    "duration": 104,
    "start_time": "2024-11-23T09:11:50.825Z"
   },
   {
    "duration": 49408,
    "start_time": "2024-11-23T09:11:50.932Z"
   },
   {
    "duration": 2898,
    "start_time": "2024-11-23T09:12:40.344Z"
   },
   {
    "duration": 178067,
    "start_time": "2024-11-23T09:12:43.244Z"
   },
   {
    "duration": 237147,
    "start_time": "2024-11-23T09:15:41.313Z"
   },
   {
    "duration": 3,
    "start_time": "2024-11-23T09:19:38.461Z"
   },
   {
    "duration": 8169689,
    "start_time": "2024-11-23T09:19:38.465Z"
   },
   {
    "duration": 56995,
    "start_time": "2024-11-23T11:35:48.158Z"
   },
   {
    "duration": 293,
    "start_time": "2024-11-23T11:36:45.158Z"
   },
   {
    "duration": 665,
    "start_time": "2024-11-23T11:36:45.453Z"
   },
   {
    "duration": 111,
    "start_time": "2024-11-23T11:36:46.126Z"
   },
   {
    "duration": 458493,
    "start_time": "2024-11-23T11:36:46.239Z"
   },
   {
    "duration": 102,
    "start_time": "2024-11-23T11:44:24.742Z"
   },
   {
    "duration": 5,
    "start_time": "2024-11-23T11:44:24.845Z"
   },
   {
    "duration": 0,
    "start_time": "2024-11-23T11:44:24.852Z"
   },
   {
    "duration": 0,
    "start_time": "2024-11-23T11:44:24.854Z"
   },
   {
    "duration": 0,
    "start_time": "2024-11-23T11:44:24.855Z"
   },
   {
    "duration": 292,
    "start_time": "2024-11-23T12:15:39.519Z"
   },
   {
    "duration": 90,
    "start_time": "2024-11-23T12:15:50.874Z"
   },
   {
    "duration": 272,
    "start_time": "2024-11-23T12:25:00.412Z"
   },
   {
    "duration": 79,
    "start_time": "2024-11-23T12:28:27.636Z"
   },
   {
    "duration": 46372,
    "start_time": "2024-11-23T12:31:44.154Z"
   },
   {
    "duration": 200,
    "start_time": "2024-11-23T12:32:30.532Z"
   },
   {
    "duration": 81,
    "start_time": "2024-11-23T12:32:42.923Z"
   },
   {
    "duration": 99,
    "start_time": "2024-11-23T12:33:13.386Z"
   },
   {
    "duration": 40729,
    "start_time": "2024-11-23T12:34:00.403Z"
   },
   {
    "duration": 290,
    "start_time": "2024-11-23T12:34:41.135Z"
   },
   {
    "duration": 703,
    "start_time": "2024-11-23T12:34:41.430Z"
   },
   {
    "duration": 24,
    "start_time": "2024-11-23T12:34:42.136Z"
   },
   {
    "duration": 422722,
    "start_time": "2024-11-23T12:34:42.162Z"
   },
   {
    "duration": 15461,
    "start_time": "2024-11-23T12:41:44.886Z"
   },
   {
    "duration": 4,
    "start_time": "2024-11-23T12:42:00.349Z"
   },
   {
    "duration": 0,
    "start_time": "2024-11-23T12:42:00.355Z"
   },
   {
    "duration": 0,
    "start_time": "2024-11-23T12:42:00.356Z"
   },
   {
    "duration": 0,
    "start_time": "2024-11-23T12:42:00.357Z"
   },
   {
    "duration": 81,
    "start_time": "2024-11-23T12:45:59.335Z"
   },
   {
    "duration": 110211,
    "start_time": "2024-11-23T12:46:24.413Z"
   },
   {
    "duration": 1380,
    "start_time": "2024-11-23T12:49:18.963Z"
   },
   {
    "duration": 312,
    "start_time": "2024-11-23T12:49:26.229Z"
   },
   {
    "duration": 232,
    "start_time": "2024-11-23T12:53:47.806Z"
   },
   {
    "duration": 53295,
    "start_time": "2024-11-23T12:55:07.197Z"
   },
   {
    "duration": 9,
    "start_time": "2024-11-23T13:10:21.895Z"
   },
   {
    "duration": 6,
    "start_time": "2024-11-23T13:10:26.702Z"
   },
   {
    "duration": 4,
    "start_time": "2024-11-23T13:10:34.270Z"
   },
   {
    "duration": 1095,
    "start_time": "2024-11-23T13:10:37.641Z"
   },
   {
    "duration": 4,
    "start_time": "2024-11-23T13:10:41.638Z"
   },
   {
    "duration": 5,
    "start_time": "2024-11-23T13:10:42.910Z"
   },
   {
    "duration": 14,
    "start_time": "2024-11-23T13:10:43.990Z"
   },
   {
    "duration": 163,
    "start_time": "2024-11-23T13:10:45.022Z"
   },
   {
    "duration": 324,
    "start_time": "2024-11-23T13:10:46.782Z"
   },
   {
    "duration": 258,
    "start_time": "2024-11-23T13:10:49.930Z"
   },
   {
    "duration": 85,
    "start_time": "2024-11-23T13:10:52.032Z"
   },
   {
    "duration": 10382,
    "start_time": "2024-11-23T13:10:57.583Z"
   },
   {
    "duration": 11,
    "start_time": "2024-11-23T13:11:07.967Z"
   },
   {
    "duration": 14,
    "start_time": "2024-11-23T13:11:23.175Z"
   },
   {
    "duration": 33,
    "start_time": "2024-11-23T13:11:34.167Z"
   },
   {
    "duration": 17,
    "start_time": "2024-11-23T13:11:44.310Z"
   },
   {
    "duration": 34,
    "start_time": "2024-11-23T13:11:45.414Z"
   },
   {
    "duration": 103,
    "start_time": "2024-11-23T13:12:01.582Z"
   },
   {
    "duration": 27,
    "start_time": "2024-11-23T13:12:06.551Z"
   },
   {
    "duration": 15,
    "start_time": "2024-11-23T13:12:09.822Z"
   },
   {
    "duration": 13,
    "start_time": "2024-11-23T13:12:31.055Z"
   },
   {
    "duration": 14,
    "start_time": "2024-11-23T13:12:40.861Z"
   },
   {
    "duration": 7,
    "start_time": "2024-11-23T13:12:43.207Z"
   },
   {
    "duration": 13,
    "start_time": "2024-11-23T13:12:43.718Z"
   },
   {
    "duration": 13,
    "start_time": "2024-11-23T13:12:58.055Z"
   },
   {
    "duration": 89,
    "start_time": "2024-11-23T13:13:02.167Z"
   },
   {
    "duration": 8,
    "start_time": "2024-11-23T13:13:04.366Z"
   },
   {
    "duration": 12,
    "start_time": "2024-11-23T13:13:05.047Z"
   },
   {
    "duration": 30,
    "start_time": "2024-11-23T13:15:15.215Z"
   },
   {
    "duration": 7310,
    "start_time": "2024-11-23T13:16:13.935Z"
   },
   {
    "duration": 32,
    "start_time": "2024-11-23T13:16:21.247Z"
   },
   {
    "duration": 280,
    "start_time": "2024-11-23T13:16:22.928Z"
   },
   {
    "duration": 412,
    "start_time": "2024-11-23T13:16:24.966Z"
   },
   {
    "duration": 22,
    "start_time": "2024-11-23T13:16:27.391Z"
   },
   {
    "duration": 5,
    "start_time": "2024-11-23T13:16:31.301Z"
   },
   {
    "duration": 8567,
    "start_time": "2024-11-23T13:31:19.241Z"
   },
   {
    "duration": 1066,
    "start_time": "2024-11-23T13:31:27.810Z"
   },
   {
    "duration": 3,
    "start_time": "2024-11-23T13:31:28.878Z"
   },
   {
    "duration": 20,
    "start_time": "2024-11-23T13:31:28.883Z"
   },
   {
    "duration": 28,
    "start_time": "2024-11-23T13:31:28.904Z"
   },
   {
    "duration": 176,
    "start_time": "2024-11-23T13:31:28.934Z"
   },
   {
    "duration": 262,
    "start_time": "2024-11-23T13:31:29.112Z"
   },
   {
    "duration": 309,
    "start_time": "2024-11-23T13:31:29.376Z"
   },
   {
    "duration": 91,
    "start_time": "2024-11-23T13:31:29.687Z"
   },
   {
    "duration": 9205,
    "start_time": "2024-11-23T13:31:29.780Z"
   },
   {
    "duration": 12,
    "start_time": "2024-11-23T13:31:38.987Z"
   },
   {
    "duration": 24,
    "start_time": "2024-11-23T13:31:39.000Z"
   },
   {
    "duration": 39,
    "start_time": "2024-11-23T13:31:39.025Z"
   },
   {
    "duration": 11,
    "start_time": "2024-11-23T13:31:39.066Z"
   },
   {
    "duration": 177,
    "start_time": "2024-11-23T13:31:39.079Z"
   },
   {
    "duration": 89,
    "start_time": "2024-11-23T13:31:39.258Z"
   },
   {
    "duration": 25,
    "start_time": "2024-11-23T13:31:39.349Z"
   },
   {
    "duration": 12,
    "start_time": "2024-11-23T13:31:39.376Z"
   },
   {
    "duration": 47,
    "start_time": "2024-11-23T13:31:39.390Z"
   },
   {
    "duration": 6888,
    "start_time": "2024-11-23T13:31:39.439Z"
   },
   {
    "duration": 29,
    "start_time": "2024-11-23T13:31:46.329Z"
   },
   {
    "duration": 250,
    "start_time": "2024-11-23T13:31:46.359Z"
   },
   {
    "duration": 423,
    "start_time": "2024-11-23T13:31:46.610Z"
   },
   {
    "duration": 22,
    "start_time": "2024-11-23T13:31:47.035Z"
   },
   {
    "duration": 4,
    "start_time": "2024-11-23T13:31:47.059Z"
   },
   {
    "duration": 1228,
    "start_time": "2024-11-23T13:31:47.064Z"
   },
   {
    "duration": 3,
    "start_time": "2024-11-23T13:31:48.294Z"
   },
   {
    "duration": 4,
    "start_time": "2024-11-23T13:31:48.301Z"
   },
   {
    "duration": 0,
    "start_time": "2024-11-23T13:31:48.318Z"
   },
   {
    "duration": 0,
    "start_time": "2024-11-23T13:31:48.319Z"
   },
   {
    "duration": 0,
    "start_time": "2024-11-23T13:31:48.320Z"
   },
   {
    "duration": 1,
    "start_time": "2024-11-23T13:31:48.321Z"
   },
   {
    "duration": 0,
    "start_time": "2024-11-23T13:31:48.323Z"
   },
   {
    "duration": 0,
    "start_time": "2024-11-23T13:31:48.324Z"
   },
   {
    "duration": 0,
    "start_time": "2024-11-23T13:31:48.326Z"
   },
   {
    "duration": 0,
    "start_time": "2024-11-23T13:31:48.327Z"
   },
   {
    "duration": 0,
    "start_time": "2024-11-23T13:31:48.328Z"
   },
   {
    "duration": 0,
    "start_time": "2024-11-23T13:31:48.330Z"
   },
   {
    "duration": 0,
    "start_time": "2024-11-23T13:31:48.331Z"
   },
   {
    "duration": 0,
    "start_time": "2024-11-23T13:31:48.333Z"
   },
   {
    "duration": 0,
    "start_time": "2024-11-23T13:31:48.335Z"
   },
   {
    "duration": 0,
    "start_time": "2024-11-23T13:31:48.336Z"
   },
   {
    "duration": 0,
    "start_time": "2024-11-23T13:31:48.337Z"
   },
   {
    "duration": 0,
    "start_time": "2024-11-23T13:31:48.339Z"
   },
   {
    "duration": 0,
    "start_time": "2024-11-23T13:31:48.340Z"
   },
   {
    "duration": 0,
    "start_time": "2024-11-23T13:31:48.342Z"
   },
   {
    "duration": 0,
    "start_time": "2024-11-23T13:31:48.343Z"
   },
   {
    "duration": 0,
    "start_time": "2024-11-23T13:31:48.344Z"
   },
   {
    "duration": 0,
    "start_time": "2024-11-23T13:31:48.346Z"
   },
   {
    "duration": 3737,
    "start_time": "2024-11-23T13:34:08.330Z"
   },
   {
    "duration": 1137,
    "start_time": "2024-11-23T13:34:12.069Z"
   },
   {
    "duration": 3,
    "start_time": "2024-11-23T13:34:13.208Z"
   },
   {
    "duration": 5,
    "start_time": "2024-11-23T13:34:13.217Z"
   },
   {
    "duration": 27,
    "start_time": "2024-11-23T13:34:13.223Z"
   },
   {
    "duration": 161,
    "start_time": "2024-11-23T13:34:13.252Z"
   },
   {
    "duration": 287,
    "start_time": "2024-11-23T13:34:13.415Z"
   },
   {
    "duration": 332,
    "start_time": "2024-11-23T13:34:13.703Z"
   },
   {
    "duration": 98,
    "start_time": "2024-11-23T13:34:14.037Z"
   },
   {
    "duration": 9114,
    "start_time": "2024-11-23T13:34:14.139Z"
   },
   {
    "duration": 10,
    "start_time": "2024-11-23T13:34:23.254Z"
   },
   {
    "duration": 19,
    "start_time": "2024-11-23T13:34:23.265Z"
   },
   {
    "duration": 53,
    "start_time": "2024-11-23T13:34:23.286Z"
   },
   {
    "duration": 12,
    "start_time": "2024-11-23T13:34:23.340Z"
   },
   {
    "duration": 151,
    "start_time": "2024-11-23T13:34:23.353Z"
   },
   {
    "duration": 92,
    "start_time": "2024-11-23T13:34:23.505Z"
   },
   {
    "duration": 68,
    "start_time": "2024-11-23T13:34:23.600Z"
   },
   {
    "duration": 13,
    "start_time": "2024-11-23T13:34:23.670Z"
   },
   {
    "duration": 56,
    "start_time": "2024-11-23T13:34:23.685Z"
   },
   {
    "duration": 7014,
    "start_time": "2024-11-23T13:34:23.743Z"
   },
   {
    "duration": 32,
    "start_time": "2024-11-23T13:34:30.759Z"
   },
   {
    "duration": 282,
    "start_time": "2024-11-23T13:34:30.793Z"
   },
   {
    "duration": 393,
    "start_time": "2024-11-23T13:34:31.076Z"
   },
   {
    "duration": 24,
    "start_time": "2024-11-23T13:34:31.471Z"
   },
   {
    "duration": 4,
    "start_time": "2024-11-23T13:34:31.496Z"
   },
   {
    "duration": 1207,
    "start_time": "2024-11-23T13:34:31.501Z"
   },
   {
    "duration": 3,
    "start_time": "2024-11-23T13:34:32.710Z"
   },
   {
    "duration": 666,
    "start_time": "2024-11-23T13:34:32.717Z"
   },
   {
    "duration": 68,
    "start_time": "2024-11-23T13:34:33.384Z"
   },
   {
    "duration": 4,
    "start_time": "2024-11-23T13:34:33.454Z"
   },
   {
    "duration": 8,
    "start_time": "2024-11-23T13:34:33.459Z"
   },
   {
    "duration": 2098,
    "start_time": "2024-11-23T13:34:33.468Z"
   },
   {
    "duration": 84,
    "start_time": "2024-11-23T13:34:35.568Z"
   },
   {
    "duration": 23365,
    "start_time": "2024-11-23T13:34:35.654Z"
   },
   {
    "duration": 2943,
    "start_time": "2024-11-23T13:34:59.021Z"
   },
   {
    "duration": 183476,
    "start_time": "2024-11-23T13:35:01.966Z"
   },
   {
    "duration": 13494,
    "start_time": "2024-11-23T13:38:05.444Z"
   },
   {
    "duration": 2,
    "start_time": "2024-11-23T13:38:18.940Z"
   },
   {
    "duration": 207981,
    "start_time": "2024-11-23T13:38:18.944Z"
   },
   {
    "duration": 24534,
    "start_time": "2024-11-23T13:41:46.927Z"
   },
   {
    "duration": 261,
    "start_time": "2024-11-23T13:42:11.462Z"
   },
   {
    "duration": 791,
    "start_time": "2024-11-23T13:42:11.725Z"
   },
   {
    "duration": 22,
    "start_time": "2024-11-23T13:42:12.518Z"
   },
   {
    "duration": 436409,
    "start_time": "2024-11-23T13:42:12.541Z"
   },
   {
    "duration": 15174,
    "start_time": "2024-11-23T13:49:28.951Z"
   },
   {
    "duration": 9802,
    "start_time": "2024-11-23T13:49:44.127Z"
   },
   {
    "duration": 1587,
    "start_time": "2024-11-23T13:49:53.931Z"
   },
   {
    "duration": 309,
    "start_time": "2024-11-23T13:49:55.520Z"
   },
   {
    "duration": 6455,
    "start_time": "2024-11-23T13:49:55.831Z"
   },
   {
    "duration": 68,
    "start_time": "2024-11-23T14:17:27.380Z"
   },
   {
    "duration": 8327,
    "start_time": "2024-11-24T15:12:45.043Z"
   },
   {
    "duration": 2840,
    "start_time": "2024-11-24T15:12:53.372Z"
   },
   {
    "duration": 3,
    "start_time": "2024-11-24T15:12:56.213Z"
   },
   {
    "duration": 28,
    "start_time": "2024-11-24T15:12:56.217Z"
   },
   {
    "duration": 12,
    "start_time": "2024-11-24T15:12:56.246Z"
   },
   {
    "duration": 114,
    "start_time": "2024-11-24T15:12:56.259Z"
   },
   {
    "duration": 180,
    "start_time": "2024-11-24T15:12:56.374Z"
   },
   {
    "duration": 275,
    "start_time": "2024-11-24T15:12:56.555Z"
   },
   {
    "duration": 71,
    "start_time": "2024-11-24T15:12:56.831Z"
   },
   {
    "duration": 7913,
    "start_time": "2024-11-24T15:12:56.904Z"
   },
   {
    "duration": 8,
    "start_time": "2024-11-24T15:13:04.818Z"
   },
   {
    "duration": 22,
    "start_time": "2024-11-24T15:13:04.827Z"
   },
   {
    "duration": 38,
    "start_time": "2024-11-24T15:13:04.851Z"
   },
   {
    "duration": 9,
    "start_time": "2024-11-24T15:13:04.890Z"
   },
   {
    "duration": 113,
    "start_time": "2024-11-24T15:13:04.912Z"
   },
   {
    "duration": 67,
    "start_time": "2024-11-24T15:13:05.027Z"
   },
   {
    "duration": 33,
    "start_time": "2024-11-24T15:13:05.096Z"
   },
   {
    "duration": 10,
    "start_time": "2024-11-24T15:13:05.131Z"
   },
   {
    "duration": 29,
    "start_time": "2024-11-24T15:13:05.143Z"
   },
   {
    "duration": 5815,
    "start_time": "2024-11-24T15:13:05.175Z"
   },
   {
    "duration": 31,
    "start_time": "2024-11-24T15:13:10.992Z"
   },
   {
    "duration": 225,
    "start_time": "2024-11-24T15:13:11.024Z"
   },
   {
    "duration": 332,
    "start_time": "2024-11-24T15:13:11.251Z"
   },
   {
    "duration": 28,
    "start_time": "2024-11-24T15:13:11.585Z"
   },
   {
    "duration": 3,
    "start_time": "2024-11-24T15:13:11.615Z"
   },
   {
    "duration": 880,
    "start_time": "2024-11-24T15:13:11.619Z"
   },
   {
    "duration": 3,
    "start_time": "2024-11-24T15:13:12.501Z"
   },
   {
    "duration": 112,
    "start_time": "2024-11-24T15:13:12.511Z"
   },
   {
    "duration": 0,
    "start_time": "2024-11-24T15:13:12.624Z"
   },
   {
    "duration": 0,
    "start_time": "2024-11-24T15:13:12.626Z"
   },
   {
    "duration": 0,
    "start_time": "2024-11-24T15:13:12.626Z"
   },
   {
    "duration": 0,
    "start_time": "2024-11-24T15:13:12.628Z"
   },
   {
    "duration": 0,
    "start_time": "2024-11-24T15:13:12.629Z"
   },
   {
    "duration": 0,
    "start_time": "2024-11-24T15:13:12.630Z"
   },
   {
    "duration": 0,
    "start_time": "2024-11-24T15:13:12.631Z"
   },
   {
    "duration": 0,
    "start_time": "2024-11-24T15:13:12.632Z"
   },
   {
    "duration": 0,
    "start_time": "2024-11-24T15:13:12.633Z"
   },
   {
    "duration": 0,
    "start_time": "2024-11-24T15:13:12.634Z"
   },
   {
    "duration": 0,
    "start_time": "2024-11-24T15:13:12.635Z"
   },
   {
    "duration": 0,
    "start_time": "2024-11-24T15:13:12.636Z"
   },
   {
    "duration": 0,
    "start_time": "2024-11-24T15:13:12.637Z"
   },
   {
    "duration": 0,
    "start_time": "2024-11-24T15:13:12.638Z"
   },
   {
    "duration": 0,
    "start_time": "2024-11-24T15:13:12.639Z"
   },
   {
    "duration": 0,
    "start_time": "2024-11-24T15:13:12.640Z"
   },
   {
    "duration": 0,
    "start_time": "2024-11-24T15:13:12.642Z"
   },
   {
    "duration": 0,
    "start_time": "2024-11-24T15:13:12.642Z"
   },
   {
    "duration": 0,
    "start_time": "2024-11-24T15:13:12.643Z"
   },
   {
    "duration": 0,
    "start_time": "2024-11-24T15:13:12.644Z"
   },
   {
    "duration": 0,
    "start_time": "2024-11-24T15:13:12.646Z"
   },
   {
    "duration": 0,
    "start_time": "2024-11-24T15:13:12.646Z"
   },
   {
    "duration": 3706,
    "start_time": "2024-11-24T15:14:12.462Z"
   },
   {
    "duration": 881,
    "start_time": "2024-11-24T15:14:16.170Z"
   },
   {
    "duration": 5,
    "start_time": "2024-11-24T15:14:17.053Z"
   },
   {
    "duration": 4,
    "start_time": "2024-11-24T15:14:17.063Z"
   },
   {
    "duration": 17,
    "start_time": "2024-11-24T15:14:17.069Z"
   },
   {
    "duration": 144,
    "start_time": "2024-11-24T15:14:17.087Z"
   },
   {
    "duration": 188,
    "start_time": "2024-11-24T15:14:17.233Z"
   },
   {
    "duration": 277,
    "start_time": "2024-11-24T15:14:17.423Z"
   },
   {
    "duration": 75,
    "start_time": "2024-11-24T15:14:17.702Z"
   },
   {
    "duration": 7746,
    "start_time": "2024-11-24T15:14:17.779Z"
   },
   {
    "duration": 7,
    "start_time": "2024-11-24T15:14:25.526Z"
   },
   {
    "duration": 30,
    "start_time": "2024-11-24T15:14:25.534Z"
   },
   {
    "duration": 38,
    "start_time": "2024-11-24T15:14:25.565Z"
   },
   {
    "duration": 9,
    "start_time": "2024-11-24T15:14:25.604Z"
   },
   {
    "duration": 102,
    "start_time": "2024-11-24T15:14:25.614Z"
   },
   {
    "duration": 77,
    "start_time": "2024-11-24T15:14:25.717Z"
   },
   {
    "duration": 37,
    "start_time": "2024-11-24T15:14:25.796Z"
   },
   {
    "duration": 10,
    "start_time": "2024-11-24T15:14:25.834Z"
   },
   {
    "duration": 36,
    "start_time": "2024-11-24T15:14:25.846Z"
   },
   {
    "duration": 5816,
    "start_time": "2024-11-24T15:14:25.883Z"
   },
   {
    "duration": 28,
    "start_time": "2024-11-24T15:14:31.701Z"
   },
   {
    "duration": 250,
    "start_time": "2024-11-24T15:14:31.730Z"
   },
   {
    "duration": 333,
    "start_time": "2024-11-24T15:14:31.982Z"
   },
   {
    "duration": 23,
    "start_time": "2024-11-24T15:14:32.316Z"
   },
   {
    "duration": 4,
    "start_time": "2024-11-24T15:14:32.341Z"
   },
   {
    "duration": 874,
    "start_time": "2024-11-24T15:14:32.346Z"
   },
   {
    "duration": 3,
    "start_time": "2024-11-24T15:14:33.222Z"
   },
   {
    "duration": 41,
    "start_time": "2024-11-24T15:14:33.229Z"
   },
   {
    "duration": 99,
    "start_time": "2024-11-24T15:14:33.271Z"
   },
   {
    "duration": 4,
    "start_time": "2024-11-24T15:14:33.371Z"
   },
   {
    "duration": 506,
    "start_time": "2024-11-24T15:14:33.376Z"
   },
   {
    "duration": 0,
    "start_time": "2024-11-24T15:14:33.883Z"
   },
   {
    "duration": 0,
    "start_time": "2024-11-24T15:14:33.884Z"
   },
   {
    "duration": 0,
    "start_time": "2024-11-24T15:14:33.885Z"
   },
   {
    "duration": 0,
    "start_time": "2024-11-24T15:14:33.886Z"
   },
   {
    "duration": 0,
    "start_time": "2024-11-24T15:14:33.887Z"
   },
   {
    "duration": 0,
    "start_time": "2024-11-24T15:14:33.888Z"
   },
   {
    "duration": 0,
    "start_time": "2024-11-24T15:14:33.888Z"
   },
   {
    "duration": 0,
    "start_time": "2024-11-24T15:14:33.890Z"
   },
   {
    "duration": 0,
    "start_time": "2024-11-24T15:14:33.890Z"
   },
   {
    "duration": 0,
    "start_time": "2024-11-24T15:14:33.891Z"
   },
   {
    "duration": 0,
    "start_time": "2024-11-24T15:14:33.892Z"
   },
   {
    "duration": 0,
    "start_time": "2024-11-24T15:14:33.893Z"
   },
   {
    "duration": 0,
    "start_time": "2024-11-24T15:14:33.913Z"
   },
   {
    "duration": 0,
    "start_time": "2024-11-24T15:14:33.914Z"
   },
   {
    "duration": 0,
    "start_time": "2024-11-24T15:14:33.917Z"
   },
   {
    "duration": 0,
    "start_time": "2024-11-24T15:14:33.918Z"
   },
   {
    "duration": 0,
    "start_time": "2024-11-24T15:14:33.920Z"
   },
   {
    "duration": 0,
    "start_time": "2024-11-24T15:14:33.921Z"
   },
   {
    "duration": 0,
    "start_time": "2024-11-24T15:14:33.923Z"
   },
   {
    "duration": 3679,
    "start_time": "2024-11-24T15:19:47.482Z"
   },
   {
    "duration": 843,
    "start_time": "2024-11-24T15:19:51.164Z"
   },
   {
    "duration": 3,
    "start_time": "2024-11-24T15:19:52.011Z"
   },
   {
    "duration": 19,
    "start_time": "2024-11-24T15:19:52.015Z"
   },
   {
    "duration": 21,
    "start_time": "2024-11-24T15:19:52.035Z"
   },
   {
    "duration": 109,
    "start_time": "2024-11-24T15:19:52.057Z"
   },
   {
    "duration": 178,
    "start_time": "2024-11-24T15:19:52.167Z"
   },
   {
    "duration": 279,
    "start_time": "2024-11-24T15:19:52.347Z"
   },
   {
    "duration": 70,
    "start_time": "2024-11-24T15:19:52.628Z"
   },
   {
    "duration": 7920,
    "start_time": "2024-11-24T15:19:52.700Z"
   },
   {
    "duration": 7,
    "start_time": "2024-11-24T15:20:00.622Z"
   },
   {
    "duration": 24,
    "start_time": "2024-11-24T15:20:00.630Z"
   },
   {
    "duration": 51,
    "start_time": "2024-11-24T15:20:00.655Z"
   },
   {
    "duration": 9,
    "start_time": "2024-11-24T15:20:00.707Z"
   },
   {
    "duration": 116,
    "start_time": "2024-11-24T15:20:00.717Z"
   },
   {
    "duration": 65,
    "start_time": "2024-11-24T15:20:00.835Z"
   },
   {
    "duration": 30,
    "start_time": "2024-11-24T15:20:00.902Z"
   },
   {
    "duration": 10,
    "start_time": "2024-11-24T15:20:00.934Z"
   },
   {
    "duration": 30,
    "start_time": "2024-11-24T15:20:00.946Z"
   },
   {
    "duration": 5752,
    "start_time": "2024-11-24T15:20:00.978Z"
   },
   {
    "duration": 27,
    "start_time": "2024-11-24T15:20:06.732Z"
   },
   {
    "duration": 258,
    "start_time": "2024-11-24T15:20:06.761Z"
   },
   {
    "duration": 362,
    "start_time": "2024-11-24T15:20:07.021Z"
   },
   {
    "duration": 30,
    "start_time": "2024-11-24T15:20:07.384Z"
   },
   {
    "duration": 4,
    "start_time": "2024-11-24T15:20:07.415Z"
   },
   {
    "duration": 922,
    "start_time": "2024-11-24T15:20:07.420Z"
   },
   {
    "duration": 3,
    "start_time": "2024-11-24T15:20:08.344Z"
   },
   {
    "duration": 45,
    "start_time": "2024-11-24T15:20:08.350Z"
   },
   {
    "duration": 92,
    "start_time": "2024-11-24T15:20:08.397Z"
   },
   {
    "duration": 3,
    "start_time": "2024-11-24T15:20:08.491Z"
   },
   {
    "duration": 539,
    "start_time": "2024-11-24T15:20:08.495Z"
   },
   {
    "duration": 0,
    "start_time": "2024-11-24T15:20:09.035Z"
   },
   {
    "duration": 0,
    "start_time": "2024-11-24T15:20:09.036Z"
   },
   {
    "duration": 0,
    "start_time": "2024-11-24T15:20:09.037Z"
   },
   {
    "duration": 0,
    "start_time": "2024-11-24T15:20:09.038Z"
   },
   {
    "duration": 0,
    "start_time": "2024-11-24T15:20:09.038Z"
   },
   {
    "duration": 0,
    "start_time": "2024-11-24T15:20:09.039Z"
   },
   {
    "duration": 0,
    "start_time": "2024-11-24T15:20:09.040Z"
   },
   {
    "duration": 0,
    "start_time": "2024-11-24T15:20:09.041Z"
   },
   {
    "duration": 0,
    "start_time": "2024-11-24T15:20:09.042Z"
   },
   {
    "duration": 0,
    "start_time": "2024-11-24T15:20:09.043Z"
   },
   {
    "duration": 0,
    "start_time": "2024-11-24T15:20:09.043Z"
   },
   {
    "duration": 0,
    "start_time": "2024-11-24T15:20:09.044Z"
   },
   {
    "duration": 0,
    "start_time": "2024-11-24T15:20:09.045Z"
   },
   {
    "duration": 0,
    "start_time": "2024-11-24T15:20:09.046Z"
   },
   {
    "duration": 0,
    "start_time": "2024-11-24T15:20:09.047Z"
   },
   {
    "duration": 0,
    "start_time": "2024-11-24T15:20:09.048Z"
   },
   {
    "duration": 0,
    "start_time": "2024-11-24T15:20:09.049Z"
   },
   {
    "duration": 0,
    "start_time": "2024-11-24T15:20:09.050Z"
   },
   {
    "duration": 0,
    "start_time": "2024-11-24T15:20:09.051Z"
   },
   {
    "duration": 8407,
    "start_time": "2024-11-25T06:38:18.327Z"
   },
   {
    "duration": 1322,
    "start_time": "2024-11-25T06:38:26.736Z"
   },
   {
    "duration": 10,
    "start_time": "2024-11-25T06:38:28.060Z"
   },
   {
    "duration": 18,
    "start_time": "2024-11-25T06:38:28.072Z"
   },
   {
    "duration": 14,
    "start_time": "2024-11-25T06:38:28.091Z"
   },
   {
    "duration": 166,
    "start_time": "2024-11-25T06:38:28.106Z"
   },
   {
    "duration": 253,
    "start_time": "2024-11-25T06:38:28.273Z"
   },
   {
    "duration": 333,
    "start_time": "2024-11-25T06:38:28.528Z"
   },
   {
    "duration": 93,
    "start_time": "2024-11-25T06:38:28.862Z"
   },
   {
    "duration": 9048,
    "start_time": "2024-11-25T06:38:28.958Z"
   },
   {
    "duration": 10,
    "start_time": "2024-11-25T06:38:38.008Z"
   },
   {
    "duration": 15,
    "start_time": "2024-11-25T06:38:38.020Z"
   },
   {
    "duration": 51,
    "start_time": "2024-11-25T06:38:38.036Z"
   },
   {
    "duration": 10,
    "start_time": "2024-11-25T06:38:38.089Z"
   },
   {
    "duration": 36,
    "start_time": "2024-11-25T06:38:38.101Z"
   },
   {
    "duration": 136,
    "start_time": "2024-11-25T06:38:38.138Z"
   },
   {
    "duration": 44,
    "start_time": "2024-11-25T06:38:38.276Z"
   },
   {
    "duration": 11,
    "start_time": "2024-11-25T06:38:38.322Z"
   },
   {
    "duration": 42,
    "start_time": "2024-11-25T06:38:38.335Z"
   },
   {
    "duration": 6577,
    "start_time": "2024-11-25T06:38:38.378Z"
   },
   {
    "duration": 35,
    "start_time": "2024-11-25T06:38:44.956Z"
   },
   {
    "duration": 246,
    "start_time": "2024-11-25T06:38:44.992Z"
   },
   {
    "duration": 381,
    "start_time": "2024-11-25T06:38:45.240Z"
   },
   {
    "duration": 21,
    "start_time": "2024-11-25T06:38:45.623Z"
   },
   {
    "duration": 3,
    "start_time": "2024-11-25T06:38:45.646Z"
   },
   {
    "duration": 1255,
    "start_time": "2024-11-25T06:38:45.651Z"
   },
   {
    "duration": 3,
    "start_time": "2024-11-25T06:38:46.908Z"
   },
   {
    "duration": 60,
    "start_time": "2024-11-25T06:38:46.915Z"
   },
   {
    "duration": 98,
    "start_time": "2024-11-25T06:38:46.976Z"
   },
   {
    "duration": 631,
    "start_time": "2024-11-25T06:38:47.076Z"
   },
   {
    "duration": 5,
    "start_time": "2024-11-25T06:38:47.709Z"
   },
   {
    "duration": 2062,
    "start_time": "2024-11-25T06:38:47.716Z"
   },
   {
    "duration": 165,
    "start_time": "2024-11-25T06:38:49.780Z"
   },
   {
    "duration": 0,
    "start_time": "2024-11-25T06:38:49.947Z"
   },
   {
    "duration": 0,
    "start_time": "2024-11-25T06:38:49.948Z"
   },
   {
    "duration": 0,
    "start_time": "2024-11-25T06:38:49.950Z"
   },
   {
    "duration": 0,
    "start_time": "2024-11-25T06:38:49.952Z"
   },
   {
    "duration": 0,
    "start_time": "2024-11-25T06:38:49.953Z"
   },
   {
    "duration": 0,
    "start_time": "2024-11-25T06:38:49.954Z"
   },
   {
    "duration": 0,
    "start_time": "2024-11-25T06:38:49.971Z"
   },
   {
    "duration": 0,
    "start_time": "2024-11-25T06:38:49.972Z"
   },
   {
    "duration": 0,
    "start_time": "2024-11-25T06:38:49.973Z"
   },
   {
    "duration": 0,
    "start_time": "2024-11-25T06:38:49.975Z"
   },
   {
    "duration": 0,
    "start_time": "2024-11-25T06:38:49.976Z"
   },
   {
    "duration": 0,
    "start_time": "2024-11-25T06:38:49.978Z"
   },
   {
    "duration": 0,
    "start_time": "2024-11-25T06:38:49.980Z"
   },
   {
    "duration": 0,
    "start_time": "2024-11-25T06:38:49.981Z"
   },
   {
    "duration": 1,
    "start_time": "2024-11-25T06:38:49.982Z"
   },
   {
    "duration": 0,
    "start_time": "2024-11-25T06:38:49.984Z"
   },
   {
    "duration": 3680,
    "start_time": "2024-11-25T07:06:24.886Z"
   },
   {
    "duration": 1046,
    "start_time": "2024-11-25T07:06:28.570Z"
   },
   {
    "duration": 3,
    "start_time": "2024-11-25T07:06:29.618Z"
   },
   {
    "duration": 4,
    "start_time": "2024-11-25T07:06:29.623Z"
   },
   {
    "duration": 13,
    "start_time": "2024-11-25T07:06:29.628Z"
   },
   {
    "duration": 156,
    "start_time": "2024-11-25T07:06:29.643Z"
   },
   {
    "duration": 245,
    "start_time": "2024-11-25T07:06:29.801Z"
   },
   {
    "duration": 305,
    "start_time": "2024-11-25T07:06:30.047Z"
   },
   {
    "duration": 98,
    "start_time": "2024-11-25T07:06:30.353Z"
   },
   {
    "duration": 8999,
    "start_time": "2024-11-25T07:06:30.453Z"
   },
   {
    "duration": 18,
    "start_time": "2024-11-25T07:06:39.453Z"
   },
   {
    "duration": 12,
    "start_time": "2024-11-25T07:06:39.472Z"
   },
   {
    "duration": 38,
    "start_time": "2024-11-25T07:06:39.486Z"
   },
   {
    "duration": 13,
    "start_time": "2024-11-25T07:06:39.526Z"
   },
   {
    "duration": 185,
    "start_time": "2024-11-25T07:06:39.541Z"
   },
   {
    "duration": 92,
    "start_time": "2024-11-25T07:06:39.728Z"
   },
   {
    "duration": 23,
    "start_time": "2024-11-25T07:06:39.822Z"
   },
   {
    "duration": 24,
    "start_time": "2024-11-25T07:06:39.846Z"
   },
   {
    "duration": 27,
    "start_time": "2024-11-25T07:06:39.871Z"
   },
   {
    "duration": 6718,
    "start_time": "2024-11-25T07:06:39.900Z"
   },
   {
    "duration": 30,
    "start_time": "2024-11-25T07:06:46.620Z"
   },
   {
    "duration": 261,
    "start_time": "2024-11-25T07:06:46.652Z"
   },
   {
    "duration": 401,
    "start_time": "2024-11-25T07:06:46.914Z"
   },
   {
    "duration": 23,
    "start_time": "2024-11-25T07:06:47.316Z"
   },
   {
    "duration": 82,
    "start_time": "2024-11-25T07:06:47.340Z"
   },
   {
    "duration": 1237,
    "start_time": "2024-11-25T07:06:47.424Z"
   },
   {
    "duration": 1861,
    "start_time": "2024-11-25T07:06:48.663Z"
   },
   {
    "duration": 0,
    "start_time": "2024-11-25T07:06:50.526Z"
   },
   {
    "duration": 0,
    "start_time": "2024-11-25T07:06:50.527Z"
   },
   {
    "duration": 0,
    "start_time": "2024-11-25T07:06:50.528Z"
   },
   {
    "duration": 0,
    "start_time": "2024-11-25T07:06:50.530Z"
   },
   {
    "duration": 0,
    "start_time": "2024-11-25T07:06:50.531Z"
   },
   {
    "duration": 0,
    "start_time": "2024-11-25T07:06:50.532Z"
   },
   {
    "duration": 1,
    "start_time": "2024-11-25T07:06:50.533Z"
   },
   {
    "duration": 0,
    "start_time": "2024-11-25T07:06:50.535Z"
   },
   {
    "duration": 0,
    "start_time": "2024-11-25T07:06:50.536Z"
   },
   {
    "duration": 0,
    "start_time": "2024-11-25T07:06:50.537Z"
   },
   {
    "duration": 0,
    "start_time": "2024-11-25T07:06:50.538Z"
   },
   {
    "duration": 0,
    "start_time": "2024-11-25T07:06:50.540Z"
   },
   {
    "duration": 0,
    "start_time": "2024-11-25T07:06:50.570Z"
   },
   {
    "duration": 0,
    "start_time": "2024-11-25T07:06:50.571Z"
   },
   {
    "duration": 0,
    "start_time": "2024-11-25T07:06:50.572Z"
   },
   {
    "duration": 0,
    "start_time": "2024-11-25T07:06:50.573Z"
   },
   {
    "duration": 0,
    "start_time": "2024-11-25T07:06:50.575Z"
   },
   {
    "duration": 3742,
    "start_time": "2024-11-25T07:07:17.649Z"
   },
   {
    "duration": 1078,
    "start_time": "2024-11-25T07:07:21.392Z"
   },
   {
    "duration": 4,
    "start_time": "2024-11-25T07:07:22.471Z"
   },
   {
    "duration": 17,
    "start_time": "2024-11-25T07:07:22.478Z"
   },
   {
    "duration": 16,
    "start_time": "2024-11-25T07:07:22.496Z"
   },
   {
    "duration": 149,
    "start_time": "2024-11-25T07:07:22.514Z"
   },
   {
    "duration": 254,
    "start_time": "2024-11-25T07:07:22.669Z"
   },
   {
    "duration": 303,
    "start_time": "2024-11-25T07:07:22.925Z"
   },
   {
    "duration": 86,
    "start_time": "2024-11-25T07:07:23.230Z"
   },
   {
    "duration": 8811,
    "start_time": "2024-11-25T07:07:23.319Z"
   },
   {
    "duration": 12,
    "start_time": "2024-11-25T07:07:32.133Z"
   },
   {
    "duration": 30,
    "start_time": "2024-11-25T07:07:32.147Z"
   },
   {
    "duration": 41,
    "start_time": "2024-11-25T07:07:32.179Z"
   },
   {
    "duration": 14,
    "start_time": "2024-11-25T07:07:32.222Z"
   },
   {
    "duration": 185,
    "start_time": "2024-11-25T07:07:32.238Z"
   },
   {
    "duration": 91,
    "start_time": "2024-11-25T07:07:32.424Z"
   },
   {
    "duration": 24,
    "start_time": "2024-11-25T07:07:32.516Z"
   },
   {
    "duration": 24,
    "start_time": "2024-11-25T07:07:32.542Z"
   },
   {
    "duration": 35,
    "start_time": "2024-11-25T07:07:32.567Z"
   },
   {
    "duration": 6734,
    "start_time": "2024-11-25T07:07:32.604Z"
   },
   {
    "duration": 39,
    "start_time": "2024-11-25T07:07:39.340Z"
   },
   {
    "duration": 301,
    "start_time": "2024-11-25T07:07:39.381Z"
   },
   {
    "duration": 390,
    "start_time": "2024-11-25T07:07:39.683Z"
   },
   {
    "duration": 18,
    "start_time": "2024-11-25T07:07:40.075Z"
   },
   {
    "duration": 4,
    "start_time": "2024-11-25T07:07:40.095Z"
   },
   {
    "duration": 1210,
    "start_time": "2024-11-25T07:07:40.100Z"
   },
   {
    "duration": 670,
    "start_time": "2024-11-25T07:07:41.312Z"
   },
   {
    "duration": 2062,
    "start_time": "2024-11-25T07:07:41.985Z"
   },
   {
    "duration": 25827,
    "start_time": "2024-11-25T07:07:44.049Z"
   },
   {
    "duration": 2634,
    "start_time": "2024-11-25T07:08:09.878Z"
   },
   {
    "duration": 161404,
    "start_time": "2024-11-25T07:08:12.514Z"
   },
   {
    "duration": 5751,
    "start_time": "2024-11-25T07:10:53.919Z"
   },
   {
    "duration": 3,
    "start_time": "2024-11-25T07:10:59.671Z"
   },
   {
    "duration": 63006,
    "start_time": "2024-11-25T07:10:59.675Z"
   },
   {
    "duration": 24310,
    "start_time": "2024-11-25T07:12:02.682Z"
   },
   {
    "duration": 181,
    "start_time": "2024-11-25T07:12:26.993Z"
   },
   {
    "duration": 694,
    "start_time": "2024-11-25T07:12:27.270Z"
   },
   {
    "duration": 25,
    "start_time": "2024-11-25T07:12:27.969Z"
   },
   {
    "duration": 387105,
    "start_time": "2024-11-25T07:12:27.996Z"
   },
   {
    "duration": 14939,
    "start_time": "2024-11-25T07:18:55.102Z"
   },
   {
    "duration": 7235,
    "start_time": "2024-11-25T07:19:10.043Z"
   },
   {
    "duration": 1410,
    "start_time": "2024-11-25T07:19:17.279Z"
   },
   {
    "duration": 388,
    "start_time": "2024-11-25T07:19:18.690Z"
   },
   {
    "duration": 3514,
    "start_time": "2024-11-25T07:19:19.079Z"
   },
   {
    "duration": 3828,
    "start_time": "2024-11-25T08:38:15.469Z"
   },
   {
    "duration": 1066,
    "start_time": "2024-11-25T08:38:19.299Z"
   },
   {
    "duration": 3,
    "start_time": "2024-11-25T08:38:20.369Z"
   },
   {
    "duration": 13,
    "start_time": "2024-11-25T08:38:20.374Z"
   },
   {
    "duration": 16,
    "start_time": "2024-11-25T08:38:20.389Z"
   },
   {
    "duration": 145,
    "start_time": "2024-11-25T08:38:20.407Z"
   },
   {
    "duration": 298,
    "start_time": "2024-11-25T08:38:20.554Z"
   },
   {
    "duration": 321,
    "start_time": "2024-11-25T08:38:20.853Z"
   },
   {
    "duration": 95,
    "start_time": "2024-11-25T08:38:21.176Z"
   },
   {
    "duration": 8718,
    "start_time": "2024-11-25T08:38:21.274Z"
   },
   {
    "duration": 10,
    "start_time": "2024-11-25T08:38:29.994Z"
   },
   {
    "duration": 19,
    "start_time": "2024-11-25T08:38:30.006Z"
   },
   {
    "duration": 68,
    "start_time": "2024-11-25T08:38:30.027Z"
   },
   {
    "duration": 12,
    "start_time": "2024-11-25T08:38:30.097Z"
   },
   {
    "duration": 166,
    "start_time": "2024-11-25T08:38:30.110Z"
   },
   {
    "duration": 95,
    "start_time": "2024-11-25T08:38:30.278Z"
   },
   {
    "duration": 59,
    "start_time": "2024-11-25T08:38:30.374Z"
   },
   {
    "duration": 12,
    "start_time": "2024-11-25T08:38:30.434Z"
   },
   {
    "duration": 50,
    "start_time": "2024-11-25T08:38:30.448Z"
   },
   {
    "duration": 6704,
    "start_time": "2024-11-25T08:38:30.499Z"
   },
   {
    "duration": 30,
    "start_time": "2024-11-25T08:38:37.205Z"
   },
   {
    "duration": 269,
    "start_time": "2024-11-25T08:38:37.237Z"
   },
   {
    "duration": 410,
    "start_time": "2024-11-25T08:38:37.507Z"
   },
   {
    "duration": 23,
    "start_time": "2024-11-25T08:38:37.919Z"
   },
   {
    "duration": 4,
    "start_time": "2024-11-25T08:38:37.944Z"
   },
   {
    "duration": 1323,
    "start_time": "2024-11-25T08:38:37.950Z"
   },
   {
    "duration": 751,
    "start_time": "2024-11-25T08:38:39.275Z"
   },
   {
    "duration": 56,
    "start_time": "2024-11-25T08:38:40.031Z"
   },
   {
    "duration": 2064,
    "start_time": "2024-11-25T08:38:40.089Z"
   },
   {
    "duration": 24623,
    "start_time": "2024-11-25T08:38:42.155Z"
   },
   {
    "duration": 430,
    "start_time": "2024-11-25T08:39:06.780Z"
   },
   {
    "duration": 0,
    "start_time": "2024-11-25T08:39:07.212Z"
   },
   {
    "duration": 0,
    "start_time": "2024-11-25T08:39:07.214Z"
   },
   {
    "duration": 0,
    "start_time": "2024-11-25T08:39:07.216Z"
   },
   {
    "duration": 0,
    "start_time": "2024-11-25T08:39:07.217Z"
   },
   {
    "duration": 0,
    "start_time": "2024-11-25T08:39:07.219Z"
   },
   {
    "duration": 0,
    "start_time": "2024-11-25T08:39:07.220Z"
   },
   {
    "duration": 0,
    "start_time": "2024-11-25T08:39:07.222Z"
   },
   {
    "duration": 0,
    "start_time": "2024-11-25T08:39:07.223Z"
   },
   {
    "duration": 0,
    "start_time": "2024-11-25T08:39:07.225Z"
   },
   {
    "duration": 0,
    "start_time": "2024-11-25T08:39:07.226Z"
   },
   {
    "duration": 0,
    "start_time": "2024-11-25T08:39:07.228Z"
   },
   {
    "duration": 0,
    "start_time": "2024-11-25T08:39:07.229Z"
   },
   {
    "duration": 0,
    "start_time": "2024-11-25T08:39:07.231Z"
   },
   {
    "duration": 0,
    "start_time": "2024-11-25T08:39:07.232Z"
   },
   {
    "duration": 3613,
    "start_time": "2024-11-25T08:40:05.708Z"
   },
   {
    "duration": 1087,
    "start_time": "2024-11-25T08:40:09.324Z"
   },
   {
    "duration": 3,
    "start_time": "2024-11-25T08:40:10.412Z"
   },
   {
    "duration": 17,
    "start_time": "2024-11-25T08:40:10.417Z"
   },
   {
    "duration": 16,
    "start_time": "2024-11-25T08:40:10.436Z"
   },
   {
    "duration": 165,
    "start_time": "2024-11-25T08:40:10.453Z"
   },
   {
    "duration": 261,
    "start_time": "2024-11-25T08:40:10.620Z"
   },
   {
    "duration": 320,
    "start_time": "2024-11-25T08:40:10.883Z"
   },
   {
    "duration": 96,
    "start_time": "2024-11-25T08:40:11.205Z"
   },
   {
    "duration": 8836,
    "start_time": "2024-11-25T08:40:11.303Z"
   },
   {
    "duration": 10,
    "start_time": "2024-11-25T08:40:20.141Z"
   },
   {
    "duration": 26,
    "start_time": "2024-11-25T08:40:20.152Z"
   },
   {
    "duration": 39,
    "start_time": "2024-11-25T08:40:20.179Z"
   },
   {
    "duration": 12,
    "start_time": "2024-11-25T08:40:20.219Z"
   },
   {
    "duration": 173,
    "start_time": "2024-11-25T08:40:20.232Z"
   },
   {
    "duration": 91,
    "start_time": "2024-11-25T08:40:20.407Z"
   },
   {
    "duration": 57,
    "start_time": "2024-11-25T08:40:20.500Z"
   },
   {
    "duration": 26,
    "start_time": "2024-11-25T08:40:20.559Z"
   },
   {
    "duration": 37,
    "start_time": "2024-11-25T08:40:20.587Z"
   },
   {
    "duration": 6609,
    "start_time": "2024-11-25T08:40:20.627Z"
   },
   {
    "duration": 41,
    "start_time": "2024-11-25T08:40:27.237Z"
   },
   {
    "duration": 253,
    "start_time": "2024-11-25T08:40:27.279Z"
   },
   {
    "duration": 387,
    "start_time": "2024-11-25T08:40:27.533Z"
   },
   {
    "duration": 21,
    "start_time": "2024-11-25T08:40:27.922Z"
   },
   {
    "duration": 3,
    "start_time": "2024-11-25T08:40:27.945Z"
   },
   {
    "duration": 1249,
    "start_time": "2024-11-25T08:40:27.950Z"
   },
   {
    "duration": 731,
    "start_time": "2024-11-25T08:40:29.201Z"
   },
   {
    "duration": 50,
    "start_time": "2024-11-25T08:40:29.935Z"
   },
   {
    "duration": 2047,
    "start_time": "2024-11-25T08:40:29.987Z"
   },
   {
    "duration": 24243,
    "start_time": "2024-11-25T08:40:32.035Z"
   },
   {
    "duration": 2569,
    "start_time": "2024-11-25T08:40:56.280Z"
   },
   {
    "duration": 159555,
    "start_time": "2024-11-25T08:40:58.851Z"
   },
   {
    "duration": 5367,
    "start_time": "2024-11-25T08:43:38.408Z"
   },
   {
    "duration": 3,
    "start_time": "2024-11-25T08:43:43.777Z"
   },
   {
    "duration": 59398,
    "start_time": "2024-11-25T08:43:43.781Z"
   },
   {
    "duration": 24320,
    "start_time": "2024-11-25T08:44:43.180Z"
   },
   {
    "duration": 270,
    "start_time": "2024-11-25T08:45:07.502Z"
   },
   {
    "duration": 729,
    "start_time": "2024-11-25T08:45:07.774Z"
   },
   {
    "duration": 23,
    "start_time": "2024-11-25T08:45:08.505Z"
   },
   {
    "duration": 389585,
    "start_time": "2024-11-25T08:45:08.530Z"
   },
   {
    "duration": 14192,
    "start_time": "2024-11-25T08:51:38.117Z"
   },
   {
    "duration": 5775,
    "start_time": "2024-11-25T08:51:52.310Z"
   },
   {
    "duration": 1492,
    "start_time": "2024-11-25T08:51:58.086Z"
   },
   {
    "duration": 298,
    "start_time": "2024-11-25T08:51:59.580Z"
   },
   {
    "duration": 3378,
    "start_time": "2024-11-25T08:51:59.880Z"
   },
   {
    "duration": 81,
    "start_time": "2024-11-25T08:52:03.261Z"
   }
  ],
  "kernelspec": {
   "display_name": "Python 3 (ipykernel)",
   "language": "python",
   "name": "python3"
  },
  "language_info": {
   "codemirror_mode": {
    "name": "ipython",
    "version": 3
   },
   "file_extension": ".py",
   "mimetype": "text/x-python",
   "name": "python",
   "nbconvert_exporter": "python",
   "pygments_lexer": "ipython3",
   "version": "3.9.5"
  },
  "toc": {
   "base_numbering": 1,
   "nav_menu": {},
   "number_sections": true,
   "sideBar": true,
   "skip_h1_title": true,
   "title_cell": "Table of Contents",
   "title_sidebar": "Contents",
   "toc_cell": false,
   "toc_position": {},
   "toc_section_display": true,
   "toc_window_display": false
  }
 },
 "nbformat": 4,
 "nbformat_minor": 2
}
